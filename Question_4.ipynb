{
  "cells": [
    {
      "cell_type": "code",
      "source": [
        "!unzip cs6910_assignment1-main.zip"
      ],
      "metadata": {
        "colab": {
          "base_uri": "https://localhost:8080/"
        },
        "id": "I20cQ75kLiSE",
        "outputId": "af8e372b-1f24-4b0e-9bcf-c991ea5fe4f1"
      },
      "id": "I20cQ75kLiSE",
      "execution_count": 1,
      "outputs": [
        {
          "output_type": "stream",
          "name": "stdout",
          "text": [
            "Archive:  cs6910_assignment1-main.zip\n",
            "0c67ac4944c825c8fef50343967db2a97554ee5b\n",
            "   creating: cs6910_assignment1-main/\n",
            "  inflating: cs6910_assignment1-main/.gitignore  \n",
            "   creating: cs6910_assignment1-main/neural_networks/\n",
            "  inflating: cs6910_assignment1-main/neural_networks/__init__.py  \n",
            "  inflating: cs6910_assignment1-main/neural_networks/activations.py  \n",
            "  inflating: cs6910_assignment1-main/neural_networks/layers.py  \n",
            "  inflating: cs6910_assignment1-main/neural_networks/losses.py  \n",
            "  inflating: cs6910_assignment1-main/neural_networks/neural_network.py  \n",
            "  inflating: cs6910_assignment1-main/neural_networks/optimizer.py  \n",
            "  inflating: cs6910_assignment1-main/train.py  \n",
            "   creating: cs6910_assignment1-main/utils/\n",
            "  inflating: cs6910_assignment1-main/utils/__init__.py  \n",
            "  inflating: cs6910_assignment1-main/utils/data.py  \n",
            "  inflating: cs6910_assignment1-main/utils/evaluate.py  \n"
          ]
        }
      ]
    },
    {
      "cell_type": "code",
      "source": [
        "cd cs6910_assignment1-main/"
      ],
      "metadata": {
        "colab": {
          "base_uri": "https://localhost:8080/"
        },
        "id": "I2FPm8CYLo0q",
        "outputId": "2001804e-76da-4fab-8fa3-4f8df5ccf928"
      },
      "id": "I2FPm8CYLo0q",
      "execution_count": 2,
      "outputs": [
        {
          "output_type": "stream",
          "name": "stdout",
          "text": [
            "/content/cs6910_assignment1-main\n"
          ]
        }
      ]
    },
    {
      "cell_type": "code",
      "source": [
        "# from google.colab import drive\n",
        "# drive.mount('/content/drive')"
      ],
      "metadata": {
        "id": "A-wzM2McV4xH"
      },
      "id": "A-wzM2McV4xH",
      "execution_count": 3,
      "outputs": []
    },
    {
      "cell_type": "code",
      "source": [
        "# cd /content/drive/MyDrive/cs6910_assignment1-main"
      ],
      "metadata": {
        "id": "OWNRenHZWEGl"
      },
      "id": "OWNRenHZWEGl",
      "execution_count": 4,
      "outputs": []
    },
    {
      "cell_type": "code",
      "source": [
        "!pip install wandb"
      ],
      "metadata": {
        "colab": {
          "base_uri": "https://localhost:8080/"
        },
        "id": "wUB9D_RLY5xJ",
        "outputId": "1a89273b-eae3-44e2-9ffd-776b7bd0c85e"
      },
      "id": "wUB9D_RLY5xJ",
      "execution_count": 5,
      "outputs": [
        {
          "output_type": "stream",
          "name": "stdout",
          "text": [
            "Collecting wandb\n",
            "  Downloading wandb-0.12.10-py2.py3-none-any.whl (1.7 MB)\n",
            "\u001b[?25l\r\u001b[K     |▏                               | 10 kB 8.6 MB/s eta 0:00:01\r\u001b[K     |▍                               | 20 kB 12.6 MB/s eta 0:00:01\r\u001b[K     |▋                               | 30 kB 11.5 MB/s eta 0:00:01\r\u001b[K     |▊                               | 40 kB 9.7 MB/s eta 0:00:01\r\u001b[K     |█                               | 51 kB 4.3 MB/s eta 0:00:01\r\u001b[K     |█▏                              | 61 kB 5.0 MB/s eta 0:00:01\r\u001b[K     |█▍                              | 71 kB 5.6 MB/s eta 0:00:01\r\u001b[K     |█▌                              | 81 kB 6.0 MB/s eta 0:00:01\r\u001b[K     |█▊                              | 92 kB 6.7 MB/s eta 0:00:01\r\u001b[K     |██                              | 102 kB 5.3 MB/s eta 0:00:01\r\u001b[K     |██                              | 112 kB 5.3 MB/s eta 0:00:01\r\u001b[K     |██▎                             | 122 kB 5.3 MB/s eta 0:00:01\r\u001b[K     |██▌                             | 133 kB 5.3 MB/s eta 0:00:01\r\u001b[K     |██▊                             | 143 kB 5.3 MB/s eta 0:00:01\r\u001b[K     |██▉                             | 153 kB 5.3 MB/s eta 0:00:01\r\u001b[K     |███                             | 163 kB 5.3 MB/s eta 0:00:01\r\u001b[K     |███▎                            | 174 kB 5.3 MB/s eta 0:00:01\r\u001b[K     |███▍                            | 184 kB 5.3 MB/s eta 0:00:01\r\u001b[K     |███▋                            | 194 kB 5.3 MB/s eta 0:00:01\r\u001b[K     |███▉                            | 204 kB 5.3 MB/s eta 0:00:01\r\u001b[K     |████                            | 215 kB 5.3 MB/s eta 0:00:01\r\u001b[K     |████▏                           | 225 kB 5.3 MB/s eta 0:00:01\r\u001b[K     |████▍                           | 235 kB 5.3 MB/s eta 0:00:01\r\u001b[K     |████▋                           | 245 kB 5.3 MB/s eta 0:00:01\r\u001b[K     |████▊                           | 256 kB 5.3 MB/s eta 0:00:01\r\u001b[K     |█████                           | 266 kB 5.3 MB/s eta 0:00:01\r\u001b[K     |█████▏                          | 276 kB 5.3 MB/s eta 0:00:01\r\u001b[K     |█████▍                          | 286 kB 5.3 MB/s eta 0:00:01\r\u001b[K     |█████▌                          | 296 kB 5.3 MB/s eta 0:00:01\r\u001b[K     |█████▊                          | 307 kB 5.3 MB/s eta 0:00:01\r\u001b[K     |██████                          | 317 kB 5.3 MB/s eta 0:00:01\r\u001b[K     |██████                          | 327 kB 5.3 MB/s eta 0:00:01\r\u001b[K     |██████▎                         | 337 kB 5.3 MB/s eta 0:00:01\r\u001b[K     |██████▌                         | 348 kB 5.3 MB/s eta 0:00:01\r\u001b[K     |██████▊                         | 358 kB 5.3 MB/s eta 0:00:01\r\u001b[K     |██████▉                         | 368 kB 5.3 MB/s eta 0:00:01\r\u001b[K     |███████                         | 378 kB 5.3 MB/s eta 0:00:01\r\u001b[K     |███████▎                        | 389 kB 5.3 MB/s eta 0:00:01\r\u001b[K     |███████▍                        | 399 kB 5.3 MB/s eta 0:00:01\r\u001b[K     |███████▋                        | 409 kB 5.3 MB/s eta 0:00:01\r\u001b[K     |███████▉                        | 419 kB 5.3 MB/s eta 0:00:01\r\u001b[K     |████████                        | 430 kB 5.3 MB/s eta 0:00:01\r\u001b[K     |████████▏                       | 440 kB 5.3 MB/s eta 0:00:01\r\u001b[K     |████████▍                       | 450 kB 5.3 MB/s eta 0:00:01\r\u001b[K     |████████▋                       | 460 kB 5.3 MB/s eta 0:00:01\r\u001b[K     |████████▊                       | 471 kB 5.3 MB/s eta 0:00:01\r\u001b[K     |█████████                       | 481 kB 5.3 MB/s eta 0:00:01\r\u001b[K     |█████████▏                      | 491 kB 5.3 MB/s eta 0:00:01\r\u001b[K     |█████████▍                      | 501 kB 5.3 MB/s eta 0:00:01\r\u001b[K     |█████████▌                      | 512 kB 5.3 MB/s eta 0:00:01\r\u001b[K     |█████████▊                      | 522 kB 5.3 MB/s eta 0:00:01\r\u001b[K     |██████████                      | 532 kB 5.3 MB/s eta 0:00:01\r\u001b[K     |██████████                      | 542 kB 5.3 MB/s eta 0:00:01\r\u001b[K     |██████████▎                     | 552 kB 5.3 MB/s eta 0:00:01\r\u001b[K     |██████████▌                     | 563 kB 5.3 MB/s eta 0:00:01\r\u001b[K     |██████████▊                     | 573 kB 5.3 MB/s eta 0:00:01\r\u001b[K     |██████████▉                     | 583 kB 5.3 MB/s eta 0:00:01\r\u001b[K     |███████████                     | 593 kB 5.3 MB/s eta 0:00:01\r\u001b[K     |███████████▎                    | 604 kB 5.3 MB/s eta 0:00:01\r\u001b[K     |███████████▍                    | 614 kB 5.3 MB/s eta 0:00:01\r\u001b[K     |███████████▋                    | 624 kB 5.3 MB/s eta 0:00:01\r\u001b[K     |███████████▉                    | 634 kB 5.3 MB/s eta 0:00:01\r\u001b[K     |████████████                    | 645 kB 5.3 MB/s eta 0:00:01\r\u001b[K     |████████████▏                   | 655 kB 5.3 MB/s eta 0:00:01\r\u001b[K     |████████████▍                   | 665 kB 5.3 MB/s eta 0:00:01\r\u001b[K     |████████████▋                   | 675 kB 5.3 MB/s eta 0:00:01\r\u001b[K     |████████████▊                   | 686 kB 5.3 MB/s eta 0:00:01\r\u001b[K     |█████████████                   | 696 kB 5.3 MB/s eta 0:00:01\r\u001b[K     |█████████████▏                  | 706 kB 5.3 MB/s eta 0:00:01\r\u001b[K     |█████████████▍                  | 716 kB 5.3 MB/s eta 0:00:01\r\u001b[K     |█████████████▌                  | 727 kB 5.3 MB/s eta 0:00:01\r\u001b[K     |█████████████▊                  | 737 kB 5.3 MB/s eta 0:00:01\r\u001b[K     |██████████████                  | 747 kB 5.3 MB/s eta 0:00:01\r\u001b[K     |██████████████                  | 757 kB 5.3 MB/s eta 0:00:01\r\u001b[K     |██████████████▎                 | 768 kB 5.3 MB/s eta 0:00:01\r\u001b[K     |██████████████▌                 | 778 kB 5.3 MB/s eta 0:00:01\r\u001b[K     |██████████████▊                 | 788 kB 5.3 MB/s eta 0:00:01\r\u001b[K     |██████████████▉                 | 798 kB 5.3 MB/s eta 0:00:01\r\u001b[K     |███████████████                 | 808 kB 5.3 MB/s eta 0:00:01\r\u001b[K     |███████████████▎                | 819 kB 5.3 MB/s eta 0:00:01\r\u001b[K     |███████████████▍                | 829 kB 5.3 MB/s eta 0:00:01\r\u001b[K     |███████████████▋                | 839 kB 5.3 MB/s eta 0:00:01\r\u001b[K     |███████████████▉                | 849 kB 5.3 MB/s eta 0:00:01\r\u001b[K     |████████████████                | 860 kB 5.3 MB/s eta 0:00:01\r\u001b[K     |████████████████▏               | 870 kB 5.3 MB/s eta 0:00:01\r\u001b[K     |████████████████▍               | 880 kB 5.3 MB/s eta 0:00:01\r\u001b[K     |████████████████▋               | 890 kB 5.3 MB/s eta 0:00:01\r\u001b[K     |████████████████▊               | 901 kB 5.3 MB/s eta 0:00:01\r\u001b[K     |█████████████████               | 911 kB 5.3 MB/s eta 0:00:01\r\u001b[K     |█████████████████▏              | 921 kB 5.3 MB/s eta 0:00:01\r\u001b[K     |█████████████████▍              | 931 kB 5.3 MB/s eta 0:00:01\r\u001b[K     |█████████████████▌              | 942 kB 5.3 MB/s eta 0:00:01\r\u001b[K     |█████████████████▊              | 952 kB 5.3 MB/s eta 0:00:01\r\u001b[K     |██████████████████              | 962 kB 5.3 MB/s eta 0:00:01\r\u001b[K     |██████████████████              | 972 kB 5.3 MB/s eta 0:00:01\r\u001b[K     |██████████████████▎             | 983 kB 5.3 MB/s eta 0:00:01\r\u001b[K     |██████████████████▌             | 993 kB 5.3 MB/s eta 0:00:01\r\u001b[K     |██████████████████▊             | 1.0 MB 5.3 MB/s eta 0:00:01\r\u001b[K     |██████████████████▉             | 1.0 MB 5.3 MB/s eta 0:00:01\r\u001b[K     |███████████████████             | 1.0 MB 5.3 MB/s eta 0:00:01\r\u001b[K     |███████████████████▎            | 1.0 MB 5.3 MB/s eta 0:00:01\r\u001b[K     |███████████████████▍            | 1.0 MB 5.3 MB/s eta 0:00:01\r\u001b[K     |███████████████████▋            | 1.1 MB 5.3 MB/s eta 0:00:01\r\u001b[K     |███████████████████▉            | 1.1 MB 5.3 MB/s eta 0:00:01\r\u001b[K     |████████████████████            | 1.1 MB 5.3 MB/s eta 0:00:01\r\u001b[K     |████████████████████▏           | 1.1 MB 5.3 MB/s eta 0:00:01\r\u001b[K     |████████████████████▍           | 1.1 MB 5.3 MB/s eta 0:00:01\r\u001b[K     |████████████████████▋           | 1.1 MB 5.3 MB/s eta 0:00:01\r\u001b[K     |████████████████████▊           | 1.1 MB 5.3 MB/s eta 0:00:01\r\u001b[K     |█████████████████████           | 1.1 MB 5.3 MB/s eta 0:00:01\r\u001b[K     |█████████████████████▏          | 1.1 MB 5.3 MB/s eta 0:00:01\r\u001b[K     |█████████████████████▍          | 1.1 MB 5.3 MB/s eta 0:00:01\r\u001b[K     |█████████████████████▌          | 1.2 MB 5.3 MB/s eta 0:00:01\r\u001b[K     |█████████████████████▊          | 1.2 MB 5.3 MB/s eta 0:00:01\r\u001b[K     |██████████████████████          | 1.2 MB 5.3 MB/s eta 0:00:01\r\u001b[K     |██████████████████████          | 1.2 MB 5.3 MB/s eta 0:00:01\r\u001b[K     |██████████████████████▎         | 1.2 MB 5.3 MB/s eta 0:00:01\r\u001b[K     |██████████████████████▌         | 1.2 MB 5.3 MB/s eta 0:00:01\r\u001b[K     |██████████████████████▊         | 1.2 MB 5.3 MB/s eta 0:00:01\r\u001b[K     |██████████████████████▉         | 1.2 MB 5.3 MB/s eta 0:00:01\r\u001b[K     |███████████████████████         | 1.2 MB 5.3 MB/s eta 0:00:01\r\u001b[K     |███████████████████████▎        | 1.2 MB 5.3 MB/s eta 0:00:01\r\u001b[K     |███████████████████████▍        | 1.3 MB 5.3 MB/s eta 0:00:01\r\u001b[K     |███████████████████████▋        | 1.3 MB 5.3 MB/s eta 0:00:01\r\u001b[K     |███████████████████████▉        | 1.3 MB 5.3 MB/s eta 0:00:01\r\u001b[K     |████████████████████████        | 1.3 MB 5.3 MB/s eta 0:00:01\r\u001b[K     |████████████████████████▏       | 1.3 MB 5.3 MB/s eta 0:00:01\r\u001b[K     |████████████████████████▍       | 1.3 MB 5.3 MB/s eta 0:00:01\r\u001b[K     |████████████████████████▋       | 1.3 MB 5.3 MB/s eta 0:00:01\r\u001b[K     |████████████████████████▊       | 1.3 MB 5.3 MB/s eta 0:00:01\r\u001b[K     |█████████████████████████       | 1.3 MB 5.3 MB/s eta 0:00:01\r\u001b[K     |█████████████████████████▏      | 1.4 MB 5.3 MB/s eta 0:00:01\r\u001b[K     |█████████████████████████▍      | 1.4 MB 5.3 MB/s eta 0:00:01\r\u001b[K     |█████████████████████████▌      | 1.4 MB 5.3 MB/s eta 0:00:01\r\u001b[K     |█████████████████████████▊      | 1.4 MB 5.3 MB/s eta 0:00:01\r\u001b[K     |██████████████████████████      | 1.4 MB 5.3 MB/s eta 0:00:01\r\u001b[K     |██████████████████████████▏     | 1.4 MB 5.3 MB/s eta 0:00:01\r\u001b[K     |██████████████████████████▎     | 1.4 MB 5.3 MB/s eta 0:00:01\r\u001b[K     |██████████████████████████▌     | 1.4 MB 5.3 MB/s eta 0:00:01\r\u001b[K     |██████████████████████████▊     | 1.4 MB 5.3 MB/s eta 0:00:01\r\u001b[K     |██████████████████████████▉     | 1.4 MB 5.3 MB/s eta 0:00:01\r\u001b[K     |███████████████████████████     | 1.5 MB 5.3 MB/s eta 0:00:01\r\u001b[K     |███████████████████████████▎    | 1.5 MB 5.3 MB/s eta 0:00:01\r\u001b[K     |███████████████████████████▌    | 1.5 MB 5.3 MB/s eta 0:00:01\r\u001b[K     |███████████████████████████▋    | 1.5 MB 5.3 MB/s eta 0:00:01\r\u001b[K     |███████████████████████████▉    | 1.5 MB 5.3 MB/s eta 0:00:01\r\u001b[K     |████████████████████████████    | 1.5 MB 5.3 MB/s eta 0:00:01\r\u001b[K     |████████████████████████████▏   | 1.5 MB 5.3 MB/s eta 0:00:01\r\u001b[K     |████████████████████████████▍   | 1.5 MB 5.3 MB/s eta 0:00:01\r\u001b[K     |████████████████████████████▋   | 1.5 MB 5.3 MB/s eta 0:00:01\r\u001b[K     |████████████████████████████▉   | 1.5 MB 5.3 MB/s eta 0:00:01\r\u001b[K     |█████████████████████████████   | 1.6 MB 5.3 MB/s eta 0:00:01\r\u001b[K     |█████████████████████████████▏  | 1.6 MB 5.3 MB/s eta 0:00:01\r\u001b[K     |█████████████████████████████▍  | 1.6 MB 5.3 MB/s eta 0:00:01\r\u001b[K     |█████████████████████████████▌  | 1.6 MB 5.3 MB/s eta 0:00:01\r\u001b[K     |█████████████████████████████▊  | 1.6 MB 5.3 MB/s eta 0:00:01\r\u001b[K     |██████████████████████████████  | 1.6 MB 5.3 MB/s eta 0:00:01\r\u001b[K     |██████████████████████████████▏ | 1.6 MB 5.3 MB/s eta 0:00:01\r\u001b[K     |██████████████████████████████▎ | 1.6 MB 5.3 MB/s eta 0:00:01\r\u001b[K     |██████████████████████████████▌ | 1.6 MB 5.3 MB/s eta 0:00:01\r\u001b[K     |██████████████████████████████▊ | 1.6 MB 5.3 MB/s eta 0:00:01\r\u001b[K     |██████████████████████████████▉ | 1.7 MB 5.3 MB/s eta 0:00:01\r\u001b[K     |███████████████████████████████ | 1.7 MB 5.3 MB/s eta 0:00:01\r\u001b[K     |███████████████████████████████▎| 1.7 MB 5.3 MB/s eta 0:00:01\r\u001b[K     |███████████████████████████████▌| 1.7 MB 5.3 MB/s eta 0:00:01\r\u001b[K     |███████████████████████████████▋| 1.7 MB 5.3 MB/s eta 0:00:01\r\u001b[K     |███████████████████████████████▉| 1.7 MB 5.3 MB/s eta 0:00:01\r\u001b[K     |████████████████████████████████| 1.7 MB 5.3 MB/s \n",
            "\u001b[?25hRequirement already satisfied: requests<3,>=2.0.0 in /usr/local/lib/python3.7/dist-packages (from wandb) (2.23.0)\n",
            "Requirement already satisfied: protobuf>=3.12.0 in /usr/local/lib/python3.7/dist-packages (from wandb) (3.17.3)\n",
            "Collecting docker-pycreds>=0.4.0\n",
            "  Downloading docker_pycreds-0.4.0-py2.py3-none-any.whl (9.0 kB)\n",
            "Collecting pathtools\n",
            "  Downloading pathtools-0.1.2.tar.gz (11 kB)\n",
            "Collecting sentry-sdk>=1.0.0\n",
            "  Downloading sentry_sdk-1.5.5-py2.py3-none-any.whl (144 kB)\n",
            "\u001b[K     |████████████████████████████████| 144 kB 46.2 MB/s \n",
            "\u001b[?25hRequirement already satisfied: promise<3,>=2.0 in /usr/local/lib/python3.7/dist-packages (from wandb) (2.3)\n",
            "Collecting yaspin>=1.0.0\n",
            "  Downloading yaspin-2.1.0-py3-none-any.whl (18 kB)\n",
            "Requirement already satisfied: python-dateutil>=2.6.1 in /usr/local/lib/python3.7/dist-packages (from wandb) (2.8.2)\n",
            "Requirement already satisfied: psutil>=5.0.0 in /usr/local/lib/python3.7/dist-packages (from wandb) (5.4.8)\n",
            "Collecting GitPython>=1.0.0\n",
            "  Downloading GitPython-3.1.26-py3-none-any.whl (180 kB)\n",
            "\u001b[K     |████████████████████████████████| 180 kB 51.9 MB/s \n",
            "\u001b[?25hRequirement already satisfied: PyYAML in /usr/local/lib/python3.7/dist-packages (from wandb) (3.13)\n",
            "Collecting shortuuid>=0.5.0\n",
            "  Downloading shortuuid-1.0.8-py3-none-any.whl (9.5 kB)\n",
            "Requirement already satisfied: six>=1.13.0 in /usr/local/lib/python3.7/dist-packages (from wandb) (1.15.0)\n",
            "Requirement already satisfied: Click!=8.0.0,>=7.0 in /usr/local/lib/python3.7/dist-packages (from wandb) (7.1.2)\n",
            "Requirement already satisfied: typing-extensions>=3.7.4.3 in /usr/local/lib/python3.7/dist-packages (from GitPython>=1.0.0->wandb) (3.10.0.2)\n",
            "Collecting gitdb<5,>=4.0.1\n",
            "  Downloading gitdb-4.0.9-py3-none-any.whl (63 kB)\n",
            "\u001b[K     |████████████████████████████████| 63 kB 1.6 MB/s \n",
            "\u001b[?25hCollecting smmap<6,>=3.0.1\n",
            "  Downloading smmap-5.0.0-py3-none-any.whl (24 kB)\n",
            "Requirement already satisfied: urllib3!=1.25.0,!=1.25.1,<1.26,>=1.21.1 in /usr/local/lib/python3.7/dist-packages (from requests<3,>=2.0.0->wandb) (1.24.3)\n",
            "Requirement already satisfied: chardet<4,>=3.0.2 in /usr/local/lib/python3.7/dist-packages (from requests<3,>=2.0.0->wandb) (3.0.4)\n",
            "Requirement already satisfied: certifi>=2017.4.17 in /usr/local/lib/python3.7/dist-packages (from requests<3,>=2.0.0->wandb) (2021.10.8)\n",
            "Requirement already satisfied: idna<3,>=2.5 in /usr/local/lib/python3.7/dist-packages (from requests<3,>=2.0.0->wandb) (2.10)\n",
            "Requirement already satisfied: termcolor<2.0.0,>=1.1.0 in /usr/local/lib/python3.7/dist-packages (from yaspin>=1.0.0->wandb) (1.1.0)\n",
            "Building wheels for collected packages: pathtools\n",
            "  Building wheel for pathtools (setup.py) ... \u001b[?25l\u001b[?25hdone\n",
            "  Created wheel for pathtools: filename=pathtools-0.1.2-py3-none-any.whl size=8806 sha256=1b873f242402e6cab500548e666ae821114063237d9450da0274c8fa167540bc\n",
            "  Stored in directory: /root/.cache/pip/wheels/3e/31/09/fa59cef12cdcfecc627b3d24273699f390e71828921b2cbba2\n",
            "Successfully built pathtools\n",
            "Installing collected packages: smmap, gitdb, yaspin, shortuuid, sentry-sdk, pathtools, GitPython, docker-pycreds, wandb\n",
            "Successfully installed GitPython-3.1.26 docker-pycreds-0.4.0 gitdb-4.0.9 pathtools-0.1.2 sentry-sdk-1.5.5 shortuuid-1.0.8 smmap-5.0.0 wandb-0.12.10 yaspin-2.1.0\n"
          ]
        }
      ]
    },
    {
      "cell_type": "code",
      "execution_count": 6,
      "id": "abd841af",
      "metadata": {
        "id": "abd841af"
      },
      "outputs": [],
      "source": [
        "import wandb\n",
        "import argparse\n",
        "import numpy as np\n",
        "from tqdm import tqdm\n",
        "from keras.datasets import fashion_mnist\n",
        "from sklearn.model_selection import train_test_split \n",
        "\n",
        "from neural_networks import NeuralNetwork, Optimizer, clip_gradients, losses\n",
        "from utils import preprocess_data, make_batches, accuracy, gradient_sum"
      ]
    },
    {
      "cell_type": "code",
      "execution_count": 11,
      "id": "a0eb1abb",
      "metadata": {
        "id": "a0eb1abb"
      },
      "outputs": [],
      "source": [
        "def train_and_evaluate(args):\n",
        "    # Load Data\n",
        "    (X_train, y_train), (X_test, y_test) = fashion_mnist.load_data()\n",
        "    X_train,X_val,y_train,y_val=train_test_split(X_train, y_train,test_size=0.1, random_state=1, stratify=y_train)\n",
        "    (X_train, y_train) = preprocess_data(X_train, y_train)\n",
        "    (X_test, y_test) = preprocess_data(X_test, y_test)\n",
        "    (X_val,y_val) = preprocess_data(X_val,y_val)\n",
        "    print(X_train.shape, y_train.shape, X_test.shape, y_test.shape,X_val.shape,y_val.shape)\n",
        "\n",
        "    wandb.run.name = 'ep-'+str(args.epochs)+'-bs-'+str(args.batch_size)+'-lf-'+str(args.loss)+'-op-'+str(args.optimizer)+'-lr-'+ str(args.learning_rate) \\\n",
        "                      + '-nhl-'+str(args.num_layers)+'-shl-'+str(args.hidden_size)+ '-act-'+str(args.activation) \\\n",
        "                      +'-w_i-'+str(args.weight_init_method)+'-w_d-'+str(args.weight_decay)\n",
        "\n",
        "\n",
        "    # Instantiate model\n",
        "    architecture = [{'num_neurons': args.hidden_size, 'activation': args.activation, 'init_method': args.weight_init_method}\n",
        "                    for _ in range(args.num_layers)]\n",
        "    architecture.append({'num_neurons': 10, 'activation': 'softmax'})  # add output layer\n",
        "\n",
        "    model = NeuralNetwork(input_dim=784, architecture=architecture)\n",
        "    optimizer = Optimizer(model, algorithm=args.optimizer,\n",
        "                          momentum=0.9, beta=0.9,\n",
        "                          beta1=0.9, beta2=0.99, epsilon=1e-8,weight_decay=args.weight_decay)\n",
        "    lr = args.learning_rate\n",
        "    loss_fn, _ = losses[args.loss]\n",
        "\n",
        "    # Train\n",
        "\n",
        "    for epoch in range(args.epochs):\n",
        "        running_loss, running_grad = .0, .0\n",
        "        num_steps = (X_train.shape[0] // args.batch_size)\n",
        "        progress_bar = tqdm(make_batches(X_train, y_train, args.batch_size),\n",
        "                            total=num_steps)\n",
        "        for (X_batch, y_batch) in progress_bar:\n",
        "            # Forward\n",
        "            y_pred = model.forward(X_batch)\n",
        "\n",
        "            # Optimize\n",
        "            gradients = optimizer.backpropagate(y_batch, y_pred, losses[args.loss])\n",
        "            gradients = clip_gradients(gradients, clip_ratio=5.0, norm_type=2)\n",
        "            optimizer.optimize(gradients, learning_rate=lr)\n",
        "\n",
        "            # Track acc, loss and gradients\n",
        "            loss = loss_fn(y_batch, y_pred)\n",
        "            grad_sum = gradient_sum(gradients)\n",
        "            acc = accuracy(y_batch, y_pred)\n",
        "            progress_bar.set_description(\n",
        "                f\"epoch: {epoch}, lr: {lr:.5f} | loss: {loss:.4f}, acc(batch): {acc:.4f}, grad:{grad_sum:.4f}\"\n",
        "            )\n",
        "            \n",
        "            running_loss += loss\n",
        "            running_grad += grad_sum\n",
        "        \n",
        "        # Evaluate train and test splits\n",
        "        train_acc = accuracy(model.forward(X_train), y_train)\n",
        "        y_val_pred = model.forward(X_val)\n",
        "        val_acc = accuracy(y_val_pred,y_val)\n",
        "        val_loss = loss_fn(y_val,y_val_pred)\n",
        "        test_acc = accuracy(model.forward(X_test), y_test)\n",
        "        print(f\"acc(train): {train_acc:.4f}, acc(val): {val_acc:.4f}, acc(test): {test_acc:.4f}\")\n",
        "        print('_' * 99)\n",
        "        \n",
        "        # Log metrics to wandb.ai\n",
        "        wandb.log({\n",
        "            'train_acc': train_acc, \n",
        "            'val_acc': val_acc,\n",
        "            'train_loss': running_loss/num_steps,\n",
        "            'val_loss' : val_loss,\n",
        "            'test_acc': test_acc,\n",
        "            'epoch':epoch            \n",
        "        })\n",
        "    \n",
        "    y_true = np.argmax(y_test, axis=1)\n",
        "    y_pred = np.argmax(model.forward(X_test), axis=1)\n",
        "    class_names = ['T-shirt/top', 'Trouser', 'Pullover', 'Dress', \n",
        "              'Coat', 'Sandal', 'Shirt', 'Sneaker', 'Bag', 'Ankleboot']\n",
        "    wandb.log({\n",
        "      \"confusion_matrix\" : wandb.plot.confusion_matrix(probs=None,\n",
        "                              y_true=y_true, preds=y_pred,\n",
        "                              class_names=class_names)\n",
        "    })"
      ]
    },
    {
      "cell_type": "code",
      "execution_count": 12,
      "id": "bb2b9210",
      "metadata": {
        "id": "bb2b9210",
        "outputId": "a5e384f4-f0ee-42b6-a181-4ae9595e8522",
        "colab": {
          "base_uri": "https://localhost:8080/"
        }
      },
      "outputs": [
        {
          "output_type": "stream",
          "name": "stdout",
          "text": [
            "Create sweep with ID: r9k3ve7r\n",
            "Sweep URL: https://wandb.ai/cs21s006_cs21s043/cs6910_assignment1/sweeps/r9k3ve7r\n",
            "sweep_id:  r9k3ve7r\n"
          ]
        }
      ],
      "source": [
        "wandb.login()\n",
        "\n",
        "sweep_config = {\n",
        "    \"name\" : \"cs6910_assignment1_fashion-mnist_sweep\",\n",
        "    \"method\" : \"bayes\",\n",
        "    'metric': {\n",
        "        'name': 'val_acc',\n",
        "        'goal': 'maximize'\n",
        "    },\n",
        "    \"parameters\" : {\n",
        "        \"epochs\" : {\n",
        "            \"values\" : [5, 10, 20]\n",
        "        },\n",
        "        \"batch_size\": {\n",
        "            \"values\": [16, 32, 64, 128]\n",
        "        },\n",
        "        \"loss\": {\n",
        "            \"values\": ['cross_entropy']\n",
        "        },\n",
        "        \"optimizer\": {\n",
        "            \"values\": [\"nag\", \"rmsprop\", \"adam\", \"nadam\", \"sgd\", \"momentum\"]\n",
        "        },\n",
        "        \"learning_rate\" :{\n",
        "            \"values\": [1e-4, 3e-4, 5e-4, 1e-3, 3e-3, 5e-3, 0.01]\n",
        "        },\n",
        "        \"num_layers\": {\n",
        "            \"values\": [1, 2, 3, 4, 5]\n",
        "        },\n",
        "        \"hidden_size\": {\n",
        "            \"values\": [16, 32, 64, 128, 256, 512]\n",
        "        },\n",
        "        \"activation\": {\n",
        "            \"values\": ['sigmoid', 'tanh', 'ReLU']\n",
        "        },\n",
        "        \"weight_init_method\":{\n",
        "            \"values\":['Xavier_normal','Xavier_uniform','He_normal','He_uniform']\n",
        "        },\n",
        "        \"weight_decay\":{\n",
        "            \"values\":[0, 0.0005, 0.5]\n",
        "        }\n",
        "    }\n",
        "}\n",
        "sweep_id = wandb.sweep(sweep_config, project=\"cs6910_assignment1\", entity=\"cs21s006_cs21s043\")\n",
        "print('sweep_id: ', sweep_id)"
      ]
    },
    {
      "cell_type": "code",
      "execution_count": 13,
      "id": "e0d410ee",
      "metadata": {
        "id": "e0d410ee"
      },
      "outputs": [],
      "source": [
        "def spawn_fn():\n",
        "      with wandb.init(project=\"cs6910_assignment1\", entity=\"cs21s006_cs21s043\") as run:\n",
        "        config = wandb.config\n",
        "        train_and_evaluate(config)\n"
      ]
    },
    {
      "cell_type": "code",
      "execution_count": 14,
      "id": "cd9d193a",
      "metadata": {
        "id": "cd9d193a",
        "colab": {
          "base_uri": "https://localhost:8080/",
          "height": 1000,
          "referenced_widgets": [
            "e75e3c1ff4644fa6884bf7d90f36740c",
            "11e22ef2d59447d7a7a10ca453b4fca7",
            "55e567395d33496987023e36e2663c8c",
            "5a2b558dfb7b475da204ec2845d526e2",
            "e26e4962f1e3440bb8234f24e3860060",
            "c15b50121573445fb545871626f646b2",
            "87d98f0205b94cf5b711bb7c1368f6e7",
            "85ab6ab595eb4596989a9fdae80dcd72",
            "3494bb2e6f7945ddb2304a0adcdbabb8",
            "a757cb028c2843fd9678b4615bb09c97",
            "6d1d54a5bc3248189d2e91eac86213b7",
            "93086e6c3cca4bdd902179e2adb96f08",
            "662627c833f14f2d87477b5466cc7531",
            "bb3e8e00aeec4a00aa15477d7fb55ebc",
            "87d13e4074884408980b8c773951c005",
            "d2d2a2a4e65347b59ce2ff67745d43a8",
            "e2bdad4bba55491987710d8b6a4a803d",
            "522dba0b1976457f9161a8ac029ed034",
            "371439e1acb441acaffa21f880314edf",
            "5173a6aca6c149ff92edca59381abc98",
            "3fab4f59e30d46f0b2fdca843f080a8d",
            "661e128be48a4c2c909dc7b1bd717900",
            "9009966272454dd788f04d256c490595",
            "b5bb8663f1bf45a6ae0d27ad4631067c",
            "3b22632981674f22ac3883b641f06220",
            "3954edce41044375ba128743754d3bcd",
            "ab5f45e60c884ff882a4b25a8090e46c",
            "5c5d43bd639a4e93b5a319280a62bbb8",
            "3a2aee9117444a0aaddceb593efe5b86",
            "8d2d4882fd9145dba4a46cb053715fe8",
            "4362fc1e3f904d27a9ef7cf21ede6a7d",
            "2177a9b6079e4e16a6a40bd89098b954",
            "5c971bd243b640f189d021bbf2ad15de",
            "1a76e28e040541d296404f22e45700fe",
            "2248f09dabd24ea5ab1191ca91081723",
            "11ab6e05e7984a169b3514fe9b4a84ee",
            "fa9f9bb41841420bb0dc6f4ef1fd1b02",
            "373d3ab4b84d4dd899aba0d5308416f0",
            "9d4c892dac1f4651b43caebf48bbec0d",
            "70772349e3294dee80b7b48991076169",
            "613a7e2f8a314c2081dfbc5c670dad29",
            "f105cba1c7ba4fb8b83176ff862869c8",
            "88d0e6a947304e12945c5d5583836d64",
            "546d56db7b1644aa9817055a4a1d9757",
            "13cffb7936aa4509ab61b5bdd473944f",
            "9f279b77b1c34ac9a5b7170270638ab1",
            "8150ca91c55c464ca27ad80a42377a9c",
            "c6063e3f26564f859abe5c5a89eecb3b",
            "1479f862f21342699d2f72f3b97482e4",
            "e166dd20ff984396adbe0876bd2f3e25",
            "8dab557f46f24d8eae5b05469cdd470d",
            "3f02ffef1acc4ddfbe06599db2c12a94",
            "646a1df4356c4598ad00d92bcfc01aa6",
            "dcbaaf1e86ab48aea04147072c90fceb",
            "10f7d4f528ed41579571e7f712681bac",
            "c6112520833443c993ba2dfc4ace2d05",
            "b16ae481bad04828865ae82873f1e605",
            "6a4a3bdee1614ccba7f0eb4e5bb92d7e",
            "1a079d24b901424c8f13b46d15b9c645",
            "f63e1a62ac194773ab1de46118bee320",
            "eba2323330af4520944133268a5fbd0a",
            "0726996b24b646ce83549d8a44e8190f",
            "5e3ab3ea969d41cdb3fe89fc44300c25",
            "89cd160fac784dcabd6abcdb740cc4fa",
            "8cc12ce52aae489b89f977970ad94921",
            "c9fbac9e814d407fb91a3f1ae9899b50",
            "0752100cb14b48e49aaa4150c1e05298",
            "adeef1901ffe49f2b7f9c48701a8b7a4",
            "dbdaae382c984d3393725b935b520d3a",
            "e5ff1aa58a9344ffa626af0c86877210",
            "0c51f25b62ad4e1cb0fed1a07a3a0862",
            "e35c3a7a7af1412bbaf753963e5db327",
            "4605e6d0a0704f86aac20a2cae59da62"
          ]
        },
        "outputId": "a5b5b064-9f7c-4af2-eede-0f8171daf480"
      },
      "outputs": [
        {
          "metadata": {
            "tags": null
          },
          "name": "stderr",
          "output_type": "stream",
          "text": [
            "\u001b[34m\u001b[1mwandb\u001b[0m: Agent Starting Run: st0m94hk with config:\n",
            "\u001b[34m\u001b[1mwandb\u001b[0m: \tactivation: sigmoid\n",
            "\u001b[34m\u001b[1mwandb\u001b[0m: \tbatch_size: 32\n",
            "\u001b[34m\u001b[1mwandb\u001b[0m: \tepochs: 5\n",
            "\u001b[34m\u001b[1mwandb\u001b[0m: \thidden_size: 128\n",
            "\u001b[34m\u001b[1mwandb\u001b[0m: \tlearning_rate: 0.01\n",
            "\u001b[34m\u001b[1mwandb\u001b[0m: \tloss: cross_entropy\n",
            "\u001b[34m\u001b[1mwandb\u001b[0m: \tnum_layers: 3\n",
            "\u001b[34m\u001b[1mwandb\u001b[0m: \toptimizer: nag\n",
            "\u001b[34m\u001b[1mwandb\u001b[0m: \tweight_decay: 0.0005\n",
            "\u001b[34m\u001b[1mwandb\u001b[0m: \tweight_init_method: Xavier_uniform\n",
            "\u001b[34m\u001b[1mwandb\u001b[0m: \u001b[33mWARNING\u001b[0m Ignored wandb.init() arg project when running a sweep.\n",
            "\u001b[34m\u001b[1mwandb\u001b[0m: \u001b[33mWARNING\u001b[0m Ignored wandb.init() arg entity when running a sweep.\n"
          ]
        },
        {
          "data": {
            "text/html": [
              "\n",
              "                    Syncing run <strong><a href=\"https://wandb.ai/cs21s006_cs21s043/cs6910_assignment1/runs/st0m94hk\" target=\"_blank\">solar-sweep-2</a></strong> to <a href=\"https://wandb.ai/cs21s006_cs21s043/cs6910_assignment1\" target=\"_blank\">Weights & Biases</a> (<a href=\"https://docs.wandb.com/integrations/jupyter.html\" target=\"_blank\">docs</a>).<br/>\n",
              "Sweep page: <a href=\"https://wandb.ai/cs21s006_cs21s043/cs6910_assignment1/sweeps/1463mzwx\" target=\"_blank\">https://wandb.ai/cs21s006_cs21s043/cs6910_assignment1/sweeps/1463mzwx</a><br/>\n",
              "\n",
              "                "
            ],
            "text/plain": [
              "<IPython.core.display.HTML object>"
            ]
          },
          "metadata": {},
          "output_type": "display_data"
        },
        {
          "metadata": {
            "tags": null
          },
          "name": "stdout",
          "output_type": "stream",
          "text": [
            "(54000, 784) (54000, 10) (10000, 784) (10000, 10) (6000, 784) (6000, 10)\n"
          ]
        },
        {
          "metadata": {
            "tags": null
          },
          "name": "stderr",
          "output_type": "stream",
          "text": [
            "epoch: 0, lr: 0.01000 | loss: 0.1017, acc(batch): 0.7500, grad:45936.5646: : 1688it [00:51, 32.92it/s]\n"
          ]
        },
        {
          "metadata": {
            "tags": null
          },
          "name": "stdout",
          "output_type": "stream",
          "text": [
            "acc(train): 0.6804, acc(val): 0.6757, acc(test): 0.6735\n",
            "___________________________________________________________________________________________________\n"
          ]
        },
        {
          "metadata": {
            "tags": null
          },
          "name": "stderr",
          "output_type": "stream",
          "text": [
            "epoch: 1, lr: 0.01000 | loss: 0.0923, acc(batch): 0.6875, grad:45781.4346: : 1688it [00:49, 34.22it/s]                        \n"
          ]
        },
        {
          "metadata": {
            "tags": null
          },
          "name": "stdout",
          "output_type": "stream",
          "text": [
            "acc(train): 0.7625, acc(val): 0.7653, acc(test): 0.7525\n",
            "___________________________________________________________________________________________________\n"
          ]
        },
        {
          "metadata": {
            "tags": null
          },
          "name": "stderr",
          "output_type": "stream",
          "text": [
            "epoch: 2, lr: 0.01000 | loss: 0.0958, acc(batch): 0.7500, grad:40936.1150: : 1688it [00:49, 34.32it/s]                        \n"
          ]
        },
        {
          "metadata": {
            "tags": null
          },
          "name": "stdout",
          "output_type": "stream",
          "text": [
            "acc(train): 0.7468, acc(val): 0.7412, acc(test): 0.7373\n",
            "___________________________________________________________________________________________________\n"
          ]
        },
        {
          "metadata": {
            "tags": null
          },
          "name": "stderr",
          "output_type": "stream",
          "text": [
            "epoch: 3, lr: 0.01000 | loss: 0.1164, acc(batch): 0.6875, grad:38731.0391: : 1688it [00:49, 34.32it/s]\n"
          ]
        },
        {
          "metadata": {
            "tags": null
          },
          "name": "stdout",
          "output_type": "stream",
          "text": [
            "acc(train): 0.6372, acc(val): 0.6307, acc(test): 0.6269\n",
            "___________________________________________________________________________________________________\n"
          ]
        },
        {
          "metadata": {
            "tags": null
          },
          "name": "stderr",
          "output_type": "stream",
          "text": [
            "epoch: 4, lr: 0.01000 | loss: 0.1531, acc(batch): 0.4375, grad:42166.0974: : 1688it [00:48, 34.59it/s]                        \n"
          ]
        },
        {
          "metadata": {
            "tags": null
          },
          "name": "stdout",
          "output_type": "stream",
          "text": [
            "acc(train): 0.6145, acc(val): 0.6132, acc(test): 0.6101\n",
            "___________________________________________________________________________________________________\n"
          ]
        },
        {
          "data": {
            "text/html": [
              "<br/>Waiting for W&B process to finish, PID 281... <strong style=\"color:green\">(success).</strong>"
            ],
            "text/plain": [
              "<IPython.core.display.HTML object>"
            ]
          },
          "metadata": {},
          "output_type": "display_data"
        },
        {
          "data": {
            "application/vnd.jupyter.widget-view+json": {
              "model_id": "e75e3c1ff4644fa6884bf7d90f36740c",
              "version_major": 2,
              "version_minor": 0
            },
            "text/plain": [
              "VBox(children=(Label(value=' 0.00MB of 0.01MB uploaded (0.00MB deduped)\\r'), FloatProgress(value=0.57945680439…"
            ]
          },
          "metadata": {},
          "output_type": "display_data"
        },
        {
          "data": {
            "text/html": [
              "<style>\n",
              "    table.wandb td:nth-child(1) { padding: 0 10px; text-align: right }\n",
              "    .wandb-row { display: flex; flex-direction: row; flex-wrap: wrap; width: 100% }\n",
              "    .wandb-col { display: flex; flex-direction: column; flex-basis: 100%; flex: 1; padding: 10px; }\n",
              "    </style>\n",
              "<div class=\"wandb-row\"><div class=\"wandb-col\">\n",
              "<h3>Run history:</h3><br/><table class=\"wandb\"><tr><td>epoch</td><td>▁▃▅▆█</td></tr><tr><td>test_acc</td><td>▄█▇▂▁</td></tr><tr><td>train_acc</td><td>▄█▇▂▁</td></tr><tr><td>train_loss</td><td>█▂▁▁▁</td></tr><tr><td>val_acc</td><td>▄█▇▂▁</td></tr><tr><td>val_loss</td><td>▃▁▁▇█</td></tr></table><br/></div><div class=\"wandb-col\">\n",
              "<h3>Run summary:</h3><br/><table class=\"wandb\"><tr><td>epoch</td><td>4</td></tr><tr><td>test_acc</td><td>0.6101</td></tr><tr><td>train_acc</td><td>0.61448</td></tr><tr><td>train_loss</td><td>0.0778</td></tr><tr><td>val_acc</td><td>0.61317</td></tr><tr><td>val_loss</td><td>0.12687</td></tr></table>\n",
              "</div></div>\n",
              "Synced 5 W&B file(s), 1 media file(s), 1 artifact file(s) and 0 other file(s)\n",
              "<br/>Synced <strong style=\"color:#cdcd00\">solar-sweep-2</strong>: <a href=\"https://wandb.ai/cs21s006_cs21s043/cs6910_assignment1/runs/st0m94hk\" target=\"_blank\">https://wandb.ai/cs21s006_cs21s043/cs6910_assignment1/runs/st0m94hk</a><br/>\n",
              "Find logs at: <code>./wandb/run-20220218_110856-st0m94hk/logs</code><br/>\n"
            ],
            "text/plain": [
              "<IPython.core.display.HTML object>"
            ]
          },
          "metadata": {},
          "output_type": "display_data"
        },
        {
          "metadata": {
            "tags": null
          },
          "name": "stderr",
          "output_type": "stream",
          "text": [
            "\u001b[34m\u001b[1mwandb\u001b[0m: Agent Starting Run: 0zmqhxoh with config:\n",
            "\u001b[34m\u001b[1mwandb\u001b[0m: \tactivation: ReLU\n",
            "\u001b[34m\u001b[1mwandb\u001b[0m: \tbatch_size: 128\n",
            "\u001b[34m\u001b[1mwandb\u001b[0m: \tepochs: 5\n",
            "\u001b[34m\u001b[1mwandb\u001b[0m: \thidden_size: 32\n",
            "\u001b[34m\u001b[1mwandb\u001b[0m: \tlearning_rate: 0.005\n",
            "\u001b[34m\u001b[1mwandb\u001b[0m: \tloss: cross_entropy\n",
            "\u001b[34m\u001b[1mwandb\u001b[0m: \tnum_layers: 5\n",
            "\u001b[34m\u001b[1mwandb\u001b[0m: \toptimizer: sgd\n",
            "\u001b[34m\u001b[1mwandb\u001b[0m: \tweight_decay: 0.5\n",
            "\u001b[34m\u001b[1mwandb\u001b[0m: \tweight_init_method: Xavier_uniform\n",
            "\u001b[34m\u001b[1mwandb\u001b[0m: \u001b[33mWARNING\u001b[0m Ignored wandb.init() arg project when running a sweep.\n",
            "\u001b[34m\u001b[1mwandb\u001b[0m: \u001b[33mWARNING\u001b[0m Ignored wandb.init() arg entity when running a sweep.\n"
          ]
        },
        {
          "data": {
            "text/html": [
              "\n",
              "                    Syncing run <strong><a href=\"https://wandb.ai/cs21s006_cs21s043/cs6910_assignment1/runs/0zmqhxoh\" target=\"_blank\">stellar-sweep-3</a></strong> to <a href=\"https://wandb.ai/cs21s006_cs21s043/cs6910_assignment1\" target=\"_blank\">Weights & Biases</a> (<a href=\"https://docs.wandb.com/integrations/jupyter.html\" target=\"_blank\">docs</a>).<br/>\n",
              "Sweep page: <a href=\"https://wandb.ai/cs21s006_cs21s043/cs6910_assignment1/sweeps/1463mzwx\" target=\"_blank\">https://wandb.ai/cs21s006_cs21s043/cs6910_assignment1/sweeps/1463mzwx</a><br/>\n",
              "\n",
              "                "
            ],
            "text/plain": [
              "<IPython.core.display.HTML object>"
            ]
          },
          "metadata": {},
          "output_type": "display_data"
        },
        {
          "metadata": {
            "tags": null
          },
          "name": "stdout",
          "output_type": "stream",
          "text": [
            "(54000, 784) (54000, 10) (10000, 784) (10000, 10) (6000, 784) (6000, 10)\n"
          ]
        },
        {
          "metadata": {
            "tags": null
          },
          "name": "stderr",
          "output_type": "stream",
          "text": [
            "epoch: 0, lr: 0.00500 | loss: 0.2306, acc(batch): 0.0804, grad:5112.6823: : 422it [00:05, 71.91it/s]                       \n"
          ]
        },
        {
          "metadata": {
            "tags": null
          },
          "name": "stdout",
          "output_type": "stream",
          "text": [
            "acc(train): 0.1000, acc(val): 0.1000, acc(test): 0.1000\n",
            "___________________________________________________________________________________________________\n"
          ]
        },
        {
          "metadata": {
            "tags": null
          },
          "name": "stderr",
          "output_type": "stream",
          "text": [
            "epoch: 1, lr: 0.00500 | loss: 0.2306, acc(batch): 0.0804, grad:5112.6826: : 422it [00:05, 72.28it/s]                       \n"
          ]
        },
        {
          "metadata": {
            "tags": null
          },
          "name": "stdout",
          "output_type": "stream",
          "text": [
            "acc(train): 0.1000, acc(val): 0.1000, acc(test): 0.1000\n",
            "___________________________________________________________________________________________________\n"
          ]
        },
        {
          "metadata": {
            "tags": null
          },
          "name": "stderr",
          "output_type": "stream",
          "text": [
            "epoch: 2, lr: 0.00500 | loss: 0.2306, acc(batch): 0.0804, grad:5112.6828: : 422it [00:05, 71.96it/s]                       \n"
          ]
        },
        {
          "metadata": {
            "tags": null
          },
          "name": "stdout",
          "output_type": "stream",
          "text": [
            "acc(train): 0.1000, acc(val): 0.1000, acc(test): 0.1000\n",
            "___________________________________________________________________________________________________\n"
          ]
        },
        {
          "metadata": {
            "tags": null
          },
          "name": "stderr",
          "output_type": "stream",
          "text": [
            "epoch: 3, lr: 0.00500 | loss: 0.2306, acc(batch): 0.0804, grad:5112.6829: : 422it [00:05, 72.28it/s]                       \n"
          ]
        },
        {
          "metadata": {
            "tags": null
          },
          "name": "stdout",
          "output_type": "stream",
          "text": [
            "acc(train): 0.1000, acc(val): 0.1000, acc(test): 0.1000\n",
            "___________________________________________________________________________________________________\n"
          ]
        },
        {
          "metadata": {
            "tags": null
          },
          "name": "stderr",
          "output_type": "stream",
          "text": [
            "epoch: 4, lr: 0.00500 | loss: 0.2306, acc(batch): 0.0804, grad:5112.6829: : 422it [00:05, 73.16it/s]\n"
          ]
        },
        {
          "metadata": {
            "tags": null
          },
          "name": "stdout",
          "output_type": "stream",
          "text": [
            "acc(train): 0.1000, acc(val): 0.1000, acc(test): 0.1000\n",
            "___________________________________________________________________________________________________\n"
          ]
        },
        {
          "data": {
            "text/html": [
              "<br/>Waiting for W&B process to finish, PID 355... <strong style=\"color:green\">(success).</strong>"
            ],
            "text/plain": [
              "<IPython.core.display.HTML object>"
            ]
          },
          "metadata": {},
          "output_type": "display_data"
        },
        {
          "data": {
            "application/vnd.jupyter.widget-view+json": {
              "model_id": "3494bb2e6f7945ddb2304a0adcdbabb8",
              "version_major": 2,
              "version_minor": 0
            },
            "text/plain": [
              "VBox(children=(Label(value=' 0.00MB of 0.00MB uploaded (0.00MB deduped)\\r'), FloatProgress(value=1.0, max=1.0)…"
            ]
          },
          "metadata": {},
          "output_type": "display_data"
        },
        {
          "data": {
            "text/html": [
              "<style>\n",
              "    table.wandb td:nth-child(1) { padding: 0 10px; text-align: right }\n",
              "    .wandb-row { display: flex; flex-direction: row; flex-wrap: wrap; width: 100% }\n",
              "    .wandb-col { display: flex; flex-direction: column; flex-basis: 100%; flex: 1; padding: 10px; }\n",
              "    </style>\n",
              "<div class=\"wandb-row\"><div class=\"wandb-col\">\n",
              "<h3>Run history:</h3><br/><table class=\"wandb\"><tr><td>epoch</td><td>▁▃▅▆█</td></tr><tr><td>test_acc</td><td>▁▁▁▁▁</td></tr><tr><td>train_acc</td><td>▁▁▁▁▁</td></tr><tr><td>train_loss</td><td>▁████</td></tr><tr><td>val_acc</td><td>▁▁▁▁▁</td></tr><tr><td>val_loss</td><td>▁▁▁▁▁</td></tr></table><br/></div><div class=\"wandb-col\">\n",
              "<h3>Run summary:</h3><br/><table class=\"wandb\"><tr><td>epoch</td><td>4</td></tr><tr><td>test_acc</td><td>0.1</td></tr><tr><td>train_acc</td><td>0.1</td></tr><tr><td>train_loss</td><td>0.23087</td></tr><tr><td>val_acc</td><td>0.1</td></tr><tr><td>val_loss</td><td>0.2303</td></tr></table>\n",
              "</div></div>\n",
              "Synced 5 W&B file(s), 1 media file(s), 1 artifact file(s) and 0 other file(s)\n",
              "<br/>Synced <strong style=\"color:#cdcd00\">stellar-sweep-3</strong>: <a href=\"https://wandb.ai/cs21s006_cs21s043/cs6910_assignment1/runs/0zmqhxoh\" target=\"_blank\">https://wandb.ai/cs21s006_cs21s043/cs6910_assignment1/runs/0zmqhxoh</a><br/>\n",
              "Find logs at: <code>./wandb/run-20220218_111331-0zmqhxoh/logs</code><br/>\n"
            ],
            "text/plain": [
              "<IPython.core.display.HTML object>"
            ]
          },
          "metadata": {},
          "output_type": "display_data"
        },
        {
          "metadata": {
            "tags": null
          },
          "name": "stderr",
          "output_type": "stream",
          "text": [
            "\u001b[34m\u001b[1mwandb\u001b[0m: Agent Starting Run: az01t31h with config:\n",
            "\u001b[34m\u001b[1mwandb\u001b[0m: \tactivation: tanh\n",
            "\u001b[34m\u001b[1mwandb\u001b[0m: \tbatch_size: 128\n",
            "\u001b[34m\u001b[1mwandb\u001b[0m: \tepochs: 20\n",
            "\u001b[34m\u001b[1mwandb\u001b[0m: \thidden_size: 16\n",
            "\u001b[34m\u001b[1mwandb\u001b[0m: \tlearning_rate: 0.0003\n",
            "\u001b[34m\u001b[1mwandb\u001b[0m: \tloss: cross_entropy\n",
            "\u001b[34m\u001b[1mwandb\u001b[0m: \tnum_layers: 2\n",
            "\u001b[34m\u001b[1mwandb\u001b[0m: \toptimizer: sgd\n",
            "\u001b[34m\u001b[1mwandb\u001b[0m: \tweight_decay: 0.0005\n",
            "\u001b[34m\u001b[1mwandb\u001b[0m: \tweight_init_method: Xavier_normal\n",
            "\u001b[34m\u001b[1mwandb\u001b[0m: \u001b[33mWARNING\u001b[0m Ignored wandb.init() arg project when running a sweep.\n",
            "\u001b[34m\u001b[1mwandb\u001b[0m: \u001b[33mWARNING\u001b[0m Ignored wandb.init() arg entity when running a sweep.\n"
          ]
        },
        {
          "data": {
            "text/html": [
              "\n",
              "                    Syncing run <strong><a href=\"https://wandb.ai/cs21s006_cs21s043/cs6910_assignment1/runs/az01t31h\" target=\"_blank\">ancient-sweep-4</a></strong> to <a href=\"https://wandb.ai/cs21s006_cs21s043/cs6910_assignment1\" target=\"_blank\">Weights & Biases</a> (<a href=\"https://docs.wandb.com/integrations/jupyter.html\" target=\"_blank\">docs</a>).<br/>\n",
              "Sweep page: <a href=\"https://wandb.ai/cs21s006_cs21s043/cs6910_assignment1/sweeps/1463mzwx\" target=\"_blank\">https://wandb.ai/cs21s006_cs21s043/cs6910_assignment1/sweeps/1463mzwx</a><br/>\n",
              "\n",
              "                "
            ],
            "text/plain": [
              "<IPython.core.display.HTML object>"
            ]
          },
          "metadata": {},
          "output_type": "display_data"
        },
        {
          "metadata": {
            "tags": null
          },
          "name": "stdout",
          "output_type": "stream",
          "text": [
            "(54000, 784) (54000, 10) (10000, 784) (10000, 10) (6000, 784) (6000, 10)\n"
          ]
        },
        {
          "metadata": {
            "tags": null
          },
          "name": "stderr",
          "output_type": "stream",
          "text": [
            "epoch: 0, lr: 0.00030 | loss: 0.1486, acc(batch): 0.5893, grad:14409.0939: : 422it [00:04, 89.70it/s]                       \n"
          ]
        },
        {
          "metadata": {
            "tags": null
          },
          "name": "stdout",
          "output_type": "stream",
          "text": [
            "acc(train): 0.5843, acc(val): 0.5787, acc(test): 0.5823\n",
            "___________________________________________________________________________________________________\n"
          ]
        },
        {
          "metadata": {
            "tags": null
          },
          "name": "stderr",
          "output_type": "stream",
          "text": [
            "epoch: 1, lr: 0.00030 | loss: 0.1087, acc(batch): 0.7232, grad:11597.8337: : 422it [00:04, 89.72it/s]                       \n"
          ]
        },
        {
          "metadata": {
            "tags": null
          },
          "name": "stdout",
          "output_type": "stream",
          "text": [
            "acc(train): 0.6651, acc(val): 0.6622, acc(test): 0.6523\n",
            "___________________________________________________________________________________________________\n"
          ]
        },
        {
          "metadata": {
            "tags": null
          },
          "name": "stderr",
          "output_type": "stream",
          "text": [
            "epoch: 2, lr: 0.00030 | loss: 0.0907, acc(batch): 0.7411, grad:12945.1637: : 422it [00:04, 91.20it/s]                       \n"
          ]
        },
        {
          "metadata": {
            "tags": null
          },
          "name": "stdout",
          "output_type": "stream",
          "text": [
            "acc(train): 0.7003, acc(val): 0.7007, acc(test): 0.6912\n",
            "___________________________________________________________________________________________________\n"
          ]
        },
        {
          "metadata": {
            "tags": null
          },
          "name": "stderr",
          "output_type": "stream",
          "text": [
            "epoch: 3, lr: 0.00030 | loss: 0.0804, acc(batch): 0.7679, grad:14022.7402: : 422it [00:04, 90.06it/s]                       \n"
          ]
        },
        {
          "metadata": {
            "tags": null
          },
          "name": "stdout",
          "output_type": "stream",
          "text": [
            "acc(train): 0.7261, acc(val): 0.7262, acc(test): 0.7131\n",
            "___________________________________________________________________________________________________\n"
          ]
        },
        {
          "metadata": {
            "tags": null
          },
          "name": "stderr",
          "output_type": "stream",
          "text": [
            "epoch: 4, lr: 0.00030 | loss: 0.0733, acc(batch): 0.7679, grad:14517.2623: : 422it [00:04, 89.41it/s]                       \n"
          ]
        },
        {
          "metadata": {
            "tags": null
          },
          "name": "stdout",
          "output_type": "stream",
          "text": [
            "acc(train): 0.7444, acc(val): 0.7440, acc(test): 0.7308\n",
            "___________________________________________________________________________________________________\n"
          ]
        },
        {
          "metadata": {
            "tags": null
          },
          "name": "stderr",
          "output_type": "stream",
          "text": [
            "epoch: 5, lr: 0.00030 | loss: 0.0680, acc(batch): 0.7946, grad:14630.9909: : 422it [00:04, 89.53it/s]                       \n"
          ]
        },
        {
          "metadata": {
            "tags": null
          },
          "name": "stdout",
          "output_type": "stream",
          "text": [
            "acc(train): 0.7576, acc(val): 0.7552, acc(test): 0.7457\n",
            "___________________________________________________________________________________________________\n"
          ]
        },
        {
          "metadata": {
            "tags": null
          },
          "name": "stderr",
          "output_type": "stream",
          "text": [
            "epoch: 6, lr: 0.00030 | loss: 0.0639, acc(batch): 0.8214, grad:14485.8671: : 422it [00:04, 89.01it/s]\n"
          ]
        },
        {
          "metadata": {
            "tags": null
          },
          "name": "stdout",
          "output_type": "stream",
          "text": [
            "acc(train): 0.7689, acc(val): 0.7650, acc(test): 0.7552\n",
            "___________________________________________________________________________________________________\n"
          ]
        },
        {
          "metadata": {
            "tags": null
          },
          "name": "stderr",
          "output_type": "stream",
          "text": [
            "epoch: 7, lr: 0.00030 | loss: 0.0605, acc(batch): 0.8482, grad:14140.1721: : 422it [00:04, 90.84it/s]                       \n"
          ]
        },
        {
          "metadata": {
            "tags": null
          },
          "name": "stdout",
          "output_type": "stream",
          "text": [
            "acc(train): 0.7783, acc(val): 0.7760, acc(test): 0.7633\n",
            "___________________________________________________________________________________________________\n"
          ]
        },
        {
          "metadata": {
            "tags": null
          },
          "name": "stderr",
          "output_type": "stream",
          "text": [
            "epoch: 8, lr: 0.00030 | loss: 0.0576, acc(batch): 0.8750, grad:13669.2652: : 422it [00:04, 88.10it/s]                       \n"
          ]
        },
        {
          "metadata": {
            "tags": null
          },
          "name": "stdout",
          "output_type": "stream",
          "text": [
            "acc(train): 0.7858, acc(val): 0.7825, acc(test): 0.7712\n",
            "___________________________________________________________________________________________________\n"
          ]
        },
        {
          "metadata": {
            "tags": null
          },
          "name": "stderr",
          "output_type": "stream",
          "text": [
            "epoch: 9, lr: 0.00030 | loss: 0.0552, acc(batch): 0.8750, grad:13613.1158: : 422it [00:04, 88.47it/s]                       \n"
          ]
        },
        {
          "metadata": {
            "tags": null
          },
          "name": "stdout",
          "output_type": "stream",
          "text": [
            "acc(train): 0.7923, acc(val): 0.7890, acc(test): 0.7795\n",
            "___________________________________________________________________________________________________\n"
          ]
        },
        {
          "metadata": {
            "tags": null
          },
          "name": "stderr",
          "output_type": "stream",
          "text": [
            "epoch: 10, lr: 0.00030 | loss: 0.0531, acc(batch): 0.8839, grad:13592.0804: : 422it [00:04, 89.12it/s]                       \n"
          ]
        },
        {
          "metadata": {
            "tags": null
          },
          "name": "stdout",
          "output_type": "stream",
          "text": [
            "acc(train): 0.7974, acc(val): 0.7970, acc(test): 0.7841\n",
            "___________________________________________________________________________________________________\n"
          ]
        },
        {
          "metadata": {
            "tags": null
          },
          "name": "stderr",
          "output_type": "stream",
          "text": [
            "epoch: 11, lr: 0.00030 | loss: 0.0513, acc(batch): 0.8929, grad:13542.0988: : 422it [00:04, 88.70it/s]                       \n"
          ]
        },
        {
          "metadata": {
            "tags": null
          },
          "name": "stdout",
          "output_type": "stream",
          "text": [
            "acc(train): 0.8027, acc(val): 0.8023, acc(test): 0.7898\n",
            "___________________________________________________________________________________________________\n"
          ]
        },
        {
          "metadata": {
            "tags": null
          },
          "name": "stderr",
          "output_type": "stream",
          "text": [
            "epoch: 12, lr: 0.00030 | loss: 0.0497, acc(batch): 0.9018, grad:13477.8691: : 422it [00:04, 88.01it/s]                       \n"
          ]
        },
        {
          "metadata": {
            "tags": null
          },
          "name": "stdout",
          "output_type": "stream",
          "text": [
            "acc(train): 0.8079, acc(val): 0.8067, acc(test): 0.7935\n",
            "___________________________________________________________________________________________________\n"
          ]
        },
        {
          "metadata": {
            "tags": null
          },
          "name": "stderr",
          "output_type": "stream",
          "text": [
            "epoch: 13, lr: 0.00030 | loss: 0.0484, acc(batch): 0.9018, grad:13409.0399: : 422it [00:04, 88.97it/s]                       \n"
          ]
        },
        {
          "metadata": {
            "tags": null
          },
          "name": "stdout",
          "output_type": "stream",
          "text": [
            "acc(train): 0.8116, acc(val): 0.8092, acc(test): 0.7979\n",
            "___________________________________________________________________________________________________\n"
          ]
        },
        {
          "metadata": {
            "tags": null
          },
          "name": "stderr",
          "output_type": "stream",
          "text": [
            "epoch: 14, lr: 0.00030 | loss: 0.0473, acc(batch): 0.8929, grad:13374.9273: : 422it [00:04, 87.53it/s]                       \n"
          ]
        },
        {
          "metadata": {
            "tags": null
          },
          "name": "stdout",
          "output_type": "stream",
          "text": [
            "acc(train): 0.8150, acc(val): 0.8140, acc(test): 0.8018\n",
            "___________________________________________________________________________________________________\n"
          ]
        },
        {
          "metadata": {
            "tags": null
          },
          "name": "stderr",
          "output_type": "stream",
          "text": [
            "epoch: 15, lr: 0.00030 | loss: 0.0463, acc(batch): 0.8929, grad:13342.8255: : 422it [00:04, 88.57it/s]                       \n"
          ]
        },
        {
          "metadata": {
            "tags": null
          },
          "name": "stdout",
          "output_type": "stream",
          "text": [
            "acc(train): 0.8186, acc(val): 0.8172, acc(test): 0.8052\n",
            "___________________________________________________________________________________________________\n"
          ]
        },
        {
          "metadata": {
            "tags": null
          },
          "name": "stderr",
          "output_type": "stream",
          "text": [
            "epoch: 16, lr: 0.00030 | loss: 0.0455, acc(batch): 0.9018, grad:13309.5134: : 422it [00:04, 88.80it/s]                       \n"
          ]
        },
        {
          "metadata": {
            "tags": null
          },
          "name": "stdout",
          "output_type": "stream",
          "text": [
            "acc(train): 0.8216, acc(val): 0.8210, acc(test): 0.8092\n",
            "___________________________________________________________________________________________________\n"
          ]
        },
        {
          "metadata": {
            "tags": null
          },
          "name": "stderr",
          "output_type": "stream",
          "text": [
            "epoch: 17, lr: 0.00030 | loss: 0.0448, acc(batch): 0.8929, grad:13280.2964: : 422it [00:05, 84.29it/s]                       \n"
          ]
        },
        {
          "metadata": {
            "tags": null
          },
          "name": "stdout",
          "output_type": "stream",
          "text": [
            "acc(train): 0.8244, acc(val): 0.8227, acc(test): 0.8121\n",
            "___________________________________________________________________________________________________\n"
          ]
        },
        {
          "metadata": {
            "tags": null
          },
          "name": "stderr",
          "output_type": "stream",
          "text": [
            "epoch: 18, lr: 0.00030 | loss: 0.0442, acc(batch): 0.9018, grad:13277.0471: : 422it [00:04, 86.44it/s]                       \n"
          ]
        },
        {
          "metadata": {
            "tags": null
          },
          "name": "stdout",
          "output_type": "stream",
          "text": [
            "acc(train): 0.8261, acc(val): 0.8243, acc(test): 0.8143\n",
            "___________________________________________________________________________________________________\n"
          ]
        },
        {
          "metadata": {
            "tags": null
          },
          "name": "stderr",
          "output_type": "stream",
          "text": [
            "epoch: 19, lr: 0.00030 | loss: 0.0436, acc(batch): 0.8929, grad:13273.1555: : 422it [00:04, 87.51it/s]                       \n"
          ]
        },
        {
          "metadata": {
            "tags": null
          },
          "name": "stdout",
          "output_type": "stream",
          "text": [
            "acc(train): 0.8283, acc(val): 0.8260, acc(test): 0.8162\n",
            "___________________________________________________________________________________________________\n"
          ]
        },
        {
          "data": {
            "text/html": [
              "<br/>Waiting for W&B process to finish, PID 407... <strong style=\"color:green\">(success).</strong>"
            ],
            "text/plain": [
              "<IPython.core.display.HTML object>"
            ]
          },
          "metadata": {},
          "output_type": "display_data"
        },
        {
          "data": {
            "application/vnd.jupyter.widget-view+json": {
              "model_id": "e2bdad4bba55491987710d8b6a4a803d",
              "version_major": 2,
              "version_minor": 0
            },
            "text/plain": [
              "VBox(children=(Label(value=' 0.00MB of 0.00MB uploaded (0.00MB deduped)\\r'), FloatProgress(value=1.0, max=1.0)…"
            ]
          },
          "metadata": {},
          "output_type": "display_data"
        },
        {
          "data": {
            "text/html": [
              "<style>\n",
              "    table.wandb td:nth-child(1) { padding: 0 10px; text-align: right }\n",
              "    .wandb-row { display: flex; flex-direction: row; flex-wrap: wrap; width: 100% }\n",
              "    .wandb-col { display: flex; flex-direction: column; flex-basis: 100%; flex: 1; padding: 10px; }\n",
              "    </style>\n",
              "<div class=\"wandb-row\"><div class=\"wandb-col\">\n",
              "<h3>Run history:</h3><br/><table class=\"wandb\"><tr><td>epoch</td><td>▁▁▂▂▂▃▃▄▄▄▅▅▅▆▆▇▇▇██</td></tr><tr><td>test_acc</td><td>▁▃▄▅▅▆▆▆▇▇▇▇▇▇██████</td></tr><tr><td>train_acc</td><td>▁▃▄▅▆▆▆▇▇▇▇▇▇███████</td></tr><tr><td>train_loss</td><td>█▅▃▃▂▂▂▂▂▂▁▁▁▁▁▁▁▁▁▁</td></tr><tr><td>val_acc</td><td>▁▃▄▅▆▆▆▇▇▇▇▇▇███████</td></tr><tr><td>val_loss</td><td>█▅▄▃▃▂▂▂▂▂▂▂▁▁▁▁▁▁▁▁</td></tr></table><br/></div><div class=\"wandb-col\">\n",
              "<h3>Run summary:</h3><br/><table class=\"wandb\"><tr><td>epoch</td><td>19</td></tr><tr><td>test_acc</td><td>0.8162</td></tr><tr><td>train_acc</td><td>0.82826</td></tr><tr><td>train_loss</td><td>0.04924</td></tr><tr><td>val_acc</td><td>0.826</td></tr><tr><td>val_loss</td><td>0.04877</td></tr></table>\n",
              "</div></div>\n",
              "Synced 5 W&B file(s), 1 media file(s), 1 artifact file(s) and 0 other file(s)\n",
              "<br/>Synced <strong style=\"color:#cdcd00\">ancient-sweep-4</strong>: <a href=\"https://wandb.ai/cs21s006_cs21s043/cs6910_assignment1/runs/az01t31h\" target=\"_blank\">https://wandb.ai/cs21s006_cs21s043/cs6910_assignment1/runs/az01t31h</a><br/>\n",
              "Find logs at: <code>./wandb/run-20220218_111417-az01t31h/logs</code><br/>\n"
            ],
            "text/plain": [
              "<IPython.core.display.HTML object>"
            ]
          },
          "metadata": {},
          "output_type": "display_data"
        },
        {
          "metadata": {
            "tags": null
          },
          "name": "stderr",
          "output_type": "stream",
          "text": [
            "\u001b[34m\u001b[1mwandb\u001b[0m: Agent Starting Run: wyxtw9c8 with config:\n",
            "\u001b[34m\u001b[1mwandb\u001b[0m: \tactivation: tanh\n",
            "\u001b[34m\u001b[1mwandb\u001b[0m: \tbatch_size: 64\n",
            "\u001b[34m\u001b[1mwandb\u001b[0m: \tepochs: 10\n",
            "\u001b[34m\u001b[1mwandb\u001b[0m: \thidden_size: 512\n",
            "\u001b[34m\u001b[1mwandb\u001b[0m: \tlearning_rate: 0.005\n",
            "\u001b[34m\u001b[1mwandb\u001b[0m: \tloss: cross_entropy\n",
            "\u001b[34m\u001b[1mwandb\u001b[0m: \tnum_layers: 3\n",
            "\u001b[34m\u001b[1mwandb\u001b[0m: \toptimizer: nadam\n",
            "\u001b[34m\u001b[1mwandb\u001b[0m: \tweight_decay: 0.5\n",
            "\u001b[34m\u001b[1mwandb\u001b[0m: \tweight_init_method: He_normal\n",
            "\u001b[34m\u001b[1mwandb\u001b[0m: \u001b[33mWARNING\u001b[0m Ignored wandb.init() arg project when running a sweep.\n",
            "\u001b[34m\u001b[1mwandb\u001b[0m: \u001b[33mWARNING\u001b[0m Ignored wandb.init() arg entity when running a sweep.\n"
          ]
        },
        {
          "data": {
            "text/html": [
              "\n",
              "                    Syncing run <strong><a href=\"https://wandb.ai/cs21s006_cs21s043/cs6910_assignment1/runs/wyxtw9c8\" target=\"_blank\">hopeful-sweep-5</a></strong> to <a href=\"https://wandb.ai/cs21s006_cs21s043/cs6910_assignment1\" target=\"_blank\">Weights & Biases</a> (<a href=\"https://docs.wandb.com/integrations/jupyter.html\" target=\"_blank\">docs</a>).<br/>\n",
              "Sweep page: <a href=\"https://wandb.ai/cs21s006_cs21s043/cs6910_assignment1/sweeps/1463mzwx\" target=\"_blank\">https://wandb.ai/cs21s006_cs21s043/cs6910_assignment1/sweeps/1463mzwx</a><br/>\n",
              "\n",
              "                "
            ],
            "text/plain": [
              "<IPython.core.display.HTML object>"
            ]
          },
          "metadata": {},
          "output_type": "display_data"
        },
        {
          "metadata": {
            "tags": null
          },
          "name": "stdout",
          "output_type": "stream",
          "text": [
            "(54000, 784) (54000, 10) (10000, 784) (10000, 10) (6000, 784) (6000, 10)\n"
          ]
        },
        {
          "metadata": {
            "tags": null
          },
          "name": "stderr",
          "output_type": "stream",
          "text": [
            "epoch: 0, lr: 0.00500 | loss: 0.2307, acc(batch): 0.0625, grad:173723.7503: : 844it [04:33,  3.08it/s]\n"
          ]
        },
        {
          "metadata": {
            "tags": null
          },
          "name": "stdout",
          "output_type": "stream",
          "text": [
            "acc(train): 0.1000, acc(val): 0.1000, acc(test): 0.1000\n",
            "___________________________________________________________________________________________________\n"
          ]
        },
        {
          "metadata": {
            "tags": null
          },
          "name": "stderr",
          "output_type": "stream",
          "text": [
            "epoch: 1, lr: 0.00500 | loss: 0.2307, acc(batch): 0.0625, grad:199479.9291: : 844it [04:32,  3.10it/s]\n"
          ]
        },
        {
          "metadata": {
            "tags": null
          },
          "name": "stdout",
          "output_type": "stream",
          "text": [
            "acc(train): 0.1000, acc(val): 0.1000, acc(test): 0.1000\n",
            "___________________________________________________________________________________________________\n"
          ]
        },
        {
          "metadata": {
            "tags": null
          },
          "name": "stderr",
          "output_type": "stream",
          "text": [
            "epoch: 2, lr: 0.00500 | loss: 0.2308, acc(batch): 0.0625, grad:200463.7744: : 844it [04:32,  3.10it/s]\n"
          ]
        },
        {
          "metadata": {
            "tags": null
          },
          "name": "stdout",
          "output_type": "stream",
          "text": [
            "acc(train): 0.1000, acc(val): 0.1000, acc(test): 0.1000\n",
            "___________________________________________________________________________________________________\n"
          ]
        },
        {
          "metadata": {
            "tags": null
          },
          "name": "stderr",
          "output_type": "stream",
          "text": [
            "epoch: 3, lr: 0.00500 | loss: 0.2306, acc(batch): 0.0625, grad:209212.8599: : 844it [04:33,  3.09it/s]\n"
          ]
        },
        {
          "metadata": {
            "tags": null
          },
          "name": "stdout",
          "output_type": "stream",
          "text": [
            "acc(train): 0.1000, acc(val): 0.1000, acc(test): 0.1000\n",
            "___________________________________________________________________________________________________\n"
          ]
        },
        {
          "metadata": {
            "tags": null
          },
          "name": "stderr",
          "output_type": "stream",
          "text": [
            "epoch: 4, lr: 0.00500 | loss: 0.2306, acc(batch): 0.0625, grad:191314.5649: : 844it [04:33,  3.09it/s]\n"
          ]
        },
        {
          "metadata": {
            "tags": null
          },
          "name": "stdout",
          "output_type": "stream",
          "text": [
            "acc(train): 0.1000, acc(val): 0.1000, acc(test): 0.1000\n",
            "___________________________________________________________________________________________________\n"
          ]
        },
        {
          "metadata": {
            "tags": null
          },
          "name": "stderr",
          "output_type": "stream",
          "text": [
            "epoch: 5, lr: 0.00500 | loss: 0.2308, acc(batch): 0.0625, grad:196455.1024: : 844it [04:31,  3.11it/s]\n"
          ]
        },
        {
          "metadata": {
            "tags": null
          },
          "name": "stdout",
          "output_type": "stream",
          "text": [
            "acc(train): 0.1000, acc(val): 0.1000, acc(test): 0.1000\n",
            "___________________________________________________________________________________________________\n"
          ]
        },
        {
          "metadata": {
            "tags": null
          },
          "name": "stderr",
          "output_type": "stream",
          "text": [
            "epoch: 6, lr: 0.00500 | loss: 0.2306, acc(batch): 0.0625, grad:203621.5355: : 844it [04:43,  2.98it/s]\n"
          ]
        },
        {
          "metadata": {
            "tags": null
          },
          "name": "stdout",
          "output_type": "stream",
          "text": [
            "acc(train): 0.1000, acc(val): 0.1000, acc(test): 0.1000\n",
            "___________________________________________________________________________________________________\n"
          ]
        },
        {
          "metadata": {
            "tags": null
          },
          "name": "stderr",
          "output_type": "stream",
          "text": [
            "epoch: 7, lr: 0.00500 | loss: 0.2307, acc(batch): 0.0625, grad:198082.8128: : 844it [04:46,  2.95it/s]\n"
          ]
        },
        {
          "metadata": {
            "tags": null
          },
          "name": "stdout",
          "output_type": "stream",
          "text": [
            "acc(train): 0.1000, acc(val): 0.1000, acc(test): 0.1000\n",
            "___________________________________________________________________________________________________\n"
          ]
        },
        {
          "metadata": {
            "tags": null
          },
          "name": "stderr",
          "output_type": "stream",
          "text": [
            "epoch: 8, lr: 0.00500 | loss: 0.2307, acc(batch): 0.0625, grad:179513.8712: : 844it [04:34,  3.07it/s]\n"
          ]
        },
        {
          "metadata": {
            "tags": null
          },
          "name": "stdout",
          "output_type": "stream",
          "text": [
            "acc(train): 0.1000, acc(val): 0.1000, acc(test): 0.1000\n",
            "___________________________________________________________________________________________________\n"
          ]
        },
        {
          "metadata": {
            "tags": null
          },
          "name": "stderr",
          "output_type": "stream",
          "text": [
            "epoch: 9, lr: 0.00500 | loss: 0.2307, acc(batch): 0.0625, grad:173584.3184: : 844it [04:43,  2.98it/s]\n"
          ]
        },
        {
          "metadata": {
            "tags": null
          },
          "name": "stdout",
          "output_type": "stream",
          "text": [
            "acc(train): 0.1000, acc(val): 0.1000, acc(test): 0.1000\n",
            "___________________________________________________________________________________________________\n"
          ]
        },
        {
          "data": {
            "text/html": [
              "<br/>Waiting for W&B process to finish, PID 456... <strong style=\"color:green\">(success).</strong>"
            ],
            "text/plain": [
              "<IPython.core.display.HTML object>"
            ]
          },
          "metadata": {},
          "output_type": "display_data"
        },
        {
          "data": {
            "application/vnd.jupyter.widget-view+json": {
              "model_id": "3b22632981674f22ac3883b641f06220",
              "version_major": 2,
              "version_minor": 0
            },
            "text/plain": [
              "VBox(children=(Label(value=' 0.00MB of 0.00MB uploaded (0.00MB deduped)\\r'), FloatProgress(value=1.0, max=1.0)…"
            ]
          },
          "metadata": {},
          "output_type": "display_data"
        },
        {
          "data": {
            "text/html": [
              "<style>\n",
              "    table.wandb td:nth-child(1) { padding: 0 10px; text-align: right }\n",
              "    .wandb-row { display: flex; flex-direction: row; flex-wrap: wrap; width: 100% }\n",
              "    .wandb-col { display: flex; flex-direction: column; flex-basis: 100%; flex: 1; padding: 10px; }\n",
              "    </style>\n",
              "<div class=\"wandb-row\"><div class=\"wandb-col\">\n",
              "<h3>Run history:</h3><br/><table class=\"wandb\"><tr><td>epoch</td><td>▁▂▃▃▄▅▆▆▇█</td></tr><tr><td>test_acc</td><td>▁▁▁▁▁▁▁▁▁▁</td></tr><tr><td>train_acc</td><td>▁▁▁▁▁▁▁▁▁▁</td></tr><tr><td>train_loss</td><td>▁█████████</td></tr><tr><td>val_acc</td><td>▁▁▁▁▁▁▁▁▁▁</td></tr><tr><td>val_loss</td><td>▅█▂▇█▁▃▆▁▅</td></tr></table><br/></div><div class=\"wandb-col\">\n",
              "<h3>Run summary:</h3><br/><table class=\"wandb\"><tr><td>epoch</td><td>9</td></tr><tr><td>test_acc</td><td>0.1</td></tr><tr><td>train_acc</td><td>0.1</td></tr><tr><td>train_loss</td><td>0.23062</td></tr><tr><td>val_acc</td><td>0.1</td></tr><tr><td>val_loss</td><td>0.23031</td></tr></table>\n",
              "</div></div>\n",
              "Synced 5 W&B file(s), 1 media file(s), 1 artifact file(s) and 0 other file(s)\n",
              "<br/>Synced <strong style=\"color:#cdcd00\">hopeful-sweep-5</strong>: <a href=\"https://wandb.ai/cs21s006_cs21s043/cs6910_assignment1/runs/wyxtw9c8\" target=\"_blank\">https://wandb.ai/cs21s006_cs21s043/cs6910_assignment1/runs/wyxtw9c8</a><br/>\n",
              "Find logs at: <code>./wandb/run-20220218_111615-wyxtw9c8/logs</code><br/>\n"
            ],
            "text/plain": [
              "<IPython.core.display.HTML object>"
            ]
          },
          "metadata": {},
          "output_type": "display_data"
        },
        {
          "metadata": {
            "tags": null
          },
          "name": "stderr",
          "output_type": "stream",
          "text": [
            "\u001b[34m\u001b[1mwandb\u001b[0m: Agent Starting Run: 1is7w0mi with config:\n",
            "\u001b[34m\u001b[1mwandb\u001b[0m: \tactivation: ReLU\n",
            "\u001b[34m\u001b[1mwandb\u001b[0m: \tbatch_size: 128\n",
            "\u001b[34m\u001b[1mwandb\u001b[0m: \tepochs: 20\n",
            "\u001b[34m\u001b[1mwandb\u001b[0m: \thidden_size: 128\n",
            "\u001b[34m\u001b[1mwandb\u001b[0m: \tlearning_rate: 0.003\n",
            "\u001b[34m\u001b[1mwandb\u001b[0m: \tloss: cross_entropy\n",
            "\u001b[34m\u001b[1mwandb\u001b[0m: \tnum_layers: 4\n",
            "\u001b[34m\u001b[1mwandb\u001b[0m: \toptimizer: rmsprop\n",
            "\u001b[34m\u001b[1mwandb\u001b[0m: \tweight_decay: 0.0005\n",
            "\u001b[34m\u001b[1mwandb\u001b[0m: \tweight_init_method: Xavier_normal\n",
            "\u001b[34m\u001b[1mwandb\u001b[0m: \u001b[33mWARNING\u001b[0m Ignored wandb.init() arg project when running a sweep.\n",
            "\u001b[34m\u001b[1mwandb\u001b[0m: \u001b[33mWARNING\u001b[0m Ignored wandb.init() arg entity when running a sweep.\n"
          ]
        },
        {
          "data": {
            "text/html": [
              "\n",
              "                    Syncing run <strong><a href=\"https://wandb.ai/cs21s006_cs21s043/cs6910_assignment1/runs/1is7w0mi\" target=\"_blank\">eternal-sweep-16</a></strong> to <a href=\"https://wandb.ai/cs21s006_cs21s043/cs6910_assignment1\" target=\"_blank\">Weights & Biases</a> (<a href=\"https://docs.wandb.com/integrations/jupyter.html\" target=\"_blank\">docs</a>).<br/>\n",
              "Sweep page: <a href=\"https://wandb.ai/cs21s006_cs21s043/cs6910_assignment1/sweeps/1463mzwx\" target=\"_blank\">https://wandb.ai/cs21s006_cs21s043/cs6910_assignment1/sweeps/1463mzwx</a><br/>\n",
              "\n",
              "                "
            ],
            "text/plain": [
              "<IPython.core.display.HTML object>"
            ]
          },
          "metadata": {},
          "output_type": "display_data"
        },
        {
          "metadata": {
            "tags": null
          },
          "name": "stdout",
          "output_type": "stream",
          "text": [
            "(54000, 784) (54000, 10) (10000, 784) (10000, 10) (6000, 784) (6000, 10)\n"
          ]
        },
        {
          "metadata": {
            "tags": null
          },
          "name": "stderr",
          "output_type": "stream",
          "text": [
            "epoch: 0, lr: 0.00300 | loss: 0.0433, acc(batch): 0.8482, grad:43211.3998: : 422it [00:17, 24.21it/s]\n"
          ]
        },
        {
          "metadata": {
            "tags": null
          },
          "name": "stdout",
          "output_type": "stream",
          "text": [
            "acc(train): 0.7924, acc(val): 0.7913, acc(test): 0.7869\n",
            "___________________________________________________________________________________________________\n"
          ]
        },
        {
          "metadata": {
            "tags": null
          },
          "name": "stderr",
          "output_type": "stream",
          "text": [
            "epoch: 1, lr: 0.00300 | loss: 0.0446, acc(batch): 0.8750, grad:40544.1494: : 422it [00:17, 24.45it/s]                       \n"
          ]
        },
        {
          "metadata": {
            "tags": null
          },
          "name": "stdout",
          "output_type": "stream",
          "text": [
            "acc(train): 0.8440, acc(val): 0.8422, acc(test): 0.8338\n",
            "___________________________________________________________________________________________________\n"
          ]
        },
        {
          "metadata": {
            "tags": null
          },
          "name": "stderr",
          "output_type": "stream",
          "text": [
            "epoch: 2, lr: 0.00300 | loss: 0.0424, acc(batch): 0.8750, grad:37138.2267: : 422it [00:18, 22.88it/s]                       \n"
          ]
        },
        {
          "metadata": {
            "tags": null
          },
          "name": "stdout",
          "output_type": "stream",
          "text": [
            "acc(train): 0.8483, acc(val): 0.8435, acc(test): 0.8341\n",
            "___________________________________________________________________________________________________\n"
          ]
        },
        {
          "metadata": {
            "tags": null
          },
          "name": "stderr",
          "output_type": "stream",
          "text": [
            "epoch: 3, lr: 0.00300 | loss: 0.0399, acc(batch): 0.9018, grad:36864.6523: : 422it [00:23, 18.07it/s]                       \n"
          ]
        },
        {
          "metadata": {
            "tags": null
          },
          "name": "stdout",
          "output_type": "stream",
          "text": [
            "acc(train): 0.8620, acc(val): 0.8537, acc(test): 0.8460\n",
            "___________________________________________________________________________________________________\n"
          ]
        },
        {
          "metadata": {
            "tags": null
          },
          "name": "stderr",
          "output_type": "stream",
          "text": [
            "epoch: 4, lr: 0.00300 | loss: 0.0376, acc(batch): 0.8661, grad:32753.7296: : 422it [00:24, 17.32it/s]\n"
          ]
        },
        {
          "metadata": {
            "tags": null
          },
          "name": "stdout",
          "output_type": "stream",
          "text": [
            "acc(train): 0.8612, acc(val): 0.8535, acc(test): 0.8460\n",
            "___________________________________________________________________________________________________\n"
          ]
        },
        {
          "metadata": {
            "tags": null
          },
          "name": "stderr",
          "output_type": "stream",
          "text": [
            "epoch: 5, lr: 0.00300 | loss: 0.0414, acc(batch): 0.8750, grad:31343.4045: : 422it [00:25, 16.33it/s]\n"
          ]
        },
        {
          "metadata": {
            "tags": null
          },
          "name": "stdout",
          "output_type": "stream",
          "text": [
            "acc(train): 0.8678, acc(val): 0.8577, acc(test): 0.8517\n",
            "___________________________________________________________________________________________________\n"
          ]
        },
        {
          "metadata": {
            "tags": null
          },
          "name": "stderr",
          "output_type": "stream",
          "text": [
            "epoch: 6, lr: 0.00300 | loss: 0.0348, acc(batch): 0.8750, grad:35110.6101: : 422it [00:31, 13.32it/s]\n"
          ]
        },
        {
          "metadata": {
            "tags": null
          },
          "name": "stdout",
          "output_type": "stream",
          "text": [
            "acc(train): 0.8661, acc(val): 0.8583, acc(test): 0.8496\n",
            "___________________________________________________________________________________________________\n"
          ]
        },
        {
          "metadata": {
            "tags": null
          },
          "name": "stderr",
          "output_type": "stream",
          "text": [
            "epoch: 7, lr: 0.00300 | loss: 0.0404, acc(batch): 0.8571, grad:35362.6933: : 422it [00:30, 13.77it/s]\n"
          ]
        },
        {
          "metadata": {
            "tags": null
          },
          "name": "stdout",
          "output_type": "stream",
          "text": [
            "acc(train): 0.8713, acc(val): 0.8577, acc(test): 0.8535\n",
            "___________________________________________________________________________________________________\n"
          ]
        },
        {
          "metadata": {
            "tags": null
          },
          "name": "stderr",
          "output_type": "stream",
          "text": [
            "epoch: 8, lr: 0.00300 | loss: 0.0341, acc(batch): 0.9018, grad:34309.9433: : 422it [00:30, 13.88it/s]\n"
          ]
        },
        {
          "metadata": {
            "tags": null
          },
          "name": "stdout",
          "output_type": "stream",
          "text": [
            "acc(train): 0.8643, acc(val): 0.8558, acc(test): 0.8467\n",
            "___________________________________________________________________________________________________\n"
          ]
        },
        {
          "metadata": {
            "tags": null
          },
          "name": "stderr",
          "output_type": "stream",
          "text": [
            "epoch: 9, lr: 0.00300 | loss: 0.0435, acc(batch): 0.8571, grad:31625.9870: : 422it [00:30, 13.62it/s]\n"
          ]
        },
        {
          "metadata": {
            "tags": null
          },
          "name": "stdout",
          "output_type": "stream",
          "text": [
            "acc(train): 0.8597, acc(val): 0.8530, acc(test): 0.8420\n",
            "___________________________________________________________________________________________________\n"
          ]
        },
        {
          "metadata": {
            "tags": null
          },
          "name": "stderr",
          "output_type": "stream",
          "text": [
            "epoch: 10, lr: 0.00300 | loss: 0.0403, acc(batch): 0.8571, grad:30014.3347: : 422it [00:32, 13.14it/s]\n"
          ]
        },
        {
          "metadata": {
            "tags": null
          },
          "name": "stdout",
          "output_type": "stream",
          "text": [
            "acc(train): 0.8368, acc(val): 0.8243, acc(test): 0.8189\n",
            "___________________________________________________________________________________________________\n"
          ]
        },
        {
          "metadata": {
            "tags": null
          },
          "name": "stderr",
          "output_type": "stream",
          "text": [
            "epoch: 11, lr: 0.00300 | loss: 0.0348, acc(batch): 0.9018, grad:31581.0618: : 422it [01:00,  6.99it/s]\n"
          ]
        },
        {
          "metadata": {
            "tags": null
          },
          "name": "stdout",
          "output_type": "stream",
          "text": [
            "acc(train): 0.8663, acc(val): 0.8548, acc(test): 0.8474\n",
            "___________________________________________________________________________________________________\n"
          ]
        },
        {
          "metadata": {
            "tags": null
          },
          "name": "stderr",
          "output_type": "stream",
          "text": [
            "epoch: 12, lr: 0.00300 | loss: 0.0323, acc(batch): 0.8750, grad:30534.0809: : 422it [01:01,  6.84it/s]\n"
          ]
        },
        {
          "metadata": {
            "tags": null
          },
          "name": "stdout",
          "output_type": "stream",
          "text": [
            "acc(train): 0.8454, acc(val): 0.8415, acc(test): 0.8253\n",
            "___________________________________________________________________________________________________\n"
          ]
        },
        {
          "metadata": {
            "tags": null
          },
          "name": "stderr",
          "output_type": "stream",
          "text": [
            "epoch: 13, lr: 0.00300 | loss: 0.0380, acc(batch): 0.8571, grad:29101.4318: : 422it [01:04,  6.55it/s]\n"
          ]
        },
        {
          "metadata": {
            "tags": null
          },
          "name": "stdout",
          "output_type": "stream",
          "text": [
            "acc(train): 0.8723, acc(val): 0.8572, acc(test): 0.8523\n",
            "___________________________________________________________________________________________________\n"
          ]
        },
        {
          "metadata": {
            "tags": null
          },
          "name": "stderr",
          "output_type": "stream",
          "text": [
            "epoch: 14, lr: 0.00300 | loss: 0.0351, acc(batch): 0.8929, grad:30219.5908: : 422it [01:08,  6.20it/s]\n"
          ]
        },
        {
          "metadata": {
            "tags": null
          },
          "name": "stdout",
          "output_type": "stream",
          "text": [
            "acc(train): 0.8545, acc(val): 0.8435, acc(test): 0.8357\n",
            "___________________________________________________________________________________________________\n"
          ]
        },
        {
          "metadata": {
            "tags": null
          },
          "name": "stderr",
          "output_type": "stream",
          "text": [
            "epoch: 15, lr: 0.00300 | loss: 0.0376, acc(batch): 0.8571, grad:29124.6422: : 422it [01:08,  6.16it/s]\n"
          ]
        },
        {
          "metadata": {
            "tags": null
          },
          "name": "stdout",
          "output_type": "stream",
          "text": [
            "acc(train): 0.8650, acc(val): 0.8513, acc(test): 0.8473\n",
            "___________________________________________________________________________________________________\n"
          ]
        },
        {
          "metadata": {
            "tags": null
          },
          "name": "stderr",
          "output_type": "stream",
          "text": [
            "epoch: 16, lr: 0.00300 | loss: 0.0327, acc(batch): 0.8839, grad:30893.6675: : 422it [01:10,  5.98it/s]\n"
          ]
        },
        {
          "metadata": {
            "tags": null
          },
          "name": "stdout",
          "output_type": "stream",
          "text": [
            "acc(train): 0.8494, acc(val): 0.8363, acc(test): 0.8349\n",
            "___________________________________________________________________________________________________\n"
          ]
        },
        {
          "metadata": {
            "tags": null
          },
          "name": "stderr",
          "output_type": "stream",
          "text": [
            "epoch: 17, lr: 0.00300 | loss: 0.0415, acc(batch): 0.8571, grad:29207.7372: : 422it [01:12,  5.83it/s]\n"
          ]
        },
        {
          "metadata": {
            "tags": null
          },
          "name": "stdout",
          "output_type": "stream",
          "text": [
            "acc(train): 0.8754, acc(val): 0.8560, acc(test): 0.8535\n",
            "___________________________________________________________________________________________________\n"
          ]
        },
        {
          "metadata": {
            "tags": null
          },
          "name": "stderr",
          "output_type": "stream",
          "text": [
            "epoch: 18, lr: 0.00300 | loss: 0.0383, acc(batch): 0.8571, grad:27724.5295: : 422it [01:16,  5.53it/s]\n"
          ]
        },
        {
          "metadata": {
            "tags": null
          },
          "name": "stdout",
          "output_type": "stream",
          "text": [
            "acc(train): 0.8686, acc(val): 0.8525, acc(test): 0.8486\n",
            "___________________________________________________________________________________________________\n"
          ]
        },
        {
          "metadata": {
            "tags": null
          },
          "name": "stderr",
          "output_type": "stream",
          "text": [
            "epoch: 19, lr: 0.00300 | loss: 0.0363, acc(batch): 0.8839, grad:28365.7080: : 422it [01:17,  5.48it/s]\n"
          ]
        },
        {
          "metadata": {
            "tags": null
          },
          "name": "stdout",
          "output_type": "stream",
          "text": [
            "acc(train): 0.8708, acc(val): 0.8605, acc(test): 0.8490\n",
            "___________________________________________________________________________________________________\n"
          ]
        },
        {
          "data": {
            "text/html": [
              "<br/>Waiting for W&B process to finish, PID 522... <strong style=\"color:green\">(success).</strong>"
            ],
            "text/plain": [
              "<IPython.core.display.HTML object>"
            ]
          },
          "metadata": {},
          "output_type": "display_data"
        },
        {
          "data": {
            "application/vnd.jupyter.widget-view+json": {
              "model_id": "5c971bd243b640f189d021bbf2ad15de",
              "version_major": 2,
              "version_minor": 0
            },
            "text/plain": [
              "VBox(children=(Label(value=' 0.00MB of 0.00MB uploaded (0.00MB deduped)\\r'), FloatProgress(value=1.0, max=1.0)…"
            ]
          },
          "metadata": {},
          "output_type": "display_data"
        },
        {
          "data": {
            "text/html": [
              "<style>\n",
              "    table.wandb td:nth-child(1) { padding: 0 10px; text-align: right }\n",
              "    .wandb-row { display: flex; flex-direction: row; flex-wrap: wrap; width: 100% }\n",
              "    .wandb-col { display: flex; flex-direction: column; flex-basis: 100%; flex: 1; padding: 10px; }\n",
              "    </style>\n",
              "<div class=\"wandb-row\"><div class=\"wandb-col\">\n",
              "<h3>Run history:</h3><br/><table class=\"wandb\"><tr><td>epoch</td><td>▁▁▂▂▂▃▃▄▄▄▅▅▅▆▆▇▇▇██</td></tr><tr><td>test_acc</td><td>▁▆▆▇▇███▇▇▄▇▅█▆▇▆█▇█</td></tr><tr><td>train_acc</td><td>▁▅▆▇▇▇▇█▇▇▅▇▅█▆▇▆█▇█</td></tr><tr><td>train_loss</td><td>█▄▃▃▂▂▂▂▂▂▁▁▁▁▁▁▁▁▁▁</td></tr><tr><td>val_acc</td><td>▁▆▆▇▇████▇▄▇▆█▆▇▆█▇█</td></tr><tr><td>val_loss</td><td>█▃▃▂▂▁▁▁▂▂▅▂▄▂▃▂▄▁▂▂</td></tr></table><br/></div><div class=\"wandb-col\">\n",
              "<h3>Run summary:</h3><br/><table class=\"wandb\"><tr><td>epoch</td><td>19</td></tr><tr><td>test_acc</td><td>0.849</td></tr><tr><td>train_acc</td><td>0.87078</td></tr><tr><td>train_loss</td><td>0.03282</td></tr><tr><td>val_acc</td><td>0.8605</td></tr><tr><td>val_loss</td><td>0.04081</td></tr></table>\n",
              "</div></div>\n",
              "Synced 5 W&B file(s), 1 media file(s), 1 artifact file(s) and 0 other file(s)\n",
              "<br/>Synced <strong style=\"color:#cdcd00\">eternal-sweep-16</strong>: <a href=\"https://wandb.ai/cs21s006_cs21s043/cs6910_assignment1/runs/1is7w0mi\" target=\"_blank\">https://wandb.ai/cs21s006_cs21s043/cs6910_assignment1/runs/1is7w0mi</a><br/>\n",
              "Find logs at: <code>./wandb/run-20220218_120342-1is7w0mi/logs</code><br/>\n"
            ],
            "text/plain": [
              "<IPython.core.display.HTML object>"
            ]
          },
          "metadata": {},
          "output_type": "display_data"
        },
        {
          "metadata": {
            "tags": null
          },
          "name": "stderr",
          "output_type": "stream",
          "text": [
            "\u001b[34m\u001b[1mwandb\u001b[0m: Agent Starting Run: or57e8y9 with config:\n",
            "\u001b[34m\u001b[1mwandb\u001b[0m: \tactivation: ReLU\n",
            "\u001b[34m\u001b[1mwandb\u001b[0m: \tbatch_size: 128\n",
            "\u001b[34m\u001b[1mwandb\u001b[0m: \tepochs: 10\n",
            "\u001b[34m\u001b[1mwandb\u001b[0m: \thidden_size: 128\n",
            "\u001b[34m\u001b[1mwandb\u001b[0m: \tlearning_rate: 0.003\n",
            "\u001b[34m\u001b[1mwandb\u001b[0m: \tloss: cross_entropy\n",
            "\u001b[34m\u001b[1mwandb\u001b[0m: \tnum_layers: 1\n",
            "\u001b[34m\u001b[1mwandb\u001b[0m: \toptimizer: adam\n",
            "\u001b[34m\u001b[1mwandb\u001b[0m: \tweight_decay: 0.0005\n",
            "\u001b[34m\u001b[1mwandb\u001b[0m: \tweight_init_method: Xavier_uniform\n",
            "\u001b[34m\u001b[1mwandb\u001b[0m: \u001b[33mWARNING\u001b[0m Ignored wandb.init() arg project when running a sweep.\n",
            "\u001b[34m\u001b[1mwandb\u001b[0m: \u001b[33mWARNING\u001b[0m Ignored wandb.init() arg entity when running a sweep.\n"
          ]
        },
        {
          "data": {
            "text/html": [
              "\n",
              "                    Syncing run <strong><a href=\"https://wandb.ai/cs21s006_cs21s043/cs6910_assignment1/runs/or57e8y9\" target=\"_blank\">true-sweep-21</a></strong> to <a href=\"https://wandb.ai/cs21s006_cs21s043/cs6910_assignment1\" target=\"_blank\">Weights & Biases</a> (<a href=\"https://docs.wandb.com/integrations/jupyter.html\" target=\"_blank\">docs</a>).<br/>\n",
              "Sweep page: <a href=\"https://wandb.ai/cs21s006_cs21s043/cs6910_assignment1/sweeps/1463mzwx\" target=\"_blank\">https://wandb.ai/cs21s006_cs21s043/cs6910_assignment1/sweeps/1463mzwx</a><br/>\n",
              "\n",
              "                "
            ],
            "text/plain": [
              "<IPython.core.display.HTML object>"
            ]
          },
          "metadata": {},
          "output_type": "display_data"
        },
        {
          "metadata": {
            "tags": null
          },
          "name": "stdout",
          "output_type": "stream",
          "text": [
            "(54000, 784) (54000, 10) (10000, 784) (10000, 10) (6000, 784) (6000, 10)\n"
          ]
        },
        {
          "metadata": {
            "tags": null
          },
          "name": "stderr",
          "output_type": "stream",
          "text": [
            "epoch: 0, lr: 0.00300 | loss: 0.0396, acc(batch): 0.8839, grad:31784.7837: : 422it [00:13, 32.21it/s]                       \n"
          ]
        },
        {
          "metadata": {
            "tags": null
          },
          "name": "stdout",
          "output_type": "stream",
          "text": [
            "acc(train): 0.8515, acc(val): 0.8497, acc(test): 0.8359\n",
            "___________________________________________________________________________________________________\n"
          ]
        },
        {
          "metadata": {
            "tags": null
          },
          "name": "stderr",
          "output_type": "stream",
          "text": [
            "epoch: 1, lr: 0.00300 | loss: 0.0390, acc(batch): 0.8839, grad:31589.5958: : 422it [00:12, 33.25it/s]                       \n"
          ]
        },
        {
          "metadata": {
            "tags": null
          },
          "name": "stdout",
          "output_type": "stream",
          "text": [
            "acc(train): 0.8592, acc(val): 0.8508, acc(test): 0.8417\n",
            "___________________________________________________________________________________________________\n"
          ]
        },
        {
          "metadata": {
            "tags": null
          },
          "name": "stderr",
          "output_type": "stream",
          "text": [
            "epoch: 2, lr: 0.00300 | loss: 0.0371, acc(batch): 0.8929, grad:30876.3644: : 422it [00:12, 32.91it/s]                       \n"
          ]
        },
        {
          "metadata": {
            "tags": null
          },
          "name": "stdout",
          "output_type": "stream",
          "text": [
            "acc(train): 0.8637, acc(val): 0.8523, acc(test): 0.8432\n",
            "___________________________________________________________________________________________________\n"
          ]
        },
        {
          "metadata": {
            "tags": null
          },
          "name": "stderr",
          "output_type": "stream",
          "text": [
            "epoch: 3, lr: 0.00300 | loss: 0.0336, acc(batch): 0.9018, grad:29189.4154: : 422it [00:12, 33.18it/s]                       \n"
          ]
        },
        {
          "metadata": {
            "tags": null
          },
          "name": "stdout",
          "output_type": "stream",
          "text": [
            "acc(train): 0.8672, acc(val): 0.8582, acc(test): 0.8468\n",
            "___________________________________________________________________________________________________\n"
          ]
        },
        {
          "metadata": {
            "tags": null
          },
          "name": "stderr",
          "output_type": "stream",
          "text": [
            "epoch: 4, lr: 0.00300 | loss: 0.0315, acc(batch): 0.9018, grad:29900.0850: : 422it [00:12, 33.84it/s]                       \n"
          ]
        },
        {
          "metadata": {
            "tags": null
          },
          "name": "stdout",
          "output_type": "stream",
          "text": [
            "acc(train): 0.8667, acc(val): 0.8555, acc(test): 0.8415\n",
            "___________________________________________________________________________________________________\n"
          ]
        },
        {
          "metadata": {
            "tags": null
          },
          "name": "stderr",
          "output_type": "stream",
          "text": [
            "epoch: 5, lr: 0.00300 | loss: 0.0323, acc(batch): 0.9107, grad:26480.2946: : 422it [00:12, 33.21it/s]                       \n"
          ]
        },
        {
          "metadata": {
            "tags": null
          },
          "name": "stdout",
          "output_type": "stream",
          "text": [
            "acc(train): 0.8625, acc(val): 0.8545, acc(test): 0.8418\n",
            "___________________________________________________________________________________________________\n"
          ]
        },
        {
          "metadata": {
            "tags": null
          },
          "name": "stderr",
          "output_type": "stream",
          "text": [
            "epoch: 6, lr: 0.00300 | loss: 0.0301, acc(batch): 0.9196, grad:26245.0682: : 422it [00:12, 33.14it/s]\n"
          ]
        },
        {
          "metadata": {
            "tags": null
          },
          "name": "stdout",
          "output_type": "stream",
          "text": [
            "acc(train): 0.8701, acc(val): 0.8580, acc(test): 0.8473\n",
            "___________________________________________________________________________________________________\n"
          ]
        },
        {
          "metadata": {
            "tags": null
          },
          "name": "stderr",
          "output_type": "stream",
          "text": [
            "epoch: 7, lr: 0.00300 | loss: 0.0313, acc(batch): 0.9196, grad:25516.3673: : 422it [00:12, 32.78it/s]\n"
          ]
        },
        {
          "metadata": {
            "tags": null
          },
          "name": "stdout",
          "output_type": "stream",
          "text": [
            "acc(train): 0.8720, acc(val): 0.8630, acc(test): 0.8473\n",
            "___________________________________________________________________________________________________\n"
          ]
        },
        {
          "metadata": {
            "tags": null
          },
          "name": "stderr",
          "output_type": "stream",
          "text": [
            "epoch: 8, lr: 0.00300 | loss: 0.0283, acc(batch): 0.9196, grad:23760.3316: : 422it [00:12, 32.76it/s]                       \n"
          ]
        },
        {
          "metadata": {
            "tags": null
          },
          "name": "stdout",
          "output_type": "stream",
          "text": [
            "acc(train): 0.8784, acc(val): 0.8645, acc(test): 0.8544\n",
            "___________________________________________________________________________________________________\n"
          ]
        },
        {
          "metadata": {
            "tags": null
          },
          "name": "stderr",
          "output_type": "stream",
          "text": [
            "epoch: 9, lr: 0.00300 | loss: 0.0302, acc(batch): 0.9107, grad:23350.1726: : 422it [00:13, 32.41it/s]                       \n"
          ]
        },
        {
          "metadata": {
            "tags": null
          },
          "name": "stdout",
          "output_type": "stream",
          "text": [
            "acc(train): 0.8745, acc(val): 0.8612, acc(test): 0.8502\n",
            "___________________________________________________________________________________________________\n"
          ]
        },
        {
          "data": {
            "text/html": [
              "<br/>Waiting for W&B process to finish, PID 568... <strong style=\"color:green\">(success).</strong>"
            ],
            "text/plain": [
              "<IPython.core.display.HTML object>"
            ]
          },
          "metadata": {},
          "output_type": "display_data"
        },
        {
          "data": {
            "application/vnd.jupyter.widget-view+json": {
              "model_id": "613a7e2f8a314c2081dfbc5c670dad29",
              "version_major": 2,
              "version_minor": 0
            },
            "text/plain": [
              "VBox(children=(Label(value=' 0.00MB of 0.00MB uploaded (0.00MB deduped)\\r'), FloatProgress(value=1.0, max=1.0)…"
            ]
          },
          "metadata": {},
          "output_type": "display_data"
        },
        {
          "data": {
            "text/html": [
              "<style>\n",
              "    table.wandb td:nth-child(1) { padding: 0 10px; text-align: right }\n",
              "    .wandb-row { display: flex; flex-direction: row; flex-wrap: wrap; width: 100% }\n",
              "    .wandb-col { display: flex; flex-direction: column; flex-basis: 100%; flex: 1; padding: 10px; }\n",
              "    </style>\n",
              "<div class=\"wandb-row\"><div class=\"wandb-col\">\n",
              "<h3>Run history:</h3><br/><table class=\"wandb\"><tr><td>epoch</td><td>▁▂▃▃▄▅▆▆▇█</td></tr><tr><td>test_acc</td><td>▁▃▄▅▃▃▅▅█▆</td></tr><tr><td>train_acc</td><td>▁▃▄▅▅▄▆▆█▇</td></tr><tr><td>train_loss</td><td>█▄▃▂▂▂▁▁▁▁</td></tr><tr><td>val_acc</td><td>▁▂▂▅▄▃▅▇█▆</td></tr><tr><td>val_loss</td><td>█▆▅▃▄▄▃▂▁▁</td></tr></table><br/></div><div class=\"wandb-col\">\n",
              "<h3>Run summary:</h3><br/><table class=\"wandb\"><tr><td>epoch</td><td>9</td></tr><tr><td>test_acc</td><td>0.8502</td></tr><tr><td>train_acc</td><td>0.87454</td></tr><tr><td>train_loss</td><td>0.03246</td></tr><tr><td>val_acc</td><td>0.86117</td></tr><tr><td>val_loss</td><td>0.03706</td></tr></table>\n",
              "</div></div>\n",
              "Synced 5 W&B file(s), 1 media file(s), 1 artifact file(s) and 0 other file(s)\n",
              "<br/>Synced <strong style=\"color:#cdcd00\">true-sweep-21</strong>: <a href=\"https://wandb.ai/cs21s006_cs21s043/cs6910_assignment1/runs/or57e8y9\" target=\"_blank\">https://wandb.ai/cs21s006_cs21s043/cs6910_assignment1/runs/or57e8y9</a><br/>\n",
              "Find logs at: <code>./wandb/run-20220218_122349-or57e8y9/logs</code><br/>\n"
            ],
            "text/plain": [
              "<IPython.core.display.HTML object>"
            ]
          },
          "metadata": {},
          "output_type": "display_data"
        },
        {
          "metadata": {
            "tags": null
          },
          "name": "stderr",
          "output_type": "stream",
          "text": [
            "\u001b[34m\u001b[1mwandb\u001b[0m: Agent Starting Run: 3lzh91co with config:\n",
            "\u001b[34m\u001b[1mwandb\u001b[0m: \tactivation: ReLU\n",
            "\u001b[34m\u001b[1mwandb\u001b[0m: \tbatch_size: 128\n",
            "\u001b[34m\u001b[1mwandb\u001b[0m: \tepochs: 20\n",
            "\u001b[34m\u001b[1mwandb\u001b[0m: \thidden_size: 128\n",
            "\u001b[34m\u001b[1mwandb\u001b[0m: \tlearning_rate: 0.0005\n",
            "\u001b[34m\u001b[1mwandb\u001b[0m: \tloss: cross_entropy\n",
            "\u001b[34m\u001b[1mwandb\u001b[0m: \tnum_layers: 4\n",
            "\u001b[34m\u001b[1mwandb\u001b[0m: \toptimizer: rmsprop\n",
            "\u001b[34m\u001b[1mwandb\u001b[0m: \tweight_decay: 0\n",
            "\u001b[34m\u001b[1mwandb\u001b[0m: \tweight_init_method: He_normal\n",
            "\u001b[34m\u001b[1mwandb\u001b[0m: \u001b[33mWARNING\u001b[0m Ignored wandb.init() arg project when running a sweep.\n",
            "\u001b[34m\u001b[1mwandb\u001b[0m: \u001b[33mWARNING\u001b[0m Ignored wandb.init() arg entity when running a sweep.\n"
          ]
        },
        {
          "data": {
            "text/html": [
              "\n",
              "                    Syncing run <strong><a href=\"https://wandb.ai/cs21s006_cs21s043/cs6910_assignment1/runs/3lzh91co\" target=\"_blank\">lilac-sweep-23</a></strong> to <a href=\"https://wandb.ai/cs21s006_cs21s043/cs6910_assignment1\" target=\"_blank\">Weights & Biases</a> (<a href=\"https://docs.wandb.com/integrations/jupyter.html\" target=\"_blank\">docs</a>).<br/>\n",
              "Sweep page: <a href=\"https://wandb.ai/cs21s006_cs21s043/cs6910_assignment1/sweeps/1463mzwx\" target=\"_blank\">https://wandb.ai/cs21s006_cs21s043/cs6910_assignment1/sweeps/1463mzwx</a><br/>\n",
              "\n",
              "                "
            ],
            "text/plain": [
              "<IPython.core.display.HTML object>"
            ]
          },
          "metadata": {},
          "output_type": "display_data"
        },
        {
          "metadata": {
            "tags": null
          },
          "name": "stdout",
          "output_type": "stream",
          "text": [
            "(54000, 784) (54000, 10) (10000, 784) (10000, 10) (6000, 784) (6000, 10)\n"
          ]
        },
        {
          "metadata": {
            "tags": null
          },
          "name": "stderr",
          "output_type": "stream",
          "text": [
            "epoch: 0, lr: 0.00050 | loss: 0.0480, acc(batch): 0.8214, grad:54420.2805: : 422it [00:17, 23.65it/s]                       \n"
          ]
        },
        {
          "metadata": {
            "tags": null
          },
          "name": "stdout",
          "output_type": "stream",
          "text": [
            "acc(train): 0.8497, acc(val): 0.8457, acc(test): 0.8364\n",
            "___________________________________________________________________________________________________\n"
          ]
        },
        {
          "metadata": {
            "tags": null
          },
          "name": "stderr",
          "output_type": "stream",
          "text": [
            "epoch: 1, lr: 0.00050 | loss: 0.0428, acc(batch): 0.8482, grad:55406.7308: : 422it [00:17, 23.72it/s]                       \n"
          ]
        },
        {
          "metadata": {
            "tags": null
          },
          "name": "stdout",
          "output_type": "stream",
          "text": [
            "acc(train): 0.8636, acc(val): 0.8543, acc(test): 0.8506\n",
            "___________________________________________________________________________________________________\n"
          ]
        },
        {
          "metadata": {
            "tags": null
          },
          "name": "stderr",
          "output_type": "stream",
          "text": [
            "epoch: 2, lr: 0.00050 | loss: 0.0407, acc(batch): 0.8482, grad:55985.0064: : 422it [00:17, 23.53it/s]                       \n"
          ]
        },
        {
          "metadata": {
            "tags": null
          },
          "name": "stdout",
          "output_type": "stream",
          "text": [
            "acc(train): 0.8764, acc(val): 0.8667, acc(test): 0.8585\n",
            "___________________________________________________________________________________________________\n"
          ]
        },
        {
          "metadata": {
            "tags": null
          },
          "name": "stderr",
          "output_type": "stream",
          "text": [
            "epoch: 3, lr: 0.00050 | loss: 0.0381, acc(batch): 0.8571, grad:54489.0460: : 422it [00:18, 23.36it/s]                       \n"
          ]
        },
        {
          "metadata": {
            "tags": null
          },
          "name": "stdout",
          "output_type": "stream",
          "text": [
            "acc(train): 0.8842, acc(val): 0.8732, acc(test): 0.8644\n",
            "___________________________________________________________________________________________________\n"
          ]
        },
        {
          "metadata": {
            "tags": null
          },
          "name": "stderr",
          "output_type": "stream",
          "text": [
            "epoch: 4, lr: 0.00050 | loss: 0.0345, acc(batch): 0.8839, grad:55279.6546: : 422it [00:17, 23.74it/s]                       \n"
          ]
        },
        {
          "metadata": {
            "tags": null
          },
          "name": "stdout",
          "output_type": "stream",
          "text": [
            "acc(train): 0.8884, acc(val): 0.8732, acc(test): 0.8672\n",
            "___________________________________________________________________________________________________\n"
          ]
        },
        {
          "metadata": {
            "tags": null
          },
          "name": "stderr",
          "output_type": "stream",
          "text": [
            "epoch: 5, lr: 0.00050 | loss: 0.0336, acc(batch): 0.8839, grad:56132.1473: : 422it [00:17, 23.96it/s]                       \n"
          ]
        },
        {
          "metadata": {
            "tags": null
          },
          "name": "stdout",
          "output_type": "stream",
          "text": [
            "acc(train): 0.8904, acc(val): 0.8737, acc(test): 0.8666\n",
            "___________________________________________________________________________________________________\n"
          ]
        },
        {
          "metadata": {
            "tags": null
          },
          "name": "stderr",
          "output_type": "stream",
          "text": [
            "epoch: 6, lr: 0.00050 | loss: 0.0319, acc(batch): 0.8839, grad:54811.2114: : 422it [00:17, 23.94it/s]                       \n"
          ]
        },
        {
          "metadata": {
            "tags": null
          },
          "name": "stdout",
          "output_type": "stream",
          "text": [
            "acc(train): 0.8911, acc(val): 0.8722, acc(test): 0.8669\n",
            "___________________________________________________________________________________________________\n"
          ]
        },
        {
          "metadata": {
            "tags": null
          },
          "name": "stderr",
          "output_type": "stream",
          "text": [
            "epoch: 7, lr: 0.00050 | loss: 0.0277, acc(batch): 0.9018, grad:55081.6464: : 422it [00:17, 23.46it/s]                       \n"
          ]
        },
        {
          "metadata": {
            "tags": null
          },
          "name": "stdout",
          "output_type": "stream",
          "text": [
            "acc(train): 0.8952, acc(val): 0.8745, acc(test): 0.8667\n",
            "___________________________________________________________________________________________________\n"
          ]
        },
        {
          "metadata": {
            "tags": null
          },
          "name": "stderr",
          "output_type": "stream",
          "text": [
            "epoch: 8, lr: 0.00050 | loss: 0.0274, acc(batch): 0.9196, grad:55088.1017: : 422it [00:17, 23.59it/s]                       \n"
          ]
        },
        {
          "metadata": {
            "tags": null
          },
          "name": "stdout",
          "output_type": "stream",
          "text": [
            "acc(train): 0.9014, acc(val): 0.8755, acc(test): 0.8691\n",
            "___________________________________________________________________________________________________\n"
          ]
        },
        {
          "metadata": {
            "tags": null
          },
          "name": "stderr",
          "output_type": "stream",
          "text": [
            "epoch: 9, lr: 0.00050 | loss: 0.0267, acc(batch): 0.9107, grad:55185.1489: : 422it [00:17, 23.87it/s]                       \n"
          ]
        },
        {
          "metadata": {
            "tags": null
          },
          "name": "stdout",
          "output_type": "stream",
          "text": [
            "acc(train): 0.8997, acc(val): 0.8745, acc(test): 0.8681\n",
            "___________________________________________________________________________________________________\n"
          ]
        },
        {
          "metadata": {
            "tags": null
          },
          "name": "stderr",
          "output_type": "stream",
          "text": [
            "epoch: 10, lr: 0.00050 | loss: 0.0232, acc(batch): 0.9196, grad:54880.5058: : 422it [00:17, 23.97it/s]                       \n"
          ]
        },
        {
          "metadata": {
            "tags": null
          },
          "name": "stdout",
          "output_type": "stream",
          "text": [
            "acc(train): 0.9069, acc(val): 0.8783, acc(test): 0.8716\n",
            "___________________________________________________________________________________________________\n"
          ]
        },
        {
          "metadata": {
            "tags": null
          },
          "name": "stderr",
          "output_type": "stream",
          "text": [
            "epoch: 11, lr: 0.00050 | loss: 0.0223, acc(batch): 0.9286, grad:53546.4236: : 422it [00:17, 23.91it/s]                       \n"
          ]
        },
        {
          "metadata": {
            "tags": null
          },
          "name": "stdout",
          "output_type": "stream",
          "text": [
            "acc(train): 0.9095, acc(val): 0.8802, acc(test): 0.8745\n",
            "___________________________________________________________________________________________________\n"
          ]
        },
        {
          "metadata": {
            "tags": null
          },
          "name": "stderr",
          "output_type": "stream",
          "text": [
            "epoch: 12, lr: 0.00050 | loss: 0.0220, acc(batch): 0.9107, grad:53892.9341: : 422it [00:17, 23.61it/s]                       \n"
          ]
        },
        {
          "metadata": {
            "tags": null
          },
          "name": "stdout",
          "output_type": "stream",
          "text": [
            "acc(train): 0.9107, acc(val): 0.8785, acc(test): 0.8746\n",
            "___________________________________________________________________________________________________\n"
          ]
        },
        {
          "metadata": {
            "tags": null
          },
          "name": "stderr",
          "output_type": "stream",
          "text": [
            "epoch: 13, lr: 0.00050 | loss: 0.0208, acc(batch): 0.9375, grad:53117.8285: : 422it [00:17, 23.79it/s]\n"
          ]
        },
        {
          "metadata": {
            "tags": null
          },
          "name": "stdout",
          "output_type": "stream",
          "text": [
            "acc(train): 0.9162, acc(val): 0.8832, acc(test): 0.8753\n",
            "___________________________________________________________________________________________________\n"
          ]
        },
        {
          "metadata": {
            "tags": null
          },
          "name": "stderr",
          "output_type": "stream",
          "text": [
            "epoch: 14, lr: 0.00050 | loss: 0.0185, acc(batch): 0.9464, grad:53937.6392: : 422it [00:17, 23.95it/s]                       \n"
          ]
        },
        {
          "metadata": {
            "tags": null
          },
          "name": "stdout",
          "output_type": "stream",
          "text": [
            "acc(train): 0.9138, acc(val): 0.8787, acc(test): 0.8736\n",
            "___________________________________________________________________________________________________\n"
          ]
        },
        {
          "metadata": {
            "tags": null
          },
          "name": "stderr",
          "output_type": "stream",
          "text": [
            "epoch: 15, lr: 0.00050 | loss: 0.0168, acc(batch): 0.9554, grad:53332.2895: : 422it [00:17, 23.72it/s]\n"
          ]
        },
        {
          "metadata": {
            "tags": null
          },
          "name": "stdout",
          "output_type": "stream",
          "text": [
            "acc(train): 0.9129, acc(val): 0.8795, acc(test): 0.8686\n",
            "___________________________________________________________________________________________________\n"
          ]
        },
        {
          "metadata": {
            "tags": null
          },
          "name": "stderr",
          "output_type": "stream",
          "text": [
            "epoch: 16, lr: 0.00050 | loss: 0.0198, acc(batch): 0.9643, grad:53010.8735: : 422it [00:17, 23.94it/s]                       \n"
          ]
        },
        {
          "metadata": {
            "tags": null
          },
          "name": "stdout",
          "output_type": "stream",
          "text": [
            "acc(train): 0.9177, acc(val): 0.8832, acc(test): 0.8749\n",
            "___________________________________________________________________________________________________\n"
          ]
        },
        {
          "metadata": {
            "tags": null
          },
          "name": "stderr",
          "output_type": "stream",
          "text": [
            "epoch: 17, lr: 0.00050 | loss: 0.0204, acc(batch): 0.9196, grad:50843.2880: : 422it [00:17, 24.20it/s]\n"
          ]
        },
        {
          "metadata": {
            "tags": null
          },
          "name": "stdout",
          "output_type": "stream",
          "text": [
            "acc(train): 0.9218, acc(val): 0.8835, acc(test): 0.8752\n",
            "___________________________________________________________________________________________________\n"
          ]
        },
        {
          "metadata": {
            "tags": null
          },
          "name": "stderr",
          "output_type": "stream",
          "text": [
            "epoch: 18, lr: 0.00050 | loss: 0.0177, acc(batch): 0.9464, grad:53778.8906: : 422it [00:17, 23.69it/s]                       \n"
          ]
        },
        {
          "metadata": {
            "tags": null
          },
          "name": "stdout",
          "output_type": "stream",
          "text": [
            "acc(train): 0.9248, acc(val): 0.8860, acc(test): 0.8749\n",
            "___________________________________________________________________________________________________\n"
          ]
        },
        {
          "metadata": {
            "tags": null
          },
          "name": "stderr",
          "output_type": "stream",
          "text": [
            "epoch: 19, lr: 0.00050 | loss: 0.0213, acc(batch): 0.9286, grad:52613.7280: : 422it [00:18, 23.04it/s]                       \n"
          ]
        },
        {
          "metadata": {
            "tags": null
          },
          "name": "stdout",
          "output_type": "stream",
          "text": [
            "acc(train): 0.9241, acc(val): 0.8858, acc(test): 0.8770\n",
            "___________________________________________________________________________________________________\n"
          ]
        },
        {
          "data": {
            "text/html": [
              "<br/>Waiting for W&B process to finish, PID 610... <strong style=\"color:green\">(success).</strong>"
            ],
            "text/plain": [
              "<IPython.core.display.HTML object>"
            ]
          },
          "metadata": {},
          "output_type": "display_data"
        },
        {
          "data": {
            "application/vnd.jupyter.widget-view+json": {
              "model_id": "1479f862f21342699d2f72f3b97482e4",
              "version_major": 2,
              "version_minor": 0
            },
            "text/plain": [
              "VBox(children=(Label(value=' 0.00MB of 0.01MB uploaded (0.00MB deduped)\\r'), FloatProgress(value=0.57947976878…"
            ]
          },
          "metadata": {},
          "output_type": "display_data"
        },
        {
          "data": {
            "text/html": [
              "<style>\n",
              "    table.wandb td:nth-child(1) { padding: 0 10px; text-align: right }\n",
              "    .wandb-row { display: flex; flex-direction: row; flex-wrap: wrap; width: 100% }\n",
              "    .wandb-col { display: flex; flex-direction: column; flex-basis: 100%; flex: 1; padding: 10px; }\n",
              "    </style>\n",
              "<div class=\"wandb-row\"><div class=\"wandb-col\">\n",
              "<h3>Run history:</h3><br/><table class=\"wandb\"><tr><td>epoch</td><td>▁▁▂▂▂▃▃▄▄▄▅▅▅▆▆▇▇▇██</td></tr><tr><td>test_acc</td><td>▁▃▅▆▆▆▆▆▇▆▇███▇▇████</td></tr><tr><td>train_acc</td><td>▁▂▃▄▅▅▅▅▆▆▆▇▇▇▇▇▇███</td></tr><tr><td>train_loss</td><td>█▅▄▄▃▃▃▃▂▂▂▂▂▂▂▁▁▁▁▁</td></tr><tr><td>val_acc</td><td>▁▃▅▆▆▆▆▆▆▆▇▇▇█▇▇████</td></tr><tr><td>val_loss</td><td>█▅▃▂▁▂▂▃▁▃▂▃▂▃▅▆▅▄▆▇</td></tr></table><br/></div><div class=\"wandb-col\">\n",
              "<h3>Run summary:</h3><br/><table class=\"wandb\"><tr><td>epoch</td><td>19</td></tr><tr><td>test_acc</td><td>0.877</td></tr><tr><td>train_acc</td><td>0.92407</td></tr><tr><td>train_loss</td><td>0.01627</td></tr><tr><td>val_acc</td><td>0.88583</td></tr><tr><td>val_loss</td><td>0.04169</td></tr></table>\n",
              "</div></div>\n",
              "Synced 5 W&B file(s), 1 media file(s), 1 artifact file(s) and 0 other file(s)\n",
              "<br/>Synced <strong style=\"color:#cdcd00\">lilac-sweep-23</strong>: <a href=\"https://wandb.ai/cs21s006_cs21s043/cs6910_assignment1/runs/3lzh91co\" target=\"_blank\">https://wandb.ai/cs21s006_cs21s043/cs6910_assignment1/runs/3lzh91co</a><br/>\n",
              "Find logs at: <code>./wandb/run-20220218_122622-3lzh91co/logs</code><br/>\n"
            ],
            "text/plain": [
              "<IPython.core.display.HTML object>"
            ]
          },
          "metadata": {},
          "output_type": "display_data"
        },
        {
          "metadata": {
            "tags": null
          },
          "name": "stderr",
          "output_type": "stream",
          "text": [
            "\u001b[34m\u001b[1mwandb\u001b[0m: Agent Starting Run: i6i2i8zu with config:\n",
            "\u001b[34m\u001b[1mwandb\u001b[0m: \tactivation: ReLU\n",
            "\u001b[34m\u001b[1mwandb\u001b[0m: \tbatch_size: 128\n",
            "\u001b[34m\u001b[1mwandb\u001b[0m: \tepochs: 20\n",
            "\u001b[34m\u001b[1mwandb\u001b[0m: \thidden_size: 32\n",
            "\u001b[34m\u001b[1mwandb\u001b[0m: \tlearning_rate: 0.001\n",
            "\u001b[34m\u001b[1mwandb\u001b[0m: \tloss: cross_entropy\n",
            "\u001b[34m\u001b[1mwandb\u001b[0m: \tnum_layers: 2\n",
            "\u001b[34m\u001b[1mwandb\u001b[0m: \toptimizer: nag\n",
            "\u001b[34m\u001b[1mwandb\u001b[0m: \tweight_decay: 0.0005\n",
            "\u001b[34m\u001b[1mwandb\u001b[0m: \tweight_init_method: Xavier_normal\n",
            "\u001b[34m\u001b[1mwandb\u001b[0m: \u001b[33mWARNING\u001b[0m Ignored wandb.init() arg project when running a sweep.\n",
            "\u001b[34m\u001b[1mwandb\u001b[0m: \u001b[33mWARNING\u001b[0m Ignored wandb.init() arg entity when running a sweep.\n"
          ]
        },
        {
          "data": {
            "text/html": [
              "\n",
              "                    Syncing run <strong><a href=\"https://wandb.ai/cs21s006_cs21s043/cs6910_assignment1/runs/i6i2i8zu\" target=\"_blank\">lunar-sweep-26</a></strong> to <a href=\"https://wandb.ai/cs21s006_cs21s043/cs6910_assignment1\" target=\"_blank\">Weights & Biases</a> (<a href=\"https://docs.wandb.com/integrations/jupyter.html\" target=\"_blank\">docs</a>).<br/>\n",
              "Sweep page: <a href=\"https://wandb.ai/cs21s006_cs21s043/cs6910_assignment1/sweeps/1463mzwx\" target=\"_blank\">https://wandb.ai/cs21s006_cs21s043/cs6910_assignment1/sweeps/1463mzwx</a><br/>\n",
              "\n",
              "                "
            ],
            "text/plain": [
              "<IPython.core.display.HTML object>"
            ]
          },
          "metadata": {},
          "output_type": "display_data"
        },
        {
          "metadata": {
            "tags": null
          },
          "name": "stdout",
          "output_type": "stream",
          "text": [
            "(54000, 784) (54000, 10) (10000, 784) (10000, 10) (6000, 784) (6000, 10)\n"
          ]
        },
        {
          "metadata": {
            "tags": null
          },
          "name": "stderr",
          "output_type": "stream",
          "text": [
            "epoch: 0, lr: 0.00100 | loss: 0.0416, acc(batch): 0.9196, grad:17986.4461: : 422it [00:06, 62.30it/s]                       \n"
          ]
        },
        {
          "metadata": {
            "tags": null
          },
          "name": "stdout",
          "output_type": "stream",
          "text": [
            "acc(train): 0.8071, acc(val): 0.8053, acc(test): 0.7948\n",
            "___________________________________________________________________________________________________\n"
          ]
        },
        {
          "metadata": {
            "tags": null
          },
          "name": "stderr",
          "output_type": "stream",
          "text": [
            "epoch: 1, lr: 0.00100 | loss: 0.0346, acc(batch): 0.9107, grad:19708.1976: : 422it [00:06, 64.05it/s]\n"
          ]
        },
        {
          "metadata": {
            "tags": null
          },
          "name": "stdout",
          "output_type": "stream",
          "text": [
            "acc(train): 0.8188, acc(val): 0.8175, acc(test): 0.8061\n",
            "___________________________________________________________________________________________________\n"
          ]
        },
        {
          "metadata": {
            "tags": null
          },
          "name": "stderr",
          "output_type": "stream",
          "text": [
            "epoch: 2, lr: 0.00100 | loss: 0.0344, acc(batch): 0.8750, grad:18698.1074: : 422it [00:06, 62.80it/s]                       \n"
          ]
        },
        {
          "metadata": {
            "tags": null
          },
          "name": "stdout",
          "output_type": "stream",
          "text": [
            "acc(train): 0.8390, acc(val): 0.8370, acc(test): 0.8234\n",
            "___________________________________________________________________________________________________\n"
          ]
        },
        {
          "metadata": {
            "tags": null
          },
          "name": "stderr",
          "output_type": "stream",
          "text": [
            "epoch: 3, lr: 0.00100 | loss: 0.0339, acc(batch): 0.8750, grad:16946.7169: : 422it [00:06, 63.70it/s]                       \n"
          ]
        },
        {
          "metadata": {
            "tags": null
          },
          "name": "stdout",
          "output_type": "stream",
          "text": [
            "acc(train): 0.8614, acc(val): 0.8563, acc(test): 0.8445\n",
            "___________________________________________________________________________________________________\n"
          ]
        },
        {
          "metadata": {
            "tags": null
          },
          "name": "stderr",
          "output_type": "stream",
          "text": [
            "epoch: 4, lr: 0.00100 | loss: 0.0344, acc(batch): 0.9018, grad:17966.5809: : 422it [00:06, 66.35it/s]                       \n"
          ]
        },
        {
          "metadata": {
            "tags": null
          },
          "name": "stdout",
          "output_type": "stream",
          "text": [
            "acc(train): 0.8491, acc(val): 0.8477, acc(test): 0.8319\n",
            "___________________________________________________________________________________________________\n"
          ]
        },
        {
          "metadata": {
            "tags": null
          },
          "name": "stderr",
          "output_type": "stream",
          "text": [
            "epoch: 5, lr: 0.00100 | loss: 0.0299, acc(batch): 0.9196, grad:18748.8383: : 422it [00:06, 67.53it/s]                       \n"
          ]
        },
        {
          "metadata": {
            "tags": null
          },
          "name": "stdout",
          "output_type": "stream",
          "text": [
            "acc(train): 0.8565, acc(val): 0.8505, acc(test): 0.8369\n",
            "___________________________________________________________________________________________________\n"
          ]
        },
        {
          "metadata": {
            "tags": null
          },
          "name": "stderr",
          "output_type": "stream",
          "text": [
            "epoch: 6, lr: 0.00100 | loss: 0.0317, acc(batch): 0.9018, grad:19448.8774: : 422it [00:06, 66.36it/s]                       \n"
          ]
        },
        {
          "metadata": {
            "tags": null
          },
          "name": "stdout",
          "output_type": "stream",
          "text": [
            "acc(train): 0.8640, acc(val): 0.8565, acc(test): 0.8466\n",
            "___________________________________________________________________________________________________\n"
          ]
        },
        {
          "metadata": {
            "tags": null
          },
          "name": "stderr",
          "output_type": "stream",
          "text": [
            "epoch: 7, lr: 0.00100 | loss: 0.0317, acc(batch): 0.8929, grad:17245.5305: : 422it [00:06, 63.68it/s]                       \n"
          ]
        },
        {
          "metadata": {
            "tags": null
          },
          "name": "stdout",
          "output_type": "stream",
          "text": [
            "acc(train): 0.8645, acc(val): 0.8602, acc(test): 0.8467\n",
            "___________________________________________________________________________________________________\n"
          ]
        },
        {
          "metadata": {
            "tags": null
          },
          "name": "stderr",
          "output_type": "stream",
          "text": [
            "epoch: 8, lr: 0.00100 | loss: 0.0320, acc(batch): 0.8839, grad:16610.8028: : 422it [00:06, 63.24it/s]                       \n"
          ]
        },
        {
          "metadata": {
            "tags": null
          },
          "name": "stdout",
          "output_type": "stream",
          "text": [
            "acc(train): 0.8705, acc(val): 0.8645, acc(test): 0.8529\n",
            "___________________________________________________________________________________________________\n"
          ]
        },
        {
          "metadata": {
            "tags": null
          },
          "name": "stderr",
          "output_type": "stream",
          "text": [
            "epoch: 9, lr: 0.00100 | loss: 0.0290, acc(batch): 0.9018, grad:18086.7982: : 422it [00:06, 63.10it/s]                       \n"
          ]
        },
        {
          "metadata": {
            "tags": null
          },
          "name": "stdout",
          "output_type": "stream",
          "text": [
            "acc(train): 0.8748, acc(val): 0.8658, acc(test): 0.8562\n",
            "___________________________________________________________________________________________________\n"
          ]
        },
        {
          "metadata": {
            "tags": null
          },
          "name": "stderr",
          "output_type": "stream",
          "text": [
            "epoch: 10, lr: 0.00100 | loss: 0.0284, acc(batch): 0.9107, grad:16916.2684: : 422it [00:06, 65.71it/s]                       \n"
          ]
        },
        {
          "metadata": {
            "tags": null
          },
          "name": "stdout",
          "output_type": "stream",
          "text": [
            "acc(train): 0.8821, acc(val): 0.8738, acc(test): 0.8624\n",
            "___________________________________________________________________________________________________\n"
          ]
        },
        {
          "metadata": {
            "tags": null
          },
          "name": "stderr",
          "output_type": "stream",
          "text": [
            "epoch: 11, lr: 0.00100 | loss: 0.0300, acc(batch): 0.9018, grad:17379.4108: : 422it [00:06, 64.46it/s]                       \n"
          ]
        },
        {
          "metadata": {
            "tags": null
          },
          "name": "stdout",
          "output_type": "stream",
          "text": [
            "acc(train): 0.8800, acc(val): 0.8688, acc(test): 0.8598\n",
            "___________________________________________________________________________________________________\n"
          ]
        },
        {
          "metadata": {
            "tags": null
          },
          "name": "stderr",
          "output_type": "stream",
          "text": [
            "epoch: 12, lr: 0.00100 | loss: 0.0277, acc(batch): 0.9107, grad:19714.1001: : 422it [00:06, 62.12it/s]                       \n"
          ]
        },
        {
          "metadata": {
            "tags": null
          },
          "name": "stdout",
          "output_type": "stream",
          "text": [
            "acc(train): 0.8704, acc(val): 0.8623, acc(test): 0.8509\n",
            "___________________________________________________________________________________________________\n"
          ]
        },
        {
          "metadata": {
            "tags": null
          },
          "name": "stderr",
          "output_type": "stream",
          "text": [
            "epoch: 13, lr: 0.00100 | loss: 0.0270, acc(batch): 0.9107, grad:18789.5813: : 422it [00:06, 64.35it/s]                       \n"
          ]
        },
        {
          "metadata": {
            "tags": null
          },
          "name": "stdout",
          "output_type": "stream",
          "text": [
            "acc(train): 0.8739, acc(val): 0.8670, acc(test): 0.8537\n",
            "___________________________________________________________________________________________________\n"
          ]
        },
        {
          "metadata": {
            "tags": null
          },
          "name": "stderr",
          "output_type": "stream",
          "text": [
            "epoch: 14, lr: 0.00100 | loss: 0.0250, acc(batch): 0.9286, grad:18953.5220: : 422it [00:06, 65.83it/s]                       \n"
          ]
        },
        {
          "metadata": {
            "tags": null
          },
          "name": "stdout",
          "output_type": "stream",
          "text": [
            "acc(train): 0.8762, acc(val): 0.8617, acc(test): 0.8559\n",
            "___________________________________________________________________________________________________\n"
          ]
        },
        {
          "metadata": {
            "tags": null
          },
          "name": "stderr",
          "output_type": "stream",
          "text": [
            "epoch: 15, lr: 0.00100 | loss: 0.0270, acc(batch): 0.9196, grad:19247.3787: : 422it [00:06, 65.62it/s]                       \n"
          ]
        },
        {
          "metadata": {
            "tags": null
          },
          "name": "stdout",
          "output_type": "stream",
          "text": [
            "acc(train): 0.8648, acc(val): 0.8513, acc(test): 0.8403\n",
            "___________________________________________________________________________________________________\n"
          ]
        },
        {
          "metadata": {
            "tags": null
          },
          "name": "stderr",
          "output_type": "stream",
          "text": [
            "epoch: 16, lr: 0.00100 | loss: 0.0270, acc(batch): 0.9286, grad:19660.5891: : 422it [00:06, 64.21it/s]                       \n"
          ]
        },
        {
          "metadata": {
            "tags": null
          },
          "name": "stdout",
          "output_type": "stream",
          "text": [
            "acc(train): 0.8670, acc(val): 0.8543, acc(test): 0.8432\n",
            "___________________________________________________________________________________________________\n"
          ]
        },
        {
          "metadata": {
            "tags": null
          },
          "name": "stderr",
          "output_type": "stream",
          "text": [
            "epoch: 17, lr: 0.00100 | loss: 0.0250, acc(batch): 0.9196, grad:17992.7021: : 422it [00:06, 62.96it/s]                       \n"
          ]
        },
        {
          "metadata": {
            "tags": null
          },
          "name": "stdout",
          "output_type": "stream",
          "text": [
            "acc(train): 0.8818, acc(val): 0.8680, acc(test): 0.8584\n",
            "___________________________________________________________________________________________________\n"
          ]
        },
        {
          "metadata": {
            "tags": null
          },
          "name": "stderr",
          "output_type": "stream",
          "text": [
            "epoch: 18, lr: 0.00100 | loss: 0.0275, acc(batch): 0.9196, grad:19473.8228: : 422it [00:06, 65.18it/s]                       \n"
          ]
        },
        {
          "metadata": {
            "tags": null
          },
          "name": "stdout",
          "output_type": "stream",
          "text": [
            "acc(train): 0.8623, acc(val): 0.8497, acc(test): 0.8371\n",
            "___________________________________________________________________________________________________\n"
          ]
        },
        {
          "metadata": {
            "tags": null
          },
          "name": "stderr",
          "output_type": "stream",
          "text": [
            "epoch: 19, lr: 0.00100 | loss: 0.0251, acc(batch): 0.9286, grad:18534.4443: : 422it [00:06, 64.38it/s]                       \n"
          ]
        },
        {
          "metadata": {
            "tags": null
          },
          "name": "stdout",
          "output_type": "stream",
          "text": [
            "acc(train): 0.8911, acc(val): 0.8730, acc(test): 0.8676\n",
            "___________________________________________________________________________________________________\n"
          ]
        },
        {
          "data": {
            "text/html": [
              "<br/>Waiting for W&B process to finish, PID 652... <strong style=\"color:green\">(success).</strong>"
            ],
            "text/plain": [
              "<IPython.core.display.HTML object>"
            ]
          },
          "metadata": {},
          "output_type": "display_data"
        },
        {
          "data": {
            "application/vnd.jupyter.widget-view+json": {
              "model_id": "b16ae481bad04828865ae82873f1e605",
              "version_major": 2,
              "version_minor": 0
            },
            "text/plain": [
              "VBox(children=(Label(value=' 0.00MB of 0.01MB uploaded (0.00MB deduped)\\r'), FloatProgress(value=0.57941091539…"
            ]
          },
          "metadata": {},
          "output_type": "display_data"
        },
        {
          "data": {
            "text/html": [
              "<style>\n",
              "    table.wandb td:nth-child(1) { padding: 0 10px; text-align: right }\n",
              "    .wandb-row { display: flex; flex-direction: row; flex-wrap: wrap; width: 100% }\n",
              "    .wandb-col { display: flex; flex-direction: column; flex-basis: 100%; flex: 1; padding: 10px; }\n",
              "    </style>\n",
              "<div class=\"wandb-row\"><div class=\"wandb-col\">\n",
              "<h3>Run history:</h3><br/><table class=\"wandb\"><tr><td>epoch</td><td>▁▁▂▂▂▃▃▄▄▄▅▅▅▆▆▇▇▇██</td></tr><tr><td>test_acc</td><td>▁▂▄▆▅▅▆▆▇▇▇▇▆▇▇▅▆▇▅█</td></tr><tr><td>train_acc</td><td>▁▂▄▆▄▅▆▆▆▇▇▇▆▇▇▆▆▇▆█</td></tr><tr><td>train_loss</td><td>█▄▃▃▃▂▂▂▂▂▂▂▁▁▁▁▁▁▁▁</td></tr><tr><td>val_acc</td><td>▁▂▄▆▅▆▆▇▇▇█▇▇▇▇▆▆▇▆█</td></tr><tr><td>val_loss</td><td>█▇▅▃▄▃▃▄▃▂▁▂▃▂▂▄▄▂▅▁</td></tr></table><br/></div><div class=\"wandb-col\">\n",
              "<h3>Run summary:</h3><br/><table class=\"wandb\"><tr><td>epoch</td><td>19</td></tr><tr><td>test_acc</td><td>0.8676</td></tr><tr><td>train_acc</td><td>0.89115</td></tr><tr><td>train_loss</td><td>0.03009</td></tr><tr><td>val_acc</td><td>0.873</td></tr><tr><td>val_loss</td><td>0.03465</td></tr></table>\n",
              "</div></div>\n",
              "Synced 5 W&B file(s), 1 media file(s), 1 artifact file(s) and 0 other file(s)\n",
              "<br/>Synced <strong style=\"color:#cdcd00\">lunar-sweep-26</strong>: <a href=\"https://wandb.ai/cs21s006_cs21s043/cs6910_assignment1/runs/i6i2i8zu\" target=\"_blank\">https://wandb.ai/cs21s006_cs21s043/cs6910_assignment1/runs/i6i2i8zu</a><br/>\n",
              "Find logs at: <code>./wandb/run-20220218_123258-i6i2i8zu/logs</code><br/>\n"
            ],
            "text/plain": [
              "<IPython.core.display.HTML object>"
            ]
          },
          "metadata": {},
          "output_type": "display_data"
        },
        {
          "metadata": {
            "tags": null
          },
          "name": "stderr",
          "output_type": "stream",
          "text": [
            "\u001b[34m\u001b[1mwandb\u001b[0m: Agent Starting Run: tg56vk0v with config:\n",
            "\u001b[34m\u001b[1mwandb\u001b[0m: \tactivation: tanh\n",
            "\u001b[34m\u001b[1mwandb\u001b[0m: \tbatch_size: 128\n",
            "\u001b[34m\u001b[1mwandb\u001b[0m: \tepochs: 20\n",
            "\u001b[34m\u001b[1mwandb\u001b[0m: \thidden_size: 256\n",
            "\u001b[34m\u001b[1mwandb\u001b[0m: \tlearning_rate: 0.0001\n",
            "\u001b[34m\u001b[1mwandb\u001b[0m: \tloss: cross_entropy\n",
            "\u001b[34m\u001b[1mwandb\u001b[0m: \tnum_layers: 4\n",
            "\u001b[34m\u001b[1mwandb\u001b[0m: \toptimizer: adam\n",
            "\u001b[34m\u001b[1mwandb\u001b[0m: \tweight_decay: 0\n",
            "\u001b[34m\u001b[1mwandb\u001b[0m: \tweight_init_method: He_normal\n",
            "\u001b[34m\u001b[1mwandb\u001b[0m: \u001b[33mWARNING\u001b[0m Ignored wandb.init() arg project when running a sweep.\n",
            "\u001b[34m\u001b[1mwandb\u001b[0m: \u001b[33mWARNING\u001b[0m Ignored wandb.init() arg entity when running a sweep.\n"
          ]
        },
        {
          "data": {
            "text/html": [
              "\n",
              "                    Syncing run <strong><a href=\"https://wandb.ai/cs21s006_cs21s043/cs6910_assignment1/runs/tg56vk0v\" target=\"_blank\">stellar-sweep-28</a></strong> to <a href=\"https://wandb.ai/cs21s006_cs21s043/cs6910_assignment1\" target=\"_blank\">Weights & Biases</a> (<a href=\"https://docs.wandb.com/integrations/jupyter.html\" target=\"_blank\">docs</a>).<br/>\n",
              "Sweep page: <a href=\"https://wandb.ai/cs21s006_cs21s043/cs6910_assignment1/sweeps/1463mzwx\" target=\"_blank\">https://wandb.ai/cs21s006_cs21s043/cs6910_assignment1/sweeps/1463mzwx</a><br/>\n",
              "\n",
              "                "
            ],
            "text/plain": [
              "<IPython.core.display.HTML object>"
            ]
          },
          "metadata": {},
          "output_type": "display_data"
        },
        {
          "metadata": {
            "tags": null
          },
          "name": "stdout",
          "output_type": "stream",
          "text": [
            "(54000, 784) (54000, 10) (10000, 784) (10000, 10) (6000, 784) (6000, 10)\n"
          ]
        },
        {
          "metadata": {
            "tags": null
          },
          "name": "stderr",
          "output_type": "stream",
          "text": [
            "epoch: 0, lr: 0.00010 | loss: 0.0356, acc(batch): 0.8839, grad:106696.7236: : 422it [00:54,  7.77it/s]\n"
          ]
        },
        {
          "metadata": {
            "tags": null
          },
          "name": "stdout",
          "output_type": "stream",
          "text": [
            "acc(train): 0.8487, acc(val): 0.8492, acc(test): 0.8340\n",
            "___________________________________________________________________________________________________\n"
          ]
        },
        {
          "metadata": {
            "tags": null
          },
          "name": "stderr",
          "output_type": "stream",
          "text": [
            "epoch: 1, lr: 0.00010 | loss: 0.0329, acc(batch): 0.8929, grad:105741.7532: : 422it [00:54,  7.74it/s]\n"
          ]
        },
        {
          "metadata": {
            "tags": null
          },
          "name": "stdout",
          "output_type": "stream",
          "text": [
            "acc(train): 0.8630, acc(val): 0.8582, acc(test): 0.8468\n",
            "___________________________________________________________________________________________________\n"
          ]
        },
        {
          "metadata": {
            "tags": null
          },
          "name": "stderr",
          "output_type": "stream",
          "text": [
            "epoch: 2, lr: 0.00010 | loss: 0.0318, acc(batch): 0.9018, grad:105749.8923: : 422it [00:55,  7.63it/s]\n"
          ]
        },
        {
          "metadata": {
            "tags": null
          },
          "name": "stdout",
          "output_type": "stream",
          "text": [
            "acc(train): 0.8711, acc(val): 0.8625, acc(test): 0.8535\n",
            "___________________________________________________________________________________________________\n"
          ]
        },
        {
          "metadata": {
            "tags": null
          },
          "name": "stderr",
          "output_type": "stream",
          "text": [
            "epoch: 3, lr: 0.00010 | loss: 0.0310, acc(batch): 0.9018, grad:106299.0906: : 422it [00:54,  7.74it/s]\n"
          ]
        },
        {
          "metadata": {
            "tags": null
          },
          "name": "stdout",
          "output_type": "stream",
          "text": [
            "acc(train): 0.8776, acc(val): 0.8675, acc(test): 0.8551\n",
            "___________________________________________________________________________________________________\n"
          ]
        },
        {
          "metadata": {
            "tags": null
          },
          "name": "stderr",
          "output_type": "stream",
          "text": [
            "epoch: 4, lr: 0.00010 | loss: 0.0305, acc(batch): 0.9018, grad:106751.6958: : 422it [00:55,  7.67it/s]\n"
          ]
        },
        {
          "metadata": {
            "tags": null
          },
          "name": "stdout",
          "output_type": "stream",
          "text": [
            "acc(train): 0.8826, acc(val): 0.8703, acc(test): 0.8597\n",
            "___________________________________________________________________________________________________\n"
          ]
        },
        {
          "metadata": {
            "tags": null
          },
          "name": "stderr",
          "output_type": "stream",
          "text": [
            "epoch: 5, lr: 0.00010 | loss: 0.0299, acc(batch): 0.9018, grad:107100.0584: : 422it [00:54,  7.70it/s]\n"
          ]
        },
        {
          "metadata": {
            "tags": null
          },
          "name": "stdout",
          "output_type": "stream",
          "text": [
            "acc(train): 0.8872, acc(val): 0.8735, acc(test): 0.8612\n",
            "___________________________________________________________________________________________________\n"
          ]
        },
        {
          "metadata": {
            "tags": null
          },
          "name": "stderr",
          "output_type": "stream",
          "text": [
            "epoch: 6, lr: 0.00010 | loss: 0.0294, acc(batch): 0.9018, grad:107414.1697: : 422it [00:54,  7.70it/s]\n"
          ]
        },
        {
          "metadata": {
            "tags": null
          },
          "name": "stdout",
          "output_type": "stream",
          "text": [
            "acc(train): 0.8917, acc(val): 0.8763, acc(test): 0.8640\n",
            "___________________________________________________________________________________________________\n"
          ]
        },
        {
          "metadata": {
            "tags": null
          },
          "name": "stderr",
          "output_type": "stream",
          "text": [
            "epoch: 7, lr: 0.00010 | loss: 0.0288, acc(batch): 0.9018, grad:107649.2686: : 422it [00:54,  7.68it/s]\n"
          ]
        },
        {
          "metadata": {
            "tags": null
          },
          "name": "stdout",
          "output_type": "stream",
          "text": [
            "acc(train): 0.8962, acc(val): 0.8793, acc(test): 0.8679\n",
            "___________________________________________________________________________________________________\n"
          ]
        },
        {
          "metadata": {
            "tags": null
          },
          "name": "stderr",
          "output_type": "stream",
          "text": [
            "epoch: 8, lr: 0.00010 | loss: 0.0283, acc(batch): 0.9018, grad:107865.9686: : 422it [00:53,  7.88it/s]\n"
          ]
        },
        {
          "metadata": {
            "tags": null
          },
          "name": "stdout",
          "output_type": "stream",
          "text": [
            "acc(train): 0.8999, acc(val): 0.8820, acc(test): 0.8700\n",
            "___________________________________________________________________________________________________\n"
          ]
        },
        {
          "metadata": {
            "tags": null
          },
          "name": "stderr",
          "output_type": "stream",
          "text": [
            "epoch: 9, lr: 0.00010 | loss: 0.0278, acc(batch): 0.9018, grad:107992.6348: : 422it [00:52,  8.00it/s]\n"
          ]
        },
        {
          "metadata": {
            "tags": null
          },
          "name": "stdout",
          "output_type": "stream",
          "text": [
            "acc(train): 0.9035, acc(val): 0.8850, acc(test): 0.8711\n",
            "___________________________________________________________________________________________________\n"
          ]
        },
        {
          "metadata": {
            "tags": null
          },
          "name": "stderr",
          "output_type": "stream",
          "text": [
            "epoch: 10, lr: 0.00010 | loss: 0.0273, acc(batch): 0.9018, grad:108007.9735: : 422it [00:52,  8.08it/s]\n"
          ]
        },
        {
          "metadata": {
            "tags": null
          },
          "name": "stdout",
          "output_type": "stream",
          "text": [
            "acc(train): 0.9066, acc(val): 0.8865, acc(test): 0.8742\n",
            "___________________________________________________________________________________________________\n"
          ]
        },
        {
          "metadata": {
            "tags": null
          },
          "name": "stderr",
          "output_type": "stream",
          "text": [
            "epoch: 11, lr: 0.00010 | loss: 0.0269, acc(batch): 0.9018, grad:108004.6788: : 422it [00:52,  8.02it/s]\n"
          ]
        },
        {
          "metadata": {
            "tags": null
          },
          "name": "stdout",
          "output_type": "stream",
          "text": [
            "acc(train): 0.9094, acc(val): 0.8885, acc(test): 0.8768\n",
            "___________________________________________________________________________________________________\n"
          ]
        },
        {
          "metadata": {
            "tags": null
          },
          "name": "stderr",
          "output_type": "stream",
          "text": [
            "epoch: 12, lr: 0.00010 | loss: 0.0265, acc(batch): 0.9107, grad:107957.9956: : 422it [00:53,  7.89it/s]\n"
          ]
        },
        {
          "metadata": {
            "tags": null
          },
          "name": "stdout",
          "output_type": "stream",
          "text": [
            "acc(train): 0.9119, acc(val): 0.8885, acc(test): 0.8784\n",
            "___________________________________________________________________________________________________\n"
          ]
        },
        {
          "metadata": {
            "tags": null
          },
          "name": "stderr",
          "output_type": "stream",
          "text": [
            "epoch: 13, lr: 0.00010 | loss: 0.0262, acc(batch): 0.9107, grad:107935.2179: : 422it [00:53,  7.94it/s]\n"
          ]
        },
        {
          "metadata": {
            "tags": null
          },
          "name": "stdout",
          "output_type": "stream",
          "text": [
            "acc(train): 0.9146, acc(val): 0.8888, acc(test): 0.8791\n",
            "___________________________________________________________________________________________________\n"
          ]
        },
        {
          "metadata": {
            "tags": null
          },
          "name": "stderr",
          "output_type": "stream",
          "text": [
            "epoch: 14, lr: 0.00010 | loss: 0.0258, acc(batch): 0.9018, grad:107958.9899: : 422it [00:52,  7.99it/s]\n"
          ]
        },
        {
          "metadata": {
            "tags": null
          },
          "name": "stdout",
          "output_type": "stream",
          "text": [
            "acc(train): 0.9168, acc(val): 0.8907, acc(test): 0.8794\n",
            "___________________________________________________________________________________________________\n"
          ]
        },
        {
          "metadata": {
            "tags": null
          },
          "name": "stderr",
          "output_type": "stream",
          "text": [
            "epoch: 15, lr: 0.00010 | loss: 0.0255, acc(batch): 0.9286, grad:107977.7716: : 422it [00:52,  7.99it/s]\n"
          ]
        },
        {
          "metadata": {
            "tags": null
          },
          "name": "stdout",
          "output_type": "stream",
          "text": [
            "acc(train): 0.9187, acc(val): 0.8912, acc(test): 0.8798\n",
            "___________________________________________________________________________________________________\n"
          ]
        },
        {
          "metadata": {
            "tags": null
          },
          "name": "stderr",
          "output_type": "stream",
          "text": [
            "epoch: 16, lr: 0.00010 | loss: 0.0251, acc(batch): 0.9375, grad:107984.2676: : 422it [00:52,  8.00it/s]\n"
          ]
        },
        {
          "metadata": {
            "tags": null
          },
          "name": "stdout",
          "output_type": "stream",
          "text": [
            "acc(train): 0.9201, acc(val): 0.8925, acc(test): 0.8806\n",
            "___________________________________________________________________________________________________\n"
          ]
        },
        {
          "metadata": {
            "tags": null
          },
          "name": "stderr",
          "output_type": "stream",
          "text": [
            "epoch: 17, lr: 0.00010 | loss: 0.0248, acc(batch): 0.9375, grad:107972.4479: : 422it [00:53,  7.89it/s]\n"
          ]
        },
        {
          "metadata": {
            "tags": null
          },
          "name": "stdout",
          "output_type": "stream",
          "text": [
            "acc(train): 0.9224, acc(val): 0.8943, acc(test): 0.8813\n",
            "___________________________________________________________________________________________________\n"
          ]
        },
        {
          "metadata": {
            "tags": null
          },
          "name": "stderr",
          "output_type": "stream",
          "text": [
            "epoch: 18, lr: 0.00010 | loss: 0.0245, acc(batch): 0.9375, grad:107946.9313: : 422it [00:53,  7.96it/s]\n"
          ]
        },
        {
          "metadata": {
            "tags": null
          },
          "name": "stdout",
          "output_type": "stream",
          "text": [
            "acc(train): 0.9240, acc(val): 0.8940, acc(test): 0.8816\n",
            "___________________________________________________________________________________________________\n"
          ]
        },
        {
          "metadata": {
            "tags": null
          },
          "name": "stderr",
          "output_type": "stream",
          "text": [
            "epoch: 19, lr: 0.00010 | loss: 0.0243, acc(batch): 0.9375, grad:107910.2732: : 422it [00:52,  8.03it/s]\n"
          ]
        },
        {
          "metadata": {
            "tags": null
          },
          "name": "stdout",
          "output_type": "stream",
          "text": [
            "acc(train): 0.9258, acc(val): 0.8943, acc(test): 0.8824\n",
            "___________________________________________________________________________________________________\n"
          ]
        },
        {
          "data": {
            "text/html": [
              "<br/>Waiting for W&B process to finish, PID 694... <strong style=\"color:green\">(success).</strong>"
            ],
            "text/plain": [
              "<IPython.core.display.HTML object>"
            ]
          },
          "metadata": {},
          "output_type": "display_data"
        },
        {
          "data": {
            "application/vnd.jupyter.widget-view+json": {
              "model_id": "8cc12ce52aae489b89f977970ad94921",
              "version_major": 2,
              "version_minor": 0
            },
            "text/plain": [
              "VBox(children=(Label(value=' 0.00MB of 0.01MB uploaded (0.00MB deduped)\\r'), FloatProgress(value=0.57938799076…"
            ]
          },
          "metadata": {},
          "output_type": "display_data"
        },
        {
          "data": {
            "text/html": [
              "<style>\n",
              "    table.wandb td:nth-child(1) { padding: 0 10px; text-align: right }\n",
              "    .wandb-row { display: flex; flex-direction: row; flex-wrap: wrap; width: 100% }\n",
              "    .wandb-col { display: flex; flex-direction: column; flex-basis: 100%; flex: 1; padding: 10px; }\n",
              "    </style>\n",
              "<div class=\"wandb-row\"><div class=\"wandb-col\">\n",
              "<h3>Run history:</h3><br/><table class=\"wandb\"><tr><td>epoch</td><td>▁▁▂▂▂▃▃▄▄▄▅▅▅▆▆▇▇▇██</td></tr><tr><td>test_acc</td><td>▁▃▄▄▅▅▅▆▆▆▇▇▇███████</td></tr><tr><td>train_acc</td><td>▁▂▃▄▄▄▅▅▆▆▆▇▇▇▇▇▇███</td></tr><tr><td>train_loss</td><td>█▅▄▄▃▃▃▃▂▂▂▂▂▂▂▁▁▁▁▁</td></tr><tr><td>val_acc</td><td>▁▂▃▄▄▅▅▆▆▇▇▇▇▇▇█████</td></tr><tr><td>val_loss</td><td>█▆▅▅▄▄▃▃▂▂▂▂▁▁▁▁▁▁▁▁</td></tr></table><br/></div><div class=\"wandb-col\">\n",
              "<h3>Run summary:</h3><br/><table class=\"wandb\"><tr><td>epoch</td><td>19</td></tr><tr><td>test_acc</td><td>0.8824</td></tr><tr><td>train_acc</td><td>0.92581</td></tr><tr><td>train_loss</td><td>0.02054</td></tr><tr><td>val_acc</td><td>0.89433</td></tr><tr><td>val_loss</td><td>0.03105</td></tr></table>\n",
              "</div></div>\n",
              "Synced 5 W&B file(s), 1 media file(s), 1 artifact file(s) and 0 other file(s)\n",
              "<br/>Synced <strong style=\"color:#cdcd00\">stellar-sweep-28</strong>: <a href=\"https://wandb.ai/cs21s006_cs21s043/cs6910_assignment1/runs/tg56vk0v\" target=\"_blank\">https://wandb.ai/cs21s006_cs21s043/cs6910_assignment1/runs/tg56vk0v</a><br/>\n",
              "Find logs at: <code>./wandb/run-20220218_123531-tg56vk0v/logs</code><br/>\n"
            ],
            "text/plain": [
              "<IPython.core.display.HTML object>"
            ]
          },
          "metadata": {},
          "output_type": "display_data"
        },
        {
          "metadata": {
            "tags": null
          },
          "name": "stderr",
          "output_type": "stream",
          "text": [
            "\u001b[34m\u001b[1mwandb\u001b[0m: Agent Starting Run: 7gbhwwpi with config:\n",
            "\u001b[34m\u001b[1mwandb\u001b[0m: \tactivation: ReLU\n",
            "\u001b[34m\u001b[1mwandb\u001b[0m: \tbatch_size: 64\n",
            "\u001b[34m\u001b[1mwandb\u001b[0m: \tepochs: 20\n",
            "\u001b[34m\u001b[1mwandb\u001b[0m: \thidden_size: 32\n",
            "\u001b[34m\u001b[1mwandb\u001b[0m: \tlearning_rate: 0.0005\n",
            "\u001b[34m\u001b[1mwandb\u001b[0m: \tloss: cross_entropy\n",
            "\u001b[34m\u001b[1mwandb\u001b[0m: \tnum_layers: 4\n",
            "\u001b[34m\u001b[1mwandb\u001b[0m: \toptimizer: adam\n",
            "\u001b[34m\u001b[1mwandb\u001b[0m: \tweight_decay: 0.0005\n",
            "\u001b[34m\u001b[1mwandb\u001b[0m: \tweight_init_method: Xavier_normal\n",
            "\u001b[34m\u001b[1mwandb\u001b[0m: \u001b[33mWARNING\u001b[0m Ignored wandb.init() arg project when running a sweep.\n",
            "\u001b[34m\u001b[1mwandb\u001b[0m: \u001b[33mWARNING\u001b[0m Ignored wandb.init() arg entity when running a sweep.\n"
          ]
        },
        {
          "data": {
            "text/html": [
              "\n",
              "                    Syncing run <strong><a href=\"https://wandb.ai/cs21s006_cs21s043/cs6910_assignment1/runs/7gbhwwpi\" target=\"_blank\">spring-sweep-33</a></strong> to <a href=\"https://wandb.ai/cs21s006_cs21s043/cs6910_assignment1\" target=\"_blank\">Weights & Biases</a> (<a href=\"https://docs.wandb.com/integrations/jupyter.html\" target=\"_blank\">docs</a>).<br/>\n",
              "Sweep page: <a href=\"https://wandb.ai/cs21s006_cs21s043/cs6910_assignment1/sweeps/1463mzwx\" target=\"_blank\">https://wandb.ai/cs21s006_cs21s043/cs6910_assignment1/sweeps/1463mzwx</a><br/>\n",
              "\n",
              "                "
            ],
            "text/plain": [
              "<IPython.core.display.HTML object>"
            ]
          },
          "metadata": {},
          "output_type": "display_data"
        },
        {
          "metadata": {
            "tags": null
          },
          "name": "stdout",
          "output_type": "stream",
          "text": [
            "(54000, 784) (54000, 10) (10000, 784) (10000, 10) (6000, 784) (6000, 10)\n"
          ]
        },
        {
          "metadata": {
            "tags": null
          },
          "name": "stderr",
          "output_type": "stream",
          "text": [
            "epoch: 0, lr: 0.00050 | loss: 0.0277, acc(batch): 0.8958, grad:18901.8806: : 844it [00:13, 60.71it/s]                       \n"
          ]
        },
        {
          "metadata": {
            "tags": null
          },
          "name": "stdout",
          "output_type": "stream",
          "text": [
            "acc(train): 0.8296, acc(val): 0.8310, acc(test): 0.8209\n",
            "___________________________________________________________________________________________________\n"
          ]
        },
        {
          "metadata": {
            "tags": null
          },
          "name": "stderr",
          "output_type": "stream",
          "text": [
            "epoch: 1, lr: 0.00050 | loss: 0.0240, acc(batch): 0.9583, grad:19526.4617: : 844it [00:14, 59.88it/s]                       \n"
          ]
        },
        {
          "metadata": {
            "tags": null
          },
          "name": "stdout",
          "output_type": "stream",
          "text": [
            "acc(train): 0.8446, acc(val): 0.8438, acc(test): 0.8315\n",
            "___________________________________________________________________________________________________\n"
          ]
        },
        {
          "output_type": "stream",
          "name": "stderr",
          "text": [
            "epoch: 2, lr: 0.00050 | loss: 0.0216, acc(batch): 0.9583, grad:20034.9119: : 844it [00:15, 55.32it/s]                       \n"
          ]
        },
        {
          "output_type": "stream",
          "name": "stdout",
          "text": [
            "acc(train): 0.8524, acc(val): 0.8485, acc(test): 0.8377\n",
            "___________________________________________________________________________________________________\n"
          ]
        },
        {
          "output_type": "stream",
          "name": "stderr",
          "text": [
            "epoch: 3, lr: 0.00050 | loss: 0.0208, acc(batch): 0.9583, grad:20373.2158: : 844it [00:15, 54.51it/s]                       \n"
          ]
        },
        {
          "output_type": "stream",
          "name": "stdout",
          "text": [
            "acc(train): 0.8604, acc(val): 0.8552, acc(test): 0.8445\n",
            "___________________________________________________________________________________________________\n"
          ]
        },
        {
          "output_type": "stream",
          "name": "stderr",
          "text": [
            "epoch: 4, lr: 0.00050 | loss: 0.0199, acc(batch): 0.9583, grad:20446.8577: : 844it [00:15, 54.73it/s]                       \n"
          ]
        },
        {
          "output_type": "stream",
          "name": "stdout",
          "text": [
            "acc(train): 0.8634, acc(val): 0.8558, acc(test): 0.8465\n",
            "___________________________________________________________________________________________________\n"
          ]
        },
        {
          "output_type": "stream",
          "name": "stderr",
          "text": [
            "epoch: 5, lr: 0.00050 | loss: 0.0194, acc(batch): 0.9583, grad:20494.5490: : 844it [00:15, 55.22it/s]                       \n"
          ]
        },
        {
          "output_type": "stream",
          "name": "stdout",
          "text": [
            "acc(train): 0.8671, acc(val): 0.8578, acc(test): 0.8480\n",
            "___________________________________________________________________________________________________\n"
          ]
        },
        {
          "output_type": "stream",
          "name": "stderr",
          "text": [
            "epoch: 6, lr: 0.00050 | loss: 0.0191, acc(batch): 0.9583, grad:20605.5242: : 844it [00:15, 55.65it/s]                       \n"
          ]
        },
        {
          "output_type": "stream",
          "name": "stdout",
          "text": [
            "acc(train): 0.8703, acc(val): 0.8592, acc(test): 0.8491\n",
            "___________________________________________________________________________________________________\n"
          ]
        },
        {
          "output_type": "stream",
          "name": "stderr",
          "text": [
            "epoch: 7, lr: 0.00050 | loss: 0.0196, acc(batch): 0.9583, grad:20931.2395: : 844it [00:15, 54.02it/s]\n"
          ]
        },
        {
          "output_type": "stream",
          "name": "stdout",
          "text": [
            "acc(train): 0.8721, acc(val): 0.8593, acc(test): 0.8515\n",
            "___________________________________________________________________________________________________\n"
          ]
        },
        {
          "output_type": "stream",
          "name": "stderr",
          "text": [
            "epoch: 8, lr: 0.00050 | loss: 0.0184, acc(batch): 0.9583, grad:20950.3528: : 844it [00:15, 52.83it/s]                       \n"
          ]
        },
        {
          "output_type": "stream",
          "name": "stdout",
          "text": [
            "acc(train): 0.8745, acc(val): 0.8618, acc(test): 0.8537\n",
            "___________________________________________________________________________________________________\n"
          ]
        },
        {
          "output_type": "stream",
          "name": "stderr",
          "text": [
            "epoch: 9, lr: 0.00050 | loss: 0.0180, acc(batch): 0.9583, grad:20678.5071: : 844it [00:15, 54.89it/s]                       \n"
          ]
        },
        {
          "output_type": "stream",
          "name": "stdout",
          "text": [
            "acc(train): 0.8759, acc(val): 0.8635, acc(test): 0.8518\n",
            "___________________________________________________________________________________________________\n"
          ]
        },
        {
          "output_type": "stream",
          "name": "stderr",
          "text": [
            "epoch: 10, lr: 0.00050 | loss: 0.0181, acc(batch): 0.9583, grad:20949.8316: : 844it [00:15, 54.52it/s]                       \n"
          ]
        },
        {
          "output_type": "stream",
          "name": "stdout",
          "text": [
            "acc(train): 0.8789, acc(val): 0.8667, acc(test): 0.8539\n",
            "___________________________________________________________________________________________________\n"
          ]
        },
        {
          "output_type": "stream",
          "name": "stderr",
          "text": [
            "epoch: 11, lr: 0.00050 | loss: 0.0179, acc(batch): 0.9375, grad:20483.3069: : 844it [00:15, 55.92it/s]                       \n"
          ]
        },
        {
          "output_type": "stream",
          "name": "stdout",
          "text": [
            "acc(train): 0.8826, acc(val): 0.8693, acc(test): 0.8564\n",
            "___________________________________________________________________________________________________\n"
          ]
        },
        {
          "output_type": "stream",
          "name": "stderr",
          "text": [
            "epoch: 12, lr: 0.00050 | loss: 0.0179, acc(batch): 0.9375, grad:20558.8360: : 844it [00:15, 54.62it/s]                       \n"
          ]
        },
        {
          "output_type": "stream",
          "name": "stdout",
          "text": [
            "acc(train): 0.8831, acc(val): 0.8693, acc(test): 0.8574\n",
            "___________________________________________________________________________________________________\n"
          ]
        },
        {
          "output_type": "stream",
          "name": "stderr",
          "text": [
            "epoch: 13, lr: 0.00050 | loss: 0.0172, acc(batch): 0.9583, grad:20663.5350: : 844it [00:15, 56.20it/s]                       \n"
          ]
        },
        {
          "output_type": "stream",
          "name": "stdout",
          "text": [
            "acc(train): 0.8856, acc(val): 0.8713, acc(test): 0.8596\n",
            "___________________________________________________________________________________________________\n"
          ]
        },
        {
          "output_type": "stream",
          "name": "stderr",
          "text": [
            "epoch: 14, lr: 0.00050 | loss: 0.0177, acc(batch): 0.9375, grad:20554.4036: : 844it [00:15, 56.15it/s]                       \n"
          ]
        },
        {
          "output_type": "stream",
          "name": "stdout",
          "text": [
            "acc(train): 0.8868, acc(val): 0.8735, acc(test): 0.8605\n",
            "___________________________________________________________________________________________________\n"
          ]
        },
        {
          "output_type": "stream",
          "name": "stderr",
          "text": [
            "epoch: 15, lr: 0.00050 | loss: 0.0172, acc(batch): 0.9375, grad:20376.2660: : 844it [00:15, 56.18it/s]                       \n"
          ]
        },
        {
          "output_type": "stream",
          "name": "stdout",
          "text": [
            "acc(train): 0.8873, acc(val): 0.8725, acc(test): 0.8599\n",
            "___________________________________________________________________________________________________\n"
          ]
        },
        {
          "output_type": "stream",
          "name": "stderr",
          "text": [
            "epoch: 16, lr: 0.00050 | loss: 0.0170, acc(batch): 0.9167, grad:20357.7011: : 844it [00:14, 57.18it/s]\n"
          ]
        },
        {
          "output_type": "stream",
          "name": "stdout",
          "text": [
            "acc(train): 0.8888, acc(val): 0.8737, acc(test): 0.8619\n",
            "___________________________________________________________________________________________________\n"
          ]
        },
        {
          "output_type": "stream",
          "name": "stderr",
          "text": [
            "epoch: 17, lr: 0.00050 | loss: 0.0165, acc(batch): 0.9167, grad:20699.7549: : 844it [00:14, 57.57it/s]\n"
          ]
        },
        {
          "output_type": "stream",
          "name": "stdout",
          "text": [
            "acc(train): 0.8909, acc(val): 0.8735, acc(test): 0.8619\n",
            "___________________________________________________________________________________________________\n"
          ]
        },
        {
          "output_type": "stream",
          "name": "stderr",
          "text": [
            "epoch: 18, lr: 0.00050 | loss: 0.0164, acc(batch): 0.9167, grad:20300.2279: : 844it [00:15, 56.03it/s]                       \n"
          ]
        },
        {
          "output_type": "stream",
          "name": "stdout",
          "text": [
            "acc(train): 0.8914, acc(val): 0.8725, acc(test): 0.8617\n",
            "___________________________________________________________________________________________________\n"
          ]
        },
        {
          "output_type": "stream",
          "name": "stderr",
          "text": [
            "epoch: 19, lr: 0.00050 | loss: 0.0154, acc(batch): 0.9375, grad:20553.8472: : 844it [00:15, 55.52it/s]                       \n"
          ]
        },
        {
          "output_type": "stream",
          "name": "stdout",
          "text": [
            "acc(train): 0.8934, acc(val): 0.8735, acc(test): 0.8646\n",
            "___________________________________________________________________________________________________\n"
          ]
        },
        {
          "output_type": "display_data",
          "data": {
            "text/html": [
              "<br/>Waiting for W&B process to finish, PID 742... <strong style=\"color:green\">(success).</strong>"
            ],
            "text/plain": [
              "<IPython.core.display.HTML object>"
            ]
          },
          "metadata": {}
        },
        {
          "output_type": "display_data",
          "data": {
            "application/vnd.jupyter.widget-view+json": {
              "model_id": "4605e6d0a0704f86aac20a2cae59da62",
              "version_minor": 0,
              "version_major": 2
            },
            "text/plain": [
              "VBox(children=(Label(value=' 0.00MB of 0.01MB uploaded (0.00MB deduped)\\r'), FloatProgress(value=0.57957827845…"
            ]
          },
          "metadata": {}
        },
        {
          "output_type": "display_data",
          "data": {
            "text/html": [
              "<style>\n",
              "    table.wandb td:nth-child(1) { padding: 0 10px; text-align: right }\n",
              "    .wandb-row { display: flex; flex-direction: row; flex-wrap: wrap; width: 100% }\n",
              "    .wandb-col { display: flex; flex-direction: column; flex-basis: 100%; flex: 1; padding: 10px; }\n",
              "    </style>\n",
              "<div class=\"wandb-row\"><div class=\"wandb-col\">\n",
              "<h3>Run history:</h3><br/><table class=\"wandb\"><tr><td>epoch</td><td>▁▁▂▂▂▃▃▄▄▄▅▅▅▆▆▇▇▇██</td></tr><tr><td>test_acc</td><td>▁▃▄▅▅▅▆▆▆▆▆▇▇▇▇▇████</td></tr><tr><td>train_acc</td><td>▁▃▄▄▅▅▅▆▆▆▆▇▇▇▇▇▇███</td></tr><tr><td>train_loss</td><td>█▄▃▃▃▂▂▂▂▂▂▂▁▁▁▁▁▁▁▁</td></tr><tr><td>val_acc</td><td>▁▃▄▅▅▅▆▆▆▆▇▇▇███████</td></tr><tr><td>val_loss</td><td>█▆▅▄▃▃▃▃▂▂▂▂▂▂▁▁▁▁▁▁</td></tr></table><br/></div><div class=\"wandb-col\">\n",
              "<h3>Run summary:</h3><br/><table class=\"wandb\"><tr><td>epoch</td><td>19</td></tr><tr><td>test_acc</td><td>0.8646</td></tr><tr><td>train_acc</td><td>0.89343</td></tr><tr><td>train_loss</td><td>0.029</td></tr><tr><td>val_acc</td><td>0.8735</td></tr><tr><td>val_loss</td><td>0.03613</td></tr></table>\n",
              "</div></div>\n",
              "Synced 5 W&B file(s), 1 media file(s), 1 artifact file(s) and 0 other file(s)\n",
              "<br/>Synced <strong style=\"color:#cdcd00\">spring-sweep-33</strong>: <a href=\"https://wandb.ai/cs21s006_cs21s043/cs6910_assignment1/runs/7gbhwwpi\" target=\"_blank\">https://wandb.ai/cs21s006_cs21s043/cs6910_assignment1/runs/7gbhwwpi</a><br/>\n",
              "Find logs at: <code>./wandb/run-20220218_125520-7gbhwwpi/logs</code><br/>\n"
            ],
            "text/plain": [
              "<IPython.core.display.HTML object>"
            ]
          },
          "metadata": {}
        }
      ],
      "source": [
        "wandb.agent(\"1463mzwx\", function=spawn_fn, count=10)"
      ]
    },
    {
      "cell_type": "code",
      "source": [
        "wandb.agent(\"1463mzwx\", function=spawn_fn, count=10)"
      ],
      "metadata": {
        "id": "t_U75s1kXXhb",
        "colab": {
          "base_uri": "https://localhost:8080/",
          "height": 1000,
          "referenced_widgets": [
            "b7459491f58147948857263b4d253d0a",
            "db004eb903254bd8841ec2605453c445",
            "d0dd1411b24845a5afecaf2d40d81799",
            "c7ffefc6c74c4a338ccb0c2c1b7c1146",
            "ff1d7ae7293a4f2e9910bff0b9dbd793",
            "e40a627d1c5b4596ae5228c32a79f9bb",
            "a1d447748c4b4e628c65547b83047fae",
            "fa1fb3cc094a456a81879a5893e21bb2",
            "49f1811d443f4d6a9e5e5b4f12f31237",
            "4734f90024c3453f97e1b9de8013b536",
            "61498ea7d86141328bd27fd013b7d454",
            "91b73a8d857d41a5a35a8397c86e5466",
            "36b9c140efd0420aba43d516e2dbcfe4",
            "f0c96601b4c048e29d7ea1e5cb3bf0ab",
            "080eb57815cd43e8ab21a8653fc519d1",
            "11a264cab5a442369dcb3ce5c1bee188",
            "3c91ee375a7f4fa4b020e974a721f05e",
            "4bd2b112f9014146994ef22126f2c956",
            "23374d02a279483fb8bb4676dfcf8f4d",
            "a866d6b26fbb46e2bd9128e573cb11db",
            "abe99afa48604b35933797090882bbad",
            "883c64a7a2344b99ac12da449c6acc80",
            "e6292bd2f66245a8ac594cef7e30c278",
            "21463e984fd0443691e0e78a7c08dc29",
            "3781b3b909104c5c9e89b2f5aaeae0ba",
            "3cbc4363aede42ce873d9502f9fc5d65",
            "cbeb61129d75429daabd89c86d2dfeab",
            "9ce0659ba4754066916fe24d008daac6",
            "db795aaf110e43fe9e40b460dabcc808",
            "e26c5a19ee414e31bb26807f6f9704d4",
            "70a8b54d2a8e4ff189184665a6562225",
            "6fd81edae3974eccbb513cd931f0d791",
            "5094cfb8807546bb9fd06df23a94c25e",
            "4b3b79cf621c49469385fc5ed0a80c9f",
            "0956904da3734b3fbafd7956ee821c61",
            "1f22ddea63814d069a81e37d511aaa15",
            "df806234e2394d17ba535134982e8a75",
            "c1667954cff94b6a8ee2cb6f568b5c18",
            "2edddae21aad4ac7ab6180d62671e692",
            "dc0b2aa1461d4ebaa7c7d934955c486c",
            "53594d6c985541cca4e2f00ef5ac1981",
            "c26cb3b409164db4b529e31055ea36de",
            "60ea230f985b408bb7e87d6d5d40645d",
            "4ef91ea5785841a78b07fca7d03d269c",
            "660478bf725244bebb29ee67de6cb9ce",
            "ed2450c6420d437cafbbbd464dc870af",
            "7edb456ced1642f3bae192e15dd62b79",
            "28f2fd26834a496e8344f6534793db51",
            "d724e1b331cd420ab6a4c62fa34a5361",
            "6cd78c7d8e2d4152b5f114ac5d7038a8",
            "d51df0c6142842e380bad1a8843ba1a3",
            "d1fbdc5512f14f2c9b3df7e845b50eb3",
            "ae5282a16acd45d19bd4cd1453e25512",
            "9b6da2196b9a4e60a7bc6c4462d3b5f0",
            "b272d3fab3864165bd906e37dcc0918e",
            "61d6cb71021943dfa1044af803f3d39e",
            "0ea16cc4505c41cf90f70d584f0abfb9",
            "a59c42ba0737400fb8eb5726e75772cb",
            "e68c12873c00436899903e136efb1a9b",
            "3292ba48b8cb428ea9947ff87dc1a1ef",
            "1188502dc1af4b3ba0f0c78ae1b0ac1b",
            "501ae402641b4c478f501e565e65d184",
            "6457b616bd3d474e8083dd51e170ff1f",
            "f9a85e8f5a1b4b518689d027cca13fcc",
            "5ba074b75f2f4547a8ab8987d2e1b3fc",
            "cb716605efb64814bd5c2d8ab6272843",
            "bc831171ce2945b49461ee91b46b294f",
            "0cdae8847e4a45589abf998db9ccee83",
            "9f48f66e12014cb8832cbbbb3fe11b82",
            "27965bd4c58446f4b01a28270eded0c5",
            "e4fcd90170794981bc524fc0e216106d",
            "012118308cc646699e1ce10b8ed80500",
            "d42a1cc9003e48dc881b3a5b5e47a985",
            "ee6caef732044024ba56907005e4d1e0",
            "a787c38cc69c46f99c6e7d0f29546b91",
            "21911e31e2cf4dc7bc51a65580a335d4",
            "4411e891cc794a18b8f7915b5b882d80",
            "3eff1f4b3a5e44828ac6a3c635285d31",
            "17eff75b798648358ad28fbc0dbc2217",
            "41dd628909fe4cc8a4ace10f297a5dc5"
          ]
        },
        "outputId": "2734f757-9ded-450f-fe15-4727c973c1ef"
      },
      "id": "t_U75s1kXXhb",
      "execution_count": 16,
      "outputs": [
        {
          "output_type": "stream",
          "name": "stderr",
          "text": [
            "\u001b[34m\u001b[1mwandb\u001b[0m: Agent Starting Run: 7uitvlls with config:\n",
            "\u001b[34m\u001b[1mwandb\u001b[0m: \tactivation: tanh\n",
            "\u001b[34m\u001b[1mwandb\u001b[0m: \tbatch_size: 64\n",
            "\u001b[34m\u001b[1mwandb\u001b[0m: \tepochs: 20\n",
            "\u001b[34m\u001b[1mwandb\u001b[0m: \thidden_size: 16\n",
            "\u001b[34m\u001b[1mwandb\u001b[0m: \tlearning_rate: 0.0001\n",
            "\u001b[34m\u001b[1mwandb\u001b[0m: \tloss: cross_entropy\n",
            "\u001b[34m\u001b[1mwandb\u001b[0m: \tnum_layers: 5\n",
            "\u001b[34m\u001b[1mwandb\u001b[0m: \toptimizer: adam\n",
            "\u001b[34m\u001b[1mwandb\u001b[0m: \tweight_decay: 0\n",
            "\u001b[34m\u001b[1mwandb\u001b[0m: \tweight_init_method: Xavier_normal\n",
            "\u001b[34m\u001b[1mwandb\u001b[0m: \u001b[33mWARNING\u001b[0m Ignored wandb.init() arg project when running a sweep.\n",
            "\u001b[34m\u001b[1mwandb\u001b[0m: \u001b[33mWARNING\u001b[0m Ignored wandb.init() arg entity when running a sweep.\n"
          ]
        },
        {
          "output_type": "display_data",
          "data": {
            "text/html": [
              "\n",
              "                    Syncing run <strong><a href=\"https://wandb.ai/cs21s006_cs21s043/cs6910_assignment1/runs/7uitvlls\" target=\"_blank\">sleek-sweep-37</a></strong> to <a href=\"https://wandb.ai/cs21s006_cs21s043/cs6910_assignment1\" target=\"_blank\">Weights & Biases</a> (<a href=\"https://docs.wandb.com/integrations/jupyter.html\" target=\"_blank\">docs</a>).<br/>\n",
              "Sweep page: <a href=\"https://wandb.ai/cs21s006_cs21s043/cs6910_assignment1/sweeps/1463mzwx\" target=\"_blank\">https://wandb.ai/cs21s006_cs21s043/cs6910_assignment1/sweeps/1463mzwx</a><br/>\n",
              "\n",
              "                "
            ],
            "text/plain": [
              "<IPython.core.display.HTML object>"
            ]
          },
          "metadata": {}
        },
        {
          "output_type": "stream",
          "name": "stdout",
          "text": [
            "(54000, 784) (54000, 10) (10000, 784) (10000, 10) (6000, 784) (6000, 10)\n"
          ]
        },
        {
          "output_type": "stream",
          "name": "stderr",
          "text": [
            "epoch: 0, lr: 0.00010 | loss: 0.0817, acc(batch): 0.8958, grad:13974.4253: : 844it [00:10, 77.94it/s]                       \n"
          ]
        },
        {
          "output_type": "stream",
          "name": "stdout",
          "text": [
            "acc(train): 0.7300, acc(val): 0.7305, acc(test): 0.7233\n",
            "___________________________________________________________________________________________________\n"
          ]
        },
        {
          "output_type": "stream",
          "name": "stderr",
          "text": [
            "epoch: 1, lr: 0.00010 | loss: 0.0503, acc(batch): 0.9375, grad:15169.5247: : 844it [00:10, 77.85it/s]\n"
          ]
        },
        {
          "output_type": "stream",
          "name": "stdout",
          "text": [
            "acc(train): 0.7712, acc(val): 0.7748, acc(test): 0.7628\n",
            "___________________________________________________________________________________________________\n"
          ]
        },
        {
          "output_type": "stream",
          "name": "stderr",
          "text": [
            "epoch: 2, lr: 0.00010 | loss: 0.0365, acc(batch): 0.9375, grad:14811.3835: : 844it [00:10, 80.41it/s]                       \n"
          ]
        },
        {
          "output_type": "stream",
          "name": "stdout",
          "text": [
            "acc(train): 0.7987, acc(val): 0.8037, acc(test): 0.7910\n",
            "___________________________________________________________________________________________________\n"
          ]
        },
        {
          "output_type": "stream",
          "name": "stderr",
          "text": [
            "epoch: 3, lr: 0.00010 | loss: 0.0293, acc(batch): 0.9375, grad:14890.5081: : 844it [00:10, 79.54it/s]                       \n"
          ]
        },
        {
          "output_type": "stream",
          "name": "stdout",
          "text": [
            "acc(train): 0.8168, acc(val): 0.8218, acc(test): 0.8060\n",
            "___________________________________________________________________________________________________\n"
          ]
        },
        {
          "output_type": "stream",
          "name": "stderr",
          "text": [
            "epoch: 4, lr: 0.00010 | loss: 0.0252, acc(batch): 0.9375, grad:14954.6467: : 844it [00:10, 79.74it/s]                       \n"
          ]
        },
        {
          "output_type": "stream",
          "name": "stdout",
          "text": [
            "acc(train): 0.8280, acc(val): 0.8305, acc(test): 0.8151\n",
            "___________________________________________________________________________________________________\n"
          ]
        },
        {
          "output_type": "stream",
          "name": "stderr",
          "text": [
            "epoch: 5, lr: 0.00010 | loss: 0.0227, acc(batch): 0.9375, grad:15204.2862: : 844it [00:10, 81.38it/s]                       \n"
          ]
        },
        {
          "output_type": "stream",
          "name": "stdout",
          "text": [
            "acc(train): 0.8361, acc(val): 0.8380, acc(test): 0.8214\n",
            "___________________________________________________________________________________________________\n"
          ]
        },
        {
          "output_type": "stream",
          "name": "stderr",
          "text": [
            "epoch: 6, lr: 0.00010 | loss: 0.0211, acc(batch): 0.9375, grad:15388.4464: : 844it [00:10, 81.26it/s]                       \n"
          ]
        },
        {
          "output_type": "stream",
          "name": "stdout",
          "text": [
            "acc(train): 0.8417, acc(val): 0.8435, acc(test): 0.8281\n",
            "___________________________________________________________________________________________________\n"
          ]
        },
        {
          "output_type": "stream",
          "name": "stderr",
          "text": [
            "epoch: 7, lr: 0.00010 | loss: 0.0201, acc(batch): 0.9375, grad:15347.2773: : 844it [00:10, 82.71it/s]                       \n"
          ]
        },
        {
          "output_type": "stream",
          "name": "stdout",
          "text": [
            "acc(train): 0.8466, acc(val): 0.8475, acc(test): 0.8323\n",
            "___________________________________________________________________________________________________\n"
          ]
        },
        {
          "output_type": "stream",
          "name": "stderr",
          "text": [
            "epoch: 8, lr: 0.00010 | loss: 0.0195, acc(batch): 0.9375, grad:15344.9171: : 844it [00:10, 79.38it/s]\n"
          ]
        },
        {
          "output_type": "stream",
          "name": "stdout",
          "text": [
            "acc(train): 0.8504, acc(val): 0.8502, acc(test): 0.8349\n",
            "___________________________________________________________________________________________________\n"
          ]
        },
        {
          "output_type": "stream",
          "name": "stderr",
          "text": [
            "epoch: 9, lr: 0.00010 | loss: 0.0189, acc(batch): 0.9375, grad:15406.2563: : 844it [00:10, 80.85it/s]                       \n"
          ]
        },
        {
          "output_type": "stream",
          "name": "stdout",
          "text": [
            "acc(train): 0.8537, acc(val): 0.8525, acc(test): 0.8380\n",
            "___________________________________________________________________________________________________\n"
          ]
        },
        {
          "output_type": "stream",
          "name": "stderr",
          "text": [
            "epoch: 10, lr: 0.00010 | loss: 0.0184, acc(batch): 0.9375, grad:15516.3534: : 844it [00:10, 79.80it/s]                       \n"
          ]
        },
        {
          "output_type": "stream",
          "name": "stdout",
          "text": [
            "acc(train): 0.8568, acc(val): 0.8543, acc(test): 0.8394\n",
            "___________________________________________________________________________________________________\n"
          ]
        },
        {
          "output_type": "stream",
          "name": "stderr",
          "text": [
            "epoch: 11, lr: 0.00010 | loss: 0.0179, acc(batch): 0.9375, grad:15645.1069: : 844it [00:10, 78.27it/s]                       \n"
          ]
        },
        {
          "output_type": "stream",
          "name": "stdout",
          "text": [
            "acc(train): 0.8595, acc(val): 0.8565, acc(test): 0.8412\n",
            "___________________________________________________________________________________________________\n"
          ]
        },
        {
          "output_type": "stream",
          "name": "stderr",
          "text": [
            "epoch: 12, lr: 0.00010 | loss: 0.0173, acc(batch): 0.9375, grad:15775.8329: : 844it [00:10, 81.14it/s]                       \n"
          ]
        },
        {
          "output_type": "stream",
          "name": "stdout",
          "text": [
            "acc(train): 0.8622, acc(val): 0.8588, acc(test): 0.8426\n",
            "___________________________________________________________________________________________________\n"
          ]
        },
        {
          "output_type": "stream",
          "name": "stderr",
          "text": [
            "epoch: 13, lr: 0.00010 | loss: 0.0168, acc(batch): 0.9375, grad:15893.6686: : 844it [00:10, 81.68it/s]                       \n"
          ]
        },
        {
          "output_type": "stream",
          "name": "stdout",
          "text": [
            "acc(train): 0.8641, acc(val): 0.8617, acc(test): 0.8451\n",
            "___________________________________________________________________________________________________\n"
          ]
        },
        {
          "output_type": "stream",
          "name": "stderr",
          "text": [
            "epoch: 14, lr: 0.00010 | loss: 0.0163, acc(batch): 0.9375, grad:15988.6780: : 844it [00:10, 79.58it/s]\n"
          ]
        },
        {
          "output_type": "stream",
          "name": "stdout",
          "text": [
            "acc(train): 0.8666, acc(val): 0.8618, acc(test): 0.8465\n",
            "___________________________________________________________________________________________________\n"
          ]
        },
        {
          "output_type": "stream",
          "name": "stderr",
          "text": [
            "epoch: 15, lr: 0.00010 | loss: 0.0158, acc(batch): 0.9375, grad:16063.9349: : 844it [00:10, 79.20it/s]                       \n"
          ]
        },
        {
          "output_type": "stream",
          "name": "stdout",
          "text": [
            "acc(train): 0.8682, acc(val): 0.8623, acc(test): 0.8486\n",
            "___________________________________________________________________________________________________\n"
          ]
        },
        {
          "output_type": "stream",
          "name": "stderr",
          "text": [
            "epoch: 16, lr: 0.00010 | loss: 0.0154, acc(batch): 0.9375, grad:16124.9142: : 844it [00:10, 80.47it/s]                       \n"
          ]
        },
        {
          "output_type": "stream",
          "name": "stdout",
          "text": [
            "acc(train): 0.8697, acc(val): 0.8620, acc(test): 0.8507\n",
            "___________________________________________________________________________________________________\n"
          ]
        },
        {
          "output_type": "stream",
          "name": "stderr",
          "text": [
            "epoch: 17, lr: 0.00010 | loss: 0.0151, acc(batch): 0.9375, grad:16172.7439: : 844it [00:10, 81.14it/s]                       \n"
          ]
        },
        {
          "output_type": "stream",
          "name": "stdout",
          "text": [
            "acc(train): 0.8711, acc(val): 0.8632, acc(test): 0.8511\n",
            "___________________________________________________________________________________________________\n"
          ]
        },
        {
          "output_type": "stream",
          "name": "stderr",
          "text": [
            "epoch: 18, lr: 0.00010 | loss: 0.0147, acc(batch): 0.9375, grad:16207.9634: : 844it [00:10, 82.11it/s]                       \n"
          ]
        },
        {
          "output_type": "stream",
          "name": "stdout",
          "text": [
            "acc(train): 0.8723, acc(val): 0.8637, acc(test): 0.8533\n",
            "___________________________________________________________________________________________________\n"
          ]
        },
        {
          "output_type": "stream",
          "name": "stderr",
          "text": [
            "epoch: 19, lr: 0.00010 | loss: 0.0144, acc(batch): 0.9375, grad:16230.5059: : 844it [00:10, 81.63it/s]                       \n"
          ]
        },
        {
          "output_type": "stream",
          "name": "stdout",
          "text": [
            "acc(train): 0.8737, acc(val): 0.8637, acc(test): 0.8539\n",
            "___________________________________________________________________________________________________\n"
          ]
        },
        {
          "output_type": "display_data",
          "data": {
            "text/html": [
              "<br/>Waiting for W&B process to finish, PID 804... <strong style=\"color:green\">(success).</strong>"
            ],
            "text/plain": [
              "<IPython.core.display.HTML object>"
            ]
          },
          "metadata": {}
        },
        {
          "output_type": "display_data",
          "data": {
            "application/vnd.jupyter.widget-view+json": {
              "model_id": "b7459491f58147948857263b4d253d0a",
              "version_minor": 0,
              "version_major": 2
            },
            "text/plain": [
              "VBox(children=(Label(value=' 0.00MB of 0.00MB uploaded (0.00MB deduped)\\r'), FloatProgress(value=1.0, max=1.0)…"
            ]
          },
          "metadata": {}
        },
        {
          "output_type": "display_data",
          "data": {
            "text/html": [
              "<style>\n",
              "    table.wandb td:nth-child(1) { padding: 0 10px; text-align: right }\n",
              "    .wandb-row { display: flex; flex-direction: row; flex-wrap: wrap; width: 100% }\n",
              "    .wandb-col { display: flex; flex-direction: column; flex-basis: 100%; flex: 1; padding: 10px; }\n",
              "    </style>\n",
              "<div class=\"wandb-row\"><div class=\"wandb-col\">\n",
              "<h3>Run history:</h3><br/><table class=\"wandb\"><tr><td>epoch</td><td>▁▁▂▂▂▃▃▄▄▄▅▅▅▆▆▇▇▇██</td></tr><tr><td>test_acc</td><td>▁▃▅▅▆▆▇▇▇▇▇▇▇███████</td></tr><tr><td>train_acc</td><td>▁▃▄▅▆▆▆▇▇▇▇▇▇███████</td></tr><tr><td>train_loss</td><td>█▅▃▃▂▂▂▂▂▁▁▁▁▁▁▁▁▁▁▁</td></tr><tr><td>val_acc</td><td>▁▃▅▆▆▇▇▇▇▇██████████</td></tr><tr><td>val_loss</td><td>█▅▄▃▂▂▂▂▂▂▁▁▁▁▁▁▁▁▁▁</td></tr></table><br/></div><div class=\"wandb-col\">\n",
              "<h3>Run summary:</h3><br/><table class=\"wandb\"><tr><td>epoch</td><td>19</td></tr><tr><td>test_acc</td><td>0.8539</td></tr><tr><td>train_acc</td><td>0.87372</td></tr><tr><td>train_loss</td><td>0.03658</td></tr><tr><td>val_acc</td><td>0.86367</td></tr><tr><td>val_loss</td><td>0.03886</td></tr></table>\n",
              "</div></div>\n",
              "Synced 5 W&B file(s), 1 media file(s), 1 artifact file(s) and 0 other file(s)\n",
              "<br/>Synced <strong style=\"color:#cdcd00\">sleek-sweep-37</strong>: <a href=\"https://wandb.ai/cs21s006_cs21s043/cs6910_assignment1/runs/7uitvlls\" target=\"_blank\">https://wandb.ai/cs21s006_cs21s043/cs6910_assignment1/runs/7uitvlls</a><br/>\n",
              "Find logs at: <code>./wandb/run-20220218_132736-7uitvlls/logs</code><br/>\n"
            ],
            "text/plain": [
              "<IPython.core.display.HTML object>"
            ]
          },
          "metadata": {}
        },
        {
          "output_type": "stream",
          "name": "stderr",
          "text": [
            "\u001b[34m\u001b[1mwandb\u001b[0m: Agent Starting Run: a8dlcc0z with config:\n",
            "\u001b[34m\u001b[1mwandb\u001b[0m: \tactivation: tanh\n",
            "\u001b[34m\u001b[1mwandb\u001b[0m: \tbatch_size: 128\n",
            "\u001b[34m\u001b[1mwandb\u001b[0m: \tepochs: 20\n",
            "\u001b[34m\u001b[1mwandb\u001b[0m: \thidden_size: 32\n",
            "\u001b[34m\u001b[1mwandb\u001b[0m: \tlearning_rate: 0.001\n",
            "\u001b[34m\u001b[1mwandb\u001b[0m: \tloss: cross_entropy\n",
            "\u001b[34m\u001b[1mwandb\u001b[0m: \tnum_layers: 1\n",
            "\u001b[34m\u001b[1mwandb\u001b[0m: \toptimizer: adam\n",
            "\u001b[34m\u001b[1mwandb\u001b[0m: \tweight_decay: 0.0005\n",
            "\u001b[34m\u001b[1mwandb\u001b[0m: \tweight_init_method: Xavier_normal\n",
            "\u001b[34m\u001b[1mwandb\u001b[0m: \u001b[33mWARNING\u001b[0m Ignored wandb.init() arg project when running a sweep.\n",
            "\u001b[34m\u001b[1mwandb\u001b[0m: \u001b[33mWARNING\u001b[0m Ignored wandb.init() arg entity when running a sweep.\n"
          ]
        },
        {
          "output_type": "display_data",
          "data": {
            "text/html": [
              "\n",
              "                    Syncing run <strong><a href=\"https://wandb.ai/cs21s006_cs21s043/cs6910_assignment1/runs/a8dlcc0z\" target=\"_blank\">electric-sweep-39</a></strong> to <a href=\"https://wandb.ai/cs21s006_cs21s043/cs6910_assignment1\" target=\"_blank\">Weights & Biases</a> (<a href=\"https://docs.wandb.com/integrations/jupyter.html\" target=\"_blank\">docs</a>).<br/>\n",
              "Sweep page: <a href=\"https://wandb.ai/cs21s006_cs21s043/cs6910_assignment1/sweeps/1463mzwx\" target=\"_blank\">https://wandb.ai/cs21s006_cs21s043/cs6910_assignment1/sweeps/1463mzwx</a><br/>\n",
              "\n",
              "                "
            ],
            "text/plain": [
              "<IPython.core.display.HTML object>"
            ]
          },
          "metadata": {}
        },
        {
          "output_type": "stream",
          "name": "stdout",
          "text": [
            "(54000, 784) (54000, 10) (10000, 784) (10000, 10) (6000, 784) (6000, 10)\n"
          ]
        },
        {
          "output_type": "stream",
          "name": "stderr",
          "text": [
            "epoch: 0, lr: 0.00100 | loss: 0.0395, acc(batch): 0.8929, grad:16026.6877: : 422it [00:05, 77.89it/s]                       \n"
          ]
        },
        {
          "output_type": "stream",
          "name": "stdout",
          "text": [
            "acc(train): 0.8392, acc(val): 0.8430, acc(test): 0.8261\n",
            "___________________________________________________________________________________________________\n"
          ]
        },
        {
          "output_type": "stream",
          "name": "stderr",
          "text": [
            "epoch: 1, lr: 0.00100 | loss: 0.0375, acc(batch): 0.8929, grad:17106.7960: : 422it [00:05, 78.41it/s]\n"
          ]
        },
        {
          "output_type": "stream",
          "name": "stdout",
          "text": [
            "acc(train): 0.8515, acc(val): 0.8498, acc(test): 0.8355\n",
            "___________________________________________________________________________________________________\n"
          ]
        },
        {
          "output_type": "stream",
          "name": "stderr",
          "text": [
            "epoch: 2, lr: 0.00100 | loss: 0.0362, acc(batch): 0.8750, grad:17369.5281: : 422it [00:05, 76.59it/s]\n"
          ]
        },
        {
          "output_type": "stream",
          "name": "stdout",
          "text": [
            "acc(train): 0.8588, acc(val): 0.8555, acc(test): 0.8415\n",
            "___________________________________________________________________________________________________\n"
          ]
        },
        {
          "output_type": "stream",
          "name": "stderr",
          "text": [
            "epoch: 3, lr: 0.00100 | loss: 0.0351, acc(batch): 0.8750, grad:17581.3264: : 422it [00:05, 78.73it/s]                       \n"
          ]
        },
        {
          "output_type": "stream",
          "name": "stdout",
          "text": [
            "acc(train): 0.8650, acc(val): 0.8590, acc(test): 0.8461\n",
            "___________________________________________________________________________________________________\n"
          ]
        },
        {
          "output_type": "stream",
          "name": "stderr",
          "text": [
            "epoch: 4, lr: 0.00100 | loss: 0.0341, acc(batch): 0.8750, grad:17844.1719: : 422it [00:05, 79.16it/s]                       \n"
          ]
        },
        {
          "output_type": "stream",
          "name": "stdout",
          "text": [
            "acc(train): 0.8684, acc(val): 0.8605, acc(test): 0.8511\n",
            "___________________________________________________________________________________________________\n"
          ]
        },
        {
          "output_type": "stream",
          "name": "stderr",
          "text": [
            "epoch: 5, lr: 0.00100 | loss: 0.0335, acc(batch): 0.8839, grad:17955.1467: : 422it [00:05, 77.23it/s]                       \n"
          ]
        },
        {
          "output_type": "stream",
          "name": "stdout",
          "text": [
            "acc(train): 0.8710, acc(val): 0.8618, acc(test): 0.8520\n",
            "___________________________________________________________________________________________________\n"
          ]
        },
        {
          "output_type": "stream",
          "name": "stderr",
          "text": [
            "epoch: 6, lr: 0.00100 | loss: 0.0329, acc(batch): 0.8839, grad:18005.3514: : 422it [00:05, 75.54it/s]                       \n"
          ]
        },
        {
          "output_type": "stream",
          "name": "stdout",
          "text": [
            "acc(train): 0.8734, acc(val): 0.8648, acc(test): 0.8546\n",
            "___________________________________________________________________________________________________\n"
          ]
        },
        {
          "output_type": "stream",
          "name": "stderr",
          "text": [
            "epoch: 7, lr: 0.00100 | loss: 0.0325, acc(batch): 0.8839, grad:18018.2259: : 422it [00:05, 76.51it/s]                       \n"
          ]
        },
        {
          "output_type": "stream",
          "name": "stdout",
          "text": [
            "acc(train): 0.8759, acc(val): 0.8665, acc(test): 0.8558\n",
            "___________________________________________________________________________________________________\n"
          ]
        },
        {
          "output_type": "stream",
          "name": "stderr",
          "text": [
            "epoch: 8, lr: 0.00100 | loss: 0.0321, acc(batch): 0.8839, grad:18030.0101: : 422it [00:05, 74.93it/s]                       \n"
          ]
        },
        {
          "output_type": "stream",
          "name": "stdout",
          "text": [
            "acc(train): 0.8781, acc(val): 0.8672, acc(test): 0.8567\n",
            "___________________________________________________________________________________________________\n"
          ]
        },
        {
          "output_type": "stream",
          "name": "stderr",
          "text": [
            "epoch: 9, lr: 0.00100 | loss: 0.0319, acc(batch): 0.8839, grad:18109.3231: : 422it [00:05, 74.86it/s]                       \n"
          ]
        },
        {
          "output_type": "stream",
          "name": "stdout",
          "text": [
            "acc(train): 0.8799, acc(val): 0.8688, acc(test): 0.8570\n",
            "___________________________________________________________________________________________________\n"
          ]
        },
        {
          "output_type": "stream",
          "name": "stderr",
          "text": [
            "epoch: 10, lr: 0.00100 | loss: 0.0318, acc(batch): 0.8839, grad:18223.8328: : 422it [00:05, 71.68it/s]                       \n"
          ]
        },
        {
          "output_type": "stream",
          "name": "stdout",
          "text": [
            "acc(train): 0.8809, acc(val): 0.8693, acc(test): 0.8581\n",
            "___________________________________________________________________________________________________\n"
          ]
        },
        {
          "output_type": "stream",
          "name": "stderr",
          "text": [
            "epoch: 11, lr: 0.00100 | loss: 0.0318, acc(batch): 0.8929, grad:18323.7855: : 422it [00:05, 73.33it/s]                       \n"
          ]
        },
        {
          "output_type": "stream",
          "name": "stdout",
          "text": [
            "acc(train): 0.8819, acc(val): 0.8710, acc(test): 0.8590\n",
            "___________________________________________________________________________________________________\n"
          ]
        },
        {
          "output_type": "stream",
          "name": "stderr",
          "text": [
            "epoch: 12, lr: 0.00100 | loss: 0.0318, acc(batch): 0.8839, grad:18388.7537: : 422it [00:05, 74.19it/s]                       \n"
          ]
        },
        {
          "output_type": "stream",
          "name": "stdout",
          "text": [
            "acc(train): 0.8827, acc(val): 0.8710, acc(test): 0.8598\n",
            "___________________________________________________________________________________________________\n"
          ]
        },
        {
          "output_type": "stream",
          "name": "stderr",
          "text": [
            "epoch: 13, lr: 0.00100 | loss: 0.0318, acc(batch): 0.8929, grad:18422.2501: : 422it [00:05, 73.69it/s]                       \n"
          ]
        },
        {
          "output_type": "stream",
          "name": "stdout",
          "text": [
            "acc(train): 0.8834, acc(val): 0.8715, acc(test): 0.8600\n",
            "___________________________________________________________________________________________________\n"
          ]
        },
        {
          "output_type": "stream",
          "name": "stderr",
          "text": [
            "epoch: 14, lr: 0.00100 | loss: 0.0319, acc(batch): 0.8929, grad:18431.3552: : 422it [00:05, 75.03it/s]                       \n"
          ]
        },
        {
          "output_type": "stream",
          "name": "stdout",
          "text": [
            "acc(train): 0.8844, acc(val): 0.8718, acc(test): 0.8602\n",
            "___________________________________________________________________________________________________\n"
          ]
        },
        {
          "output_type": "stream",
          "name": "stderr",
          "text": [
            "epoch: 15, lr: 0.00100 | loss: 0.0319, acc(batch): 0.8929, grad:18421.1632: : 422it [00:05, 76.01it/s]                       \n"
          ]
        },
        {
          "output_type": "stream",
          "name": "stdout",
          "text": [
            "acc(train): 0.8849, acc(val): 0.8737, acc(test): 0.8604\n",
            "___________________________________________________________________________________________________\n"
          ]
        },
        {
          "output_type": "stream",
          "name": "stderr",
          "text": [
            "epoch: 16, lr: 0.00100 | loss: 0.0318, acc(batch): 0.8929, grad:18418.7548: : 422it [00:05, 77.52it/s]                       \n"
          ]
        },
        {
          "output_type": "stream",
          "name": "stdout",
          "text": [
            "acc(train): 0.8855, acc(val): 0.8748, acc(test): 0.8607\n",
            "___________________________________________________________________________________________________\n"
          ]
        },
        {
          "output_type": "stream",
          "name": "stderr",
          "text": [
            "epoch: 17, lr: 0.00100 | loss: 0.0318, acc(batch): 0.8929, grad:18402.0034: : 422it [00:05, 76.14it/s]\n"
          ]
        },
        {
          "output_type": "stream",
          "name": "stdout",
          "text": [
            "acc(train): 0.8860, acc(val): 0.8748, acc(test): 0.8609\n",
            "___________________________________________________________________________________________________\n"
          ]
        },
        {
          "output_type": "stream",
          "name": "stderr",
          "text": [
            "epoch: 18, lr: 0.00100 | loss: 0.0318, acc(batch): 0.9018, grad:18367.1699: : 422it [00:05, 74.88it/s]                       \n"
          ]
        },
        {
          "output_type": "stream",
          "name": "stdout",
          "text": [
            "acc(train): 0.8864, acc(val): 0.8757, acc(test): 0.8610\n",
            "___________________________________________________________________________________________________\n"
          ]
        },
        {
          "output_type": "stream",
          "name": "stderr",
          "text": [
            "epoch: 19, lr: 0.00100 | loss: 0.0317, acc(batch): 0.9018, grad:18316.2449: : 422it [00:06, 68.40it/s]                       \n"
          ]
        },
        {
          "output_type": "stream",
          "name": "stdout",
          "text": [
            "acc(train): 0.8868, acc(val): 0.8762, acc(test): 0.8607\n",
            "___________________________________________________________________________________________________\n"
          ]
        },
        {
          "output_type": "display_data",
          "data": {
            "text/html": [
              "<br/>Waiting for W&B process to finish, PID 846... <strong style=\"color:green\">(success).</strong>"
            ],
            "text/plain": [
              "<IPython.core.display.HTML object>"
            ]
          },
          "metadata": {}
        },
        {
          "output_type": "display_data",
          "data": {
            "application/vnd.jupyter.widget-view+json": {
              "model_id": "49f1811d443f4d6a9e5e5b4f12f31237",
              "version_minor": 0,
              "version_major": 2
            },
            "text/plain": [
              "VBox(children=(Label(value=' 0.00MB of 0.01MB uploaded (0.00MB deduped)\\r'), FloatProgress(value=0.57941091539…"
            ]
          },
          "metadata": {}
        },
        {
          "output_type": "display_data",
          "data": {
            "text/html": [
              "<style>\n",
              "    table.wandb td:nth-child(1) { padding: 0 10px; text-align: right }\n",
              "    .wandb-row { display: flex; flex-direction: row; flex-wrap: wrap; width: 100% }\n",
              "    .wandb-col { display: flex; flex-direction: column; flex-basis: 100%; flex: 1; padding: 10px; }\n",
              "    </style>\n",
              "<div class=\"wandb-row\"><div class=\"wandb-col\">\n",
              "<h3>Run history:</h3><br/><table class=\"wandb\"><tr><td>epoch</td><td>▁▁▂▂▂▃▃▄▄▄▅▅▅▆▆▇▇▇██</td></tr><tr><td>test_acc</td><td>▁▃▄▅▆▆▇▇▇▇▇█████████</td></tr><tr><td>train_acc</td><td>▁▃▄▅▅▆▆▆▇▇▇▇▇███████</td></tr><tr><td>train_loss</td><td>█▄▃▃▂▂▂▂▂▂▂▁▁▁▁▁▁▁▁▁</td></tr><tr><td>val_acc</td><td>▁▂▄▄▅▅▆▆▆▆▇▇▇▇▇▇████</td></tr><tr><td>val_loss</td><td>█▆▅▄▃▃▂▂▂▂▁▁▁▁▁▁▁▁▁▁</td></tr></table><br/></div><div class=\"wandb-col\">\n",
              "<h3>Run summary:</h3><br/><table class=\"wandb\"><tr><td>epoch</td><td>19</td></tr><tr><td>test_acc</td><td>0.8607</td></tr><tr><td>train_acc</td><td>0.88676</td></tr><tr><td>train_loss</td><td>0.02982</td></tr><tr><td>val_acc</td><td>0.87617</td></tr><tr><td>val_loss</td><td>0.03665</td></tr></table>\n",
              "</div></div>\n",
              "Synced 5 W&B file(s), 1 media file(s), 1 artifact file(s) and 0 other file(s)\n",
              "<br/>Synced <strong style=\"color:#cdcd00\">electric-sweep-39</strong>: <a href=\"https://wandb.ai/cs21s006_cs21s043/cs6910_assignment1/runs/a8dlcc0z\" target=\"_blank\">https://wandb.ai/cs21s006_cs21s043/cs6910_assignment1/runs/a8dlcc0z</a><br/>\n",
              "Find logs at: <code>./wandb/run-20220218_133137-a8dlcc0z/logs</code><br/>\n"
            ],
            "text/plain": [
              "<IPython.core.display.HTML object>"
            ]
          },
          "metadata": {}
        },
        {
          "output_type": "stream",
          "name": "stderr",
          "text": [
            "\u001b[34m\u001b[1mwandb\u001b[0m: Agent Starting Run: zmp8yloz with config:\n",
            "\u001b[34m\u001b[1mwandb\u001b[0m: \tactivation: tanh\n",
            "\u001b[34m\u001b[1mwandb\u001b[0m: \tbatch_size: 64\n",
            "\u001b[34m\u001b[1mwandb\u001b[0m: \tepochs: 20\n",
            "\u001b[34m\u001b[1mwandb\u001b[0m: \thidden_size: 128\n",
            "\u001b[34m\u001b[1mwandb\u001b[0m: \tlearning_rate: 0.0001\n",
            "\u001b[34m\u001b[1mwandb\u001b[0m: \tloss: cross_entropy\n",
            "\u001b[34m\u001b[1mwandb\u001b[0m: \tnum_layers: 5\n",
            "\u001b[34m\u001b[1mwandb\u001b[0m: \toptimizer: rmsprop\n",
            "\u001b[34m\u001b[1mwandb\u001b[0m: \tweight_decay: 0.0005\n",
            "\u001b[34m\u001b[1mwandb\u001b[0m: \tweight_init_method: He_normal\n",
            "\u001b[34m\u001b[1mwandb\u001b[0m: \u001b[33mWARNING\u001b[0m Ignored wandb.init() arg project when running a sweep.\n",
            "\u001b[34m\u001b[1mwandb\u001b[0m: \u001b[33mWARNING\u001b[0m Ignored wandb.init() arg entity when running a sweep.\n"
          ]
        },
        {
          "output_type": "display_data",
          "data": {
            "text/html": [
              "\n",
              "                    Syncing run <strong><a href=\"https://wandb.ai/cs21s006_cs21s043/cs6910_assignment1/runs/zmp8yloz\" target=\"_blank\">desert-sweep-41</a></strong> to <a href=\"https://wandb.ai/cs21s006_cs21s043/cs6910_assignment1\" target=\"_blank\">Weights & Biases</a> (<a href=\"https://docs.wandb.com/integrations/jupyter.html\" target=\"_blank\">docs</a>).<br/>\n",
              "Sweep page: <a href=\"https://wandb.ai/cs21s006_cs21s043/cs6910_assignment1/sweeps/1463mzwx\" target=\"_blank\">https://wandb.ai/cs21s006_cs21s043/cs6910_assignment1/sweeps/1463mzwx</a><br/>\n",
              "\n",
              "                "
            ],
            "text/plain": [
              "<IPython.core.display.HTML object>"
            ]
          },
          "metadata": {}
        },
        {
          "output_type": "stream",
          "name": "stdout",
          "text": [
            "(54000, 784) (54000, 10) (10000, 784) (10000, 10) (6000, 784) (6000, 10)\n"
          ]
        },
        {
          "output_type": "stream",
          "name": "stderr",
          "text": [
            "epoch: 0, lr: 0.00010 | loss: 0.0221, acc(batch): 0.9375, grad:64399.3219: : 844it [00:37, 22.62it/s]                       \n"
          ]
        },
        {
          "output_type": "stream",
          "name": "stdout",
          "text": [
            "acc(train): 0.8439, acc(val): 0.8458, acc(test): 0.8351\n",
            "___________________________________________________________________________________________________\n"
          ]
        },
        {
          "output_type": "stream",
          "name": "stderr",
          "text": [
            "epoch: 1, lr: 0.00010 | loss: 0.0204, acc(batch): 0.9167, grad:63689.2142: : 844it [00:37, 22.67it/s]                       \n"
          ]
        },
        {
          "output_type": "stream",
          "name": "stdout",
          "text": [
            "acc(train): 0.8619, acc(val): 0.8555, acc(test): 0.8491\n",
            "___________________________________________________________________________________________________\n"
          ]
        },
        {
          "output_type": "stream",
          "name": "stderr",
          "text": [
            "epoch: 2, lr: 0.00010 | loss: 0.0196, acc(batch): 0.9167, grad:63024.9530: : 844it [00:36, 22.83it/s]                       \n"
          ]
        },
        {
          "output_type": "stream",
          "name": "stdout",
          "text": [
            "acc(train): 0.8706, acc(val): 0.8608, acc(test): 0.8566\n",
            "___________________________________________________________________________________________________\n"
          ]
        },
        {
          "output_type": "stream",
          "name": "stderr",
          "text": [
            "epoch: 3, lr: 0.00010 | loss: 0.0187, acc(batch): 0.9167, grad:62917.7614: : 844it [00:37, 22.74it/s]                       \n"
          ]
        },
        {
          "output_type": "stream",
          "name": "stdout",
          "text": [
            "acc(train): 0.8766, acc(val): 0.8647, acc(test): 0.8620\n",
            "___________________________________________________________________________________________________\n"
          ]
        },
        {
          "output_type": "stream",
          "name": "stderr",
          "text": [
            "epoch: 4, lr: 0.00010 | loss: 0.0177, acc(batch): 0.9167, grad:62918.3835: : 844it [00:37, 22.71it/s]                       \n"
          ]
        },
        {
          "output_type": "stream",
          "name": "stdout",
          "text": [
            "acc(train): 0.8812, acc(val): 0.8687, acc(test): 0.8649\n",
            "___________________________________________________________________________________________________\n"
          ]
        },
        {
          "output_type": "stream",
          "name": "stderr",
          "text": [
            "epoch: 5, lr: 0.00010 | loss: 0.0168, acc(batch): 0.9167, grad:63092.8218: : 844it [00:37, 22.69it/s]                       \n"
          ]
        },
        {
          "output_type": "stream",
          "name": "stdout",
          "text": [
            "acc(train): 0.8852, acc(val): 0.8723, acc(test): 0.8676\n",
            "___________________________________________________________________________________________________\n"
          ]
        },
        {
          "output_type": "stream",
          "name": "stderr",
          "text": [
            "epoch: 6, lr: 0.00010 | loss: 0.0158, acc(batch): 0.9167, grad:63189.6915: : 844it [00:37, 22.45it/s]                       \n"
          ]
        },
        {
          "output_type": "stream",
          "name": "stdout",
          "text": [
            "acc(train): 0.8883, acc(val): 0.8752, acc(test): 0.8684\n",
            "___________________________________________________________________________________________________\n"
          ]
        },
        {
          "output_type": "stream",
          "name": "stderr",
          "text": [
            "epoch: 7, lr: 0.00010 | loss: 0.0149, acc(batch): 0.9375, grad:63216.4673: : 844it [00:37, 22.53it/s]                       \n"
          ]
        },
        {
          "output_type": "stream",
          "name": "stdout",
          "text": [
            "acc(train): 0.8914, acc(val): 0.8770, acc(test): 0.8695\n",
            "___________________________________________________________________________________________________\n"
          ]
        },
        {
          "output_type": "stream",
          "name": "stderr",
          "text": [
            "epoch: 8, lr: 0.00010 | loss: 0.0140, acc(batch): 0.9375, grad:63199.2412: : 844it [00:37, 22.33it/s]                       \n"
          ]
        },
        {
          "output_type": "stream",
          "name": "stdout",
          "text": [
            "acc(train): 0.8941, acc(val): 0.8790, acc(test): 0.8708\n",
            "___________________________________________________________________________________________________\n"
          ]
        },
        {
          "output_type": "stream",
          "name": "stderr",
          "text": [
            "epoch: 9, lr: 0.00010 | loss: 0.0132, acc(batch): 0.9375, grad:63169.5793: : 844it [00:37, 22.51it/s]                       \n"
          ]
        },
        {
          "output_type": "stream",
          "name": "stdout",
          "text": [
            "acc(train): 0.8968, acc(val): 0.8832, acc(test): 0.8723\n",
            "___________________________________________________________________________________________________\n"
          ]
        },
        {
          "output_type": "stream",
          "name": "stderr",
          "text": [
            "epoch: 10, lr: 0.00010 | loss: 0.0124, acc(batch): 0.9375, grad:63148.5305: : 844it [00:37, 22.44it/s]                       \n"
          ]
        },
        {
          "output_type": "stream",
          "name": "stdout",
          "text": [
            "acc(train): 0.8989, acc(val): 0.8828, acc(test): 0.8730\n",
            "___________________________________________________________________________________________________\n"
          ]
        },
        {
          "output_type": "stream",
          "name": "stderr",
          "text": [
            "epoch: 11, lr: 0.00010 | loss: 0.0116, acc(batch): 0.9583, grad:63032.5241: : 844it [00:37, 22.49it/s]                       \n"
          ]
        },
        {
          "output_type": "stream",
          "name": "stdout",
          "text": [
            "acc(train): 0.9006, acc(val): 0.8837, acc(test): 0.8740\n",
            "___________________________________________________________________________________________________\n"
          ]
        },
        {
          "output_type": "stream",
          "name": "stderr",
          "text": [
            "epoch: 12, lr: 0.00010 | loss: 0.0109, acc(batch): 0.9583, grad:62892.1694: : 844it [00:37, 22.41it/s]                       \n"
          ]
        },
        {
          "output_type": "stream",
          "name": "stdout",
          "text": [
            "acc(train): 0.9027, acc(val): 0.8843, acc(test): 0.8753\n",
            "___________________________________________________________________________________________________\n"
          ]
        },
        {
          "output_type": "stream",
          "name": "stderr",
          "text": [
            "epoch: 13, lr: 0.00010 | loss: 0.0103, acc(batch): 0.9792, grad:62854.4642: : 844it [00:37, 22.54it/s]                       \n"
          ]
        },
        {
          "output_type": "stream",
          "name": "stdout",
          "text": [
            "acc(train): 0.9046, acc(val): 0.8855, acc(test): 0.8758\n",
            "___________________________________________________________________________________________________\n"
          ]
        },
        {
          "output_type": "stream",
          "name": "stderr",
          "text": [
            "epoch: 14, lr: 0.00010 | loss: 0.0097, acc(batch): 0.9792, grad:62820.3329: : 844it [00:39, 21.16it/s]                       \n"
          ]
        },
        {
          "output_type": "stream",
          "name": "stdout",
          "text": [
            "acc(train): 0.9059, acc(val): 0.8865, acc(test): 0.8772\n",
            "___________________________________________________________________________________________________\n"
          ]
        },
        {
          "output_type": "stream",
          "name": "stderr",
          "text": [
            "epoch: 15, lr: 0.00010 | loss: 0.0091, acc(batch): 0.9792, grad:62812.2001: : 844it [00:37, 22.66it/s]                       \n"
          ]
        },
        {
          "output_type": "stream",
          "name": "stdout",
          "text": [
            "acc(train): 0.9074, acc(val): 0.8883, acc(test): 0.8783\n",
            "___________________________________________________________________________________________________\n"
          ]
        },
        {
          "output_type": "stream",
          "name": "stderr",
          "text": [
            "epoch: 16, lr: 0.00010 | loss: 0.0085, acc(batch): 0.9792, grad:62812.1138: : 844it [00:37, 22.68it/s]                       \n"
          ]
        },
        {
          "output_type": "stream",
          "name": "stdout",
          "text": [
            "acc(train): 0.9089, acc(val): 0.8890, acc(test): 0.8791\n",
            "___________________________________________________________________________________________________\n"
          ]
        },
        {
          "output_type": "stream",
          "name": "stderr",
          "text": [
            "epoch: 17, lr: 0.00010 | loss: 0.0080, acc(batch): 0.9792, grad:62786.4879: : 844it [00:37, 22.57it/s]                       \n"
          ]
        },
        {
          "output_type": "stream",
          "name": "stdout",
          "text": [
            "acc(train): 0.9106, acc(val): 0.8897, acc(test): 0.8804\n",
            "___________________________________________________________________________________________________\n"
          ]
        },
        {
          "output_type": "stream",
          "name": "stderr",
          "text": [
            "epoch: 18, lr: 0.00010 | loss: 0.0076, acc(batch): 0.9792, grad:62806.7517: : 844it [00:37, 22.43it/s]                       \n"
          ]
        },
        {
          "output_type": "stream",
          "name": "stdout",
          "text": [
            "acc(train): 0.9126, acc(val): 0.8892, acc(test): 0.8804\n",
            "___________________________________________________________________________________________________\n"
          ]
        },
        {
          "output_type": "stream",
          "name": "stderr",
          "text": [
            "epoch: 19, lr: 0.00010 | loss: 0.0072, acc(batch): 0.9792, grad:62807.3841: : 844it [00:37, 22.49it/s]                       \n"
          ]
        },
        {
          "output_type": "stream",
          "name": "stdout",
          "text": [
            "acc(train): 0.9141, acc(val): 0.8893, acc(test): 0.8813\n",
            "___________________________________________________________________________________________________\n"
          ]
        },
        {
          "output_type": "display_data",
          "data": {
            "text/html": [
              "<br/>Waiting for W&B process to finish, PID 888... <strong style=\"color:green\">(success).</strong>"
            ],
            "text/plain": [
              "<IPython.core.display.HTML object>"
            ]
          },
          "metadata": {}
        },
        {
          "output_type": "display_data",
          "data": {
            "application/vnd.jupyter.widget-view+json": {
              "model_id": "3c91ee375a7f4fa4b020e974a721f05e",
              "version_minor": 0,
              "version_major": 2
            },
            "text/plain": [
              "VBox(children=(Label(value=' 0.00MB of 0.00MB uploaded (0.00MB deduped)\\r'), FloatProgress(value=1.0, max=1.0)…"
            ]
          },
          "metadata": {}
        },
        {
          "output_type": "display_data",
          "data": {
            "text/html": [
              "<style>\n",
              "    table.wandb td:nth-child(1) { padding: 0 10px; text-align: right }\n",
              "    .wandb-row { display: flex; flex-direction: row; flex-wrap: wrap; width: 100% }\n",
              "    .wandb-col { display: flex; flex-direction: column; flex-basis: 100%; flex: 1; padding: 10px; }\n",
              "    </style>\n",
              "<div class=\"wandb-row\"><div class=\"wandb-col\">\n",
              "<h3>Run history:</h3><br/><table class=\"wandb\"><tr><td>epoch</td><td>▁▁▂▂▂▃▃▄▄▄▅▅▅▆▆▇▇▇██</td></tr><tr><td>test_acc</td><td>▁▃▄▅▆▆▆▆▆▇▇▇▇▇▇█████</td></tr><tr><td>train_acc</td><td>▁▃▄▄▅▅▅▆▆▆▆▇▇▇▇▇▇███</td></tr><tr><td>train_loss</td><td>█▄▄▃▃▃▂▂▂▂▂▂▂▁▁▁▁▁▁▁</td></tr><tr><td>val_acc</td><td>▁▃▃▄▅▅▆▆▆▇▇▇▇▇▇█████</td></tr><tr><td>val_loss</td><td>█▆▅▄▄▃▃▃▂▂▂▂▂▂▁▁▁▁▁▁</td></tr></table><br/></div><div class=\"wandb-col\">\n",
              "<h3>Run summary:</h3><br/><table class=\"wandb\"><tr><td>epoch</td><td>19</td></tr><tr><td>test_acc</td><td>0.8813</td></tr><tr><td>train_acc</td><td>0.91409</td></tr><tr><td>train_loss</td><td>0.02495</td></tr><tr><td>val_acc</td><td>0.88933</td></tr><tr><td>val_loss</td><td>0.03076</td></tr></table>\n",
              "</div></div>\n",
              "Synced 5 W&B file(s), 1 media file(s), 1 artifact file(s) and 0 other file(s)\n",
              "<br/>Synced <strong style=\"color:#cdcd00\">desert-sweep-41</strong>: <a href=\"https://wandb.ai/cs21s006_cs21s043/cs6910_assignment1/runs/zmp8yloz\" target=\"_blank\">https://wandb.ai/cs21s006_cs21s043/cs6910_assignment1/runs/zmp8yloz</a><br/>\n",
              "Find logs at: <code>./wandb/run-20220218_133354-zmp8yloz/logs</code><br/>\n"
            ],
            "text/plain": [
              "<IPython.core.display.HTML object>"
            ]
          },
          "metadata": {}
        },
        {
          "output_type": "stream",
          "name": "stderr",
          "text": [
            "\u001b[34m\u001b[1mwandb\u001b[0m: Agent Starting Run: cq4pu5wy with config:\n",
            "\u001b[34m\u001b[1mwandb\u001b[0m: \tactivation: ReLU\n",
            "\u001b[34m\u001b[1mwandb\u001b[0m: \tbatch_size: 128\n",
            "\u001b[34m\u001b[1mwandb\u001b[0m: \tepochs: 20\n",
            "\u001b[34m\u001b[1mwandb\u001b[0m: \thidden_size: 256\n",
            "\u001b[34m\u001b[1mwandb\u001b[0m: \tlearning_rate: 0.0003\n",
            "\u001b[34m\u001b[1mwandb\u001b[0m: \tloss: cross_entropy\n",
            "\u001b[34m\u001b[1mwandb\u001b[0m: \tnum_layers: 4\n",
            "\u001b[34m\u001b[1mwandb\u001b[0m: \toptimizer: nadam\n",
            "\u001b[34m\u001b[1mwandb\u001b[0m: \tweight_decay: 0.0005\n",
            "\u001b[34m\u001b[1mwandb\u001b[0m: \tweight_init_method: Xavier_normal\n",
            "\u001b[34m\u001b[1mwandb\u001b[0m: \u001b[33mWARNING\u001b[0m Ignored wandb.init() arg project when running a sweep.\n",
            "\u001b[34m\u001b[1mwandb\u001b[0m: \u001b[33mWARNING\u001b[0m Ignored wandb.init() arg entity when running a sweep.\n"
          ]
        },
        {
          "output_type": "display_data",
          "data": {
            "text/html": [
              "\n",
              "                    Syncing run <strong><a href=\"https://wandb.ai/cs21s006_cs21s043/cs6910_assignment1/runs/cq4pu5wy\" target=\"_blank\">whole-sweep-48</a></strong> to <a href=\"https://wandb.ai/cs21s006_cs21s043/cs6910_assignment1\" target=\"_blank\">Weights & Biases</a> (<a href=\"https://docs.wandb.com/integrations/jupyter.html\" target=\"_blank\">docs</a>).<br/>\n",
              "Sweep page: <a href=\"https://wandb.ai/cs21s006_cs21s043/cs6910_assignment1/sweeps/1463mzwx\" target=\"_blank\">https://wandb.ai/cs21s006_cs21s043/cs6910_assignment1/sweeps/1463mzwx</a><br/>\n",
              "\n",
              "                "
            ],
            "text/plain": [
              "<IPython.core.display.HTML object>"
            ]
          },
          "metadata": {}
        },
        {
          "output_type": "stream",
          "name": "stdout",
          "text": [
            "(54000, 784) (54000, 10) (10000, 784) (10000, 10) (6000, 784) (6000, 10)\n"
          ]
        },
        {
          "output_type": "stream",
          "name": "stderr",
          "text": [
            "epoch: 0, lr: 0.00030 | loss: 0.0373, acc(batch): 0.8839, grad:100932.2099: : 422it [00:50,  8.41it/s]\n"
          ]
        },
        {
          "output_type": "stream",
          "name": "stdout",
          "text": [
            "acc(train): 0.8585, acc(val): 0.8600, acc(test): 0.8477\n",
            "___________________________________________________________________________________________________\n"
          ]
        },
        {
          "output_type": "stream",
          "name": "stderr",
          "text": [
            "epoch: 1, lr: 0.00030 | loss: 0.0328, acc(batch): 0.9107, grad:99950.8492: : 422it [00:50,  8.39it/s]\n"
          ]
        },
        {
          "output_type": "stream",
          "name": "stdout",
          "text": [
            "acc(train): 0.8723, acc(val): 0.8657, acc(test): 0.8559\n",
            "___________________________________________________________________________________________________\n"
          ]
        },
        {
          "output_type": "stream",
          "name": "stderr",
          "text": [
            "epoch: 2, lr: 0.00030 | loss: 0.0323, acc(batch): 0.9018, grad:99286.2738: : 422it [00:50,  8.42it/s]\n"
          ]
        },
        {
          "output_type": "stream",
          "name": "stdout",
          "text": [
            "acc(train): 0.8822, acc(val): 0.8685, acc(test): 0.8606\n",
            "___________________________________________________________________________________________________\n"
          ]
        },
        {
          "output_type": "stream",
          "name": "stderr",
          "text": [
            "epoch: 3, lr: 0.00030 | loss: 0.0314, acc(batch): 0.9107, grad:98320.6648: : 422it [00:50,  8.41it/s]\n"
          ]
        },
        {
          "output_type": "stream",
          "name": "stdout",
          "text": [
            "acc(train): 0.8887, acc(val): 0.8735, acc(test): 0.8633\n",
            "___________________________________________________________________________________________________\n"
          ]
        },
        {
          "output_type": "stream",
          "name": "stderr",
          "text": [
            "epoch: 4, lr: 0.00030 | loss: 0.0302, acc(batch): 0.9107, grad:97422.6394: : 422it [00:50,  8.43it/s]\n"
          ]
        },
        {
          "output_type": "stream",
          "name": "stdout",
          "text": [
            "acc(train): 0.8940, acc(val): 0.8757, acc(test): 0.8683\n",
            "___________________________________________________________________________________________________\n"
          ]
        },
        {
          "output_type": "stream",
          "name": "stderr",
          "text": [
            "epoch: 5, lr: 0.00030 | loss: 0.0294, acc(batch): 0.9196, grad:95302.8585: : 422it [00:49,  8.48it/s]\n"
          ]
        },
        {
          "output_type": "stream",
          "name": "stdout",
          "text": [
            "acc(train): 0.8966, acc(val): 0.8773, acc(test): 0.8697\n",
            "___________________________________________________________________________________________________\n"
          ]
        },
        {
          "output_type": "stream",
          "name": "stderr",
          "text": [
            "epoch: 6, lr: 0.00030 | loss: 0.0287, acc(batch): 0.9286, grad:95747.2129: : 422it [00:49,  8.53it/s]\n"
          ]
        },
        {
          "output_type": "stream",
          "name": "stdout",
          "text": [
            "acc(train): 0.8988, acc(val): 0.8795, acc(test): 0.8703\n",
            "___________________________________________________________________________________________________\n"
          ]
        },
        {
          "output_type": "stream",
          "name": "stderr",
          "text": [
            "epoch: 7, lr: 0.00030 | loss: 0.0278, acc(batch): 0.9286, grad:94330.2569: : 422it [00:49,  8.49it/s]\n"
          ]
        },
        {
          "output_type": "stream",
          "name": "stdout",
          "text": [
            "acc(train): 0.9022, acc(val): 0.8793, acc(test): 0.8710\n",
            "___________________________________________________________________________________________________\n"
          ]
        },
        {
          "output_type": "stream",
          "name": "stderr",
          "text": [
            "epoch: 8, lr: 0.00030 | loss: 0.0270, acc(batch): 0.9375, grad:93477.8353: : 422it [00:49,  8.53it/s]\n"
          ]
        },
        {
          "output_type": "stream",
          "name": "stdout",
          "text": [
            "acc(train): 0.9046, acc(val): 0.8808, acc(test): 0.8728\n",
            "___________________________________________________________________________________________________\n"
          ]
        },
        {
          "output_type": "stream",
          "name": "stderr",
          "text": [
            "epoch: 9, lr: 0.00030 | loss: 0.0268, acc(batch): 0.9375, grad:92662.7078: : 422it [00:49,  8.51it/s]\n"
          ]
        },
        {
          "output_type": "stream",
          "name": "stdout",
          "text": [
            "acc(train): 0.9081, acc(val): 0.8815, acc(test): 0.8728\n",
            "___________________________________________________________________________________________________\n"
          ]
        },
        {
          "output_type": "stream",
          "name": "stderr",
          "text": [
            "epoch: 10, lr: 0.00030 | loss: 0.0264, acc(batch): 0.9375, grad:92680.4022: : 422it [00:49,  8.52it/s]\n"
          ]
        },
        {
          "output_type": "stream",
          "name": "stdout",
          "text": [
            "acc(train): 0.9104, acc(val): 0.8802, acc(test): 0.8727\n",
            "___________________________________________________________________________________________________\n"
          ]
        },
        {
          "output_type": "stream",
          "name": "stderr",
          "text": [
            "epoch: 11, lr: 0.00030 | loss: 0.0261, acc(batch): 0.9375, grad:93017.1797: : 422it [00:49,  8.57it/s]\n"
          ]
        },
        {
          "output_type": "stream",
          "name": "stdout",
          "text": [
            "acc(train): 0.9123, acc(val): 0.8792, acc(test): 0.8738\n",
            "___________________________________________________________________________________________________\n"
          ]
        },
        {
          "output_type": "stream",
          "name": "stderr",
          "text": [
            "epoch: 12, lr: 0.00030 | loss: 0.0256, acc(batch): 0.9375, grad:92889.4153: : 422it [00:49,  8.50it/s]\n"
          ]
        },
        {
          "output_type": "stream",
          "name": "stdout",
          "text": [
            "acc(train): 0.9149, acc(val): 0.8797, acc(test): 0.8742\n",
            "___________________________________________________________________________________________________\n"
          ]
        },
        {
          "output_type": "stream",
          "name": "stderr",
          "text": [
            "epoch: 13, lr: 0.00030 | loss: 0.0248, acc(batch): 0.9375, grad:92792.5052: : 422it [00:49,  8.48it/s]\n"
          ]
        },
        {
          "output_type": "stream",
          "name": "stdout",
          "text": [
            "acc(train): 0.9155, acc(val): 0.8815, acc(test): 0.8741\n",
            "___________________________________________________________________________________________________\n"
          ]
        },
        {
          "output_type": "stream",
          "name": "stderr",
          "text": [
            "epoch: 14, lr: 0.00030 | loss: 0.0258, acc(batch): 0.9286, grad:93039.9633: : 422it [00:50,  8.43it/s]\n"
          ]
        },
        {
          "output_type": "stream",
          "name": "stdout",
          "text": [
            "acc(train): 0.9143, acc(val): 0.8770, acc(test): 0.8721\n",
            "___________________________________________________________________________________________________\n"
          ]
        },
        {
          "output_type": "stream",
          "name": "stderr",
          "text": [
            "epoch: 15, lr: 0.00030 | loss: 0.0262, acc(batch): 0.9464, grad:94656.9018: : 422it [00:50,  8.44it/s]\n"
          ]
        },
        {
          "output_type": "stream",
          "name": "stdout",
          "text": [
            "acc(train): 0.9179, acc(val): 0.8798, acc(test): 0.8738\n",
            "___________________________________________________________________________________________________\n"
          ]
        },
        {
          "output_type": "stream",
          "name": "stderr",
          "text": [
            "epoch: 16, lr: 0.00030 | loss: 0.0248, acc(batch): 0.9464, grad:94473.2426: : 422it [00:49,  8.52it/s]\n"
          ]
        },
        {
          "output_type": "stream",
          "name": "stdout",
          "text": [
            "acc(train): 0.9176, acc(val): 0.8782, acc(test): 0.8727\n",
            "___________________________________________________________________________________________________\n"
          ]
        },
        {
          "output_type": "stream",
          "name": "stderr",
          "text": [
            "epoch: 17, lr: 0.00030 | loss: 0.0243, acc(batch): 0.9464, grad:92445.5427: : 422it [00:50,  8.41it/s]\n"
          ]
        },
        {
          "output_type": "stream",
          "name": "stdout",
          "text": [
            "acc(train): 0.9220, acc(val): 0.8805, acc(test): 0.8737\n",
            "___________________________________________________________________________________________________\n"
          ]
        },
        {
          "output_type": "stream",
          "name": "stderr",
          "text": [
            "epoch: 18, lr: 0.00030 | loss: 0.0251, acc(batch): 0.9196, grad:91908.2061: : 422it [00:49,  8.55it/s]\n"
          ]
        },
        {
          "output_type": "stream",
          "name": "stdout",
          "text": [
            "acc(train): 0.9215, acc(val): 0.8757, acc(test): 0.8706\n",
            "___________________________________________________________________________________________________\n"
          ]
        },
        {
          "output_type": "stream",
          "name": "stderr",
          "text": [
            "epoch: 19, lr: 0.00030 | loss: 0.0263, acc(batch): 0.9196, grad:91309.4906: : 422it [00:49,  8.45it/s]\n"
          ]
        },
        {
          "output_type": "stream",
          "name": "stdout",
          "text": [
            "acc(train): 0.9196, acc(val): 0.8755, acc(test): 0.8686\n",
            "___________________________________________________________________________________________________\n"
          ]
        },
        {
          "output_type": "display_data",
          "data": {
            "text/html": [
              "<br/>Waiting for W&B process to finish, PID 960... <strong style=\"color:green\">(success).</strong>"
            ],
            "text/plain": [
              "<IPython.core.display.HTML object>"
            ]
          },
          "metadata": {}
        },
        {
          "output_type": "display_data",
          "data": {
            "application/vnd.jupyter.widget-view+json": {
              "model_id": "3781b3b909104c5c9e89b2f5aaeae0ba",
              "version_minor": 0,
              "version_major": 2
            },
            "text/plain": [
              "VBox(children=(Label(value=' 0.00MB of 0.00MB uploaded (0.00MB deduped)\\r'), FloatProgress(value=1.0, max=1.0)…"
            ]
          },
          "metadata": {}
        },
        {
          "output_type": "display_data",
          "data": {
            "text/html": [
              "<style>\n",
              "    table.wandb td:nth-child(1) { padding: 0 10px; text-align: right }\n",
              "    .wandb-row { display: flex; flex-direction: row; flex-wrap: wrap; width: 100% }\n",
              "    .wandb-col { display: flex; flex-direction: column; flex-basis: 100%; flex: 1; padding: 10px; }\n",
              "    </style>\n",
              "<div class=\"wandb-row\"><div class=\"wandb-col\">\n",
              "<h3>Run history:</h3><br/><table class=\"wandb\"><tr><td>epoch</td><td>▁▁▂▂▂▃▃▄▄▄▅▅▅▆▆▇▇▇██</td></tr><tr><td>test_acc</td><td>▁▃▄▅▆▇▇▇██████▇███▇▇</td></tr><tr><td>train_acc</td><td>▁▃▄▄▅▅▅▆▆▆▇▇▇▇▇█████</td></tr><tr><td>train_loss</td><td>█▅▄▄▄▃▃▃▃▂▂▂▂▂▂▁▁▁▁▁</td></tr><tr><td>val_acc</td><td>▁▃▄▅▆▇▇▇███▇▇█▇▇▇█▆▆</td></tr><tr><td>val_loss</td><td>█▅▃▂▂▁▁▁▁▁▁▂▂▂▃▃▄▄▅▇</td></tr></table><br/></div><div class=\"wandb-col\">\n",
              "<h3>Run summary:</h3><br/><table class=\"wandb\"><tr><td>epoch</td><td>19</td></tr><tr><td>test_acc</td><td>0.8686</td></tr><tr><td>train_acc</td><td>0.91956</td></tr><tr><td>train_loss</td><td>0.01652</td></tr><tr><td>val_acc</td><td>0.8755</td></tr><tr><td>val_loss</td><td>0.03945</td></tr></table>\n",
              "</div></div>\n",
              "Synced 5 W&B file(s), 1 media file(s), 1 artifact file(s) and 0 other file(s)\n",
              "<br/>Synced <strong style=\"color:#cdcd00\">whole-sweep-48</strong>: <a href=\"https://wandb.ai/cs21s006_cs21s043/cs6910_assignment1/runs/cq4pu5wy\" target=\"_blank\">https://wandb.ai/cs21s006_cs21s043/cs6910_assignment1/runs/cq4pu5wy</a><br/>\n",
              "Find logs at: <code>./wandb/run-20220218_134736-cq4pu5wy/logs</code><br/>\n"
            ],
            "text/plain": [
              "<IPython.core.display.HTML object>"
            ]
          },
          "metadata": {}
        },
        {
          "output_type": "stream",
          "name": "stderr",
          "text": [
            "\u001b[34m\u001b[1mwandb\u001b[0m: Agent Starting Run: dkxo52c5 with config:\n",
            "\u001b[34m\u001b[1mwandb\u001b[0m: \tactivation: tanh\n",
            "\u001b[34m\u001b[1mwandb\u001b[0m: \tbatch_size: 128\n",
            "\u001b[34m\u001b[1mwandb\u001b[0m: \tepochs: 20\n",
            "\u001b[34m\u001b[1mwandb\u001b[0m: \thidden_size: 64\n",
            "\u001b[34m\u001b[1mwandb\u001b[0m: \tlearning_rate: 0.0001\n",
            "\u001b[34m\u001b[1mwandb\u001b[0m: \tloss: cross_entropy\n",
            "\u001b[34m\u001b[1mwandb\u001b[0m: \tnum_layers: 4\n",
            "\u001b[34m\u001b[1mwandb\u001b[0m: \toptimizer: adam\n",
            "\u001b[34m\u001b[1mwandb\u001b[0m: \tweight_decay: 0\n",
            "\u001b[34m\u001b[1mwandb\u001b[0m: \tweight_init_method: Xavier_uniform\n",
            "\u001b[34m\u001b[1mwandb\u001b[0m: \u001b[33mWARNING\u001b[0m Ignored wandb.init() arg project when running a sweep.\n",
            "\u001b[34m\u001b[1mwandb\u001b[0m: \u001b[33mWARNING\u001b[0m Ignored wandb.init() arg entity when running a sweep.\n"
          ]
        },
        {
          "output_type": "display_data",
          "data": {
            "text/html": [
              "\n",
              "                    Syncing run <strong><a href=\"https://wandb.ai/cs21s006_cs21s043/cs6910_assignment1/runs/dkxo52c5\" target=\"_blank\">vivid-sweep-50</a></strong> to <a href=\"https://wandb.ai/cs21s006_cs21s043/cs6910_assignment1\" target=\"_blank\">Weights & Biases</a> (<a href=\"https://docs.wandb.com/integrations/jupyter.html\" target=\"_blank\">docs</a>).<br/>\n",
              "Sweep page: <a href=\"https://wandb.ai/cs21s006_cs21s043/cs6910_assignment1/sweeps/1463mzwx\" target=\"_blank\">https://wandb.ai/cs21s006_cs21s043/cs6910_assignment1/sweeps/1463mzwx</a><br/>\n",
              "\n",
              "                "
            ],
            "text/plain": [
              "<IPython.core.display.HTML object>"
            ]
          },
          "metadata": {}
        },
        {
          "output_type": "stream",
          "name": "stdout",
          "text": [
            "(54000, 784) (54000, 10) (10000, 784) (10000, 10) (6000, 784) (6000, 10)\n"
          ]
        },
        {
          "output_type": "stream",
          "name": "stderr",
          "text": [
            "epoch: 0, lr: 0.00010 | loss: 0.0500, acc(batch): 0.8839, grad:33584.7646: : 422it [00:11, 37.25it/s]\n"
          ]
        },
        {
          "output_type": "stream",
          "name": "stdout",
          "text": [
            "acc(train): 0.8000, acc(val): 0.8002, acc(test): 0.7905\n",
            "___________________________________________________________________________________________________\n"
          ]
        },
        {
          "output_type": "stream",
          "name": "stderr",
          "text": [
            "epoch: 1, lr: 0.00010 | loss: 0.0370, acc(batch): 0.8839, grad:33569.7829: : 422it [00:11, 36.94it/s]\n"
          ]
        },
        {
          "output_type": "stream",
          "name": "stdout",
          "text": [
            "acc(train): 0.8311, acc(val): 0.8265, acc(test): 0.8202\n",
            "___________________________________________________________________________________________________\n"
          ]
        },
        {
          "output_type": "stream",
          "name": "stderr",
          "text": [
            "epoch: 2, lr: 0.00010 | loss: 0.0337, acc(batch): 0.9107, grad:33453.4632: : 422it [00:11, 36.63it/s]                       \n"
          ]
        },
        {
          "output_type": "stream",
          "name": "stdout",
          "text": [
            "acc(train): 0.8446, acc(val): 0.8423, acc(test): 0.8316\n",
            "___________________________________________________________________________________________________\n"
          ]
        },
        {
          "output_type": "stream",
          "name": "stderr",
          "text": [
            "epoch: 3, lr: 0.00010 | loss: 0.0327, acc(batch): 0.8929, grad:33353.3586: : 422it [00:11, 37.06it/s]                       \n"
          ]
        },
        {
          "output_type": "stream",
          "name": "stdout",
          "text": [
            "acc(train): 0.8529, acc(val): 0.8497, acc(test): 0.8383\n",
            "___________________________________________________________________________________________________\n"
          ]
        },
        {
          "output_type": "stream",
          "name": "stderr",
          "text": [
            "epoch: 4, lr: 0.00010 | loss: 0.0323, acc(batch): 0.8929, grad:33350.4648: : 422it [00:11, 37.02it/s]\n"
          ]
        },
        {
          "output_type": "stream",
          "name": "stdout",
          "text": [
            "acc(train): 0.8584, acc(val): 0.8557, acc(test): 0.8429\n",
            "___________________________________________________________________________________________________\n"
          ]
        },
        {
          "output_type": "stream",
          "name": "stderr",
          "text": [
            "epoch: 5, lr: 0.00010 | loss: 0.0318, acc(batch): 0.8929, grad:33401.2496: : 422it [00:11, 37.54it/s]                       \n"
          ]
        },
        {
          "output_type": "stream",
          "name": "stdout",
          "text": [
            "acc(train): 0.8635, acc(val): 0.8592, acc(test): 0.8462\n",
            "___________________________________________________________________________________________________\n"
          ]
        },
        {
          "output_type": "stream",
          "name": "stderr",
          "text": [
            "epoch: 6, lr: 0.00010 | loss: 0.0314, acc(batch): 0.8929, grad:33359.7711: : 422it [00:11, 36.95it/s]                       \n"
          ]
        },
        {
          "output_type": "stream",
          "name": "stdout",
          "text": [
            "acc(train): 0.8674, acc(val): 0.8612, acc(test): 0.8509\n",
            "___________________________________________________________________________________________________\n"
          ]
        },
        {
          "output_type": "stream",
          "name": "stderr",
          "text": [
            "epoch: 7, lr: 0.00010 | loss: 0.0310, acc(batch): 0.8929, grad:33232.7049: : 422it [00:11, 37.52it/s]                       \n"
          ]
        },
        {
          "output_type": "stream",
          "name": "stdout",
          "text": [
            "acc(train): 0.8714, acc(val): 0.8642, acc(test): 0.8533\n",
            "___________________________________________________________________________________________________\n"
          ]
        },
        {
          "output_type": "stream",
          "name": "stderr",
          "text": [
            "epoch: 8, lr: 0.00010 | loss: 0.0306, acc(batch): 0.8929, grad:33102.8670: : 422it [00:11, 37.70it/s]\n"
          ]
        },
        {
          "output_type": "stream",
          "name": "stdout",
          "text": [
            "acc(train): 0.8739, acc(val): 0.8667, acc(test): 0.8556\n",
            "___________________________________________________________________________________________________\n"
          ]
        },
        {
          "output_type": "stream",
          "name": "stderr",
          "text": [
            "epoch: 9, lr: 0.00010 | loss: 0.0302, acc(batch): 0.8839, grad:32939.8454: : 422it [00:11, 37.40it/s]                       \n"
          ]
        },
        {
          "output_type": "stream",
          "name": "stdout",
          "text": [
            "acc(train): 0.8764, acc(val): 0.8687, acc(test): 0.8576\n",
            "___________________________________________________________________________________________________\n"
          ]
        },
        {
          "output_type": "stream",
          "name": "stderr",
          "text": [
            "epoch: 10, lr: 0.00010 | loss: 0.0298, acc(batch): 0.8839, grad:32797.0708: : 422it [00:11, 36.88it/s]\n"
          ]
        },
        {
          "output_type": "stream",
          "name": "stdout",
          "text": [
            "acc(train): 0.8786, acc(val): 0.8703, acc(test): 0.8603\n",
            "___________________________________________________________________________________________________\n"
          ]
        },
        {
          "output_type": "stream",
          "name": "stderr",
          "text": [
            "epoch: 11, lr: 0.00010 | loss: 0.0294, acc(batch): 0.8839, grad:32712.9691: : 422it [00:11, 36.88it/s]                       \n"
          ]
        },
        {
          "output_type": "stream",
          "name": "stdout",
          "text": [
            "acc(train): 0.8807, acc(val): 0.8717, acc(test): 0.8614\n",
            "___________________________________________________________________________________________________\n"
          ]
        },
        {
          "output_type": "stream",
          "name": "stderr",
          "text": [
            "epoch: 12, lr: 0.00010 | loss: 0.0290, acc(batch): 0.8929, grad:32648.4800: : 422it [00:11, 37.54it/s]\n"
          ]
        },
        {
          "output_type": "stream",
          "name": "stdout",
          "text": [
            "acc(train): 0.8827, acc(val): 0.8718, acc(test): 0.8619\n",
            "___________________________________________________________________________________________________\n"
          ]
        },
        {
          "output_type": "stream",
          "name": "stderr",
          "text": [
            "epoch: 13, lr: 0.00010 | loss: 0.0287, acc(batch): 0.8929, grad:32629.8726: : 422it [00:11, 37.34it/s]                       \n"
          ]
        },
        {
          "output_type": "stream",
          "name": "stdout",
          "text": [
            "acc(train): 0.8845, acc(val): 0.8728, acc(test): 0.8632\n",
            "___________________________________________________________________________________________________\n"
          ]
        },
        {
          "output_type": "stream",
          "name": "stderr",
          "text": [
            "epoch: 14, lr: 0.00010 | loss: 0.0283, acc(batch): 0.8929, grad:32660.7244: : 422it [00:11, 37.17it/s]                       \n"
          ]
        },
        {
          "output_type": "stream",
          "name": "stdout",
          "text": [
            "acc(train): 0.8860, acc(val): 0.8733, acc(test): 0.8643\n",
            "___________________________________________________________________________________________________\n"
          ]
        },
        {
          "output_type": "stream",
          "name": "stderr",
          "text": [
            "epoch: 15, lr: 0.00010 | loss: 0.0280, acc(batch): 0.8929, grad:32709.8503: : 422it [00:11, 36.73it/s]                       \n"
          ]
        },
        {
          "output_type": "stream",
          "name": "stdout",
          "text": [
            "acc(train): 0.8876, acc(val): 0.8737, acc(test): 0.8655\n",
            "___________________________________________________________________________________________________\n"
          ]
        },
        {
          "output_type": "stream",
          "name": "stderr",
          "text": [
            "epoch: 16, lr: 0.00010 | loss: 0.0278, acc(batch): 0.8929, grad:32768.7120: : 422it [00:11, 36.51it/s]                       \n"
          ]
        },
        {
          "output_type": "stream",
          "name": "stdout",
          "text": [
            "acc(train): 0.8890, acc(val): 0.8745, acc(test): 0.8668\n",
            "___________________________________________________________________________________________________\n"
          ]
        },
        {
          "output_type": "stream",
          "name": "stderr",
          "text": [
            "epoch: 17, lr: 0.00010 | loss: 0.0275, acc(batch): 0.9018, grad:32812.6700: : 422it [00:11, 37.15it/s]                       \n"
          ]
        },
        {
          "output_type": "stream",
          "name": "stdout",
          "text": [
            "acc(train): 0.8905, acc(val): 0.8753, acc(test): 0.8677\n",
            "___________________________________________________________________________________________________\n"
          ]
        },
        {
          "output_type": "stream",
          "name": "stderr",
          "text": [
            "epoch: 18, lr: 0.00010 | loss: 0.0273, acc(batch): 0.9018, grad:32855.9469: : 422it [00:11, 36.61it/s]                       \n"
          ]
        },
        {
          "output_type": "stream",
          "name": "stdout",
          "text": [
            "acc(train): 0.8920, acc(val): 0.8755, acc(test): 0.8680\n",
            "___________________________________________________________________________________________________\n"
          ]
        },
        {
          "output_type": "stream",
          "name": "stderr",
          "text": [
            "epoch: 19, lr: 0.00010 | loss: 0.0271, acc(batch): 0.9018, grad:32893.8976: : 422it [00:11, 37.34it/s]\n"
          ]
        },
        {
          "output_type": "stream",
          "name": "stdout",
          "text": [
            "acc(train): 0.8932, acc(val): 0.8768, acc(test): 0.8683\n",
            "___________________________________________________________________________________________________\n"
          ]
        },
        {
          "output_type": "display_data",
          "data": {
            "text/html": [
              "<br/>Waiting for W&B process to finish, PID 1064... <strong style=\"color:green\">(success).</strong>"
            ],
            "text/plain": [
              "<IPython.core.display.HTML object>"
            ]
          },
          "metadata": {}
        },
        {
          "output_type": "display_data",
          "data": {
            "application/vnd.jupyter.widget-view+json": {
              "model_id": "5094cfb8807546bb9fd06df23a94c25e",
              "version_minor": 0,
              "version_major": 2
            },
            "text/plain": [
              "VBox(children=(Label(value=' 0.00MB of 0.00MB uploaded (0.00MB deduped)\\r'), FloatProgress(value=1.0, max=1.0)…"
            ]
          },
          "metadata": {}
        },
        {
          "output_type": "display_data",
          "data": {
            "text/html": [
              "<style>\n",
              "    table.wandb td:nth-child(1) { padding: 0 10px; text-align: right }\n",
              "    .wandb-row { display: flex; flex-direction: row; flex-wrap: wrap; width: 100% }\n",
              "    .wandb-col { display: flex; flex-direction: column; flex-basis: 100%; flex: 1; padding: 10px; }\n",
              "    </style>\n",
              "<div class=\"wandb-row\"><div class=\"wandb-col\">\n",
              "<h3>Run history:</h3><br/><table class=\"wandb\"><tr><td>epoch</td><td>▁▁▂▂▂▃▃▄▄▄▅▅▅▆▆▇▇▇██</td></tr><tr><td>test_acc</td><td>▁▄▅▅▆▆▆▇▇▇▇▇▇███████</td></tr><tr><td>train_acc</td><td>▁▃▄▅▅▆▆▆▇▇▇▇▇▇▇█████</td></tr><tr><td>train_loss</td><td>█▄▃▃▂▂▂▂▂▂▂▁▁▁▁▁▁▁▁▁</td></tr><tr><td>val_acc</td><td>▁▃▅▆▆▆▇▇▇▇▇█████████</td></tr><tr><td>val_loss</td><td>█▅▄▃▃▃▂▂▂▂▂▂▁▁▁▁▁▁▁▁</td></tr></table><br/></div><div class=\"wandb-col\">\n",
              "<h3>Run summary:</h3><br/><table class=\"wandb\"><tr><td>epoch</td><td>19</td></tr><tr><td>test_acc</td><td>0.8683</td></tr><tr><td>train_acc</td><td>0.89324</td></tr><tr><td>train_loss</td><td>0.03023</td></tr><tr><td>val_acc</td><td>0.87683</td></tr><tr><td>val_loss</td><td>0.0334</td></tr></table>\n",
              "</div></div>\n",
              "Synced 5 W&B file(s), 1 media file(s), 1 artifact file(s) and 0 other file(s)\n",
              "<br/>Synced <strong style=\"color:#cdcd00\">vivid-sweep-50</strong>: <a href=\"https://wandb.ai/cs21s006_cs21s043/cs6910_assignment1/runs/dkxo52c5\" target=\"_blank\">https://wandb.ai/cs21s006_cs21s043/cs6910_assignment1/runs/dkxo52c5</a><br/>\n",
              "Find logs at: <code>./wandb/run-20220218_140527-dkxo52c5/logs</code><br/>\n"
            ],
            "text/plain": [
              "<IPython.core.display.HTML object>"
            ]
          },
          "metadata": {}
        },
        {
          "output_type": "stream",
          "name": "stderr",
          "text": [
            "\u001b[34m\u001b[1mwandb\u001b[0m: Sweep Agent: Waiting for job.\n",
            "\u001b[34m\u001b[1mwandb\u001b[0m: Job received.\n",
            "\u001b[34m\u001b[1mwandb\u001b[0m: Agent Starting Run: xv7ymibt with config:\n",
            "\u001b[34m\u001b[1mwandb\u001b[0m: \tactivation: ReLU\n",
            "\u001b[34m\u001b[1mwandb\u001b[0m: \tbatch_size: 128\n",
            "\u001b[34m\u001b[1mwandb\u001b[0m: \tepochs: 10\n",
            "\u001b[34m\u001b[1mwandb\u001b[0m: \thidden_size: 128\n",
            "\u001b[34m\u001b[1mwandb\u001b[0m: \tlearning_rate: 0.0005\n",
            "\u001b[34m\u001b[1mwandb\u001b[0m: \tloss: cross_entropy\n",
            "\u001b[34m\u001b[1mwandb\u001b[0m: \tnum_layers: 1\n",
            "\u001b[34m\u001b[1mwandb\u001b[0m: \toptimizer: rmsprop\n",
            "\u001b[34m\u001b[1mwandb\u001b[0m: \tweight_decay: 0.0005\n",
            "\u001b[34m\u001b[1mwandb\u001b[0m: \tweight_init_method: He_normal\n",
            "\u001b[34m\u001b[1mwandb\u001b[0m: \u001b[33mWARNING\u001b[0m Ignored wandb.init() arg project when running a sweep.\n",
            "\u001b[34m\u001b[1mwandb\u001b[0m: \u001b[33mWARNING\u001b[0m Ignored wandb.init() arg entity when running a sweep.\n"
          ]
        },
        {
          "output_type": "display_data",
          "data": {
            "text/html": [
              "\n",
              "                    Syncing run <strong><a href=\"https://wandb.ai/cs21s006_cs21s043/cs6910_assignment1/runs/xv7ymibt\" target=\"_blank\">daily-sweep-51</a></strong> to <a href=\"https://wandb.ai/cs21s006_cs21s043/cs6910_assignment1\" target=\"_blank\">Weights & Biases</a> (<a href=\"https://docs.wandb.com/integrations/jupyter.html\" target=\"_blank\">docs</a>).<br/>\n",
              "Sweep page: <a href=\"https://wandb.ai/cs21s006_cs21s043/cs6910_assignment1/sweeps/1463mzwx\" target=\"_blank\">https://wandb.ai/cs21s006_cs21s043/cs6910_assignment1/sweeps/1463mzwx</a><br/>\n",
              "\n",
              "                "
            ],
            "text/plain": [
              "<IPython.core.display.HTML object>"
            ]
          },
          "metadata": {}
        },
        {
          "output_type": "stream",
          "name": "stdout",
          "text": [
            "(54000, 784) (54000, 10) (10000, 784) (10000, 10) (6000, 784) (6000, 10)\n"
          ]
        },
        {
          "output_type": "stream",
          "name": "stderr",
          "text": [
            "epoch: 0, lr: 0.00050 | loss: 0.0491, acc(batch): 0.8571, grad:36631.3625: : 422it [00:12, 34.78it/s]                       \n"
          ]
        },
        {
          "output_type": "stream",
          "name": "stdout",
          "text": [
            "acc(train): 0.8406, acc(val): 0.8422, acc(test): 0.8302\n",
            "___________________________________________________________________________________________________\n"
          ]
        },
        {
          "output_type": "stream",
          "name": "stderr",
          "text": [
            "epoch: 1, lr: 0.00050 | loss: 0.0434, acc(batch): 0.8661, grad:36830.3102: : 422it [00:12, 34.66it/s]\n"
          ]
        },
        {
          "output_type": "stream",
          "name": "stdout",
          "text": [
            "acc(train): 0.8547, acc(val): 0.8570, acc(test): 0.8431\n",
            "___________________________________________________________________________________________________\n"
          ]
        },
        {
          "output_type": "stream",
          "name": "stderr",
          "text": [
            "epoch: 2, lr: 0.00050 | loss: 0.0400, acc(batch): 0.8839, grad:36782.1833: : 422it [00:12, 34.40it/s]                       \n"
          ]
        },
        {
          "output_type": "stream",
          "name": "stdout",
          "text": [
            "acc(train): 0.8637, acc(val): 0.8623, acc(test): 0.8513\n",
            "___________________________________________________________________________________________________\n"
          ]
        },
        {
          "output_type": "stream",
          "name": "stderr",
          "text": [
            "epoch: 3, lr: 0.00050 | loss: 0.0378, acc(batch): 0.9018, grad:36787.1750: : 422it [00:12, 34.54it/s]                       \n"
          ]
        },
        {
          "output_type": "stream",
          "name": "stdout",
          "text": [
            "acc(train): 0.8696, acc(val): 0.8667, acc(test): 0.8537\n",
            "___________________________________________________________________________________________________\n"
          ]
        },
        {
          "output_type": "stream",
          "name": "stderr",
          "text": [
            "epoch: 4, lr: 0.00050 | loss: 0.0362, acc(batch): 0.9107, grad:36761.0226: : 422it [00:12, 34.53it/s]                       \n"
          ]
        },
        {
          "output_type": "stream",
          "name": "stdout",
          "text": [
            "acc(train): 0.8736, acc(val): 0.8667, acc(test): 0.8545\n",
            "___________________________________________________________________________________________________\n"
          ]
        },
        {
          "output_type": "stream",
          "name": "stderr",
          "text": [
            "epoch: 5, lr: 0.00050 | loss: 0.0347, acc(batch): 0.9196, grad:36362.3463: : 422it [00:12, 34.10it/s]                       \n"
          ]
        },
        {
          "output_type": "stream",
          "name": "stdout",
          "text": [
            "acc(train): 0.8768, acc(val): 0.8687, acc(test): 0.8586\n",
            "___________________________________________________________________________________________________\n"
          ]
        },
        {
          "output_type": "stream",
          "name": "stderr",
          "text": [
            "epoch: 6, lr: 0.00050 | loss: 0.0336, acc(batch): 0.9196, grad:35995.0995: : 422it [00:12, 34.67it/s]\n"
          ]
        },
        {
          "output_type": "stream",
          "name": "stdout",
          "text": [
            "acc(train): 0.8782, acc(val): 0.8683, acc(test): 0.8581\n",
            "___________________________________________________________________________________________________\n"
          ]
        },
        {
          "output_type": "stream",
          "name": "stderr",
          "text": [
            "epoch: 7, lr: 0.00050 | loss: 0.0328, acc(batch): 0.9196, grad:35995.1145: : 422it [00:12, 34.97it/s]                       \n"
          ]
        },
        {
          "output_type": "stream",
          "name": "stdout",
          "text": [
            "acc(train): 0.8805, acc(val): 0.8693, acc(test): 0.8613\n",
            "___________________________________________________________________________________________________\n"
          ]
        },
        {
          "output_type": "stream",
          "name": "stderr",
          "text": [
            "epoch: 8, lr: 0.00050 | loss: 0.0323, acc(batch): 0.9196, grad:36097.4167: : 422it [00:12, 34.32it/s]                       \n"
          ]
        },
        {
          "output_type": "stream",
          "name": "stdout",
          "text": [
            "acc(train): 0.8822, acc(val): 0.8697, acc(test): 0.8624\n",
            "___________________________________________________________________________________________________\n"
          ]
        },
        {
          "output_type": "stream",
          "name": "stderr",
          "text": [
            "epoch: 9, lr: 0.00050 | loss: 0.0315, acc(batch): 0.9196, grad:35733.2205: : 422it [00:12, 34.87it/s]\n"
          ]
        },
        {
          "output_type": "stream",
          "name": "stdout",
          "text": [
            "acc(train): 0.8839, acc(val): 0.8715, acc(test): 0.8648\n",
            "___________________________________________________________________________________________________\n"
          ]
        },
        {
          "output_type": "display_data",
          "data": {
            "text/html": [
              "<br/>Waiting for W&B process to finish, PID 1108... <strong style=\"color:green\">(success).</strong>"
            ],
            "text/plain": [
              "<IPython.core.display.HTML object>"
            ]
          },
          "metadata": {}
        },
        {
          "output_type": "display_data",
          "data": {
            "application/vnd.jupyter.widget-view+json": {
              "model_id": "53594d6c985541cca4e2f00ef5ac1981",
              "version_minor": 0,
              "version_major": 2
            },
            "text/plain": [
              "VBox(children=(Label(value=' 0.01MB of 0.01MB uploaded (0.00MB deduped)\\r'), FloatProgress(value=1.0, max=1.0)…"
            ]
          },
          "metadata": {}
        },
        {
          "output_type": "display_data",
          "data": {
            "text/html": [
              "<style>\n",
              "    table.wandb td:nth-child(1) { padding: 0 10px; text-align: right }\n",
              "    .wandb-row { display: flex; flex-direction: row; flex-wrap: wrap; width: 100% }\n",
              "    .wandb-col { display: flex; flex-direction: column; flex-basis: 100%; flex: 1; padding: 10px; }\n",
              "    </style>\n",
              "<div class=\"wandb-row\"><div class=\"wandb-col\">\n",
              "<h3>Run history:</h3><br/><table class=\"wandb\"><tr><td>epoch</td><td>▁▂▃▃▄▅▆▆▇█</td></tr><tr><td>test_acc</td><td>▁▄▅▆▆▇▇▇██</td></tr><tr><td>train_acc</td><td>▁▃▅▆▆▇▇▇██</td></tr><tr><td>train_loss</td><td>█▄▃▃▂▂▂▁▁▁</td></tr><tr><td>val_acc</td><td>▁▅▆▇▇▇▇▇██</td></tr><tr><td>val_loss</td><td>█▅▄▃▂▂▂▁▁▁</td></tr></table><br/></div><div class=\"wandb-col\">\n",
              "<h3>Run summary:</h3><br/><table class=\"wandb\"><tr><td>epoch</td><td>9</td></tr><tr><td>test_acc</td><td>0.8648</td></tr><tr><td>train_acc</td><td>0.88387</td></tr><tr><td>train_loss</td><td>0.03272</td></tr><tr><td>val_acc</td><td>0.8715</td></tr><tr><td>val_loss</td><td>0.03582</td></tr></table>\n",
              "</div></div>\n",
              "Synced 5 W&B file(s), 1 media file(s), 1 artifact file(s) and 0 other file(s)\n",
              "<br/>Synced <strong style=\"color:#cdcd00\">daily-sweep-51</strong>: <a href=\"https://wandb.ai/cs21s006_cs21s043/cs6910_assignment1/runs/xv7ymibt\" target=\"_blank\">https://wandb.ai/cs21s006_cs21s043/cs6910_assignment1/runs/xv7ymibt</a><br/>\n",
              "Find logs at: <code>./wandb/run-20220218_141006-xv7ymibt/logs</code><br/>\n"
            ],
            "text/plain": [
              "<IPython.core.display.HTML object>"
            ]
          },
          "metadata": {}
        },
        {
          "output_type": "stream",
          "name": "stderr",
          "text": [
            "\u001b[34m\u001b[1mwandb\u001b[0m: Agent Starting Run: pf6v970q with config:\n",
            "\u001b[34m\u001b[1mwandb\u001b[0m: \tactivation: tanh\n",
            "\u001b[34m\u001b[1mwandb\u001b[0m: \tbatch_size: 128\n",
            "\u001b[34m\u001b[1mwandb\u001b[0m: \tepochs: 10\n",
            "\u001b[34m\u001b[1mwandb\u001b[0m: \thidden_size: 512\n",
            "\u001b[34m\u001b[1mwandb\u001b[0m: \tlearning_rate: 0.0003\n",
            "\u001b[34m\u001b[1mwandb\u001b[0m: \tloss: cross_entropy\n",
            "\u001b[34m\u001b[1mwandb\u001b[0m: \tnum_layers: 3\n",
            "\u001b[34m\u001b[1mwandb\u001b[0m: \toptimizer: rmsprop\n",
            "\u001b[34m\u001b[1mwandb\u001b[0m: \tweight_decay: 0\n",
            "\u001b[34m\u001b[1mwandb\u001b[0m: \tweight_init_method: He_normal\n",
            "\u001b[34m\u001b[1mwandb\u001b[0m: \u001b[33mWARNING\u001b[0m Ignored wandb.init() arg project when running a sweep.\n",
            "\u001b[34m\u001b[1mwandb\u001b[0m: \u001b[33mWARNING\u001b[0m Ignored wandb.init() arg entity when running a sweep.\n"
          ]
        },
        {
          "output_type": "display_data",
          "data": {
            "text/html": [
              "\n",
              "                    Syncing run <strong><a href=\"https://wandb.ai/cs21s006_cs21s043/cs6910_assignment1/runs/pf6v970q\" target=\"_blank\">super-sweep-53</a></strong> to <a href=\"https://wandb.ai/cs21s006_cs21s043/cs6910_assignment1\" target=\"_blank\">Weights & Biases</a> (<a href=\"https://docs.wandb.com/integrations/jupyter.html\" target=\"_blank\">docs</a>).<br/>\n",
              "Sweep page: <a href=\"https://wandb.ai/cs21s006_cs21s043/cs6910_assignment1/sweeps/1463mzwx\" target=\"_blank\">https://wandb.ai/cs21s006_cs21s043/cs6910_assignment1/sweeps/1463mzwx</a><br/>\n",
              "\n",
              "                "
            ],
            "text/plain": [
              "<IPython.core.display.HTML object>"
            ]
          },
          "metadata": {}
        },
        {
          "output_type": "stream",
          "name": "stdout",
          "text": [
            "(54000, 784) (54000, 10) (10000, 784) (10000, 10) (6000, 784) (6000, 10)\n"
          ]
        },
        {
          "output_type": "stream",
          "name": "stderr",
          "text": [
            "epoch: 0, lr: 0.00030 | loss: 0.0445, acc(batch): 0.8571, grad:173785.9407: : 422it [02:21,  2.98it/s]\n"
          ]
        },
        {
          "output_type": "stream",
          "name": "stdout",
          "text": [
            "acc(train): 0.8551, acc(val): 0.8510, acc(test): 0.8426\n",
            "___________________________________________________________________________________________________\n"
          ]
        },
        {
          "output_type": "stream",
          "name": "stderr",
          "text": [
            "epoch: 1, lr: 0.00030 | loss: 0.0406, acc(batch): 0.8482, grad:174813.6768: : 422it [02:20,  3.00it/s]\n"
          ]
        },
        {
          "output_type": "stream",
          "name": "stdout",
          "text": [
            "acc(train): 0.8742, acc(val): 0.8648, acc(test): 0.8586\n",
            "___________________________________________________________________________________________________\n"
          ]
        },
        {
          "output_type": "stream",
          "name": "stderr",
          "text": [
            "epoch: 2, lr: 0.00030 | loss: 0.0372, acc(batch): 0.8839, grad:175121.9531: : 422it [02:23,  2.94it/s]\n"
          ]
        },
        {
          "output_type": "stream",
          "name": "stdout",
          "text": [
            "acc(train): 0.8857, acc(val): 0.8725, acc(test): 0.8660\n",
            "___________________________________________________________________________________________________\n"
          ]
        },
        {
          "output_type": "stream",
          "name": "stderr",
          "text": [
            "epoch: 3, lr: 0.00030 | loss: 0.0344, acc(batch): 0.8839, grad:174435.4188: : 422it [02:23,  2.94it/s]\n"
          ]
        },
        {
          "output_type": "stream",
          "name": "stdout",
          "text": [
            "acc(train): 0.8946, acc(val): 0.8762, acc(test): 0.8715\n",
            "___________________________________________________________________________________________________\n"
          ]
        },
        {
          "output_type": "stream",
          "name": "stderr",
          "text": [
            "epoch: 4, lr: 0.00030 | loss: 0.0321, acc(batch): 0.9107, grad:174126.2045: : 422it [02:22,  2.97it/s]\n"
          ]
        },
        {
          "output_type": "stream",
          "name": "stdout",
          "text": [
            "acc(train): 0.9017, acc(val): 0.8793, acc(test): 0.8730\n",
            "___________________________________________________________________________________________________\n"
          ]
        },
        {
          "output_type": "stream",
          "name": "stderr",
          "text": [
            "epoch: 5, lr: 0.00030 | loss: 0.0301, acc(batch): 0.9196, grad:173929.1696: : 422it [02:21,  2.98it/s]\n"
          ]
        },
        {
          "output_type": "stream",
          "name": "stdout",
          "text": [
            "acc(train): 0.9061, acc(val): 0.8807, acc(test): 0.8759\n",
            "___________________________________________________________________________________________________\n"
          ]
        },
        {
          "output_type": "stream",
          "name": "stderr",
          "text": [
            "epoch: 6, lr: 0.00030 | loss: 0.0282, acc(batch): 0.9196, grad:173962.4115: : 422it [02:21,  2.99it/s]\n"
          ]
        },
        {
          "output_type": "stream",
          "name": "stdout",
          "text": [
            "acc(train): 0.9099, acc(val): 0.8833, acc(test): 0.8764\n",
            "___________________________________________________________________________________________________\n"
          ]
        },
        {
          "output_type": "stream",
          "name": "stderr",
          "text": [
            "epoch: 7, lr: 0.00030 | loss: 0.0261, acc(batch): 0.9375, grad:174261.7242: : 422it [02:21,  2.98it/s]\n"
          ]
        },
        {
          "output_type": "stream",
          "name": "stdout",
          "text": [
            "acc(train): 0.9137, acc(val): 0.8843, acc(test): 0.8788\n",
            "___________________________________________________________________________________________________\n"
          ]
        },
        {
          "output_type": "stream",
          "name": "stderr",
          "text": [
            "epoch: 8, lr: 0.00030 | loss: 0.0239, acc(batch): 0.9464, grad:174709.6601: : 422it [02:21,  2.97it/s]\n"
          ]
        },
        {
          "output_type": "stream",
          "name": "stdout",
          "text": [
            "acc(train): 0.9166, acc(val): 0.8852, acc(test): 0.8803\n",
            "___________________________________________________________________________________________________\n"
          ]
        },
        {
          "output_type": "stream",
          "name": "stderr",
          "text": [
            "epoch: 9, lr: 0.00030 | loss: 0.0215, acc(batch): 0.9643, grad:174098.1276: : 422it [02:22,  2.96it/s]\n"
          ]
        },
        {
          "output_type": "stream",
          "name": "stdout",
          "text": [
            "acc(train): 0.9179, acc(val): 0.8862, acc(test): 0.8802\n",
            "___________________________________________________________________________________________________\n"
          ]
        },
        {
          "output_type": "display_data",
          "data": {
            "text/html": [
              "<br/>Waiting for W&B process to finish, PID 1150... <strong style=\"color:green\">(success).</strong>"
            ],
            "text/plain": [
              "<IPython.core.display.HTML object>"
            ]
          },
          "metadata": {}
        },
        {
          "output_type": "display_data",
          "data": {
            "application/vnd.jupyter.widget-view+json": {
              "model_id": "d724e1b331cd420ab6a4c62fa34a5361",
              "version_minor": 0,
              "version_major": 2
            },
            "text/plain": [
              "VBox(children=(Label(value=' 0.00MB of 0.00MB uploaded (0.00MB deduped)\\r'), FloatProgress(value=1.0, max=1.0)…"
            ]
          },
          "metadata": {}
        },
        {
          "output_type": "display_data",
          "data": {
            "text/html": [
              "<style>\n",
              "    table.wandb td:nth-child(1) { padding: 0 10px; text-align: right }\n",
              "    .wandb-row { display: flex; flex-direction: row; flex-wrap: wrap; width: 100% }\n",
              "    .wandb-col { display: flex; flex-direction: column; flex-basis: 100%; flex: 1; padding: 10px; }\n",
              "    </style>\n",
              "<div class=\"wandb-row\"><div class=\"wandb-col\">\n",
              "<h3>Run history:</h3><br/><table class=\"wandb\"><tr><td>epoch</td><td>▁▂▃▃▄▅▆▆▇█</td></tr><tr><td>test_acc</td><td>▁▄▅▆▇▇▇███</td></tr><tr><td>train_acc</td><td>▁▃▄▅▆▇▇███</td></tr><tr><td>train_loss</td><td>█▅▄▃▃▂▂▂▁▁</td></tr><tr><td>val_acc</td><td>▁▄▅▆▇▇▇███</td></tr><tr><td>val_loss</td><td>█▅▃▂▂▁▁▁▁▁</td></tr></table><br/></div><div class=\"wandb-col\">\n",
              "<h3>Run summary:</h3><br/><table class=\"wandb\"><tr><td>epoch</td><td>9</td></tr><tr><td>test_acc</td><td>0.8802</td></tr><tr><td>train_acc</td><td>0.91785</td></tr><tr><td>train_loss</td><td>0.01967</td></tr><tr><td>val_acc</td><td>0.88617</td></tr><tr><td>val_loss</td><td>0.03189</td></tr></table>\n",
              "</div></div>\n",
              "Synced 5 W&B file(s), 1 media file(s), 1 artifact file(s) and 0 other file(s)\n",
              "<br/>Synced <strong style=\"color:#cdcd00\">super-sweep-53</strong>: <a href=\"https://wandb.ai/cs21s006_cs21s043/cs6910_assignment1/runs/pf6v970q\" target=\"_blank\">https://wandb.ai/cs21s006_cs21s043/cs6910_assignment1/runs/pf6v970q</a><br/>\n",
              "Find logs at: <code>./wandb/run-20220218_141235-pf6v970q/logs</code><br/>\n"
            ],
            "text/plain": [
              "<IPython.core.display.HTML object>"
            ]
          },
          "metadata": {}
        },
        {
          "output_type": "stream",
          "name": "stderr",
          "text": [
            "\u001b[34m\u001b[1mwandb\u001b[0m: Sweep Agent: Waiting for job.\n",
            "\u001b[34m\u001b[1mwandb\u001b[0m: Job received.\n",
            "\u001b[34m\u001b[1mwandb\u001b[0m: Agent Starting Run: g3ntr2cp with config:\n",
            "\u001b[34m\u001b[1mwandb\u001b[0m: \tactivation: sigmoid\n",
            "\u001b[34m\u001b[1mwandb\u001b[0m: \tbatch_size: 128\n",
            "\u001b[34m\u001b[1mwandb\u001b[0m: \tepochs: 20\n",
            "\u001b[34m\u001b[1mwandb\u001b[0m: \thidden_size: 64\n",
            "\u001b[34m\u001b[1mwandb\u001b[0m: \tlearning_rate: 0.001\n",
            "\u001b[34m\u001b[1mwandb\u001b[0m: \tloss: cross_entropy\n",
            "\u001b[34m\u001b[1mwandb\u001b[0m: \tnum_layers: 3\n",
            "\u001b[34m\u001b[1mwandb\u001b[0m: \toptimizer: nadam\n",
            "\u001b[34m\u001b[1mwandb\u001b[0m: \tweight_decay: 0.0005\n",
            "\u001b[34m\u001b[1mwandb\u001b[0m: \tweight_init_method: Xavier_normal\n",
            "\u001b[34m\u001b[1mwandb\u001b[0m: \u001b[33mWARNING\u001b[0m Ignored wandb.init() arg project when running a sweep.\n",
            "\u001b[34m\u001b[1mwandb\u001b[0m: \u001b[33mWARNING\u001b[0m Ignored wandb.init() arg entity when running a sweep.\n"
          ]
        },
        {
          "output_type": "display_data",
          "data": {
            "text/html": [
              "\n",
              "                    Syncing run <strong><a href=\"https://wandb.ai/cs21s006_cs21s043/cs6910_assignment1/runs/g3ntr2cp\" target=\"_blank\">lunar-sweep-59</a></strong> to <a href=\"https://wandb.ai/cs21s006_cs21s043/cs6910_assignment1\" target=\"_blank\">Weights & Biases</a> (<a href=\"https://docs.wandb.com/integrations/jupyter.html\" target=\"_blank\">docs</a>).<br/>\n",
              "Sweep page: <a href=\"https://wandb.ai/cs21s006_cs21s043/cs6910_assignment1/sweeps/1463mzwx\" target=\"_blank\">https://wandb.ai/cs21s006_cs21s043/cs6910_assignment1/sweeps/1463mzwx</a><br/>\n",
              "\n",
              "                "
            ],
            "text/plain": [
              "<IPython.core.display.HTML object>"
            ]
          },
          "metadata": {}
        },
        {
          "output_type": "stream",
          "name": "stdout",
          "text": [
            "(54000, 784) (54000, 10) (10000, 784) (10000, 10) (6000, 784) (6000, 10)\n"
          ]
        },
        {
          "output_type": "stream",
          "name": "stderr",
          "text": [
            "epoch: 0, lr: 0.00100 | loss: 0.0706, acc(batch): 0.7679, grad:31912.3937: : 422it [00:11, 36.80it/s]                       \n"
          ]
        },
        {
          "output_type": "stream",
          "name": "stdout",
          "text": [
            "acc(train): 0.7349, acc(val): 0.7357, acc(test): 0.7278\n",
            "___________________________________________________________________________________________________\n"
          ]
        },
        {
          "output_type": "stream",
          "name": "stderr",
          "text": [
            "epoch: 1, lr: 0.00100 | loss: 0.0528, acc(batch): 0.8482, grad:31482.9904: : 422it [00:11, 36.60it/s]                       \n"
          ]
        },
        {
          "output_type": "stream",
          "name": "stdout",
          "text": [
            "acc(train): 0.7897, acc(val): 0.7880, acc(test): 0.7816\n",
            "___________________________________________________________________________________________________\n"
          ]
        },
        {
          "output_type": "stream",
          "name": "stderr",
          "text": [
            "epoch: 2, lr: 0.00100 | loss: 0.0473, acc(batch): 0.8482, grad:30700.2445: : 422it [00:11, 35.88it/s]                       \n"
          ]
        },
        {
          "output_type": "stream",
          "name": "stdout",
          "text": [
            "acc(train): 0.8208, acc(val): 0.8155, acc(test): 0.8093\n",
            "___________________________________________________________________________________________________\n"
          ]
        },
        {
          "output_type": "stream",
          "name": "stderr",
          "text": [
            "epoch: 3, lr: 0.00100 | loss: 0.0433, acc(batch): 0.8571, grad:30182.6538: : 422it [00:11, 36.47it/s]                       \n"
          ]
        },
        {
          "output_type": "stream",
          "name": "stdout",
          "text": [
            "acc(train): 0.8402, acc(val): 0.8347, acc(test): 0.8285\n",
            "___________________________________________________________________________________________________\n"
          ]
        },
        {
          "output_type": "stream",
          "name": "stderr",
          "text": [
            "epoch: 4, lr: 0.00100 | loss: 0.0406, acc(batch): 0.8750, grad:30181.3648: : 422it [00:11, 36.59it/s]                       \n"
          ]
        },
        {
          "output_type": "stream",
          "name": "stdout",
          "text": [
            "acc(train): 0.8505, acc(val): 0.8433, acc(test): 0.8383\n",
            "___________________________________________________________________________________________________\n"
          ]
        },
        {
          "output_type": "stream",
          "name": "stderr",
          "text": [
            "epoch: 5, lr: 0.00100 | loss: 0.0393, acc(batch): 0.8929, grad:30223.8044: : 422it [00:11, 36.46it/s]                       \n"
          ]
        },
        {
          "output_type": "stream",
          "name": "stdout",
          "text": [
            "acc(train): 0.8557, acc(val): 0.8478, acc(test): 0.8423\n",
            "___________________________________________________________________________________________________\n"
          ]
        },
        {
          "output_type": "stream",
          "name": "stderr",
          "text": [
            "epoch: 6, lr: 0.00100 | loss: 0.0386, acc(batch): 0.9018, grad:30265.7466: : 422it [00:11, 36.63it/s]                       \n"
          ]
        },
        {
          "output_type": "stream",
          "name": "stdout",
          "text": [
            "acc(train): 0.8596, acc(val): 0.8510, acc(test): 0.8459\n",
            "___________________________________________________________________________________________________\n"
          ]
        },
        {
          "output_type": "stream",
          "name": "stderr",
          "text": [
            "epoch: 7, lr: 0.00100 | loss: 0.0380, acc(batch): 0.9018, grad:30277.6865: : 422it [00:11, 36.78it/s]                       \n"
          ]
        },
        {
          "output_type": "stream",
          "name": "stdout",
          "text": [
            "acc(train): 0.8625, acc(val): 0.8542, acc(test): 0.8471\n",
            "___________________________________________________________________________________________________\n"
          ]
        },
        {
          "output_type": "stream",
          "name": "stderr",
          "text": [
            "epoch: 8, lr: 0.00100 | loss: 0.0377, acc(batch): 0.9018, grad:30269.4015: : 422it [00:11, 37.27it/s]                       \n"
          ]
        },
        {
          "output_type": "stream",
          "name": "stdout",
          "text": [
            "acc(train): 0.8644, acc(val): 0.8575, acc(test): 0.8488\n",
            "___________________________________________________________________________________________________\n"
          ]
        },
        {
          "output_type": "stream",
          "name": "stderr",
          "text": [
            "epoch: 9, lr: 0.00100 | loss: 0.0374, acc(batch): 0.9018, grad:30204.7168: : 422it [00:11, 37.24it/s]                       \n"
          ]
        },
        {
          "output_type": "stream",
          "name": "stdout",
          "text": [
            "acc(train): 0.8669, acc(val): 0.8592, acc(test): 0.8506\n",
            "___________________________________________________________________________________________________\n"
          ]
        },
        {
          "output_type": "stream",
          "name": "stderr",
          "text": [
            "epoch: 10, lr: 0.00100 | loss: 0.0372, acc(batch): 0.9018, grad:30111.8622: : 422it [00:11, 35.79it/s]\n"
          ]
        },
        {
          "output_type": "stream",
          "name": "stdout",
          "text": [
            "acc(train): 0.8693, acc(val): 0.8617, acc(test): 0.8518\n",
            "___________________________________________________________________________________________________\n"
          ]
        },
        {
          "output_type": "stream",
          "name": "stderr",
          "text": [
            "epoch: 11, lr: 0.00100 | loss: 0.0370, acc(batch): 0.9018, grad:30010.6992: : 422it [00:11, 36.59it/s]\n"
          ]
        },
        {
          "output_type": "stream",
          "name": "stdout",
          "text": [
            "acc(train): 0.8713, acc(val): 0.8617, acc(test): 0.8536\n",
            "___________________________________________________________________________________________________\n"
          ]
        },
        {
          "output_type": "stream",
          "name": "stderr",
          "text": [
            "epoch: 12, lr: 0.00100 | loss: 0.0369, acc(batch): 0.9018, grad:29911.6027: : 422it [00:11, 36.29it/s]\n"
          ]
        },
        {
          "output_type": "stream",
          "name": "stdout",
          "text": [
            "acc(train): 0.8727, acc(val): 0.8623, acc(test): 0.8550\n",
            "___________________________________________________________________________________________________\n"
          ]
        },
        {
          "output_type": "stream",
          "name": "stderr",
          "text": [
            "epoch: 13, lr: 0.00100 | loss: 0.0368, acc(batch): 0.9018, grad:29817.3005: : 422it [00:11, 36.85it/s]                       \n"
          ]
        },
        {
          "output_type": "stream",
          "name": "stdout",
          "text": [
            "acc(train): 0.8739, acc(val): 0.8633, acc(test): 0.8549\n",
            "___________________________________________________________________________________________________\n"
          ]
        },
        {
          "output_type": "stream",
          "name": "stderr",
          "text": [
            "epoch: 14, lr: 0.00100 | loss: 0.0367, acc(batch): 0.9018, grad:29727.9019: : 422it [00:11, 36.68it/s]                       \n"
          ]
        },
        {
          "output_type": "stream",
          "name": "stdout",
          "text": [
            "acc(train): 0.8747, acc(val): 0.8640, acc(test): 0.8550\n",
            "___________________________________________________________________________________________________\n"
          ]
        },
        {
          "output_type": "stream",
          "name": "stderr",
          "text": [
            "epoch: 15, lr: 0.00100 | loss: 0.0367, acc(batch): 0.8929, grad:29645.6071: : 422it [00:11, 35.92it/s]                       \n"
          ]
        },
        {
          "output_type": "stream",
          "name": "stdout",
          "text": [
            "acc(train): 0.8756, acc(val): 0.8638, acc(test): 0.8557\n",
            "___________________________________________________________________________________________________\n"
          ]
        },
        {
          "output_type": "stream",
          "name": "stderr",
          "text": [
            "epoch: 16, lr: 0.00100 | loss: 0.0366, acc(batch): 0.8929, grad:29574.0485: : 422it [00:11, 36.26it/s]                       \n"
          ]
        },
        {
          "output_type": "stream",
          "name": "stdout",
          "text": [
            "acc(train): 0.8765, acc(val): 0.8655, acc(test): 0.8566\n",
            "___________________________________________________________________________________________________\n"
          ]
        },
        {
          "output_type": "stream",
          "name": "stderr",
          "text": [
            "epoch: 17, lr: 0.00100 | loss: 0.0366, acc(batch): 0.8839, grad:29510.5106: : 422it [00:11, 35.87it/s]\n"
          ]
        },
        {
          "output_type": "stream",
          "name": "stdout",
          "text": [
            "acc(train): 0.8771, acc(val): 0.8652, acc(test): 0.8575\n",
            "___________________________________________________________________________________________________\n"
          ]
        },
        {
          "output_type": "stream",
          "name": "stderr",
          "text": [
            "epoch: 18, lr: 0.00100 | loss: 0.0367, acc(batch): 0.8839, grad:29452.3214: : 422it [00:11, 36.26it/s]\n"
          ]
        },
        {
          "output_type": "stream",
          "name": "stdout",
          "text": [
            "acc(train): 0.8778, acc(val): 0.8662, acc(test): 0.8578\n",
            "___________________________________________________________________________________________________\n"
          ]
        },
        {
          "output_type": "stream",
          "name": "stderr",
          "text": [
            "epoch: 19, lr: 0.00100 | loss: 0.0367, acc(batch): 0.8929, grad:29401.0394: : 422it [00:11, 35.43it/s]                       \n"
          ]
        },
        {
          "output_type": "stream",
          "name": "stdout",
          "text": [
            "acc(train): 0.8783, acc(val): 0.8658, acc(test): 0.8587\n",
            "___________________________________________________________________________________________________\n"
          ]
        },
        {
          "output_type": "display_data",
          "data": {
            "text/html": [
              "<br/>Waiting for W&B process to finish, PID 1192... <strong style=\"color:green\">(success).</strong>"
            ],
            "text/plain": [
              "<IPython.core.display.HTML object>"
            ]
          },
          "metadata": {}
        },
        {
          "output_type": "display_data",
          "data": {
            "application/vnd.jupyter.widget-view+json": {
              "model_id": "0ea16cc4505c41cf90f70d584f0abfb9",
              "version_minor": 0,
              "version_major": 2
            },
            "text/plain": [
              "VBox(children=(Label(value=' 0.00MB of 0.01MB uploaded (0.00MB deduped)\\r'), FloatProgress(value=0.57941091539…"
            ]
          },
          "metadata": {}
        },
        {
          "output_type": "display_data",
          "data": {
            "text/html": [
              "<style>\n",
              "    table.wandb td:nth-child(1) { padding: 0 10px; text-align: right }\n",
              "    .wandb-row { display: flex; flex-direction: row; flex-wrap: wrap; width: 100% }\n",
              "    .wandb-col { display: flex; flex-direction: column; flex-basis: 100%; flex: 1; padding: 10px; }\n",
              "    </style>\n",
              "<div class=\"wandb-row\"><div class=\"wandb-col\">\n",
              "<h3>Run history:</h3><br/><table class=\"wandb\"><tr><td>epoch</td><td>▁▁▂▂▂▃▃▄▄▄▅▅▅▆▆▇▇▇██</td></tr><tr><td>test_acc</td><td>▁▄▅▆▇▇▇▇▇███████████</td></tr><tr><td>train_acc</td><td>▁▄▅▆▇▇▇▇▇▇██████████</td></tr><tr><td>train_loss</td><td>█▃▃▂▂▂▂▁▁▁▁▁▁▁▁▁▁▁▁▁</td></tr><tr><td>val_acc</td><td>▁▄▅▆▇▇▇▇████████████</td></tr><tr><td>val_loss</td><td>█▅▃▃▂▂▂▂▁▁▁▁▁▁▁▁▁▁▁▁</td></tr></table><br/></div><div class=\"wandb-col\">\n",
              "<h3>Run summary:</h3><br/><table class=\"wandb\"><tr><td>epoch</td><td>19</td></tr><tr><td>test_acc</td><td>0.8587</td></tr><tr><td>train_acc</td><td>0.87828</td></tr><tr><td>train_loss</td><td>0.03443</td></tr><tr><td>val_acc</td><td>0.86583</td></tr><tr><td>val_loss</td><td>0.03768</td></tr></table>\n",
              "</div></div>\n",
              "Synced 5 W&B file(s), 1 media file(s), 1 artifact file(s) and 0 other file(s)\n",
              "<br/>Synced <strong style=\"color:#cdcd00\">lunar-sweep-59</strong>: <a href=\"https://wandb.ai/cs21s006_cs21s043/cs6910_assignment1/runs/g3ntr2cp\" target=\"_blank\">https://wandb.ai/cs21s006_cs21s043/cs6910_assignment1/runs/g3ntr2cp</a><br/>\n",
              "Find logs at: <code>./wandb/run-20220218_143801-g3ntr2cp/logs</code><br/>\n"
            ],
            "text/plain": [
              "<IPython.core.display.HTML object>"
            ]
          },
          "metadata": {}
        },
        {
          "output_type": "stream",
          "name": "stderr",
          "text": [
            "\u001b[34m\u001b[1mwandb\u001b[0m: Agent Starting Run: mrsawphd with config:\n",
            "\u001b[34m\u001b[1mwandb\u001b[0m: \tactivation: ReLU\n",
            "\u001b[34m\u001b[1mwandb\u001b[0m: \tbatch_size: 128\n",
            "\u001b[34m\u001b[1mwandb\u001b[0m: \tepochs: 20\n",
            "\u001b[34m\u001b[1mwandb\u001b[0m: \thidden_size: 256\n",
            "\u001b[34m\u001b[1mwandb\u001b[0m: \tlearning_rate: 0.0005\n",
            "\u001b[34m\u001b[1mwandb\u001b[0m: \tloss: cross_entropy\n",
            "\u001b[34m\u001b[1mwandb\u001b[0m: \tnum_layers: 3\n",
            "\u001b[34m\u001b[1mwandb\u001b[0m: \toptimizer: nadam\n",
            "\u001b[34m\u001b[1mwandb\u001b[0m: \tweight_decay: 0.0005\n",
            "\u001b[34m\u001b[1mwandb\u001b[0m: \tweight_init_method: Xavier_normal\n",
            "\u001b[34m\u001b[1mwandb\u001b[0m: \u001b[33mWARNING\u001b[0m Ignored wandb.init() arg project when running a sweep.\n",
            "\u001b[34m\u001b[1mwandb\u001b[0m: \u001b[33mWARNING\u001b[0m Ignored wandb.init() arg entity when running a sweep.\n"
          ]
        },
        {
          "output_type": "display_data",
          "data": {
            "text/html": [
              "\n",
              "                    Syncing run <strong><a href=\"https://wandb.ai/cs21s006_cs21s043/cs6910_assignment1/runs/mrsawphd\" target=\"_blank\">drawn-sweep-60</a></strong> to <a href=\"https://wandb.ai/cs21s006_cs21s043/cs6910_assignment1\" target=\"_blank\">Weights & Biases</a> (<a href=\"https://docs.wandb.com/integrations/jupyter.html\" target=\"_blank\">docs</a>).<br/>\n",
              "Sweep page: <a href=\"https://wandb.ai/cs21s006_cs21s043/cs6910_assignment1/sweeps/1463mzwx\" target=\"_blank\">https://wandb.ai/cs21s006_cs21s043/cs6910_assignment1/sweeps/1463mzwx</a><br/>\n",
              "\n",
              "                "
            ],
            "text/plain": [
              "<IPython.core.display.HTML object>"
            ]
          },
          "metadata": {}
        },
        {
          "output_type": "stream",
          "name": "stdout",
          "text": [
            "(54000, 784) (54000, 10) (10000, 784) (10000, 10) (6000, 784) (6000, 10)\n"
          ]
        },
        {
          "output_type": "stream",
          "name": "stderr",
          "text": [
            "epoch: 0, lr: 0.00050 | loss: 0.0383, acc(batch): 0.9018, grad:84510.3052: : 422it [00:44,  9.49it/s]\n"
          ]
        },
        {
          "output_type": "stream",
          "name": "stdout",
          "text": [
            "acc(train): 0.8624, acc(val): 0.8553, acc(test): 0.8507\n",
            "___________________________________________________________________________________________________\n"
          ]
        },
        {
          "output_type": "stream",
          "name": "stderr",
          "text": [
            "epoch: 1, lr: 0.00050 | loss: 0.0339, acc(batch): 0.9018, grad:82911.1339: : 422it [00:44,  9.44it/s]\n"
          ]
        },
        {
          "output_type": "stream",
          "name": "stdout",
          "text": [
            "acc(train): 0.8745, acc(val): 0.8627, acc(test): 0.8562\n",
            "___________________________________________________________________________________________________\n"
          ]
        },
        {
          "output_type": "stream",
          "name": "stderr",
          "text": [
            "epoch: 2, lr: 0.00050 | loss: 0.0321, acc(batch): 0.9107, grad:82299.1022: : 422it [00:44,  9.47it/s]                       \n"
          ]
        },
        {
          "output_type": "stream",
          "name": "stdout",
          "text": [
            "acc(train): 0.8842, acc(val): 0.8678, acc(test): 0.8642\n",
            "___________________________________________________________________________________________________\n"
          ]
        },
        {
          "output_type": "stream",
          "name": "stderr",
          "text": [
            "epoch: 3, lr: 0.00050 | loss: 0.0306, acc(batch): 0.9107, grad:82730.9595: : 422it [00:44,  9.45it/s]                       \n"
          ]
        },
        {
          "output_type": "stream",
          "name": "stdout",
          "text": [
            "acc(train): 0.8876, acc(val): 0.8707, acc(test): 0.8651\n",
            "___________________________________________________________________________________________________\n"
          ]
        },
        {
          "output_type": "stream",
          "name": "stderr",
          "text": [
            "epoch: 4, lr: 0.00050 | loss: 0.0314, acc(batch): 0.9107, grad:82695.8833: : 422it [00:45,  9.34it/s]\n"
          ]
        },
        {
          "output_type": "stream",
          "name": "stdout",
          "text": [
            "acc(train): 0.8922, acc(val): 0.8735, acc(test): 0.8670\n",
            "___________________________________________________________________________________________________\n"
          ]
        },
        {
          "output_type": "stream",
          "name": "stderr",
          "text": [
            "epoch: 5, lr: 0.00050 | loss: 0.0300, acc(batch): 0.9286, grad:81280.7322: : 422it [00:44,  9.42it/s]\n"
          ]
        },
        {
          "output_type": "stream",
          "name": "stdout",
          "text": [
            "acc(train): 0.8960, acc(val): 0.8758, acc(test): 0.8693\n",
            "___________________________________________________________________________________________________\n"
          ]
        },
        {
          "output_type": "stream",
          "name": "stderr",
          "text": [
            "epoch: 6, lr: 0.00050 | loss: 0.0292, acc(batch): 0.9107, grad:79421.4574: : 422it [00:44,  9.42it/s]\n"
          ]
        },
        {
          "output_type": "stream",
          "name": "stdout",
          "text": [
            "acc(train): 0.8999, acc(val): 0.8772, acc(test): 0.8690\n",
            "___________________________________________________________________________________________________\n"
          ]
        },
        {
          "output_type": "stream",
          "name": "stderr",
          "text": [
            "epoch: 7, lr: 0.00050 | loss: 0.0288, acc(batch): 0.9107, grad:81245.3982: : 422it [00:44,  9.38it/s]\n"
          ]
        },
        {
          "output_type": "stream",
          "name": "stdout",
          "text": [
            "acc(train): 0.9034, acc(val): 0.8797, acc(test): 0.8723\n",
            "___________________________________________________________________________________________________\n"
          ]
        },
        {
          "output_type": "stream",
          "name": "stderr",
          "text": [
            "epoch: 8, lr: 0.00050 | loss: 0.0288, acc(batch): 0.9107, grad:79396.4565: : 422it [00:44,  9.57it/s]\n"
          ]
        },
        {
          "output_type": "stream",
          "name": "stdout",
          "text": [
            "acc(train): 0.9054, acc(val): 0.8820, acc(test): 0.8717\n",
            "___________________________________________________________________________________________________\n"
          ]
        },
        {
          "output_type": "stream",
          "name": "stderr",
          "text": [
            "epoch: 9, lr: 0.00050 | loss: 0.0275, acc(batch): 0.9286, grad:80314.0182: : 422it [00:44,  9.47it/s]\n"
          ]
        },
        {
          "output_type": "stream",
          "name": "stdout",
          "text": [
            "acc(train): 0.9077, acc(val): 0.8822, acc(test): 0.8727\n",
            "___________________________________________________________________________________________________\n"
          ]
        },
        {
          "output_type": "stream",
          "name": "stderr",
          "text": [
            "epoch: 10, lr: 0.00050 | loss: 0.0263, acc(batch): 0.9375, grad:79100.8522: : 422it [00:44,  9.55it/s]                       \n"
          ]
        },
        {
          "output_type": "stream",
          "name": "stdout",
          "text": [
            "acc(train): 0.9109, acc(val): 0.8860, acc(test): 0.8749\n",
            "___________________________________________________________________________________________________\n"
          ]
        },
        {
          "output_type": "stream",
          "name": "stderr",
          "text": [
            "epoch: 11, lr: 0.00050 | loss: 0.0246, acc(batch): 0.9464, grad:77878.5610: : 422it [00:44,  9.53it/s]                       \n"
          ]
        },
        {
          "output_type": "stream",
          "name": "stdout",
          "text": [
            "acc(train): 0.9113, acc(val): 0.8848, acc(test): 0.8740\n",
            "___________________________________________________________________________________________________\n"
          ]
        },
        {
          "output_type": "stream",
          "name": "stderr",
          "text": [
            "epoch: 12, lr: 0.00050 | loss: 0.0241, acc(batch): 0.9375, grad:77220.4674: : 422it [00:44,  9.44it/s]\n"
          ]
        },
        {
          "output_type": "stream",
          "name": "stdout",
          "text": [
            "acc(train): 0.9134, acc(val): 0.8857, acc(test): 0.8762\n",
            "___________________________________________________________________________________________________\n"
          ]
        },
        {
          "output_type": "stream",
          "name": "stderr",
          "text": [
            "epoch: 13, lr: 0.00050 | loss: 0.0238, acc(batch): 0.9554, grad:77828.9646: : 422it [00:45,  9.27it/s]\n"
          ]
        },
        {
          "output_type": "stream",
          "name": "stdout",
          "text": [
            "acc(train): 0.9174, acc(val): 0.8862, acc(test): 0.8787\n",
            "___________________________________________________________________________________________________\n"
          ]
        },
        {
          "output_type": "stream",
          "name": "stderr",
          "text": [
            "epoch: 14, lr: 0.00050 | loss: 0.0248, acc(batch): 0.9464, grad:75986.5784: : 422it [00:45,  9.35it/s]\n"
          ]
        },
        {
          "output_type": "stream",
          "name": "stdout",
          "text": [
            "acc(train): 0.9175, acc(val): 0.8872, acc(test): 0.8773\n",
            "___________________________________________________________________________________________________\n"
          ]
        },
        {
          "output_type": "stream",
          "name": "stderr",
          "text": [
            "epoch: 15, lr: 0.00050 | loss: 0.0233, acc(batch): 0.9464, grad:77027.1146: : 422it [00:44,  9.51it/s]                       \n"
          ]
        },
        {
          "output_type": "stream",
          "name": "stdout",
          "text": [
            "acc(train): 0.9193, acc(val): 0.8878, acc(test): 0.8782\n",
            "___________________________________________________________________________________________________\n"
          ]
        },
        {
          "output_type": "stream",
          "name": "stderr",
          "text": [
            "epoch: 16, lr: 0.00050 | loss: 0.0218, acc(batch): 0.9554, grad:76915.1394: : 422it [00:47,  8.94it/s]\n"
          ]
        },
        {
          "output_type": "stream",
          "name": "stdout",
          "text": [
            "acc(train): 0.9218, acc(val): 0.8890, acc(test): 0.8790\n",
            "___________________________________________________________________________________________________\n"
          ]
        },
        {
          "output_type": "stream",
          "name": "stderr",
          "text": [
            "epoch: 17, lr: 0.00050 | loss: 0.0224, acc(batch): 0.9375, grad:75114.9376: : 422it [00:51,  8.21it/s]\n"
          ]
        },
        {
          "output_type": "stream",
          "name": "stdout",
          "text": [
            "acc(train): 0.9238, acc(val): 0.8910, acc(test): 0.8809\n",
            "___________________________________________________________________________________________________\n"
          ]
        },
        {
          "output_type": "stream",
          "name": "stderr",
          "text": [
            "epoch: 18, lr: 0.00050 | loss: 0.0224, acc(batch): 0.9464, grad:75826.0208: : 422it [00:48,  8.77it/s]\n"
          ]
        },
        {
          "output_type": "stream",
          "name": "stdout",
          "text": [
            "acc(train): 0.9234, acc(val): 0.8880, acc(test): 0.8780\n",
            "___________________________________________________________________________________________________\n"
          ]
        },
        {
          "output_type": "stream",
          "name": "stderr",
          "text": [
            "epoch: 19, lr: 0.00050 | loss: 0.0206, acc(batch): 0.9554, grad:76208.1416: : 422it [00:47,  8.90it/s]\n"
          ]
        },
        {
          "output_type": "stream",
          "name": "stdout",
          "text": [
            "acc(train): 0.9263, acc(val): 0.8910, acc(test): 0.8807\n",
            "___________________________________________________________________________________________________\n"
          ]
        },
        {
          "output_type": "display_data",
          "data": {
            "text/html": [
              "<br/>Waiting for W&B process to finish, PID 1234... <strong style=\"color:green\">(success).</strong>"
            ],
            "text/plain": [
              "<IPython.core.display.HTML object>"
            ]
          },
          "metadata": {}
        },
        {
          "output_type": "display_data",
          "data": {
            "application/vnd.jupyter.widget-view+json": {
              "model_id": "5ba074b75f2f4547a8ab8987d2e1b3fc",
              "version_minor": 0,
              "version_major": 2
            },
            "text/plain": [
              "VBox(children=(Label(value=' 0.00MB of 0.01MB uploaded (0.00MB deduped)\\r'), FloatProgress(value=0.57943385326…"
            ]
          },
          "metadata": {}
        },
        {
          "output_type": "display_data",
          "data": {
            "text/html": [
              "<style>\n",
              "    table.wandb td:nth-child(1) { padding: 0 10px; text-align: right }\n",
              "    .wandb-row { display: flex; flex-direction: row; flex-wrap: wrap; width: 100% }\n",
              "    .wandb-col { display: flex; flex-direction: column; flex-basis: 100%; flex: 1; padding: 10px; }\n",
              "    </style>\n",
              "<div class=\"wandb-row\"><div class=\"wandb-col\">\n",
              "<h3>Run history:</h3><br/><table class=\"wandb\"><tr><td>epoch</td><td>▁▁▂▂▂▃▃▄▄▄▅▅▅▆▆▇▇▇██</td></tr><tr><td>test_acc</td><td>▁▂▄▄▅▅▅▆▆▆▇▆▇▇▇▇██▇█</td></tr><tr><td>train_acc</td><td>▁▂▃▄▄▅▅▅▆▆▆▆▇▇▇▇████</td></tr><tr><td>train_loss</td><td>█▅▄▄▃▃▃▃▂▂▂▂▂▂▂▁▁▁▁▁</td></tr><tr><td>val_acc</td><td>▁▂▃▄▅▅▅▆▆▆▇▇▇▇▇▇██▇█</td></tr><tr><td>val_loss</td><td>█▅▃▃▂▂▂▁▁▁▁▂▂▁▂▂▁▁▂▁</td></tr></table><br/></div><div class=\"wandb-col\">\n",
              "<h3>Run summary:</h3><br/><table class=\"wandb\"><tr><td>epoch</td><td>19</td></tr><tr><td>test_acc</td><td>0.8807</td></tr><tr><td>train_acc</td><td>0.92631</td></tr><tr><td>train_loss</td><td>0.0172</td></tr><tr><td>val_acc</td><td>0.891</td></tr><tr><td>val_loss</td><td>0.03284</td></tr></table>\n",
              "</div></div>\n",
              "Synced 5 W&B file(s), 1 media file(s), 1 artifact file(s) and 0 other file(s)\n",
              "<br/>Synced <strong style=\"color:#cdcd00\">drawn-sweep-60</strong>: <a href=\"https://wandb.ai/cs21s006_cs21s043/cs6910_assignment1/runs/mrsawphd\" target=\"_blank\">https://wandb.ai/cs21s006_cs21s043/cs6910_assignment1/runs/mrsawphd</a><br/>\n",
              "Find logs at: <code>./wandb/run-20220218_144232-mrsawphd/logs</code><br/>\n"
            ],
            "text/plain": [
              "<IPython.core.display.HTML object>"
            ]
          },
          "metadata": {}
        },
        {
          "output_type": "stream",
          "name": "stderr",
          "text": [
            "\u001b[34m\u001b[1mwandb\u001b[0m: Agent Starting Run: zxhwhi0m with config:\n",
            "\u001b[34m\u001b[1mwandb\u001b[0m: \tactivation: tanh\n",
            "\u001b[34m\u001b[1mwandb\u001b[0m: \tbatch_size: 32\n",
            "\u001b[34m\u001b[1mwandb\u001b[0m: \tepochs: 20\n",
            "\u001b[34m\u001b[1mwandb\u001b[0m: \thidden_size: 32\n",
            "\u001b[34m\u001b[1mwandb\u001b[0m: \tlearning_rate: 0.0005\n",
            "\u001b[34m\u001b[1mwandb\u001b[0m: \tloss: cross_entropy\n",
            "\u001b[34m\u001b[1mwandb\u001b[0m: \tnum_layers: 2\n",
            "\u001b[34m\u001b[1mwandb\u001b[0m: \toptimizer: sgd\n",
            "\u001b[34m\u001b[1mwandb\u001b[0m: \tweight_decay: 0\n",
            "\u001b[34m\u001b[1mwandb\u001b[0m: \tweight_init_method: Xavier_normal\n",
            "\u001b[34m\u001b[1mwandb\u001b[0m: \u001b[33mWARNING\u001b[0m Ignored wandb.init() arg project when running a sweep.\n",
            "\u001b[34m\u001b[1mwandb\u001b[0m: \u001b[33mWARNING\u001b[0m Ignored wandb.init() arg entity when running a sweep.\n"
          ]
        },
        {
          "output_type": "display_data",
          "data": {
            "text/html": [
              "\n",
              "                    Syncing run <strong><a href=\"https://wandb.ai/cs21s006_cs21s043/cs6910_assignment1/runs/zxhwhi0m\" target=\"_blank\">robust-sweep-61</a></strong> to <a href=\"https://wandb.ai/cs21s006_cs21s043/cs6910_assignment1\" target=\"_blank\">Weights & Biases</a> (<a href=\"https://docs.wandb.com/integrations/jupyter.html\" target=\"_blank\">docs</a>).<br/>\n",
              "Sweep page: <a href=\"https://wandb.ai/cs21s006_cs21s043/cs6910_assignment1/sweeps/1463mzwx\" target=\"_blank\">https://wandb.ai/cs21s006_cs21s043/cs6910_assignment1/sweeps/1463mzwx</a><br/>\n",
              "\n",
              "                "
            ],
            "text/plain": [
              "<IPython.core.display.HTML object>"
            ]
          },
          "metadata": {}
        },
        {
          "output_type": "stream",
          "name": "stdout",
          "text": [
            "(54000, 784) (54000, 10) (10000, 784) (10000, 10) (6000, 784) (6000, 10)\n"
          ]
        },
        {
          "output_type": "stream",
          "name": "stderr",
          "text": [
            "epoch: 0, lr: 0.00050 | loss: 0.0752, acc(batch): 0.7500, grad:19615.4083: : 1688it [00:25, 65.19it/s]                        \n"
          ]
        },
        {
          "output_type": "stream",
          "name": "stdout",
          "text": [
            "acc(train): 0.7499, acc(val): 0.7467, acc(test): 0.7427\n",
            "___________________________________________________________________________________________________\n"
          ]
        },
        {
          "output_type": "stream",
          "name": "stderr",
          "text": [
            "epoch: 1, lr: 0.00050 | loss: 0.0515, acc(batch): 0.8750, grad:19987.6963: : 1688it [00:26, 63.00it/s]                        \n"
          ]
        },
        {
          "output_type": "stream",
          "name": "stdout",
          "text": [
            "acc(train): 0.7876, acc(val): 0.7845, acc(test): 0.7767\n",
            "___________________________________________________________________________________________________\n"
          ]
        },
        {
          "output_type": "stream",
          "name": "stderr",
          "text": [
            "epoch: 2, lr: 0.00050 | loss: 0.0431, acc(batch): 0.8750, grad:19817.0564: : 1688it [00:25, 65.14it/s]                        \n"
          ]
        },
        {
          "output_type": "stream",
          "name": "stdout",
          "text": [
            "acc(train): 0.8078, acc(val): 0.8083, acc(test): 0.7950\n",
            "___________________________________________________________________________________________________\n"
          ]
        },
        {
          "output_type": "stream",
          "name": "stderr",
          "text": [
            "epoch: 3, lr: 0.00050 | loss: 0.0402, acc(batch): 0.8750, grad:19635.1823: : 1688it [00:26, 64.29it/s]                        \n"
          ]
        },
        {
          "output_type": "stream",
          "name": "stdout",
          "text": [
            "acc(train): 0.8181, acc(val): 0.8198, acc(test): 0.8073\n",
            "___________________________________________________________________________________________________\n"
          ]
        },
        {
          "output_type": "stream",
          "name": "stderr",
          "text": [
            "epoch: 4, lr: 0.00050 | loss: 0.0393, acc(batch): 0.8750, grad:19474.7674: : 1688it [00:28, 59.36it/s]\n"
          ]
        },
        {
          "output_type": "stream",
          "name": "stdout",
          "text": [
            "acc(train): 0.8260, acc(val): 0.8250, acc(test): 0.8134\n",
            "___________________________________________________________________________________________________\n"
          ]
        },
        {
          "output_type": "stream",
          "name": "stderr",
          "text": [
            "epoch: 5, lr: 0.00050 | loss: 0.0389, acc(batch): 0.8750, grad:19296.0841: : 1688it [00:26, 64.02it/s]                        \n"
          ]
        },
        {
          "output_type": "stream",
          "name": "stdout",
          "text": [
            "acc(train): 0.8313, acc(val): 0.8297, acc(test): 0.8174\n",
            "___________________________________________________________________________________________________\n"
          ]
        },
        {
          "output_type": "stream",
          "name": "stderr",
          "text": [
            "epoch: 6, lr: 0.00050 | loss: 0.0387, acc(batch): 0.8750, grad:19116.1983: : 1688it [00:24, 69.73it/s]                        \n"
          ]
        },
        {
          "output_type": "stream",
          "name": "stdout",
          "text": [
            "acc(train): 0.8354, acc(val): 0.8338, acc(test): 0.8214\n",
            "___________________________________________________________________________________________________\n"
          ]
        },
        {
          "output_type": "stream",
          "name": "stderr",
          "text": [
            "epoch: 7, lr: 0.00050 | loss: 0.0385, acc(batch): 0.8750, grad:19000.3456: : 1688it [00:24, 68.44it/s]                        \n"
          ]
        },
        {
          "output_type": "stream",
          "name": "stdout",
          "text": [
            "acc(train): 0.8395, acc(val): 0.8382, acc(test): 0.8253\n",
            "___________________________________________________________________________________________________\n"
          ]
        },
        {
          "output_type": "stream",
          "name": "stderr",
          "text": [
            "epoch: 8, lr: 0.00050 | loss: 0.0384, acc(batch): 0.8750, grad:18968.1091: : 1688it [00:24, 69.88it/s]                        \n"
          ]
        },
        {
          "output_type": "stream",
          "name": "stdout",
          "text": [
            "acc(train): 0.8427, acc(val): 0.8402, acc(test): 0.8273\n",
            "___________________________________________________________________________________________________\n"
          ]
        },
        {
          "output_type": "stream",
          "name": "stderr",
          "text": [
            "epoch: 9, lr: 0.00050 | loss: 0.0384, acc(batch): 0.8750, grad:18927.1525: : 1688it [00:24, 68.34it/s]                        \n"
          ]
        },
        {
          "output_type": "stream",
          "name": "stdout",
          "text": [
            "acc(train): 0.8450, acc(val): 0.8430, acc(test): 0.8294\n",
            "___________________________________________________________________________________________________\n"
          ]
        },
        {
          "output_type": "stream",
          "name": "stderr",
          "text": [
            "epoch: 10, lr: 0.00050 | loss: 0.0384, acc(batch): 0.8125, grad:18881.5846: : 1688it [00:24, 68.01it/s]                        \n"
          ]
        },
        {
          "output_type": "stream",
          "name": "stdout",
          "text": [
            "acc(train): 0.8471, acc(val): 0.8453, acc(test): 0.8313\n",
            "___________________________________________________________________________________________________\n"
          ]
        },
        {
          "output_type": "stream",
          "name": "stderr",
          "text": [
            "epoch: 11, lr: 0.00050 | loss: 0.0384, acc(batch): 0.8125, grad:18850.6842: : 1688it [00:24, 68.67it/s]                        \n"
          ]
        },
        {
          "output_type": "stream",
          "name": "stdout",
          "text": [
            "acc(train): 0.8491, acc(val): 0.8478, acc(test): 0.8329\n",
            "___________________________________________________________________________________________________\n"
          ]
        },
        {
          "output_type": "stream",
          "name": "stderr",
          "text": [
            "epoch: 12, lr: 0.00050 | loss: 0.0384, acc(batch): 0.8125, grad:18841.7971: : 1688it [00:24, 67.58it/s]                        \n"
          ]
        },
        {
          "output_type": "stream",
          "name": "stdout",
          "text": [
            "acc(train): 0.8509, acc(val): 0.8483, acc(test): 0.8348\n",
            "___________________________________________________________________________________________________\n"
          ]
        },
        {
          "output_type": "stream",
          "name": "stderr",
          "text": [
            "epoch: 13, lr: 0.00050 | loss: 0.0385, acc(batch): 0.8125, grad:18848.7130: : 1688it [00:25, 67.07it/s]                        \n"
          ]
        },
        {
          "output_type": "stream",
          "name": "stdout",
          "text": [
            "acc(train): 0.8523, acc(val): 0.8488, acc(test): 0.8364\n",
            "___________________________________________________________________________________________________\n"
          ]
        },
        {
          "output_type": "stream",
          "name": "stderr",
          "text": [
            "epoch: 14, lr: 0.00050 | loss: 0.0386, acc(batch): 0.8125, grad:18839.1270: : 1688it [00:24, 67.56it/s]                        \n"
          ]
        },
        {
          "output_type": "stream",
          "name": "stdout",
          "text": [
            "acc(train): 0.8541, acc(val): 0.8510, acc(test): 0.8377\n",
            "___________________________________________________________________________________________________\n"
          ]
        },
        {
          "output_type": "stream",
          "name": "stderr",
          "text": [
            "epoch: 15, lr: 0.00050 | loss: 0.0387, acc(batch): 0.8125, grad:18816.7240: : 1688it [00:25, 67.25it/s]                        \n"
          ]
        },
        {
          "output_type": "stream",
          "name": "stdout",
          "text": [
            "acc(train): 0.8556, acc(val): 0.8525, acc(test): 0.8393\n",
            "___________________________________________________________________________________________________\n"
          ]
        },
        {
          "output_type": "stream",
          "name": "stderr",
          "text": [
            "epoch: 16, lr: 0.00050 | loss: 0.0387, acc(batch): 0.8125, grad:18785.4361: : 1688it [00:26, 64.70it/s]                        \n"
          ]
        },
        {
          "output_type": "stream",
          "name": "stdout",
          "text": [
            "acc(train): 0.8569, acc(val): 0.8542, acc(test): 0.8402\n",
            "___________________________________________________________________________________________________\n"
          ]
        },
        {
          "output_type": "stream",
          "name": "stderr",
          "text": [
            "epoch: 17, lr: 0.00050 | loss: 0.0388, acc(batch): 0.8125, grad:18755.4512: : 1688it [00:24, 68.07it/s]                        \n"
          ]
        },
        {
          "output_type": "stream",
          "name": "stdout",
          "text": [
            "acc(train): 0.8580, acc(val): 0.8543, acc(test): 0.8415\n",
            "___________________________________________________________________________________________________\n"
          ]
        },
        {
          "output_type": "stream",
          "name": "stderr",
          "text": [
            "epoch: 18, lr: 0.00050 | loss: 0.0388, acc(batch): 0.8125, grad:18722.3485: : 1688it [00:25, 66.89it/s]\n"
          ]
        },
        {
          "output_type": "stream",
          "name": "stdout",
          "text": [
            "acc(train): 0.8592, acc(val): 0.8552, acc(test): 0.8421\n",
            "___________________________________________________________________________________________________\n"
          ]
        },
        {
          "output_type": "stream",
          "name": "stderr",
          "text": [
            "epoch: 19, lr: 0.00050 | loss: 0.0389, acc(batch): 0.8125, grad:18683.6124: : 1688it [00:24, 67.53it/s]                        \n"
          ]
        },
        {
          "output_type": "stream",
          "name": "stdout",
          "text": [
            "acc(train): 0.8603, acc(val): 0.8558, acc(test): 0.8423\n",
            "___________________________________________________________________________________________________\n"
          ]
        },
        {
          "output_type": "display_data",
          "data": {
            "text/html": [
              "<br/>Waiting for W&B process to finish, PID 1276... <strong style=\"color:green\">(success).</strong>"
            ],
            "text/plain": [
              "<IPython.core.display.HTML object>"
            ]
          },
          "metadata": {}
        },
        {
          "output_type": "display_data",
          "data": {
            "application/vnd.jupyter.widget-view+json": {
              "model_id": "d42a1cc9003e48dc881b3a5b5e47a985",
              "version_minor": 0,
              "version_major": 2
            },
            "text/plain": [
              "VBox(children=(Label(value=' 0.00MB of 0.01MB uploaded (0.00MB deduped)\\r'), FloatProgress(value=0.57929642445…"
            ]
          },
          "metadata": {}
        },
        {
          "output_type": "display_data",
          "data": {
            "text/html": [
              "<style>\n",
              "    table.wandb td:nth-child(1) { padding: 0 10px; text-align: right }\n",
              "    .wandb-row { display: flex; flex-direction: row; flex-wrap: wrap; width: 100% }\n",
              "    .wandb-col { display: flex; flex-direction: column; flex-basis: 100%; flex: 1; padding: 10px; }\n",
              "    </style>\n",
              "<div class=\"wandb-row\"><div class=\"wandb-col\">\n",
              "<h3>Run history:</h3><br/><table class=\"wandb\"><tr><td>epoch</td><td>▁▁▂▂▂▃▃▄▄▄▅▅▅▆▆▇▇▇██</td></tr><tr><td>test_acc</td><td>▁▃▅▆▆▆▇▇▇▇▇▇▇███████</td></tr><tr><td>train_acc</td><td>▁▃▅▅▆▆▆▇▇▇▇▇▇▇██████</td></tr><tr><td>train_loss</td><td>█▃▃▂▂▂▂▂▁▁▁▁▁▁▁▁▁▁▁▁</td></tr><tr><td>val_acc</td><td>▁▃▅▆▆▆▇▇▇▇▇▇████████</td></tr><tr><td>val_loss</td><td>█▅▄▃▃▂▂▂▂▂▂▂▁▁▁▁▁▁▁▁</td></tr></table><br/></div><div class=\"wandb-col\">\n",
              "<h3>Run summary:</h3><br/><table class=\"wandb\"><tr><td>epoch</td><td>19</td></tr><tr><td>test_acc</td><td>0.8423</td></tr><tr><td>train_acc</td><td>0.86026</td></tr><tr><td>train_loss</td><td>0.03931</td></tr><tr><td>val_acc</td><td>0.85583</td></tr><tr><td>val_loss</td><td>0.04049</td></tr></table>\n",
              "</div></div>\n",
              "Synced 5 W&B file(s), 1 media file(s), 1 artifact file(s) and 0 other file(s)\n",
              "<br/>Synced <strong style=\"color:#cdcd00\">robust-sweep-61</strong>: <a href=\"https://wandb.ai/cs21s006_cs21s043/cs6910_assignment1/runs/zxhwhi0m\" target=\"_blank\">https://wandb.ai/cs21s006_cs21s043/cs6910_assignment1/runs/zxhwhi0m</a><br/>\n",
              "Find logs at: <code>./wandb/run-20220218_145842-zxhwhi0m/logs</code><br/>\n"
            ],
            "text/plain": [
              "<IPython.core.display.HTML object>"
            ]
          },
          "metadata": {}
        }
      ]
    },
    {
      "cell_type": "code",
      "source": [
        ""
      ],
      "metadata": {
        "id": "Xp--0A1ZA_r-"
      },
      "id": "Xp--0A1ZA_r-",
      "execution_count": null,
      "outputs": []
    }
  ],
  "metadata": {
    "kernelspec": {
      "display_name": "Python 3",
      "name": "python3"
    },
    "language_info": {
      "name": "python"
    },
    "colab": {
      "name": "CS6910_Assignment_1_Hyper_parameter_Tuning Sweeps.ipynb",
      "provenance": [],
      "collapsed_sections": []
    },
    "widgets": {
      "application/vnd.jupyter.widget-state+json": {
        "e75e3c1ff4644fa6884bf7d90f36740c": {
          "model_module": "@jupyter-widgets/controls",
          "model_name": "VBoxModel",
          "model_module_version": "1.5.0",
          "state": {
            "_view_name": "VBoxView",
            "_dom_classes": [],
            "_model_name": "VBoxModel",
            "_view_module": "@jupyter-widgets/controls",
            "_model_module_version": "1.5.0",
            "_view_count": null,
            "_view_module_version": "1.5.0",
            "box_style": "",
            "layout": "IPY_MODEL_11e22ef2d59447d7a7a10ca453b4fca7",
            "_model_module": "@jupyter-widgets/controls",
            "children": [
              "IPY_MODEL_55e567395d33496987023e36e2663c8c",
              "IPY_MODEL_5a2b558dfb7b475da204ec2845d526e2"
            ]
          }
        },
        "11e22ef2d59447d7a7a10ca453b4fca7": {
          "model_module": "@jupyter-widgets/base",
          "model_name": "LayoutModel",
          "model_module_version": "1.2.0",
          "state": {
            "_view_name": "LayoutView",
            "grid_template_rows": null,
            "right": null,
            "justify_content": null,
            "_view_module": "@jupyter-widgets/base",
            "overflow": null,
            "_model_module_version": "1.2.0",
            "_view_count": null,
            "flex_flow": null,
            "width": null,
            "min_width": null,
            "border": null,
            "align_items": null,
            "bottom": null,
            "_model_module": "@jupyter-widgets/base",
            "top": null,
            "grid_column": null,
            "overflow_y": null,
            "overflow_x": null,
            "grid_auto_flow": null,
            "grid_area": null,
            "grid_template_columns": null,
            "flex": null,
            "_model_name": "LayoutModel",
            "justify_items": null,
            "grid_row": null,
            "max_height": null,
            "align_content": null,
            "visibility": null,
            "align_self": null,
            "height": null,
            "min_height": null,
            "padding": null,
            "grid_auto_rows": null,
            "grid_gap": null,
            "max_width": null,
            "order": null,
            "_view_module_version": "1.2.0",
            "grid_template_areas": null,
            "object_position": null,
            "object_fit": null,
            "grid_auto_columns": null,
            "margin": null,
            "display": null,
            "left": null
          }
        },
        "55e567395d33496987023e36e2663c8c": {
          "model_module": "@jupyter-widgets/controls",
          "model_name": "LabelModel",
          "model_module_version": "1.5.0",
          "state": {
            "_view_name": "LabelView",
            "style": "IPY_MODEL_e26e4962f1e3440bb8234f24e3860060",
            "_dom_classes": [],
            "description": "",
            "_model_name": "LabelModel",
            "placeholder": "​",
            "_view_module": "@jupyter-widgets/controls",
            "_model_module_version": "1.5.0",
            "value": " 0.02MB of 0.02MB uploaded (0.00MB deduped)\r",
            "_view_count": null,
            "_view_module_version": "1.5.0",
            "description_tooltip": null,
            "_model_module": "@jupyter-widgets/controls",
            "layout": "IPY_MODEL_c15b50121573445fb545871626f646b2"
          }
        },
        "5a2b558dfb7b475da204ec2845d526e2": {
          "model_module": "@jupyter-widgets/controls",
          "model_name": "FloatProgressModel",
          "model_module_version": "1.5.0",
          "state": {
            "_view_name": "ProgressView",
            "style": "IPY_MODEL_87d98f0205b94cf5b711bb7c1368f6e7",
            "_dom_classes": [],
            "description": "",
            "_model_name": "FloatProgressModel",
            "bar_style": "",
            "max": 1,
            "_view_module": "@jupyter-widgets/controls",
            "_model_module_version": "1.5.0",
            "value": 1,
            "_view_count": null,
            "_view_module_version": "1.5.0",
            "orientation": "horizontal",
            "min": 0,
            "description_tooltip": null,
            "_model_module": "@jupyter-widgets/controls",
            "layout": "IPY_MODEL_85ab6ab595eb4596989a9fdae80dcd72"
          }
        },
        "e26e4962f1e3440bb8234f24e3860060": {
          "model_module": "@jupyter-widgets/controls",
          "model_name": "DescriptionStyleModel",
          "model_module_version": "1.5.0",
          "state": {
            "_view_name": "StyleView",
            "_model_name": "DescriptionStyleModel",
            "description_width": "",
            "_view_module": "@jupyter-widgets/base",
            "_model_module_version": "1.5.0",
            "_view_count": null,
            "_view_module_version": "1.2.0",
            "_model_module": "@jupyter-widgets/controls"
          }
        },
        "c15b50121573445fb545871626f646b2": {
          "model_module": "@jupyter-widgets/base",
          "model_name": "LayoutModel",
          "model_module_version": "1.2.0",
          "state": {
            "_view_name": "LayoutView",
            "grid_template_rows": null,
            "right": null,
            "justify_content": null,
            "_view_module": "@jupyter-widgets/base",
            "overflow": null,
            "_model_module_version": "1.2.0",
            "_view_count": null,
            "flex_flow": null,
            "width": null,
            "min_width": null,
            "border": null,
            "align_items": null,
            "bottom": null,
            "_model_module": "@jupyter-widgets/base",
            "top": null,
            "grid_column": null,
            "overflow_y": null,
            "overflow_x": null,
            "grid_auto_flow": null,
            "grid_area": null,
            "grid_template_columns": null,
            "flex": null,
            "_model_name": "LayoutModel",
            "justify_items": null,
            "grid_row": null,
            "max_height": null,
            "align_content": null,
            "visibility": null,
            "align_self": null,
            "height": null,
            "min_height": null,
            "padding": null,
            "grid_auto_rows": null,
            "grid_gap": null,
            "max_width": null,
            "order": null,
            "_view_module_version": "1.2.0",
            "grid_template_areas": null,
            "object_position": null,
            "object_fit": null,
            "grid_auto_columns": null,
            "margin": null,
            "display": null,
            "left": null
          }
        },
        "87d98f0205b94cf5b711bb7c1368f6e7": {
          "model_module": "@jupyter-widgets/controls",
          "model_name": "ProgressStyleModel",
          "model_module_version": "1.5.0",
          "state": {
            "_view_name": "StyleView",
            "_model_name": "ProgressStyleModel",
            "description_width": "",
            "_view_module": "@jupyter-widgets/base",
            "_model_module_version": "1.5.0",
            "_view_count": null,
            "_view_module_version": "1.2.0",
            "bar_color": null,
            "_model_module": "@jupyter-widgets/controls"
          }
        },
        "85ab6ab595eb4596989a9fdae80dcd72": {
          "model_module": "@jupyter-widgets/base",
          "model_name": "LayoutModel",
          "model_module_version": "1.2.0",
          "state": {
            "_view_name": "LayoutView",
            "grid_template_rows": null,
            "right": null,
            "justify_content": null,
            "_view_module": "@jupyter-widgets/base",
            "overflow": null,
            "_model_module_version": "1.2.0",
            "_view_count": null,
            "flex_flow": null,
            "width": null,
            "min_width": null,
            "border": null,
            "align_items": null,
            "bottom": null,
            "_model_module": "@jupyter-widgets/base",
            "top": null,
            "grid_column": null,
            "overflow_y": null,
            "overflow_x": null,
            "grid_auto_flow": null,
            "grid_area": null,
            "grid_template_columns": null,
            "flex": null,
            "_model_name": "LayoutModel",
            "justify_items": null,
            "grid_row": null,
            "max_height": null,
            "align_content": null,
            "visibility": null,
            "align_self": null,
            "height": null,
            "min_height": null,
            "padding": null,
            "grid_auto_rows": null,
            "grid_gap": null,
            "max_width": null,
            "order": null,
            "_view_module_version": "1.2.0",
            "grid_template_areas": null,
            "object_position": null,
            "object_fit": null,
            "grid_auto_columns": null,
            "margin": null,
            "display": null,
            "left": null
          }
        },
        "3494bb2e6f7945ddb2304a0adcdbabb8": {
          "model_module": "@jupyter-widgets/controls",
          "model_name": "VBoxModel",
          "model_module_version": "1.5.0",
          "state": {
            "_view_name": "VBoxView",
            "_dom_classes": [],
            "_model_name": "VBoxModel",
            "_view_module": "@jupyter-widgets/controls",
            "_model_module_version": "1.5.0",
            "_view_count": null,
            "_view_module_version": "1.5.0",
            "box_style": "",
            "layout": "IPY_MODEL_a757cb028c2843fd9678b4615bb09c97",
            "_model_module": "@jupyter-widgets/controls",
            "children": [
              "IPY_MODEL_6d1d54a5bc3248189d2e91eac86213b7",
              "IPY_MODEL_93086e6c3cca4bdd902179e2adb96f08"
            ]
          }
        },
        "a757cb028c2843fd9678b4615bb09c97": {
          "model_module": "@jupyter-widgets/base",
          "model_name": "LayoutModel",
          "model_module_version": "1.2.0",
          "state": {
            "_view_name": "LayoutView",
            "grid_template_rows": null,
            "right": null,
            "justify_content": null,
            "_view_module": "@jupyter-widgets/base",
            "overflow": null,
            "_model_module_version": "1.2.0",
            "_view_count": null,
            "flex_flow": null,
            "width": null,
            "min_width": null,
            "border": null,
            "align_items": null,
            "bottom": null,
            "_model_module": "@jupyter-widgets/base",
            "top": null,
            "grid_column": null,
            "overflow_y": null,
            "overflow_x": null,
            "grid_auto_flow": null,
            "grid_area": null,
            "grid_template_columns": null,
            "flex": null,
            "_model_name": "LayoutModel",
            "justify_items": null,
            "grid_row": null,
            "max_height": null,
            "align_content": null,
            "visibility": null,
            "align_self": null,
            "height": null,
            "min_height": null,
            "padding": null,
            "grid_auto_rows": null,
            "grid_gap": null,
            "max_width": null,
            "order": null,
            "_view_module_version": "1.2.0",
            "grid_template_areas": null,
            "object_position": null,
            "object_fit": null,
            "grid_auto_columns": null,
            "margin": null,
            "display": null,
            "left": null
          }
        },
        "6d1d54a5bc3248189d2e91eac86213b7": {
          "model_module": "@jupyter-widgets/controls",
          "model_name": "LabelModel",
          "model_module_version": "1.5.0",
          "state": {
            "_view_name": "LabelView",
            "style": "IPY_MODEL_662627c833f14f2d87477b5466cc7531",
            "_dom_classes": [],
            "description": "",
            "_model_name": "LabelModel",
            "placeholder": "​",
            "_view_module": "@jupyter-widgets/controls",
            "_model_module_version": "1.5.0",
            "value": " 0.02MB of 0.02MB uploaded (0.00MB deduped)\r",
            "_view_count": null,
            "_view_module_version": "1.5.0",
            "description_tooltip": null,
            "_model_module": "@jupyter-widgets/controls",
            "layout": "IPY_MODEL_bb3e8e00aeec4a00aa15477d7fb55ebc"
          }
        },
        "93086e6c3cca4bdd902179e2adb96f08": {
          "model_module": "@jupyter-widgets/controls",
          "model_name": "FloatProgressModel",
          "model_module_version": "1.5.0",
          "state": {
            "_view_name": "ProgressView",
            "style": "IPY_MODEL_87d13e4074884408980b8c773951c005",
            "_dom_classes": [],
            "description": "",
            "_model_name": "FloatProgressModel",
            "bar_style": "",
            "max": 1,
            "_view_module": "@jupyter-widgets/controls",
            "_model_module_version": "1.5.0",
            "value": 1,
            "_view_count": null,
            "_view_module_version": "1.5.0",
            "orientation": "horizontal",
            "min": 0,
            "description_tooltip": null,
            "_model_module": "@jupyter-widgets/controls",
            "layout": "IPY_MODEL_d2d2a2a4e65347b59ce2ff67745d43a8"
          }
        },
        "662627c833f14f2d87477b5466cc7531": {
          "model_module": "@jupyter-widgets/controls",
          "model_name": "DescriptionStyleModel",
          "model_module_version": "1.5.0",
          "state": {
            "_view_name": "StyleView",
            "_model_name": "DescriptionStyleModel",
            "description_width": "",
            "_view_module": "@jupyter-widgets/base",
            "_model_module_version": "1.5.0",
            "_view_count": null,
            "_view_module_version": "1.2.0",
            "_model_module": "@jupyter-widgets/controls"
          }
        },
        "bb3e8e00aeec4a00aa15477d7fb55ebc": {
          "model_module": "@jupyter-widgets/base",
          "model_name": "LayoutModel",
          "model_module_version": "1.2.0",
          "state": {
            "_view_name": "LayoutView",
            "grid_template_rows": null,
            "right": null,
            "justify_content": null,
            "_view_module": "@jupyter-widgets/base",
            "overflow": null,
            "_model_module_version": "1.2.0",
            "_view_count": null,
            "flex_flow": null,
            "width": null,
            "min_width": null,
            "border": null,
            "align_items": null,
            "bottom": null,
            "_model_module": "@jupyter-widgets/base",
            "top": null,
            "grid_column": null,
            "overflow_y": null,
            "overflow_x": null,
            "grid_auto_flow": null,
            "grid_area": null,
            "grid_template_columns": null,
            "flex": null,
            "_model_name": "LayoutModel",
            "justify_items": null,
            "grid_row": null,
            "max_height": null,
            "align_content": null,
            "visibility": null,
            "align_self": null,
            "height": null,
            "min_height": null,
            "padding": null,
            "grid_auto_rows": null,
            "grid_gap": null,
            "max_width": null,
            "order": null,
            "_view_module_version": "1.2.0",
            "grid_template_areas": null,
            "object_position": null,
            "object_fit": null,
            "grid_auto_columns": null,
            "margin": null,
            "display": null,
            "left": null
          }
        },
        "87d13e4074884408980b8c773951c005": {
          "model_module": "@jupyter-widgets/controls",
          "model_name": "ProgressStyleModel",
          "model_module_version": "1.5.0",
          "state": {
            "_view_name": "StyleView",
            "_model_name": "ProgressStyleModel",
            "description_width": "",
            "_view_module": "@jupyter-widgets/base",
            "_model_module_version": "1.5.0",
            "_view_count": null,
            "_view_module_version": "1.2.0",
            "bar_color": null,
            "_model_module": "@jupyter-widgets/controls"
          }
        },
        "d2d2a2a4e65347b59ce2ff67745d43a8": {
          "model_module": "@jupyter-widgets/base",
          "model_name": "LayoutModel",
          "model_module_version": "1.2.0",
          "state": {
            "_view_name": "LayoutView",
            "grid_template_rows": null,
            "right": null,
            "justify_content": null,
            "_view_module": "@jupyter-widgets/base",
            "overflow": null,
            "_model_module_version": "1.2.0",
            "_view_count": null,
            "flex_flow": null,
            "width": null,
            "min_width": null,
            "border": null,
            "align_items": null,
            "bottom": null,
            "_model_module": "@jupyter-widgets/base",
            "top": null,
            "grid_column": null,
            "overflow_y": null,
            "overflow_x": null,
            "grid_auto_flow": null,
            "grid_area": null,
            "grid_template_columns": null,
            "flex": null,
            "_model_name": "LayoutModel",
            "justify_items": null,
            "grid_row": null,
            "max_height": null,
            "align_content": null,
            "visibility": null,
            "align_self": null,
            "height": null,
            "min_height": null,
            "padding": null,
            "grid_auto_rows": null,
            "grid_gap": null,
            "max_width": null,
            "order": null,
            "_view_module_version": "1.2.0",
            "grid_template_areas": null,
            "object_position": null,
            "object_fit": null,
            "grid_auto_columns": null,
            "margin": null,
            "display": null,
            "left": null
          }
        },
        "e2bdad4bba55491987710d8b6a4a803d": {
          "model_module": "@jupyter-widgets/controls",
          "model_name": "VBoxModel",
          "model_module_version": "1.5.0",
          "state": {
            "_view_name": "VBoxView",
            "_dom_classes": [],
            "_model_name": "VBoxModel",
            "_view_module": "@jupyter-widgets/controls",
            "_model_module_version": "1.5.0",
            "_view_count": null,
            "_view_module_version": "1.5.0",
            "box_style": "",
            "layout": "IPY_MODEL_522dba0b1976457f9161a8ac029ed034",
            "_model_module": "@jupyter-widgets/controls",
            "children": [
              "IPY_MODEL_371439e1acb441acaffa21f880314edf",
              "IPY_MODEL_5173a6aca6c149ff92edca59381abc98"
            ]
          }
        },
        "522dba0b1976457f9161a8ac029ed034": {
          "model_module": "@jupyter-widgets/base",
          "model_name": "LayoutModel",
          "model_module_version": "1.2.0",
          "state": {
            "_view_name": "LayoutView",
            "grid_template_rows": null,
            "right": null,
            "justify_content": null,
            "_view_module": "@jupyter-widgets/base",
            "overflow": null,
            "_model_module_version": "1.2.0",
            "_view_count": null,
            "flex_flow": null,
            "width": null,
            "min_width": null,
            "border": null,
            "align_items": null,
            "bottom": null,
            "_model_module": "@jupyter-widgets/base",
            "top": null,
            "grid_column": null,
            "overflow_y": null,
            "overflow_x": null,
            "grid_auto_flow": null,
            "grid_area": null,
            "grid_template_columns": null,
            "flex": null,
            "_model_name": "LayoutModel",
            "justify_items": null,
            "grid_row": null,
            "max_height": null,
            "align_content": null,
            "visibility": null,
            "align_self": null,
            "height": null,
            "min_height": null,
            "padding": null,
            "grid_auto_rows": null,
            "grid_gap": null,
            "max_width": null,
            "order": null,
            "_view_module_version": "1.2.0",
            "grid_template_areas": null,
            "object_position": null,
            "object_fit": null,
            "grid_auto_columns": null,
            "margin": null,
            "display": null,
            "left": null
          }
        },
        "371439e1acb441acaffa21f880314edf": {
          "model_module": "@jupyter-widgets/controls",
          "model_name": "LabelModel",
          "model_module_version": "1.5.0",
          "state": {
            "_view_name": "LabelView",
            "style": "IPY_MODEL_3fab4f59e30d46f0b2fdca843f080a8d",
            "_dom_classes": [],
            "description": "",
            "_model_name": "LabelModel",
            "placeholder": "​",
            "_view_module": "@jupyter-widgets/controls",
            "_model_module_version": "1.5.0",
            "value": " 0.02MB of 0.02MB uploaded (0.00MB deduped)\r",
            "_view_count": null,
            "_view_module_version": "1.5.0",
            "description_tooltip": null,
            "_model_module": "@jupyter-widgets/controls",
            "layout": "IPY_MODEL_661e128be48a4c2c909dc7b1bd717900"
          }
        },
        "5173a6aca6c149ff92edca59381abc98": {
          "model_module": "@jupyter-widgets/controls",
          "model_name": "FloatProgressModel",
          "model_module_version": "1.5.0",
          "state": {
            "_view_name": "ProgressView",
            "style": "IPY_MODEL_9009966272454dd788f04d256c490595",
            "_dom_classes": [],
            "description": "",
            "_model_name": "FloatProgressModel",
            "bar_style": "",
            "max": 1,
            "_view_module": "@jupyter-widgets/controls",
            "_model_module_version": "1.5.0",
            "value": 1,
            "_view_count": null,
            "_view_module_version": "1.5.0",
            "orientation": "horizontal",
            "min": 0,
            "description_tooltip": null,
            "_model_module": "@jupyter-widgets/controls",
            "layout": "IPY_MODEL_b5bb8663f1bf45a6ae0d27ad4631067c"
          }
        },
        "3fab4f59e30d46f0b2fdca843f080a8d": {
          "model_module": "@jupyter-widgets/controls",
          "model_name": "DescriptionStyleModel",
          "model_module_version": "1.5.0",
          "state": {
            "_view_name": "StyleView",
            "_model_name": "DescriptionStyleModel",
            "description_width": "",
            "_view_module": "@jupyter-widgets/base",
            "_model_module_version": "1.5.0",
            "_view_count": null,
            "_view_module_version": "1.2.0",
            "_model_module": "@jupyter-widgets/controls"
          }
        },
        "661e128be48a4c2c909dc7b1bd717900": {
          "model_module": "@jupyter-widgets/base",
          "model_name": "LayoutModel",
          "model_module_version": "1.2.0",
          "state": {
            "_view_name": "LayoutView",
            "grid_template_rows": null,
            "right": null,
            "justify_content": null,
            "_view_module": "@jupyter-widgets/base",
            "overflow": null,
            "_model_module_version": "1.2.0",
            "_view_count": null,
            "flex_flow": null,
            "width": null,
            "min_width": null,
            "border": null,
            "align_items": null,
            "bottom": null,
            "_model_module": "@jupyter-widgets/base",
            "top": null,
            "grid_column": null,
            "overflow_y": null,
            "overflow_x": null,
            "grid_auto_flow": null,
            "grid_area": null,
            "grid_template_columns": null,
            "flex": null,
            "_model_name": "LayoutModel",
            "justify_items": null,
            "grid_row": null,
            "max_height": null,
            "align_content": null,
            "visibility": null,
            "align_self": null,
            "height": null,
            "min_height": null,
            "padding": null,
            "grid_auto_rows": null,
            "grid_gap": null,
            "max_width": null,
            "order": null,
            "_view_module_version": "1.2.0",
            "grid_template_areas": null,
            "object_position": null,
            "object_fit": null,
            "grid_auto_columns": null,
            "margin": null,
            "display": null,
            "left": null
          }
        },
        "9009966272454dd788f04d256c490595": {
          "model_module": "@jupyter-widgets/controls",
          "model_name": "ProgressStyleModel",
          "model_module_version": "1.5.0",
          "state": {
            "_view_name": "StyleView",
            "_model_name": "ProgressStyleModel",
            "description_width": "",
            "_view_module": "@jupyter-widgets/base",
            "_model_module_version": "1.5.0",
            "_view_count": null,
            "_view_module_version": "1.2.0",
            "bar_color": null,
            "_model_module": "@jupyter-widgets/controls"
          }
        },
        "b5bb8663f1bf45a6ae0d27ad4631067c": {
          "model_module": "@jupyter-widgets/base",
          "model_name": "LayoutModel",
          "model_module_version": "1.2.0",
          "state": {
            "_view_name": "LayoutView",
            "grid_template_rows": null,
            "right": null,
            "justify_content": null,
            "_view_module": "@jupyter-widgets/base",
            "overflow": null,
            "_model_module_version": "1.2.0",
            "_view_count": null,
            "flex_flow": null,
            "width": null,
            "min_width": null,
            "border": null,
            "align_items": null,
            "bottom": null,
            "_model_module": "@jupyter-widgets/base",
            "top": null,
            "grid_column": null,
            "overflow_y": null,
            "overflow_x": null,
            "grid_auto_flow": null,
            "grid_area": null,
            "grid_template_columns": null,
            "flex": null,
            "_model_name": "LayoutModel",
            "justify_items": null,
            "grid_row": null,
            "max_height": null,
            "align_content": null,
            "visibility": null,
            "align_self": null,
            "height": null,
            "min_height": null,
            "padding": null,
            "grid_auto_rows": null,
            "grid_gap": null,
            "max_width": null,
            "order": null,
            "_view_module_version": "1.2.0",
            "grid_template_areas": null,
            "object_position": null,
            "object_fit": null,
            "grid_auto_columns": null,
            "margin": null,
            "display": null,
            "left": null
          }
        },
        "3b22632981674f22ac3883b641f06220": {
          "model_module": "@jupyter-widgets/controls",
          "model_name": "VBoxModel",
          "model_module_version": "1.5.0",
          "state": {
            "_view_name": "VBoxView",
            "_dom_classes": [],
            "_model_name": "VBoxModel",
            "_view_module": "@jupyter-widgets/controls",
            "_model_module_version": "1.5.0",
            "_view_count": null,
            "_view_module_version": "1.5.0",
            "box_style": "",
            "layout": "IPY_MODEL_3954edce41044375ba128743754d3bcd",
            "_model_module": "@jupyter-widgets/controls",
            "children": [
              "IPY_MODEL_ab5f45e60c884ff882a4b25a8090e46c",
              "IPY_MODEL_5c5d43bd639a4e93b5a319280a62bbb8"
            ]
          }
        },
        "3954edce41044375ba128743754d3bcd": {
          "model_module": "@jupyter-widgets/base",
          "model_name": "LayoutModel",
          "model_module_version": "1.2.0",
          "state": {
            "_view_name": "LayoutView",
            "grid_template_rows": null,
            "right": null,
            "justify_content": null,
            "_view_module": "@jupyter-widgets/base",
            "overflow": null,
            "_model_module_version": "1.2.0",
            "_view_count": null,
            "flex_flow": null,
            "width": null,
            "min_width": null,
            "border": null,
            "align_items": null,
            "bottom": null,
            "_model_module": "@jupyter-widgets/base",
            "top": null,
            "grid_column": null,
            "overflow_y": null,
            "overflow_x": null,
            "grid_auto_flow": null,
            "grid_area": null,
            "grid_template_columns": null,
            "flex": null,
            "_model_name": "LayoutModel",
            "justify_items": null,
            "grid_row": null,
            "max_height": null,
            "align_content": null,
            "visibility": null,
            "align_self": null,
            "height": null,
            "min_height": null,
            "padding": null,
            "grid_auto_rows": null,
            "grid_gap": null,
            "max_width": null,
            "order": null,
            "_view_module_version": "1.2.0",
            "grid_template_areas": null,
            "object_position": null,
            "object_fit": null,
            "grid_auto_columns": null,
            "margin": null,
            "display": null,
            "left": null
          }
        },
        "ab5f45e60c884ff882a4b25a8090e46c": {
          "model_module": "@jupyter-widgets/controls",
          "model_name": "LabelModel",
          "model_module_version": "1.5.0",
          "state": {
            "_view_name": "LabelView",
            "style": "IPY_MODEL_3a2aee9117444a0aaddceb593efe5b86",
            "_dom_classes": [],
            "description": "",
            "_model_name": "LabelModel",
            "placeholder": "​",
            "_view_module": "@jupyter-widgets/controls",
            "_model_module_version": "1.5.0",
            "value": " 0.02MB of 0.02MB uploaded (0.00MB deduped)\r",
            "_view_count": null,
            "_view_module_version": "1.5.0",
            "description_tooltip": null,
            "_model_module": "@jupyter-widgets/controls",
            "layout": "IPY_MODEL_8d2d4882fd9145dba4a46cb053715fe8"
          }
        },
        "5c5d43bd639a4e93b5a319280a62bbb8": {
          "model_module": "@jupyter-widgets/controls",
          "model_name": "FloatProgressModel",
          "model_module_version": "1.5.0",
          "state": {
            "_view_name": "ProgressView",
            "style": "IPY_MODEL_4362fc1e3f904d27a9ef7cf21ede6a7d",
            "_dom_classes": [],
            "description": "",
            "_model_name": "FloatProgressModel",
            "bar_style": "",
            "max": 1,
            "_view_module": "@jupyter-widgets/controls",
            "_model_module_version": "1.5.0",
            "value": 1,
            "_view_count": null,
            "_view_module_version": "1.5.0",
            "orientation": "horizontal",
            "min": 0,
            "description_tooltip": null,
            "_model_module": "@jupyter-widgets/controls",
            "layout": "IPY_MODEL_2177a9b6079e4e16a6a40bd89098b954"
          }
        },
        "3a2aee9117444a0aaddceb593efe5b86": {
          "model_module": "@jupyter-widgets/controls",
          "model_name": "DescriptionStyleModel",
          "model_module_version": "1.5.0",
          "state": {
            "_view_name": "StyleView",
            "_model_name": "DescriptionStyleModel",
            "description_width": "",
            "_view_module": "@jupyter-widgets/base",
            "_model_module_version": "1.5.0",
            "_view_count": null,
            "_view_module_version": "1.2.0",
            "_model_module": "@jupyter-widgets/controls"
          }
        },
        "8d2d4882fd9145dba4a46cb053715fe8": {
          "model_module": "@jupyter-widgets/base",
          "model_name": "LayoutModel",
          "model_module_version": "1.2.0",
          "state": {
            "_view_name": "LayoutView",
            "grid_template_rows": null,
            "right": null,
            "justify_content": null,
            "_view_module": "@jupyter-widgets/base",
            "overflow": null,
            "_model_module_version": "1.2.0",
            "_view_count": null,
            "flex_flow": null,
            "width": null,
            "min_width": null,
            "border": null,
            "align_items": null,
            "bottom": null,
            "_model_module": "@jupyter-widgets/base",
            "top": null,
            "grid_column": null,
            "overflow_y": null,
            "overflow_x": null,
            "grid_auto_flow": null,
            "grid_area": null,
            "grid_template_columns": null,
            "flex": null,
            "_model_name": "LayoutModel",
            "justify_items": null,
            "grid_row": null,
            "max_height": null,
            "align_content": null,
            "visibility": null,
            "align_self": null,
            "height": null,
            "min_height": null,
            "padding": null,
            "grid_auto_rows": null,
            "grid_gap": null,
            "max_width": null,
            "order": null,
            "_view_module_version": "1.2.0",
            "grid_template_areas": null,
            "object_position": null,
            "object_fit": null,
            "grid_auto_columns": null,
            "margin": null,
            "display": null,
            "left": null
          }
        },
        "4362fc1e3f904d27a9ef7cf21ede6a7d": {
          "model_module": "@jupyter-widgets/controls",
          "model_name": "ProgressStyleModel",
          "model_module_version": "1.5.0",
          "state": {
            "_view_name": "StyleView",
            "_model_name": "ProgressStyleModel",
            "description_width": "",
            "_view_module": "@jupyter-widgets/base",
            "_model_module_version": "1.5.0",
            "_view_count": null,
            "_view_module_version": "1.2.0",
            "bar_color": null,
            "_model_module": "@jupyter-widgets/controls"
          }
        },
        "2177a9b6079e4e16a6a40bd89098b954": {
          "model_module": "@jupyter-widgets/base",
          "model_name": "LayoutModel",
          "model_module_version": "1.2.0",
          "state": {
            "_view_name": "LayoutView",
            "grid_template_rows": null,
            "right": null,
            "justify_content": null,
            "_view_module": "@jupyter-widgets/base",
            "overflow": null,
            "_model_module_version": "1.2.0",
            "_view_count": null,
            "flex_flow": null,
            "width": null,
            "min_width": null,
            "border": null,
            "align_items": null,
            "bottom": null,
            "_model_module": "@jupyter-widgets/base",
            "top": null,
            "grid_column": null,
            "overflow_y": null,
            "overflow_x": null,
            "grid_auto_flow": null,
            "grid_area": null,
            "grid_template_columns": null,
            "flex": null,
            "_model_name": "LayoutModel",
            "justify_items": null,
            "grid_row": null,
            "max_height": null,
            "align_content": null,
            "visibility": null,
            "align_self": null,
            "height": null,
            "min_height": null,
            "padding": null,
            "grid_auto_rows": null,
            "grid_gap": null,
            "max_width": null,
            "order": null,
            "_view_module_version": "1.2.0",
            "grid_template_areas": null,
            "object_position": null,
            "object_fit": null,
            "grid_auto_columns": null,
            "margin": null,
            "display": null,
            "left": null
          }
        },
        "5c971bd243b640f189d021bbf2ad15de": {
          "model_module": "@jupyter-widgets/controls",
          "model_name": "VBoxModel",
          "model_module_version": "1.5.0",
          "state": {
            "_view_name": "VBoxView",
            "_dom_classes": [],
            "_model_name": "VBoxModel",
            "_view_module": "@jupyter-widgets/controls",
            "_model_module_version": "1.5.0",
            "_view_count": null,
            "_view_module_version": "1.5.0",
            "box_style": "",
            "layout": "IPY_MODEL_1a76e28e040541d296404f22e45700fe",
            "_model_module": "@jupyter-widgets/controls",
            "children": [
              "IPY_MODEL_2248f09dabd24ea5ab1191ca91081723",
              "IPY_MODEL_11ab6e05e7984a169b3514fe9b4a84ee"
            ]
          }
        },
        "1a76e28e040541d296404f22e45700fe": {
          "model_module": "@jupyter-widgets/base",
          "model_name": "LayoutModel",
          "model_module_version": "1.2.0",
          "state": {
            "_view_name": "LayoutView",
            "grid_template_rows": null,
            "right": null,
            "justify_content": null,
            "_view_module": "@jupyter-widgets/base",
            "overflow": null,
            "_model_module_version": "1.2.0",
            "_view_count": null,
            "flex_flow": null,
            "width": null,
            "min_width": null,
            "border": null,
            "align_items": null,
            "bottom": null,
            "_model_module": "@jupyter-widgets/base",
            "top": null,
            "grid_column": null,
            "overflow_y": null,
            "overflow_x": null,
            "grid_auto_flow": null,
            "grid_area": null,
            "grid_template_columns": null,
            "flex": null,
            "_model_name": "LayoutModel",
            "justify_items": null,
            "grid_row": null,
            "max_height": null,
            "align_content": null,
            "visibility": null,
            "align_self": null,
            "height": null,
            "min_height": null,
            "padding": null,
            "grid_auto_rows": null,
            "grid_gap": null,
            "max_width": null,
            "order": null,
            "_view_module_version": "1.2.0",
            "grid_template_areas": null,
            "object_position": null,
            "object_fit": null,
            "grid_auto_columns": null,
            "margin": null,
            "display": null,
            "left": null
          }
        },
        "2248f09dabd24ea5ab1191ca91081723": {
          "model_module": "@jupyter-widgets/controls",
          "model_name": "LabelModel",
          "model_module_version": "1.5.0",
          "state": {
            "_view_name": "LabelView",
            "style": "IPY_MODEL_fa9f9bb41841420bb0dc6f4ef1fd1b02",
            "_dom_classes": [],
            "description": "",
            "_model_name": "LabelModel",
            "placeholder": "​",
            "_view_module": "@jupyter-widgets/controls",
            "_model_module_version": "1.5.0",
            "value": " 0.02MB of 0.02MB uploaded (0.00MB deduped)\r",
            "_view_count": null,
            "_view_module_version": "1.5.0",
            "description_tooltip": null,
            "_model_module": "@jupyter-widgets/controls",
            "layout": "IPY_MODEL_373d3ab4b84d4dd899aba0d5308416f0"
          }
        },
        "11ab6e05e7984a169b3514fe9b4a84ee": {
          "model_module": "@jupyter-widgets/controls",
          "model_name": "FloatProgressModel",
          "model_module_version": "1.5.0",
          "state": {
            "_view_name": "ProgressView",
            "style": "IPY_MODEL_9d4c892dac1f4651b43caebf48bbec0d",
            "_dom_classes": [],
            "description": "",
            "_model_name": "FloatProgressModel",
            "bar_style": "",
            "max": 1,
            "_view_module": "@jupyter-widgets/controls",
            "_model_module_version": "1.5.0",
            "value": 1,
            "_view_count": null,
            "_view_module_version": "1.5.0",
            "orientation": "horizontal",
            "min": 0,
            "description_tooltip": null,
            "_model_module": "@jupyter-widgets/controls",
            "layout": "IPY_MODEL_70772349e3294dee80b7b48991076169"
          }
        },
        "fa9f9bb41841420bb0dc6f4ef1fd1b02": {
          "model_module": "@jupyter-widgets/controls",
          "model_name": "DescriptionStyleModel",
          "model_module_version": "1.5.0",
          "state": {
            "_view_name": "StyleView",
            "_model_name": "DescriptionStyleModel",
            "description_width": "",
            "_view_module": "@jupyter-widgets/base",
            "_model_module_version": "1.5.0",
            "_view_count": null,
            "_view_module_version": "1.2.0",
            "_model_module": "@jupyter-widgets/controls"
          }
        },
        "373d3ab4b84d4dd899aba0d5308416f0": {
          "model_module": "@jupyter-widgets/base",
          "model_name": "LayoutModel",
          "model_module_version": "1.2.0",
          "state": {
            "_view_name": "LayoutView",
            "grid_template_rows": null,
            "right": null,
            "justify_content": null,
            "_view_module": "@jupyter-widgets/base",
            "overflow": null,
            "_model_module_version": "1.2.0",
            "_view_count": null,
            "flex_flow": null,
            "width": null,
            "min_width": null,
            "border": null,
            "align_items": null,
            "bottom": null,
            "_model_module": "@jupyter-widgets/base",
            "top": null,
            "grid_column": null,
            "overflow_y": null,
            "overflow_x": null,
            "grid_auto_flow": null,
            "grid_area": null,
            "grid_template_columns": null,
            "flex": null,
            "_model_name": "LayoutModel",
            "justify_items": null,
            "grid_row": null,
            "max_height": null,
            "align_content": null,
            "visibility": null,
            "align_self": null,
            "height": null,
            "min_height": null,
            "padding": null,
            "grid_auto_rows": null,
            "grid_gap": null,
            "max_width": null,
            "order": null,
            "_view_module_version": "1.2.0",
            "grid_template_areas": null,
            "object_position": null,
            "object_fit": null,
            "grid_auto_columns": null,
            "margin": null,
            "display": null,
            "left": null
          }
        },
        "9d4c892dac1f4651b43caebf48bbec0d": {
          "model_module": "@jupyter-widgets/controls",
          "model_name": "ProgressStyleModel",
          "model_module_version": "1.5.0",
          "state": {
            "_view_name": "StyleView",
            "_model_name": "ProgressStyleModel",
            "description_width": "",
            "_view_module": "@jupyter-widgets/base",
            "_model_module_version": "1.5.0",
            "_view_count": null,
            "_view_module_version": "1.2.0",
            "bar_color": null,
            "_model_module": "@jupyter-widgets/controls"
          }
        },
        "70772349e3294dee80b7b48991076169": {
          "model_module": "@jupyter-widgets/base",
          "model_name": "LayoutModel",
          "model_module_version": "1.2.0",
          "state": {
            "_view_name": "LayoutView",
            "grid_template_rows": null,
            "right": null,
            "justify_content": null,
            "_view_module": "@jupyter-widgets/base",
            "overflow": null,
            "_model_module_version": "1.2.0",
            "_view_count": null,
            "flex_flow": null,
            "width": null,
            "min_width": null,
            "border": null,
            "align_items": null,
            "bottom": null,
            "_model_module": "@jupyter-widgets/base",
            "top": null,
            "grid_column": null,
            "overflow_y": null,
            "overflow_x": null,
            "grid_auto_flow": null,
            "grid_area": null,
            "grid_template_columns": null,
            "flex": null,
            "_model_name": "LayoutModel",
            "justify_items": null,
            "grid_row": null,
            "max_height": null,
            "align_content": null,
            "visibility": null,
            "align_self": null,
            "height": null,
            "min_height": null,
            "padding": null,
            "grid_auto_rows": null,
            "grid_gap": null,
            "max_width": null,
            "order": null,
            "_view_module_version": "1.2.0",
            "grid_template_areas": null,
            "object_position": null,
            "object_fit": null,
            "grid_auto_columns": null,
            "margin": null,
            "display": null,
            "left": null
          }
        },
        "613a7e2f8a314c2081dfbc5c670dad29": {
          "model_module": "@jupyter-widgets/controls",
          "model_name": "VBoxModel",
          "model_module_version": "1.5.0",
          "state": {
            "_view_name": "VBoxView",
            "_dom_classes": [],
            "_model_name": "VBoxModel",
            "_view_module": "@jupyter-widgets/controls",
            "_model_module_version": "1.5.0",
            "_view_count": null,
            "_view_module_version": "1.5.0",
            "box_style": "",
            "layout": "IPY_MODEL_f105cba1c7ba4fb8b83176ff862869c8",
            "_model_module": "@jupyter-widgets/controls",
            "children": [
              "IPY_MODEL_88d0e6a947304e12945c5d5583836d64",
              "IPY_MODEL_546d56db7b1644aa9817055a4a1d9757"
            ]
          }
        },
        "f105cba1c7ba4fb8b83176ff862869c8": {
          "model_module": "@jupyter-widgets/base",
          "model_name": "LayoutModel",
          "model_module_version": "1.2.0",
          "state": {
            "_view_name": "LayoutView",
            "grid_template_rows": null,
            "right": null,
            "justify_content": null,
            "_view_module": "@jupyter-widgets/base",
            "overflow": null,
            "_model_module_version": "1.2.0",
            "_view_count": null,
            "flex_flow": null,
            "width": null,
            "min_width": null,
            "border": null,
            "align_items": null,
            "bottom": null,
            "_model_module": "@jupyter-widgets/base",
            "top": null,
            "grid_column": null,
            "overflow_y": null,
            "overflow_x": null,
            "grid_auto_flow": null,
            "grid_area": null,
            "grid_template_columns": null,
            "flex": null,
            "_model_name": "LayoutModel",
            "justify_items": null,
            "grid_row": null,
            "max_height": null,
            "align_content": null,
            "visibility": null,
            "align_self": null,
            "height": null,
            "min_height": null,
            "padding": null,
            "grid_auto_rows": null,
            "grid_gap": null,
            "max_width": null,
            "order": null,
            "_view_module_version": "1.2.0",
            "grid_template_areas": null,
            "object_position": null,
            "object_fit": null,
            "grid_auto_columns": null,
            "margin": null,
            "display": null,
            "left": null
          }
        },
        "88d0e6a947304e12945c5d5583836d64": {
          "model_module": "@jupyter-widgets/controls",
          "model_name": "LabelModel",
          "model_module_version": "1.5.0",
          "state": {
            "_view_name": "LabelView",
            "style": "IPY_MODEL_13cffb7936aa4509ab61b5bdd473944f",
            "_dom_classes": [],
            "description": "",
            "_model_name": "LabelModel",
            "placeholder": "​",
            "_view_module": "@jupyter-widgets/controls",
            "_model_module_version": "1.5.0",
            "value": " 0.02MB of 0.02MB uploaded (0.00MB deduped)\r",
            "_view_count": null,
            "_view_module_version": "1.5.0",
            "description_tooltip": null,
            "_model_module": "@jupyter-widgets/controls",
            "layout": "IPY_MODEL_9f279b77b1c34ac9a5b7170270638ab1"
          }
        },
        "546d56db7b1644aa9817055a4a1d9757": {
          "model_module": "@jupyter-widgets/controls",
          "model_name": "FloatProgressModel",
          "model_module_version": "1.5.0",
          "state": {
            "_view_name": "ProgressView",
            "style": "IPY_MODEL_8150ca91c55c464ca27ad80a42377a9c",
            "_dom_classes": [],
            "description": "",
            "_model_name": "FloatProgressModel",
            "bar_style": "",
            "max": 1,
            "_view_module": "@jupyter-widgets/controls",
            "_model_module_version": "1.5.0",
            "value": 1,
            "_view_count": null,
            "_view_module_version": "1.5.0",
            "orientation": "horizontal",
            "min": 0,
            "description_tooltip": null,
            "_model_module": "@jupyter-widgets/controls",
            "layout": "IPY_MODEL_c6063e3f26564f859abe5c5a89eecb3b"
          }
        },
        "13cffb7936aa4509ab61b5bdd473944f": {
          "model_module": "@jupyter-widgets/controls",
          "model_name": "DescriptionStyleModel",
          "model_module_version": "1.5.0",
          "state": {
            "_view_name": "StyleView",
            "_model_name": "DescriptionStyleModel",
            "description_width": "",
            "_view_module": "@jupyter-widgets/base",
            "_model_module_version": "1.5.0",
            "_view_count": null,
            "_view_module_version": "1.2.0",
            "_model_module": "@jupyter-widgets/controls"
          }
        },
        "9f279b77b1c34ac9a5b7170270638ab1": {
          "model_module": "@jupyter-widgets/base",
          "model_name": "LayoutModel",
          "model_module_version": "1.2.0",
          "state": {
            "_view_name": "LayoutView",
            "grid_template_rows": null,
            "right": null,
            "justify_content": null,
            "_view_module": "@jupyter-widgets/base",
            "overflow": null,
            "_model_module_version": "1.2.0",
            "_view_count": null,
            "flex_flow": null,
            "width": null,
            "min_width": null,
            "border": null,
            "align_items": null,
            "bottom": null,
            "_model_module": "@jupyter-widgets/base",
            "top": null,
            "grid_column": null,
            "overflow_y": null,
            "overflow_x": null,
            "grid_auto_flow": null,
            "grid_area": null,
            "grid_template_columns": null,
            "flex": null,
            "_model_name": "LayoutModel",
            "justify_items": null,
            "grid_row": null,
            "max_height": null,
            "align_content": null,
            "visibility": null,
            "align_self": null,
            "height": null,
            "min_height": null,
            "padding": null,
            "grid_auto_rows": null,
            "grid_gap": null,
            "max_width": null,
            "order": null,
            "_view_module_version": "1.2.0",
            "grid_template_areas": null,
            "object_position": null,
            "object_fit": null,
            "grid_auto_columns": null,
            "margin": null,
            "display": null,
            "left": null
          }
        },
        "8150ca91c55c464ca27ad80a42377a9c": {
          "model_module": "@jupyter-widgets/controls",
          "model_name": "ProgressStyleModel",
          "model_module_version": "1.5.0",
          "state": {
            "_view_name": "StyleView",
            "_model_name": "ProgressStyleModel",
            "description_width": "",
            "_view_module": "@jupyter-widgets/base",
            "_model_module_version": "1.5.0",
            "_view_count": null,
            "_view_module_version": "1.2.0",
            "bar_color": null,
            "_model_module": "@jupyter-widgets/controls"
          }
        },
        "c6063e3f26564f859abe5c5a89eecb3b": {
          "model_module": "@jupyter-widgets/base",
          "model_name": "LayoutModel",
          "model_module_version": "1.2.0",
          "state": {
            "_view_name": "LayoutView",
            "grid_template_rows": null,
            "right": null,
            "justify_content": null,
            "_view_module": "@jupyter-widgets/base",
            "overflow": null,
            "_model_module_version": "1.2.0",
            "_view_count": null,
            "flex_flow": null,
            "width": null,
            "min_width": null,
            "border": null,
            "align_items": null,
            "bottom": null,
            "_model_module": "@jupyter-widgets/base",
            "top": null,
            "grid_column": null,
            "overflow_y": null,
            "overflow_x": null,
            "grid_auto_flow": null,
            "grid_area": null,
            "grid_template_columns": null,
            "flex": null,
            "_model_name": "LayoutModel",
            "justify_items": null,
            "grid_row": null,
            "max_height": null,
            "align_content": null,
            "visibility": null,
            "align_self": null,
            "height": null,
            "min_height": null,
            "padding": null,
            "grid_auto_rows": null,
            "grid_gap": null,
            "max_width": null,
            "order": null,
            "_view_module_version": "1.2.0",
            "grid_template_areas": null,
            "object_position": null,
            "object_fit": null,
            "grid_auto_columns": null,
            "margin": null,
            "display": null,
            "left": null
          }
        },
        "1479f862f21342699d2f72f3b97482e4": {
          "model_module": "@jupyter-widgets/controls",
          "model_name": "VBoxModel",
          "model_module_version": "1.5.0",
          "state": {
            "_view_name": "VBoxView",
            "_dom_classes": [],
            "_model_name": "VBoxModel",
            "_view_module": "@jupyter-widgets/controls",
            "_model_module_version": "1.5.0",
            "_view_count": null,
            "_view_module_version": "1.5.0",
            "box_style": "",
            "layout": "IPY_MODEL_e166dd20ff984396adbe0876bd2f3e25",
            "_model_module": "@jupyter-widgets/controls",
            "children": [
              "IPY_MODEL_8dab557f46f24d8eae5b05469cdd470d",
              "IPY_MODEL_3f02ffef1acc4ddfbe06599db2c12a94"
            ]
          }
        },
        "e166dd20ff984396adbe0876bd2f3e25": {
          "model_module": "@jupyter-widgets/base",
          "model_name": "LayoutModel",
          "model_module_version": "1.2.0",
          "state": {
            "_view_name": "LayoutView",
            "grid_template_rows": null,
            "right": null,
            "justify_content": null,
            "_view_module": "@jupyter-widgets/base",
            "overflow": null,
            "_model_module_version": "1.2.0",
            "_view_count": null,
            "flex_flow": null,
            "width": null,
            "min_width": null,
            "border": null,
            "align_items": null,
            "bottom": null,
            "_model_module": "@jupyter-widgets/base",
            "top": null,
            "grid_column": null,
            "overflow_y": null,
            "overflow_x": null,
            "grid_auto_flow": null,
            "grid_area": null,
            "grid_template_columns": null,
            "flex": null,
            "_model_name": "LayoutModel",
            "justify_items": null,
            "grid_row": null,
            "max_height": null,
            "align_content": null,
            "visibility": null,
            "align_self": null,
            "height": null,
            "min_height": null,
            "padding": null,
            "grid_auto_rows": null,
            "grid_gap": null,
            "max_width": null,
            "order": null,
            "_view_module_version": "1.2.0",
            "grid_template_areas": null,
            "object_position": null,
            "object_fit": null,
            "grid_auto_columns": null,
            "margin": null,
            "display": null,
            "left": null
          }
        },
        "8dab557f46f24d8eae5b05469cdd470d": {
          "model_module": "@jupyter-widgets/controls",
          "model_name": "LabelModel",
          "model_module_version": "1.5.0",
          "state": {
            "_view_name": "LabelView",
            "style": "IPY_MODEL_646a1df4356c4598ad00d92bcfc01aa6",
            "_dom_classes": [],
            "description": "",
            "_model_name": "LabelModel",
            "placeholder": "​",
            "_view_module": "@jupyter-widgets/controls",
            "_model_module_version": "1.5.0",
            "value": " 0.02MB of 0.02MB uploaded (0.00MB deduped)\r",
            "_view_count": null,
            "_view_module_version": "1.5.0",
            "description_tooltip": null,
            "_model_module": "@jupyter-widgets/controls",
            "layout": "IPY_MODEL_dcbaaf1e86ab48aea04147072c90fceb"
          }
        },
        "3f02ffef1acc4ddfbe06599db2c12a94": {
          "model_module": "@jupyter-widgets/controls",
          "model_name": "FloatProgressModel",
          "model_module_version": "1.5.0",
          "state": {
            "_view_name": "ProgressView",
            "style": "IPY_MODEL_10f7d4f528ed41579571e7f712681bac",
            "_dom_classes": [],
            "description": "",
            "_model_name": "FloatProgressModel",
            "bar_style": "",
            "max": 1,
            "_view_module": "@jupyter-widgets/controls",
            "_model_module_version": "1.5.0",
            "value": 1,
            "_view_count": null,
            "_view_module_version": "1.5.0",
            "orientation": "horizontal",
            "min": 0,
            "description_tooltip": null,
            "_model_module": "@jupyter-widgets/controls",
            "layout": "IPY_MODEL_c6112520833443c993ba2dfc4ace2d05"
          }
        },
        "646a1df4356c4598ad00d92bcfc01aa6": {
          "model_module": "@jupyter-widgets/controls",
          "model_name": "DescriptionStyleModel",
          "model_module_version": "1.5.0",
          "state": {
            "_view_name": "StyleView",
            "_model_name": "DescriptionStyleModel",
            "description_width": "",
            "_view_module": "@jupyter-widgets/base",
            "_model_module_version": "1.5.0",
            "_view_count": null,
            "_view_module_version": "1.2.0",
            "_model_module": "@jupyter-widgets/controls"
          }
        },
        "dcbaaf1e86ab48aea04147072c90fceb": {
          "model_module": "@jupyter-widgets/base",
          "model_name": "LayoutModel",
          "model_module_version": "1.2.0",
          "state": {
            "_view_name": "LayoutView",
            "grid_template_rows": null,
            "right": null,
            "justify_content": null,
            "_view_module": "@jupyter-widgets/base",
            "overflow": null,
            "_model_module_version": "1.2.0",
            "_view_count": null,
            "flex_flow": null,
            "width": null,
            "min_width": null,
            "border": null,
            "align_items": null,
            "bottom": null,
            "_model_module": "@jupyter-widgets/base",
            "top": null,
            "grid_column": null,
            "overflow_y": null,
            "overflow_x": null,
            "grid_auto_flow": null,
            "grid_area": null,
            "grid_template_columns": null,
            "flex": null,
            "_model_name": "LayoutModel",
            "justify_items": null,
            "grid_row": null,
            "max_height": null,
            "align_content": null,
            "visibility": null,
            "align_self": null,
            "height": null,
            "min_height": null,
            "padding": null,
            "grid_auto_rows": null,
            "grid_gap": null,
            "max_width": null,
            "order": null,
            "_view_module_version": "1.2.0",
            "grid_template_areas": null,
            "object_position": null,
            "object_fit": null,
            "grid_auto_columns": null,
            "margin": null,
            "display": null,
            "left": null
          }
        },
        "10f7d4f528ed41579571e7f712681bac": {
          "model_module": "@jupyter-widgets/controls",
          "model_name": "ProgressStyleModel",
          "model_module_version": "1.5.0",
          "state": {
            "_view_name": "StyleView",
            "_model_name": "ProgressStyleModel",
            "description_width": "",
            "_view_module": "@jupyter-widgets/base",
            "_model_module_version": "1.5.0",
            "_view_count": null,
            "_view_module_version": "1.2.0",
            "bar_color": null,
            "_model_module": "@jupyter-widgets/controls"
          }
        },
        "c6112520833443c993ba2dfc4ace2d05": {
          "model_module": "@jupyter-widgets/base",
          "model_name": "LayoutModel",
          "model_module_version": "1.2.0",
          "state": {
            "_view_name": "LayoutView",
            "grid_template_rows": null,
            "right": null,
            "justify_content": null,
            "_view_module": "@jupyter-widgets/base",
            "overflow": null,
            "_model_module_version": "1.2.0",
            "_view_count": null,
            "flex_flow": null,
            "width": null,
            "min_width": null,
            "border": null,
            "align_items": null,
            "bottom": null,
            "_model_module": "@jupyter-widgets/base",
            "top": null,
            "grid_column": null,
            "overflow_y": null,
            "overflow_x": null,
            "grid_auto_flow": null,
            "grid_area": null,
            "grid_template_columns": null,
            "flex": null,
            "_model_name": "LayoutModel",
            "justify_items": null,
            "grid_row": null,
            "max_height": null,
            "align_content": null,
            "visibility": null,
            "align_self": null,
            "height": null,
            "min_height": null,
            "padding": null,
            "grid_auto_rows": null,
            "grid_gap": null,
            "max_width": null,
            "order": null,
            "_view_module_version": "1.2.0",
            "grid_template_areas": null,
            "object_position": null,
            "object_fit": null,
            "grid_auto_columns": null,
            "margin": null,
            "display": null,
            "left": null
          }
        },
        "b16ae481bad04828865ae82873f1e605": {
          "model_module": "@jupyter-widgets/controls",
          "model_name": "VBoxModel",
          "model_module_version": "1.5.0",
          "state": {
            "_view_name": "VBoxView",
            "_dom_classes": [],
            "_model_name": "VBoxModel",
            "_view_module": "@jupyter-widgets/controls",
            "_model_module_version": "1.5.0",
            "_view_count": null,
            "_view_module_version": "1.5.0",
            "box_style": "",
            "layout": "IPY_MODEL_6a4a3bdee1614ccba7f0eb4e5bb92d7e",
            "_model_module": "@jupyter-widgets/controls",
            "children": [
              "IPY_MODEL_1a079d24b901424c8f13b46d15b9c645",
              "IPY_MODEL_f63e1a62ac194773ab1de46118bee320"
            ]
          }
        },
        "6a4a3bdee1614ccba7f0eb4e5bb92d7e": {
          "model_module": "@jupyter-widgets/base",
          "model_name": "LayoutModel",
          "model_module_version": "1.2.0",
          "state": {
            "_view_name": "LayoutView",
            "grid_template_rows": null,
            "right": null,
            "justify_content": null,
            "_view_module": "@jupyter-widgets/base",
            "overflow": null,
            "_model_module_version": "1.2.0",
            "_view_count": null,
            "flex_flow": null,
            "width": null,
            "min_width": null,
            "border": null,
            "align_items": null,
            "bottom": null,
            "_model_module": "@jupyter-widgets/base",
            "top": null,
            "grid_column": null,
            "overflow_y": null,
            "overflow_x": null,
            "grid_auto_flow": null,
            "grid_area": null,
            "grid_template_columns": null,
            "flex": null,
            "_model_name": "LayoutModel",
            "justify_items": null,
            "grid_row": null,
            "max_height": null,
            "align_content": null,
            "visibility": null,
            "align_self": null,
            "height": null,
            "min_height": null,
            "padding": null,
            "grid_auto_rows": null,
            "grid_gap": null,
            "max_width": null,
            "order": null,
            "_view_module_version": "1.2.0",
            "grid_template_areas": null,
            "object_position": null,
            "object_fit": null,
            "grid_auto_columns": null,
            "margin": null,
            "display": null,
            "left": null
          }
        },
        "1a079d24b901424c8f13b46d15b9c645": {
          "model_module": "@jupyter-widgets/controls",
          "model_name": "LabelModel",
          "model_module_version": "1.5.0",
          "state": {
            "_view_name": "LabelView",
            "style": "IPY_MODEL_eba2323330af4520944133268a5fbd0a",
            "_dom_classes": [],
            "description": "",
            "_model_name": "LabelModel",
            "placeholder": "​",
            "_view_module": "@jupyter-widgets/controls",
            "_model_module_version": "1.5.0",
            "value": " 0.02MB of 0.02MB uploaded (0.00MB deduped)\r",
            "_view_count": null,
            "_view_module_version": "1.5.0",
            "description_tooltip": null,
            "_model_module": "@jupyter-widgets/controls",
            "layout": "IPY_MODEL_0726996b24b646ce83549d8a44e8190f"
          }
        },
        "f63e1a62ac194773ab1de46118bee320": {
          "model_module": "@jupyter-widgets/controls",
          "model_name": "FloatProgressModel",
          "model_module_version": "1.5.0",
          "state": {
            "_view_name": "ProgressView",
            "style": "IPY_MODEL_5e3ab3ea969d41cdb3fe89fc44300c25",
            "_dom_classes": [],
            "description": "",
            "_model_name": "FloatProgressModel",
            "bar_style": "",
            "max": 1,
            "_view_module": "@jupyter-widgets/controls",
            "_model_module_version": "1.5.0",
            "value": 1,
            "_view_count": null,
            "_view_module_version": "1.5.0",
            "orientation": "horizontal",
            "min": 0,
            "description_tooltip": null,
            "_model_module": "@jupyter-widgets/controls",
            "layout": "IPY_MODEL_89cd160fac784dcabd6abcdb740cc4fa"
          }
        },
        "eba2323330af4520944133268a5fbd0a": {
          "model_module": "@jupyter-widgets/controls",
          "model_name": "DescriptionStyleModel",
          "model_module_version": "1.5.0",
          "state": {
            "_view_name": "StyleView",
            "_model_name": "DescriptionStyleModel",
            "description_width": "",
            "_view_module": "@jupyter-widgets/base",
            "_model_module_version": "1.5.0",
            "_view_count": null,
            "_view_module_version": "1.2.0",
            "_model_module": "@jupyter-widgets/controls"
          }
        },
        "0726996b24b646ce83549d8a44e8190f": {
          "model_module": "@jupyter-widgets/base",
          "model_name": "LayoutModel",
          "model_module_version": "1.2.0",
          "state": {
            "_view_name": "LayoutView",
            "grid_template_rows": null,
            "right": null,
            "justify_content": null,
            "_view_module": "@jupyter-widgets/base",
            "overflow": null,
            "_model_module_version": "1.2.0",
            "_view_count": null,
            "flex_flow": null,
            "width": null,
            "min_width": null,
            "border": null,
            "align_items": null,
            "bottom": null,
            "_model_module": "@jupyter-widgets/base",
            "top": null,
            "grid_column": null,
            "overflow_y": null,
            "overflow_x": null,
            "grid_auto_flow": null,
            "grid_area": null,
            "grid_template_columns": null,
            "flex": null,
            "_model_name": "LayoutModel",
            "justify_items": null,
            "grid_row": null,
            "max_height": null,
            "align_content": null,
            "visibility": null,
            "align_self": null,
            "height": null,
            "min_height": null,
            "padding": null,
            "grid_auto_rows": null,
            "grid_gap": null,
            "max_width": null,
            "order": null,
            "_view_module_version": "1.2.0",
            "grid_template_areas": null,
            "object_position": null,
            "object_fit": null,
            "grid_auto_columns": null,
            "margin": null,
            "display": null,
            "left": null
          }
        },
        "5e3ab3ea969d41cdb3fe89fc44300c25": {
          "model_module": "@jupyter-widgets/controls",
          "model_name": "ProgressStyleModel",
          "model_module_version": "1.5.0",
          "state": {
            "_view_name": "StyleView",
            "_model_name": "ProgressStyleModel",
            "description_width": "",
            "_view_module": "@jupyter-widgets/base",
            "_model_module_version": "1.5.0",
            "_view_count": null,
            "_view_module_version": "1.2.0",
            "bar_color": null,
            "_model_module": "@jupyter-widgets/controls"
          }
        },
        "89cd160fac784dcabd6abcdb740cc4fa": {
          "model_module": "@jupyter-widgets/base",
          "model_name": "LayoutModel",
          "model_module_version": "1.2.0",
          "state": {
            "_view_name": "LayoutView",
            "grid_template_rows": null,
            "right": null,
            "justify_content": null,
            "_view_module": "@jupyter-widgets/base",
            "overflow": null,
            "_model_module_version": "1.2.0",
            "_view_count": null,
            "flex_flow": null,
            "width": null,
            "min_width": null,
            "border": null,
            "align_items": null,
            "bottom": null,
            "_model_module": "@jupyter-widgets/base",
            "top": null,
            "grid_column": null,
            "overflow_y": null,
            "overflow_x": null,
            "grid_auto_flow": null,
            "grid_area": null,
            "grid_template_columns": null,
            "flex": null,
            "_model_name": "LayoutModel",
            "justify_items": null,
            "grid_row": null,
            "max_height": null,
            "align_content": null,
            "visibility": null,
            "align_self": null,
            "height": null,
            "min_height": null,
            "padding": null,
            "grid_auto_rows": null,
            "grid_gap": null,
            "max_width": null,
            "order": null,
            "_view_module_version": "1.2.0",
            "grid_template_areas": null,
            "object_position": null,
            "object_fit": null,
            "grid_auto_columns": null,
            "margin": null,
            "display": null,
            "left": null
          }
        },
        "8cc12ce52aae489b89f977970ad94921": {
          "model_module": "@jupyter-widgets/controls",
          "model_name": "VBoxModel",
          "model_module_version": "1.5.0",
          "state": {
            "_view_name": "VBoxView",
            "_dom_classes": [],
            "_model_name": "VBoxModel",
            "_view_module": "@jupyter-widgets/controls",
            "_model_module_version": "1.5.0",
            "_view_count": null,
            "_view_module_version": "1.5.0",
            "box_style": "",
            "layout": "IPY_MODEL_c9fbac9e814d407fb91a3f1ae9899b50",
            "_model_module": "@jupyter-widgets/controls",
            "children": [
              "IPY_MODEL_0752100cb14b48e49aaa4150c1e05298",
              "IPY_MODEL_adeef1901ffe49f2b7f9c48701a8b7a4"
            ]
          }
        },
        "c9fbac9e814d407fb91a3f1ae9899b50": {
          "model_module": "@jupyter-widgets/base",
          "model_name": "LayoutModel",
          "model_module_version": "1.2.0",
          "state": {
            "_view_name": "LayoutView",
            "grid_template_rows": null,
            "right": null,
            "justify_content": null,
            "_view_module": "@jupyter-widgets/base",
            "overflow": null,
            "_model_module_version": "1.2.0",
            "_view_count": null,
            "flex_flow": null,
            "width": null,
            "min_width": null,
            "border": null,
            "align_items": null,
            "bottom": null,
            "_model_module": "@jupyter-widgets/base",
            "top": null,
            "grid_column": null,
            "overflow_y": null,
            "overflow_x": null,
            "grid_auto_flow": null,
            "grid_area": null,
            "grid_template_columns": null,
            "flex": null,
            "_model_name": "LayoutModel",
            "justify_items": null,
            "grid_row": null,
            "max_height": null,
            "align_content": null,
            "visibility": null,
            "align_self": null,
            "height": null,
            "min_height": null,
            "padding": null,
            "grid_auto_rows": null,
            "grid_gap": null,
            "max_width": null,
            "order": null,
            "_view_module_version": "1.2.0",
            "grid_template_areas": null,
            "object_position": null,
            "object_fit": null,
            "grid_auto_columns": null,
            "margin": null,
            "display": null,
            "left": null
          }
        },
        "0752100cb14b48e49aaa4150c1e05298": {
          "model_module": "@jupyter-widgets/controls",
          "model_name": "LabelModel",
          "model_module_version": "1.5.0",
          "state": {
            "_view_name": "LabelView",
            "style": "IPY_MODEL_dbdaae382c984d3393725b935b520d3a",
            "_dom_classes": [],
            "description": "",
            "_model_name": "LabelModel",
            "placeholder": "​",
            "_view_module": "@jupyter-widgets/controls",
            "_model_module_version": "1.5.0",
            "value": "",
            "_view_count": null,
            "_view_module_version": "1.5.0",
            "description_tooltip": null,
            "_model_module": "@jupyter-widgets/controls",
            "layout": "IPY_MODEL_e5ff1aa58a9344ffa626af0c86877210"
          }
        },
        "adeef1901ffe49f2b7f9c48701a8b7a4": {
          "model_module": "@jupyter-widgets/controls",
          "model_name": "FloatProgressModel",
          "model_module_version": "1.5.0",
          "state": {
            "_view_name": "ProgressView",
            "style": "IPY_MODEL_0c51f25b62ad4e1cb0fed1a07a3a0862",
            "_dom_classes": [],
            "description": "",
            "_model_name": "FloatProgressModel",
            "bar_style": "",
            "max": 1,
            "_view_module": "@jupyter-widgets/controls",
            "_model_module_version": "1.5.0",
            "value": 0,
            "_view_count": null,
            "_view_module_version": "1.5.0",
            "orientation": "horizontal",
            "min": 0,
            "description_tooltip": null,
            "_model_module": "@jupyter-widgets/controls",
            "layout": "IPY_MODEL_e35c3a7a7af1412bbaf753963e5db327"
          }
        },
        "dbdaae382c984d3393725b935b520d3a": {
          "model_module": "@jupyter-widgets/controls",
          "model_name": "DescriptionStyleModel",
          "model_module_version": "1.5.0",
          "state": {
            "_view_name": "StyleView",
            "_model_name": "DescriptionStyleModel",
            "description_width": "",
            "_view_module": "@jupyter-widgets/base",
            "_model_module_version": "1.5.0",
            "_view_count": null,
            "_view_module_version": "1.2.0",
            "_model_module": "@jupyter-widgets/controls"
          }
        },
        "e5ff1aa58a9344ffa626af0c86877210": {
          "model_module": "@jupyter-widgets/base",
          "model_name": "LayoutModel",
          "model_module_version": "1.2.0",
          "state": {
            "_view_name": "LayoutView",
            "grid_template_rows": null,
            "right": null,
            "justify_content": null,
            "_view_module": "@jupyter-widgets/base",
            "overflow": null,
            "_model_module_version": "1.2.0",
            "_view_count": null,
            "flex_flow": null,
            "width": null,
            "min_width": null,
            "border": null,
            "align_items": null,
            "bottom": null,
            "_model_module": "@jupyter-widgets/base",
            "top": null,
            "grid_column": null,
            "overflow_y": null,
            "overflow_x": null,
            "grid_auto_flow": null,
            "grid_area": null,
            "grid_template_columns": null,
            "flex": null,
            "_model_name": "LayoutModel",
            "justify_items": null,
            "grid_row": null,
            "max_height": null,
            "align_content": null,
            "visibility": null,
            "align_self": null,
            "height": null,
            "min_height": null,
            "padding": null,
            "grid_auto_rows": null,
            "grid_gap": null,
            "max_width": null,
            "order": null,
            "_view_module_version": "1.2.0",
            "grid_template_areas": null,
            "object_position": null,
            "object_fit": null,
            "grid_auto_columns": null,
            "margin": null,
            "display": null,
            "left": null
          }
        },
        "0c51f25b62ad4e1cb0fed1a07a3a0862": {
          "model_module": "@jupyter-widgets/controls",
          "model_name": "ProgressStyleModel",
          "model_module_version": "1.5.0",
          "state": {
            "_view_name": "StyleView",
            "_model_name": "ProgressStyleModel",
            "description_width": "",
            "_view_module": "@jupyter-widgets/base",
            "_model_module_version": "1.5.0",
            "_view_count": null,
            "_view_module_version": "1.2.0",
            "bar_color": null,
            "_model_module": "@jupyter-widgets/controls"
          }
        },
        "e35c3a7a7af1412bbaf753963e5db327": {
          "model_module": "@jupyter-widgets/base",
          "model_name": "LayoutModel",
          "model_module_version": "1.2.0",
          "state": {
            "_view_name": "LayoutView",
            "grid_template_rows": null,
            "right": null,
            "justify_content": null,
            "_view_module": "@jupyter-widgets/base",
            "overflow": null,
            "_model_module_version": "1.2.0",
            "_view_count": null,
            "flex_flow": null,
            "width": null,
            "min_width": null,
            "border": null,
            "align_items": null,
            "bottom": null,
            "_model_module": "@jupyter-widgets/base",
            "top": null,
            "grid_column": null,
            "overflow_y": null,
            "overflow_x": null,
            "grid_auto_flow": null,
            "grid_area": null,
            "grid_template_columns": null,
            "flex": null,
            "_model_name": "LayoutModel",
            "justify_items": null,
            "grid_row": null,
            "max_height": null,
            "align_content": null,
            "visibility": null,
            "align_self": null,
            "height": null,
            "min_height": null,
            "padding": null,
            "grid_auto_rows": null,
            "grid_gap": null,
            "max_width": null,
            "order": null,
            "_view_module_version": "1.2.0",
            "grid_template_areas": null,
            "object_position": null,
            "object_fit": null,
            "grid_auto_columns": null,
            "margin": null,
            "display": null,
            "left": null
          }
        },
        "b7459491f58147948857263b4d253d0a": {
          "model_module": "@jupyter-widgets/controls",
          "model_name": "VBoxModel",
          "model_module_version": "1.5.0",
          "state": {
            "_view_name": "VBoxView",
            "_dom_classes": [],
            "_model_name": "VBoxModel",
            "_view_module": "@jupyter-widgets/controls",
            "_model_module_version": "1.5.0",
            "_view_count": null,
            "_view_module_version": "1.5.0",
            "box_style": "",
            "layout": "IPY_MODEL_db004eb903254bd8841ec2605453c445",
            "_model_module": "@jupyter-widgets/controls",
            "children": [
              "IPY_MODEL_d0dd1411b24845a5afecaf2d40d81799",
              "IPY_MODEL_c7ffefc6c74c4a338ccb0c2c1b7c1146"
            ]
          }
        },
        "db004eb903254bd8841ec2605453c445": {
          "model_module": "@jupyter-widgets/base",
          "model_name": "LayoutModel",
          "model_module_version": "1.2.0",
          "state": {
            "_view_name": "LayoutView",
            "grid_template_rows": null,
            "right": null,
            "justify_content": null,
            "_view_module": "@jupyter-widgets/base",
            "overflow": null,
            "_model_module_version": "1.2.0",
            "_view_count": null,
            "flex_flow": null,
            "width": null,
            "min_width": null,
            "border": null,
            "align_items": null,
            "bottom": null,
            "_model_module": "@jupyter-widgets/base",
            "top": null,
            "grid_column": null,
            "overflow_y": null,
            "overflow_x": null,
            "grid_auto_flow": null,
            "grid_area": null,
            "grid_template_columns": null,
            "flex": null,
            "_model_name": "LayoutModel",
            "justify_items": null,
            "grid_row": null,
            "max_height": null,
            "align_content": null,
            "visibility": null,
            "align_self": null,
            "height": null,
            "min_height": null,
            "padding": null,
            "grid_auto_rows": null,
            "grid_gap": null,
            "max_width": null,
            "order": null,
            "_view_module_version": "1.2.0",
            "grid_template_areas": null,
            "object_position": null,
            "object_fit": null,
            "grid_auto_columns": null,
            "margin": null,
            "display": null,
            "left": null
          }
        },
        "d0dd1411b24845a5afecaf2d40d81799": {
          "model_module": "@jupyter-widgets/controls",
          "model_name": "LabelModel",
          "model_module_version": "1.5.0",
          "state": {
            "_view_name": "LabelView",
            "style": "IPY_MODEL_ff1d7ae7293a4f2e9910bff0b9dbd793",
            "_dom_classes": [],
            "description": "",
            "_model_name": "LabelModel",
            "placeholder": "​",
            "_view_module": "@jupyter-widgets/controls",
            "_model_module_version": "1.5.0",
            "value": " 0.02MB of 0.02MB uploaded (0.00MB deduped)\r",
            "_view_count": null,
            "_view_module_version": "1.5.0",
            "description_tooltip": null,
            "_model_module": "@jupyter-widgets/controls",
            "layout": "IPY_MODEL_e40a627d1c5b4596ae5228c32a79f9bb"
          }
        },
        "c7ffefc6c74c4a338ccb0c2c1b7c1146": {
          "model_module": "@jupyter-widgets/controls",
          "model_name": "FloatProgressModel",
          "model_module_version": "1.5.0",
          "state": {
            "_view_name": "ProgressView",
            "style": "IPY_MODEL_a1d447748c4b4e628c65547b83047fae",
            "_dom_classes": [],
            "description": "",
            "_model_name": "FloatProgressModel",
            "bar_style": "",
            "max": 1,
            "_view_module": "@jupyter-widgets/controls",
            "_model_module_version": "1.5.0",
            "value": 1,
            "_view_count": null,
            "_view_module_version": "1.5.0",
            "orientation": "horizontal",
            "min": 0,
            "description_tooltip": null,
            "_model_module": "@jupyter-widgets/controls",
            "layout": "IPY_MODEL_fa1fb3cc094a456a81879a5893e21bb2"
          }
        },
        "ff1d7ae7293a4f2e9910bff0b9dbd793": {
          "model_module": "@jupyter-widgets/controls",
          "model_name": "DescriptionStyleModel",
          "model_module_version": "1.5.0",
          "state": {
            "_view_name": "StyleView",
            "_model_name": "DescriptionStyleModel",
            "description_width": "",
            "_view_module": "@jupyter-widgets/base",
            "_model_module_version": "1.5.0",
            "_view_count": null,
            "_view_module_version": "1.2.0",
            "_model_module": "@jupyter-widgets/controls"
          }
        },
        "e40a627d1c5b4596ae5228c32a79f9bb": {
          "model_module": "@jupyter-widgets/base",
          "model_name": "LayoutModel",
          "model_module_version": "1.2.0",
          "state": {
            "_view_name": "LayoutView",
            "grid_template_rows": null,
            "right": null,
            "justify_content": null,
            "_view_module": "@jupyter-widgets/base",
            "overflow": null,
            "_model_module_version": "1.2.0",
            "_view_count": null,
            "flex_flow": null,
            "width": null,
            "min_width": null,
            "border": null,
            "align_items": null,
            "bottom": null,
            "_model_module": "@jupyter-widgets/base",
            "top": null,
            "grid_column": null,
            "overflow_y": null,
            "overflow_x": null,
            "grid_auto_flow": null,
            "grid_area": null,
            "grid_template_columns": null,
            "flex": null,
            "_model_name": "LayoutModel",
            "justify_items": null,
            "grid_row": null,
            "max_height": null,
            "align_content": null,
            "visibility": null,
            "align_self": null,
            "height": null,
            "min_height": null,
            "padding": null,
            "grid_auto_rows": null,
            "grid_gap": null,
            "max_width": null,
            "order": null,
            "_view_module_version": "1.2.0",
            "grid_template_areas": null,
            "object_position": null,
            "object_fit": null,
            "grid_auto_columns": null,
            "margin": null,
            "display": null,
            "left": null
          }
        },
        "a1d447748c4b4e628c65547b83047fae": {
          "model_module": "@jupyter-widgets/controls",
          "model_name": "ProgressStyleModel",
          "model_module_version": "1.5.0",
          "state": {
            "_view_name": "StyleView",
            "_model_name": "ProgressStyleModel",
            "description_width": "",
            "_view_module": "@jupyter-widgets/base",
            "_model_module_version": "1.5.0",
            "_view_count": null,
            "_view_module_version": "1.2.0",
            "bar_color": null,
            "_model_module": "@jupyter-widgets/controls"
          }
        },
        "fa1fb3cc094a456a81879a5893e21bb2": {
          "model_module": "@jupyter-widgets/base",
          "model_name": "LayoutModel",
          "model_module_version": "1.2.0",
          "state": {
            "_view_name": "LayoutView",
            "grid_template_rows": null,
            "right": null,
            "justify_content": null,
            "_view_module": "@jupyter-widgets/base",
            "overflow": null,
            "_model_module_version": "1.2.0",
            "_view_count": null,
            "flex_flow": null,
            "width": null,
            "min_width": null,
            "border": null,
            "align_items": null,
            "bottom": null,
            "_model_module": "@jupyter-widgets/base",
            "top": null,
            "grid_column": null,
            "overflow_y": null,
            "overflow_x": null,
            "grid_auto_flow": null,
            "grid_area": null,
            "grid_template_columns": null,
            "flex": null,
            "_model_name": "LayoutModel",
            "justify_items": null,
            "grid_row": null,
            "max_height": null,
            "align_content": null,
            "visibility": null,
            "align_self": null,
            "height": null,
            "min_height": null,
            "padding": null,
            "grid_auto_rows": null,
            "grid_gap": null,
            "max_width": null,
            "order": null,
            "_view_module_version": "1.2.0",
            "grid_template_areas": null,
            "object_position": null,
            "object_fit": null,
            "grid_auto_columns": null,
            "margin": null,
            "display": null,
            "left": null
          }
        },
        "49f1811d443f4d6a9e5e5b4f12f31237": {
          "model_module": "@jupyter-widgets/controls",
          "model_name": "VBoxModel",
          "model_module_version": "1.5.0",
          "state": {
            "_view_name": "VBoxView",
            "_dom_classes": [],
            "_model_name": "VBoxModel",
            "_view_module": "@jupyter-widgets/controls",
            "_model_module_version": "1.5.0",
            "_view_count": null,
            "_view_module_version": "1.5.0",
            "box_style": "",
            "layout": "IPY_MODEL_4734f90024c3453f97e1b9de8013b536",
            "_model_module": "@jupyter-widgets/controls",
            "children": [
              "IPY_MODEL_61498ea7d86141328bd27fd013b7d454",
              "IPY_MODEL_91b73a8d857d41a5a35a8397c86e5466"
            ]
          }
        },
        "4734f90024c3453f97e1b9de8013b536": {
          "model_module": "@jupyter-widgets/base",
          "model_name": "LayoutModel",
          "model_module_version": "1.2.0",
          "state": {
            "_view_name": "LayoutView",
            "grid_template_rows": null,
            "right": null,
            "justify_content": null,
            "_view_module": "@jupyter-widgets/base",
            "overflow": null,
            "_model_module_version": "1.2.0",
            "_view_count": null,
            "flex_flow": null,
            "width": null,
            "min_width": null,
            "border": null,
            "align_items": null,
            "bottom": null,
            "_model_module": "@jupyter-widgets/base",
            "top": null,
            "grid_column": null,
            "overflow_y": null,
            "overflow_x": null,
            "grid_auto_flow": null,
            "grid_area": null,
            "grid_template_columns": null,
            "flex": null,
            "_model_name": "LayoutModel",
            "justify_items": null,
            "grid_row": null,
            "max_height": null,
            "align_content": null,
            "visibility": null,
            "align_self": null,
            "height": null,
            "min_height": null,
            "padding": null,
            "grid_auto_rows": null,
            "grid_gap": null,
            "max_width": null,
            "order": null,
            "_view_module_version": "1.2.0",
            "grid_template_areas": null,
            "object_position": null,
            "object_fit": null,
            "grid_auto_columns": null,
            "margin": null,
            "display": null,
            "left": null
          }
        },
        "61498ea7d86141328bd27fd013b7d454": {
          "model_module": "@jupyter-widgets/controls",
          "model_name": "LabelModel",
          "model_module_version": "1.5.0",
          "state": {
            "_view_name": "LabelView",
            "style": "IPY_MODEL_36b9c140efd0420aba43d516e2dbcfe4",
            "_dom_classes": [],
            "description": "",
            "_model_name": "LabelModel",
            "placeholder": "​",
            "_view_module": "@jupyter-widgets/controls",
            "_model_module_version": "1.5.0",
            "value": " 0.02MB of 0.02MB uploaded (0.00MB deduped)\r",
            "_view_count": null,
            "_view_module_version": "1.5.0",
            "description_tooltip": null,
            "_model_module": "@jupyter-widgets/controls",
            "layout": "IPY_MODEL_f0c96601b4c048e29d7ea1e5cb3bf0ab"
          }
        },
        "91b73a8d857d41a5a35a8397c86e5466": {
          "model_module": "@jupyter-widgets/controls",
          "model_name": "FloatProgressModel",
          "model_module_version": "1.5.0",
          "state": {
            "_view_name": "ProgressView",
            "style": "IPY_MODEL_080eb57815cd43e8ab21a8653fc519d1",
            "_dom_classes": [],
            "description": "",
            "_model_name": "FloatProgressModel",
            "bar_style": "",
            "max": 1,
            "_view_module": "@jupyter-widgets/controls",
            "_model_module_version": "1.5.0",
            "value": 1,
            "_view_count": null,
            "_view_module_version": "1.5.0",
            "orientation": "horizontal",
            "min": 0,
            "description_tooltip": null,
            "_model_module": "@jupyter-widgets/controls",
            "layout": "IPY_MODEL_11a264cab5a442369dcb3ce5c1bee188"
          }
        },
        "36b9c140efd0420aba43d516e2dbcfe4": {
          "model_module": "@jupyter-widgets/controls",
          "model_name": "DescriptionStyleModel",
          "model_module_version": "1.5.0",
          "state": {
            "_view_name": "StyleView",
            "_model_name": "DescriptionStyleModel",
            "description_width": "",
            "_view_module": "@jupyter-widgets/base",
            "_model_module_version": "1.5.0",
            "_view_count": null,
            "_view_module_version": "1.2.0",
            "_model_module": "@jupyter-widgets/controls"
          }
        },
        "f0c96601b4c048e29d7ea1e5cb3bf0ab": {
          "model_module": "@jupyter-widgets/base",
          "model_name": "LayoutModel",
          "model_module_version": "1.2.0",
          "state": {
            "_view_name": "LayoutView",
            "grid_template_rows": null,
            "right": null,
            "justify_content": null,
            "_view_module": "@jupyter-widgets/base",
            "overflow": null,
            "_model_module_version": "1.2.0",
            "_view_count": null,
            "flex_flow": null,
            "width": null,
            "min_width": null,
            "border": null,
            "align_items": null,
            "bottom": null,
            "_model_module": "@jupyter-widgets/base",
            "top": null,
            "grid_column": null,
            "overflow_y": null,
            "overflow_x": null,
            "grid_auto_flow": null,
            "grid_area": null,
            "grid_template_columns": null,
            "flex": null,
            "_model_name": "LayoutModel",
            "justify_items": null,
            "grid_row": null,
            "max_height": null,
            "align_content": null,
            "visibility": null,
            "align_self": null,
            "height": null,
            "min_height": null,
            "padding": null,
            "grid_auto_rows": null,
            "grid_gap": null,
            "max_width": null,
            "order": null,
            "_view_module_version": "1.2.0",
            "grid_template_areas": null,
            "object_position": null,
            "object_fit": null,
            "grid_auto_columns": null,
            "margin": null,
            "display": null,
            "left": null
          }
        },
        "080eb57815cd43e8ab21a8653fc519d1": {
          "model_module": "@jupyter-widgets/controls",
          "model_name": "ProgressStyleModel",
          "model_module_version": "1.5.0",
          "state": {
            "_view_name": "StyleView",
            "_model_name": "ProgressStyleModel",
            "description_width": "",
            "_view_module": "@jupyter-widgets/base",
            "_model_module_version": "1.5.0",
            "_view_count": null,
            "_view_module_version": "1.2.0",
            "bar_color": null,
            "_model_module": "@jupyter-widgets/controls"
          }
        },
        "11a264cab5a442369dcb3ce5c1bee188": {
          "model_module": "@jupyter-widgets/base",
          "model_name": "LayoutModel",
          "model_module_version": "1.2.0",
          "state": {
            "_view_name": "LayoutView",
            "grid_template_rows": null,
            "right": null,
            "justify_content": null,
            "_view_module": "@jupyter-widgets/base",
            "overflow": null,
            "_model_module_version": "1.2.0",
            "_view_count": null,
            "flex_flow": null,
            "width": null,
            "min_width": null,
            "border": null,
            "align_items": null,
            "bottom": null,
            "_model_module": "@jupyter-widgets/base",
            "top": null,
            "grid_column": null,
            "overflow_y": null,
            "overflow_x": null,
            "grid_auto_flow": null,
            "grid_area": null,
            "grid_template_columns": null,
            "flex": null,
            "_model_name": "LayoutModel",
            "justify_items": null,
            "grid_row": null,
            "max_height": null,
            "align_content": null,
            "visibility": null,
            "align_self": null,
            "height": null,
            "min_height": null,
            "padding": null,
            "grid_auto_rows": null,
            "grid_gap": null,
            "max_width": null,
            "order": null,
            "_view_module_version": "1.2.0",
            "grid_template_areas": null,
            "object_position": null,
            "object_fit": null,
            "grid_auto_columns": null,
            "margin": null,
            "display": null,
            "left": null
          }
        },
        "3c91ee375a7f4fa4b020e974a721f05e": {
          "model_module": "@jupyter-widgets/controls",
          "model_name": "VBoxModel",
          "model_module_version": "1.5.0",
          "state": {
            "_view_name": "VBoxView",
            "_dom_classes": [],
            "_model_name": "VBoxModel",
            "_view_module": "@jupyter-widgets/controls",
            "_model_module_version": "1.5.0",
            "_view_count": null,
            "_view_module_version": "1.5.0",
            "box_style": "",
            "layout": "IPY_MODEL_4bd2b112f9014146994ef22126f2c956",
            "_model_module": "@jupyter-widgets/controls",
            "children": [
              "IPY_MODEL_23374d02a279483fb8bb4676dfcf8f4d",
              "IPY_MODEL_a866d6b26fbb46e2bd9128e573cb11db"
            ]
          }
        },
        "4bd2b112f9014146994ef22126f2c956": {
          "model_module": "@jupyter-widgets/base",
          "model_name": "LayoutModel",
          "model_module_version": "1.2.0",
          "state": {
            "_view_name": "LayoutView",
            "grid_template_rows": null,
            "right": null,
            "justify_content": null,
            "_view_module": "@jupyter-widgets/base",
            "overflow": null,
            "_model_module_version": "1.2.0",
            "_view_count": null,
            "flex_flow": null,
            "width": null,
            "min_width": null,
            "border": null,
            "align_items": null,
            "bottom": null,
            "_model_module": "@jupyter-widgets/base",
            "top": null,
            "grid_column": null,
            "overflow_y": null,
            "overflow_x": null,
            "grid_auto_flow": null,
            "grid_area": null,
            "grid_template_columns": null,
            "flex": null,
            "_model_name": "LayoutModel",
            "justify_items": null,
            "grid_row": null,
            "max_height": null,
            "align_content": null,
            "visibility": null,
            "align_self": null,
            "height": null,
            "min_height": null,
            "padding": null,
            "grid_auto_rows": null,
            "grid_gap": null,
            "max_width": null,
            "order": null,
            "_view_module_version": "1.2.0",
            "grid_template_areas": null,
            "object_position": null,
            "object_fit": null,
            "grid_auto_columns": null,
            "margin": null,
            "display": null,
            "left": null
          }
        },
        "23374d02a279483fb8bb4676dfcf8f4d": {
          "model_module": "@jupyter-widgets/controls",
          "model_name": "LabelModel",
          "model_module_version": "1.5.0",
          "state": {
            "_view_name": "LabelView",
            "style": "IPY_MODEL_abe99afa48604b35933797090882bbad",
            "_dom_classes": [],
            "description": "",
            "_model_name": "LabelModel",
            "placeholder": "​",
            "_view_module": "@jupyter-widgets/controls",
            "_model_module_version": "1.5.0",
            "value": " 0.02MB of 0.02MB uploaded (0.00MB deduped)\r",
            "_view_count": null,
            "_view_module_version": "1.5.0",
            "description_tooltip": null,
            "_model_module": "@jupyter-widgets/controls",
            "layout": "IPY_MODEL_883c64a7a2344b99ac12da449c6acc80"
          }
        },
        "a866d6b26fbb46e2bd9128e573cb11db": {
          "model_module": "@jupyter-widgets/controls",
          "model_name": "FloatProgressModel",
          "model_module_version": "1.5.0",
          "state": {
            "_view_name": "ProgressView",
            "style": "IPY_MODEL_e6292bd2f66245a8ac594cef7e30c278",
            "_dom_classes": [],
            "description": "",
            "_model_name": "FloatProgressModel",
            "bar_style": "",
            "max": 1,
            "_view_module": "@jupyter-widgets/controls",
            "_model_module_version": "1.5.0",
            "value": 1,
            "_view_count": null,
            "_view_module_version": "1.5.0",
            "orientation": "horizontal",
            "min": 0,
            "description_tooltip": null,
            "_model_module": "@jupyter-widgets/controls",
            "layout": "IPY_MODEL_21463e984fd0443691e0e78a7c08dc29"
          }
        },
        "abe99afa48604b35933797090882bbad": {
          "model_module": "@jupyter-widgets/controls",
          "model_name": "DescriptionStyleModel",
          "model_module_version": "1.5.0",
          "state": {
            "_view_name": "StyleView",
            "_model_name": "DescriptionStyleModel",
            "description_width": "",
            "_view_module": "@jupyter-widgets/base",
            "_model_module_version": "1.5.0",
            "_view_count": null,
            "_view_module_version": "1.2.0",
            "_model_module": "@jupyter-widgets/controls"
          }
        },
        "883c64a7a2344b99ac12da449c6acc80": {
          "model_module": "@jupyter-widgets/base",
          "model_name": "LayoutModel",
          "model_module_version": "1.2.0",
          "state": {
            "_view_name": "LayoutView",
            "grid_template_rows": null,
            "right": null,
            "justify_content": null,
            "_view_module": "@jupyter-widgets/base",
            "overflow": null,
            "_model_module_version": "1.2.0",
            "_view_count": null,
            "flex_flow": null,
            "width": null,
            "min_width": null,
            "border": null,
            "align_items": null,
            "bottom": null,
            "_model_module": "@jupyter-widgets/base",
            "top": null,
            "grid_column": null,
            "overflow_y": null,
            "overflow_x": null,
            "grid_auto_flow": null,
            "grid_area": null,
            "grid_template_columns": null,
            "flex": null,
            "_model_name": "LayoutModel",
            "justify_items": null,
            "grid_row": null,
            "max_height": null,
            "align_content": null,
            "visibility": null,
            "align_self": null,
            "height": null,
            "min_height": null,
            "padding": null,
            "grid_auto_rows": null,
            "grid_gap": null,
            "max_width": null,
            "order": null,
            "_view_module_version": "1.2.0",
            "grid_template_areas": null,
            "object_position": null,
            "object_fit": null,
            "grid_auto_columns": null,
            "margin": null,
            "display": null,
            "left": null
          }
        },
        "e6292bd2f66245a8ac594cef7e30c278": {
          "model_module": "@jupyter-widgets/controls",
          "model_name": "ProgressStyleModel",
          "model_module_version": "1.5.0",
          "state": {
            "_view_name": "StyleView",
            "_model_name": "ProgressStyleModel",
            "description_width": "",
            "_view_module": "@jupyter-widgets/base",
            "_model_module_version": "1.5.0",
            "_view_count": null,
            "_view_module_version": "1.2.0",
            "bar_color": null,
            "_model_module": "@jupyter-widgets/controls"
          }
        },
        "21463e984fd0443691e0e78a7c08dc29": {
          "model_module": "@jupyter-widgets/base",
          "model_name": "LayoutModel",
          "model_module_version": "1.2.0",
          "state": {
            "_view_name": "LayoutView",
            "grid_template_rows": null,
            "right": null,
            "justify_content": null,
            "_view_module": "@jupyter-widgets/base",
            "overflow": null,
            "_model_module_version": "1.2.0",
            "_view_count": null,
            "flex_flow": null,
            "width": null,
            "min_width": null,
            "border": null,
            "align_items": null,
            "bottom": null,
            "_model_module": "@jupyter-widgets/base",
            "top": null,
            "grid_column": null,
            "overflow_y": null,
            "overflow_x": null,
            "grid_auto_flow": null,
            "grid_area": null,
            "grid_template_columns": null,
            "flex": null,
            "_model_name": "LayoutModel",
            "justify_items": null,
            "grid_row": null,
            "max_height": null,
            "align_content": null,
            "visibility": null,
            "align_self": null,
            "height": null,
            "min_height": null,
            "padding": null,
            "grid_auto_rows": null,
            "grid_gap": null,
            "max_width": null,
            "order": null,
            "_view_module_version": "1.2.0",
            "grid_template_areas": null,
            "object_position": null,
            "object_fit": null,
            "grid_auto_columns": null,
            "margin": null,
            "display": null,
            "left": null
          }
        },
        "3781b3b909104c5c9e89b2f5aaeae0ba": {
          "model_module": "@jupyter-widgets/controls",
          "model_name": "VBoxModel",
          "model_module_version": "1.5.0",
          "state": {
            "_view_name": "VBoxView",
            "_dom_classes": [],
            "_model_name": "VBoxModel",
            "_view_module": "@jupyter-widgets/controls",
            "_model_module_version": "1.5.0",
            "_view_count": null,
            "_view_module_version": "1.5.0",
            "box_style": "",
            "layout": "IPY_MODEL_3cbc4363aede42ce873d9502f9fc5d65",
            "_model_module": "@jupyter-widgets/controls",
            "children": [
              "IPY_MODEL_cbeb61129d75429daabd89c86d2dfeab",
              "IPY_MODEL_9ce0659ba4754066916fe24d008daac6"
            ]
          }
        },
        "3cbc4363aede42ce873d9502f9fc5d65": {
          "model_module": "@jupyter-widgets/base",
          "model_name": "LayoutModel",
          "model_module_version": "1.2.0",
          "state": {
            "_view_name": "LayoutView",
            "grid_template_rows": null,
            "right": null,
            "justify_content": null,
            "_view_module": "@jupyter-widgets/base",
            "overflow": null,
            "_model_module_version": "1.2.0",
            "_view_count": null,
            "flex_flow": null,
            "width": null,
            "min_width": null,
            "border": null,
            "align_items": null,
            "bottom": null,
            "_model_module": "@jupyter-widgets/base",
            "top": null,
            "grid_column": null,
            "overflow_y": null,
            "overflow_x": null,
            "grid_auto_flow": null,
            "grid_area": null,
            "grid_template_columns": null,
            "flex": null,
            "_model_name": "LayoutModel",
            "justify_items": null,
            "grid_row": null,
            "max_height": null,
            "align_content": null,
            "visibility": null,
            "align_self": null,
            "height": null,
            "min_height": null,
            "padding": null,
            "grid_auto_rows": null,
            "grid_gap": null,
            "max_width": null,
            "order": null,
            "_view_module_version": "1.2.0",
            "grid_template_areas": null,
            "object_position": null,
            "object_fit": null,
            "grid_auto_columns": null,
            "margin": null,
            "display": null,
            "left": null
          }
        },
        "cbeb61129d75429daabd89c86d2dfeab": {
          "model_module": "@jupyter-widgets/controls",
          "model_name": "LabelModel",
          "model_module_version": "1.5.0",
          "state": {
            "_view_name": "LabelView",
            "style": "IPY_MODEL_db795aaf110e43fe9e40b460dabcc808",
            "_dom_classes": [],
            "description": "",
            "_model_name": "LabelModel",
            "placeholder": "​",
            "_view_module": "@jupyter-widgets/controls",
            "_model_module_version": "1.5.0",
            "value": " 0.02MB of 0.02MB uploaded (0.00MB deduped)\r",
            "_view_count": null,
            "_view_module_version": "1.5.0",
            "description_tooltip": null,
            "_model_module": "@jupyter-widgets/controls",
            "layout": "IPY_MODEL_e26c5a19ee414e31bb26807f6f9704d4"
          }
        },
        "9ce0659ba4754066916fe24d008daac6": {
          "model_module": "@jupyter-widgets/controls",
          "model_name": "FloatProgressModel",
          "model_module_version": "1.5.0",
          "state": {
            "_view_name": "ProgressView",
            "style": "IPY_MODEL_70a8b54d2a8e4ff189184665a6562225",
            "_dom_classes": [],
            "description": "",
            "_model_name": "FloatProgressModel",
            "bar_style": "",
            "max": 1,
            "_view_module": "@jupyter-widgets/controls",
            "_model_module_version": "1.5.0",
            "value": 1,
            "_view_count": null,
            "_view_module_version": "1.5.0",
            "orientation": "horizontal",
            "min": 0,
            "description_tooltip": null,
            "_model_module": "@jupyter-widgets/controls",
            "layout": "IPY_MODEL_6fd81edae3974eccbb513cd931f0d791"
          }
        },
        "db795aaf110e43fe9e40b460dabcc808": {
          "model_module": "@jupyter-widgets/controls",
          "model_name": "DescriptionStyleModel",
          "model_module_version": "1.5.0",
          "state": {
            "_view_name": "StyleView",
            "_model_name": "DescriptionStyleModel",
            "description_width": "",
            "_view_module": "@jupyter-widgets/base",
            "_model_module_version": "1.5.0",
            "_view_count": null,
            "_view_module_version": "1.2.0",
            "_model_module": "@jupyter-widgets/controls"
          }
        },
        "e26c5a19ee414e31bb26807f6f9704d4": {
          "model_module": "@jupyter-widgets/base",
          "model_name": "LayoutModel",
          "model_module_version": "1.2.0",
          "state": {
            "_view_name": "LayoutView",
            "grid_template_rows": null,
            "right": null,
            "justify_content": null,
            "_view_module": "@jupyter-widgets/base",
            "overflow": null,
            "_model_module_version": "1.2.0",
            "_view_count": null,
            "flex_flow": null,
            "width": null,
            "min_width": null,
            "border": null,
            "align_items": null,
            "bottom": null,
            "_model_module": "@jupyter-widgets/base",
            "top": null,
            "grid_column": null,
            "overflow_y": null,
            "overflow_x": null,
            "grid_auto_flow": null,
            "grid_area": null,
            "grid_template_columns": null,
            "flex": null,
            "_model_name": "LayoutModel",
            "justify_items": null,
            "grid_row": null,
            "max_height": null,
            "align_content": null,
            "visibility": null,
            "align_self": null,
            "height": null,
            "min_height": null,
            "padding": null,
            "grid_auto_rows": null,
            "grid_gap": null,
            "max_width": null,
            "order": null,
            "_view_module_version": "1.2.0",
            "grid_template_areas": null,
            "object_position": null,
            "object_fit": null,
            "grid_auto_columns": null,
            "margin": null,
            "display": null,
            "left": null
          }
        },
        "70a8b54d2a8e4ff189184665a6562225": {
          "model_module": "@jupyter-widgets/controls",
          "model_name": "ProgressStyleModel",
          "model_module_version": "1.5.0",
          "state": {
            "_view_name": "StyleView",
            "_model_name": "ProgressStyleModel",
            "description_width": "",
            "_view_module": "@jupyter-widgets/base",
            "_model_module_version": "1.5.0",
            "_view_count": null,
            "_view_module_version": "1.2.0",
            "bar_color": null,
            "_model_module": "@jupyter-widgets/controls"
          }
        },
        "6fd81edae3974eccbb513cd931f0d791": {
          "model_module": "@jupyter-widgets/base",
          "model_name": "LayoutModel",
          "model_module_version": "1.2.0",
          "state": {
            "_view_name": "LayoutView",
            "grid_template_rows": null,
            "right": null,
            "justify_content": null,
            "_view_module": "@jupyter-widgets/base",
            "overflow": null,
            "_model_module_version": "1.2.0",
            "_view_count": null,
            "flex_flow": null,
            "width": null,
            "min_width": null,
            "border": null,
            "align_items": null,
            "bottom": null,
            "_model_module": "@jupyter-widgets/base",
            "top": null,
            "grid_column": null,
            "overflow_y": null,
            "overflow_x": null,
            "grid_auto_flow": null,
            "grid_area": null,
            "grid_template_columns": null,
            "flex": null,
            "_model_name": "LayoutModel",
            "justify_items": null,
            "grid_row": null,
            "max_height": null,
            "align_content": null,
            "visibility": null,
            "align_self": null,
            "height": null,
            "min_height": null,
            "padding": null,
            "grid_auto_rows": null,
            "grid_gap": null,
            "max_width": null,
            "order": null,
            "_view_module_version": "1.2.0",
            "grid_template_areas": null,
            "object_position": null,
            "object_fit": null,
            "grid_auto_columns": null,
            "margin": null,
            "display": null,
            "left": null
          }
        },
        "5094cfb8807546bb9fd06df23a94c25e": {
          "model_module": "@jupyter-widgets/controls",
          "model_name": "VBoxModel",
          "model_module_version": "1.5.0",
          "state": {
            "_view_name": "VBoxView",
            "_dom_classes": [],
            "_model_name": "VBoxModel",
            "_view_module": "@jupyter-widgets/controls",
            "_model_module_version": "1.5.0",
            "_view_count": null,
            "_view_module_version": "1.5.0",
            "box_style": "",
            "layout": "IPY_MODEL_4b3b79cf621c49469385fc5ed0a80c9f",
            "_model_module": "@jupyter-widgets/controls",
            "children": [
              "IPY_MODEL_0956904da3734b3fbafd7956ee821c61",
              "IPY_MODEL_1f22ddea63814d069a81e37d511aaa15"
            ]
          }
        },
        "4b3b79cf621c49469385fc5ed0a80c9f": {
          "model_module": "@jupyter-widgets/base",
          "model_name": "LayoutModel",
          "model_module_version": "1.2.0",
          "state": {
            "_view_name": "LayoutView",
            "grid_template_rows": null,
            "right": null,
            "justify_content": null,
            "_view_module": "@jupyter-widgets/base",
            "overflow": null,
            "_model_module_version": "1.2.0",
            "_view_count": null,
            "flex_flow": null,
            "width": null,
            "min_width": null,
            "border": null,
            "align_items": null,
            "bottom": null,
            "_model_module": "@jupyter-widgets/base",
            "top": null,
            "grid_column": null,
            "overflow_y": null,
            "overflow_x": null,
            "grid_auto_flow": null,
            "grid_area": null,
            "grid_template_columns": null,
            "flex": null,
            "_model_name": "LayoutModel",
            "justify_items": null,
            "grid_row": null,
            "max_height": null,
            "align_content": null,
            "visibility": null,
            "align_self": null,
            "height": null,
            "min_height": null,
            "padding": null,
            "grid_auto_rows": null,
            "grid_gap": null,
            "max_width": null,
            "order": null,
            "_view_module_version": "1.2.0",
            "grid_template_areas": null,
            "object_position": null,
            "object_fit": null,
            "grid_auto_columns": null,
            "margin": null,
            "display": null,
            "left": null
          }
        },
        "0956904da3734b3fbafd7956ee821c61": {
          "model_module": "@jupyter-widgets/controls",
          "model_name": "LabelModel",
          "model_module_version": "1.5.0",
          "state": {
            "_view_name": "LabelView",
            "style": "IPY_MODEL_df806234e2394d17ba535134982e8a75",
            "_dom_classes": [],
            "description": "",
            "_model_name": "LabelModel",
            "placeholder": "​",
            "_view_module": "@jupyter-widgets/controls",
            "_model_module_version": "1.5.0",
            "value": " 0.02MB of 0.02MB uploaded (0.00MB deduped)\r",
            "_view_count": null,
            "_view_module_version": "1.5.0",
            "description_tooltip": null,
            "_model_module": "@jupyter-widgets/controls",
            "layout": "IPY_MODEL_c1667954cff94b6a8ee2cb6f568b5c18"
          }
        },
        "1f22ddea63814d069a81e37d511aaa15": {
          "model_module": "@jupyter-widgets/controls",
          "model_name": "FloatProgressModel",
          "model_module_version": "1.5.0",
          "state": {
            "_view_name": "ProgressView",
            "style": "IPY_MODEL_2edddae21aad4ac7ab6180d62671e692",
            "_dom_classes": [],
            "description": "",
            "_model_name": "FloatProgressModel",
            "bar_style": "",
            "max": 1,
            "_view_module": "@jupyter-widgets/controls",
            "_model_module_version": "1.5.0",
            "value": 1,
            "_view_count": null,
            "_view_module_version": "1.5.0",
            "orientation": "horizontal",
            "min": 0,
            "description_tooltip": null,
            "_model_module": "@jupyter-widgets/controls",
            "layout": "IPY_MODEL_dc0b2aa1461d4ebaa7c7d934955c486c"
          }
        },
        "df806234e2394d17ba535134982e8a75": {
          "model_module": "@jupyter-widgets/controls",
          "model_name": "DescriptionStyleModel",
          "model_module_version": "1.5.0",
          "state": {
            "_view_name": "StyleView",
            "_model_name": "DescriptionStyleModel",
            "description_width": "",
            "_view_module": "@jupyter-widgets/base",
            "_model_module_version": "1.5.0",
            "_view_count": null,
            "_view_module_version": "1.2.0",
            "_model_module": "@jupyter-widgets/controls"
          }
        },
        "c1667954cff94b6a8ee2cb6f568b5c18": {
          "model_module": "@jupyter-widgets/base",
          "model_name": "LayoutModel",
          "model_module_version": "1.2.0",
          "state": {
            "_view_name": "LayoutView",
            "grid_template_rows": null,
            "right": null,
            "justify_content": null,
            "_view_module": "@jupyter-widgets/base",
            "overflow": null,
            "_model_module_version": "1.2.0",
            "_view_count": null,
            "flex_flow": null,
            "width": null,
            "min_width": null,
            "border": null,
            "align_items": null,
            "bottom": null,
            "_model_module": "@jupyter-widgets/base",
            "top": null,
            "grid_column": null,
            "overflow_y": null,
            "overflow_x": null,
            "grid_auto_flow": null,
            "grid_area": null,
            "grid_template_columns": null,
            "flex": null,
            "_model_name": "LayoutModel",
            "justify_items": null,
            "grid_row": null,
            "max_height": null,
            "align_content": null,
            "visibility": null,
            "align_self": null,
            "height": null,
            "min_height": null,
            "padding": null,
            "grid_auto_rows": null,
            "grid_gap": null,
            "max_width": null,
            "order": null,
            "_view_module_version": "1.2.0",
            "grid_template_areas": null,
            "object_position": null,
            "object_fit": null,
            "grid_auto_columns": null,
            "margin": null,
            "display": null,
            "left": null
          }
        },
        "2edddae21aad4ac7ab6180d62671e692": {
          "model_module": "@jupyter-widgets/controls",
          "model_name": "ProgressStyleModel",
          "model_module_version": "1.5.0",
          "state": {
            "_view_name": "StyleView",
            "_model_name": "ProgressStyleModel",
            "description_width": "",
            "_view_module": "@jupyter-widgets/base",
            "_model_module_version": "1.5.0",
            "_view_count": null,
            "_view_module_version": "1.2.0",
            "bar_color": null,
            "_model_module": "@jupyter-widgets/controls"
          }
        },
        "dc0b2aa1461d4ebaa7c7d934955c486c": {
          "model_module": "@jupyter-widgets/base",
          "model_name": "LayoutModel",
          "model_module_version": "1.2.0",
          "state": {
            "_view_name": "LayoutView",
            "grid_template_rows": null,
            "right": null,
            "justify_content": null,
            "_view_module": "@jupyter-widgets/base",
            "overflow": null,
            "_model_module_version": "1.2.0",
            "_view_count": null,
            "flex_flow": null,
            "width": null,
            "min_width": null,
            "border": null,
            "align_items": null,
            "bottom": null,
            "_model_module": "@jupyter-widgets/base",
            "top": null,
            "grid_column": null,
            "overflow_y": null,
            "overflow_x": null,
            "grid_auto_flow": null,
            "grid_area": null,
            "grid_template_columns": null,
            "flex": null,
            "_model_name": "LayoutModel",
            "justify_items": null,
            "grid_row": null,
            "max_height": null,
            "align_content": null,
            "visibility": null,
            "align_self": null,
            "height": null,
            "min_height": null,
            "padding": null,
            "grid_auto_rows": null,
            "grid_gap": null,
            "max_width": null,
            "order": null,
            "_view_module_version": "1.2.0",
            "grid_template_areas": null,
            "object_position": null,
            "object_fit": null,
            "grid_auto_columns": null,
            "margin": null,
            "display": null,
            "left": null
          }
        },
        "53594d6c985541cca4e2f00ef5ac1981": {
          "model_module": "@jupyter-widgets/controls",
          "model_name": "VBoxModel",
          "model_module_version": "1.5.0",
          "state": {
            "_view_name": "VBoxView",
            "_dom_classes": [],
            "_model_name": "VBoxModel",
            "_view_module": "@jupyter-widgets/controls",
            "_model_module_version": "1.5.0",
            "_view_count": null,
            "_view_module_version": "1.5.0",
            "box_style": "",
            "layout": "IPY_MODEL_c26cb3b409164db4b529e31055ea36de",
            "_model_module": "@jupyter-widgets/controls",
            "children": [
              "IPY_MODEL_60ea230f985b408bb7e87d6d5d40645d",
              "IPY_MODEL_4ef91ea5785841a78b07fca7d03d269c"
            ]
          }
        },
        "c26cb3b409164db4b529e31055ea36de": {
          "model_module": "@jupyter-widgets/base",
          "model_name": "LayoutModel",
          "model_module_version": "1.2.0",
          "state": {
            "_view_name": "LayoutView",
            "grid_template_rows": null,
            "right": null,
            "justify_content": null,
            "_view_module": "@jupyter-widgets/base",
            "overflow": null,
            "_model_module_version": "1.2.0",
            "_view_count": null,
            "flex_flow": null,
            "width": null,
            "min_width": null,
            "border": null,
            "align_items": null,
            "bottom": null,
            "_model_module": "@jupyter-widgets/base",
            "top": null,
            "grid_column": null,
            "overflow_y": null,
            "overflow_x": null,
            "grid_auto_flow": null,
            "grid_area": null,
            "grid_template_columns": null,
            "flex": null,
            "_model_name": "LayoutModel",
            "justify_items": null,
            "grid_row": null,
            "max_height": null,
            "align_content": null,
            "visibility": null,
            "align_self": null,
            "height": null,
            "min_height": null,
            "padding": null,
            "grid_auto_rows": null,
            "grid_gap": null,
            "max_width": null,
            "order": null,
            "_view_module_version": "1.2.0",
            "grid_template_areas": null,
            "object_position": null,
            "object_fit": null,
            "grid_auto_columns": null,
            "margin": null,
            "display": null,
            "left": null
          }
        },
        "60ea230f985b408bb7e87d6d5d40645d": {
          "model_module": "@jupyter-widgets/controls",
          "model_name": "LabelModel",
          "model_module_version": "1.5.0",
          "state": {
            "_view_name": "LabelView",
            "style": "IPY_MODEL_660478bf725244bebb29ee67de6cb9ce",
            "_dom_classes": [],
            "description": "",
            "_model_name": "LabelModel",
            "placeholder": "​",
            "_view_module": "@jupyter-widgets/controls",
            "_model_module_version": "1.5.0",
            "value": " 0.02MB of 0.02MB uploaded (0.00MB deduped)\r",
            "_view_count": null,
            "_view_module_version": "1.5.0",
            "description_tooltip": null,
            "_model_module": "@jupyter-widgets/controls",
            "layout": "IPY_MODEL_ed2450c6420d437cafbbbd464dc870af"
          }
        },
        "4ef91ea5785841a78b07fca7d03d269c": {
          "model_module": "@jupyter-widgets/controls",
          "model_name": "FloatProgressModel",
          "model_module_version": "1.5.0",
          "state": {
            "_view_name": "ProgressView",
            "style": "IPY_MODEL_7edb456ced1642f3bae192e15dd62b79",
            "_dom_classes": [],
            "description": "",
            "_model_name": "FloatProgressModel",
            "bar_style": "",
            "max": 1,
            "_view_module": "@jupyter-widgets/controls",
            "_model_module_version": "1.5.0",
            "value": 1,
            "_view_count": null,
            "_view_module_version": "1.5.0",
            "orientation": "horizontal",
            "min": 0,
            "description_tooltip": null,
            "_model_module": "@jupyter-widgets/controls",
            "layout": "IPY_MODEL_28f2fd26834a496e8344f6534793db51"
          }
        },
        "660478bf725244bebb29ee67de6cb9ce": {
          "model_module": "@jupyter-widgets/controls",
          "model_name": "DescriptionStyleModel",
          "model_module_version": "1.5.0",
          "state": {
            "_view_name": "StyleView",
            "_model_name": "DescriptionStyleModel",
            "description_width": "",
            "_view_module": "@jupyter-widgets/base",
            "_model_module_version": "1.5.0",
            "_view_count": null,
            "_view_module_version": "1.2.0",
            "_model_module": "@jupyter-widgets/controls"
          }
        },
        "ed2450c6420d437cafbbbd464dc870af": {
          "model_module": "@jupyter-widgets/base",
          "model_name": "LayoutModel",
          "model_module_version": "1.2.0",
          "state": {
            "_view_name": "LayoutView",
            "grid_template_rows": null,
            "right": null,
            "justify_content": null,
            "_view_module": "@jupyter-widgets/base",
            "overflow": null,
            "_model_module_version": "1.2.0",
            "_view_count": null,
            "flex_flow": null,
            "width": null,
            "min_width": null,
            "border": null,
            "align_items": null,
            "bottom": null,
            "_model_module": "@jupyter-widgets/base",
            "top": null,
            "grid_column": null,
            "overflow_y": null,
            "overflow_x": null,
            "grid_auto_flow": null,
            "grid_area": null,
            "grid_template_columns": null,
            "flex": null,
            "_model_name": "LayoutModel",
            "justify_items": null,
            "grid_row": null,
            "max_height": null,
            "align_content": null,
            "visibility": null,
            "align_self": null,
            "height": null,
            "min_height": null,
            "padding": null,
            "grid_auto_rows": null,
            "grid_gap": null,
            "max_width": null,
            "order": null,
            "_view_module_version": "1.2.0",
            "grid_template_areas": null,
            "object_position": null,
            "object_fit": null,
            "grid_auto_columns": null,
            "margin": null,
            "display": null,
            "left": null
          }
        },
        "7edb456ced1642f3bae192e15dd62b79": {
          "model_module": "@jupyter-widgets/controls",
          "model_name": "ProgressStyleModel",
          "model_module_version": "1.5.0",
          "state": {
            "_view_name": "StyleView",
            "_model_name": "ProgressStyleModel",
            "description_width": "",
            "_view_module": "@jupyter-widgets/base",
            "_model_module_version": "1.5.0",
            "_view_count": null,
            "_view_module_version": "1.2.0",
            "bar_color": null,
            "_model_module": "@jupyter-widgets/controls"
          }
        },
        "28f2fd26834a496e8344f6534793db51": {
          "model_module": "@jupyter-widgets/base",
          "model_name": "LayoutModel",
          "model_module_version": "1.2.0",
          "state": {
            "_view_name": "LayoutView",
            "grid_template_rows": null,
            "right": null,
            "justify_content": null,
            "_view_module": "@jupyter-widgets/base",
            "overflow": null,
            "_model_module_version": "1.2.0",
            "_view_count": null,
            "flex_flow": null,
            "width": null,
            "min_width": null,
            "border": null,
            "align_items": null,
            "bottom": null,
            "_model_module": "@jupyter-widgets/base",
            "top": null,
            "grid_column": null,
            "overflow_y": null,
            "overflow_x": null,
            "grid_auto_flow": null,
            "grid_area": null,
            "grid_template_columns": null,
            "flex": null,
            "_model_name": "LayoutModel",
            "justify_items": null,
            "grid_row": null,
            "max_height": null,
            "align_content": null,
            "visibility": null,
            "align_self": null,
            "height": null,
            "min_height": null,
            "padding": null,
            "grid_auto_rows": null,
            "grid_gap": null,
            "max_width": null,
            "order": null,
            "_view_module_version": "1.2.0",
            "grid_template_areas": null,
            "object_position": null,
            "object_fit": null,
            "grid_auto_columns": null,
            "margin": null,
            "display": null,
            "left": null
          }
        },
        "d724e1b331cd420ab6a4c62fa34a5361": {
          "model_module": "@jupyter-widgets/controls",
          "model_name": "VBoxModel",
          "model_module_version": "1.5.0",
          "state": {
            "_view_name": "VBoxView",
            "_dom_classes": [],
            "_model_name": "VBoxModel",
            "_view_module": "@jupyter-widgets/controls",
            "_model_module_version": "1.5.0",
            "_view_count": null,
            "_view_module_version": "1.5.0",
            "box_style": "",
            "layout": "IPY_MODEL_6cd78c7d8e2d4152b5f114ac5d7038a8",
            "_model_module": "@jupyter-widgets/controls",
            "children": [
              "IPY_MODEL_d51df0c6142842e380bad1a8843ba1a3",
              "IPY_MODEL_d1fbdc5512f14f2c9b3df7e845b50eb3"
            ]
          }
        },
        "6cd78c7d8e2d4152b5f114ac5d7038a8": {
          "model_module": "@jupyter-widgets/base",
          "model_name": "LayoutModel",
          "model_module_version": "1.2.0",
          "state": {
            "_view_name": "LayoutView",
            "grid_template_rows": null,
            "right": null,
            "justify_content": null,
            "_view_module": "@jupyter-widgets/base",
            "overflow": null,
            "_model_module_version": "1.2.0",
            "_view_count": null,
            "flex_flow": null,
            "width": null,
            "min_width": null,
            "border": null,
            "align_items": null,
            "bottom": null,
            "_model_module": "@jupyter-widgets/base",
            "top": null,
            "grid_column": null,
            "overflow_y": null,
            "overflow_x": null,
            "grid_auto_flow": null,
            "grid_area": null,
            "grid_template_columns": null,
            "flex": null,
            "_model_name": "LayoutModel",
            "justify_items": null,
            "grid_row": null,
            "max_height": null,
            "align_content": null,
            "visibility": null,
            "align_self": null,
            "height": null,
            "min_height": null,
            "padding": null,
            "grid_auto_rows": null,
            "grid_gap": null,
            "max_width": null,
            "order": null,
            "_view_module_version": "1.2.0",
            "grid_template_areas": null,
            "object_position": null,
            "object_fit": null,
            "grid_auto_columns": null,
            "margin": null,
            "display": null,
            "left": null
          }
        },
        "d51df0c6142842e380bad1a8843ba1a3": {
          "model_module": "@jupyter-widgets/controls",
          "model_name": "LabelModel",
          "model_module_version": "1.5.0",
          "state": {
            "_view_name": "LabelView",
            "style": "IPY_MODEL_ae5282a16acd45d19bd4cd1453e25512",
            "_dom_classes": [],
            "description": "",
            "_model_name": "LabelModel",
            "placeholder": "​",
            "_view_module": "@jupyter-widgets/controls",
            "_model_module_version": "1.5.0",
            "value": " 0.02MB of 0.02MB uploaded (0.00MB deduped)\r",
            "_view_count": null,
            "_view_module_version": "1.5.0",
            "description_tooltip": null,
            "_model_module": "@jupyter-widgets/controls",
            "layout": "IPY_MODEL_9b6da2196b9a4e60a7bc6c4462d3b5f0"
          }
        },
        "d1fbdc5512f14f2c9b3df7e845b50eb3": {
          "model_module": "@jupyter-widgets/controls",
          "model_name": "FloatProgressModel",
          "model_module_version": "1.5.0",
          "state": {
            "_view_name": "ProgressView",
            "style": "IPY_MODEL_b272d3fab3864165bd906e37dcc0918e",
            "_dom_classes": [],
            "description": "",
            "_model_name": "FloatProgressModel",
            "bar_style": "",
            "max": 1,
            "_view_module": "@jupyter-widgets/controls",
            "_model_module_version": "1.5.0",
            "value": 1,
            "_view_count": null,
            "_view_module_version": "1.5.0",
            "orientation": "horizontal",
            "min": 0,
            "description_tooltip": null,
            "_model_module": "@jupyter-widgets/controls",
            "layout": "IPY_MODEL_61d6cb71021943dfa1044af803f3d39e"
          }
        },
        "ae5282a16acd45d19bd4cd1453e25512": {
          "model_module": "@jupyter-widgets/controls",
          "model_name": "DescriptionStyleModel",
          "model_module_version": "1.5.0",
          "state": {
            "_view_name": "StyleView",
            "_model_name": "DescriptionStyleModel",
            "description_width": "",
            "_view_module": "@jupyter-widgets/base",
            "_model_module_version": "1.5.0",
            "_view_count": null,
            "_view_module_version": "1.2.0",
            "_model_module": "@jupyter-widgets/controls"
          }
        },
        "9b6da2196b9a4e60a7bc6c4462d3b5f0": {
          "model_module": "@jupyter-widgets/base",
          "model_name": "LayoutModel",
          "model_module_version": "1.2.0",
          "state": {
            "_view_name": "LayoutView",
            "grid_template_rows": null,
            "right": null,
            "justify_content": null,
            "_view_module": "@jupyter-widgets/base",
            "overflow": null,
            "_model_module_version": "1.2.0",
            "_view_count": null,
            "flex_flow": null,
            "width": null,
            "min_width": null,
            "border": null,
            "align_items": null,
            "bottom": null,
            "_model_module": "@jupyter-widgets/base",
            "top": null,
            "grid_column": null,
            "overflow_y": null,
            "overflow_x": null,
            "grid_auto_flow": null,
            "grid_area": null,
            "grid_template_columns": null,
            "flex": null,
            "_model_name": "LayoutModel",
            "justify_items": null,
            "grid_row": null,
            "max_height": null,
            "align_content": null,
            "visibility": null,
            "align_self": null,
            "height": null,
            "min_height": null,
            "padding": null,
            "grid_auto_rows": null,
            "grid_gap": null,
            "max_width": null,
            "order": null,
            "_view_module_version": "1.2.0",
            "grid_template_areas": null,
            "object_position": null,
            "object_fit": null,
            "grid_auto_columns": null,
            "margin": null,
            "display": null,
            "left": null
          }
        },
        "b272d3fab3864165bd906e37dcc0918e": {
          "model_module": "@jupyter-widgets/controls",
          "model_name": "ProgressStyleModel",
          "model_module_version": "1.5.0",
          "state": {
            "_view_name": "StyleView",
            "_model_name": "ProgressStyleModel",
            "description_width": "",
            "_view_module": "@jupyter-widgets/base",
            "_model_module_version": "1.5.0",
            "_view_count": null,
            "_view_module_version": "1.2.0",
            "bar_color": null,
            "_model_module": "@jupyter-widgets/controls"
          }
        },
        "61d6cb71021943dfa1044af803f3d39e": {
          "model_module": "@jupyter-widgets/base",
          "model_name": "LayoutModel",
          "model_module_version": "1.2.0",
          "state": {
            "_view_name": "LayoutView",
            "grid_template_rows": null,
            "right": null,
            "justify_content": null,
            "_view_module": "@jupyter-widgets/base",
            "overflow": null,
            "_model_module_version": "1.2.0",
            "_view_count": null,
            "flex_flow": null,
            "width": null,
            "min_width": null,
            "border": null,
            "align_items": null,
            "bottom": null,
            "_model_module": "@jupyter-widgets/base",
            "top": null,
            "grid_column": null,
            "overflow_y": null,
            "overflow_x": null,
            "grid_auto_flow": null,
            "grid_area": null,
            "grid_template_columns": null,
            "flex": null,
            "_model_name": "LayoutModel",
            "justify_items": null,
            "grid_row": null,
            "max_height": null,
            "align_content": null,
            "visibility": null,
            "align_self": null,
            "height": null,
            "min_height": null,
            "padding": null,
            "grid_auto_rows": null,
            "grid_gap": null,
            "max_width": null,
            "order": null,
            "_view_module_version": "1.2.0",
            "grid_template_areas": null,
            "object_position": null,
            "object_fit": null,
            "grid_auto_columns": null,
            "margin": null,
            "display": null,
            "left": null
          }
        },
        "0ea16cc4505c41cf90f70d584f0abfb9": {
          "model_module": "@jupyter-widgets/controls",
          "model_name": "VBoxModel",
          "model_module_version": "1.5.0",
          "state": {
            "_view_name": "VBoxView",
            "_dom_classes": [],
            "_model_name": "VBoxModel",
            "_view_module": "@jupyter-widgets/controls",
            "_model_module_version": "1.5.0",
            "_view_count": null,
            "_view_module_version": "1.5.0",
            "box_style": "",
            "layout": "IPY_MODEL_a59c42ba0737400fb8eb5726e75772cb",
            "_model_module": "@jupyter-widgets/controls",
            "children": [
              "IPY_MODEL_e68c12873c00436899903e136efb1a9b",
              "IPY_MODEL_3292ba48b8cb428ea9947ff87dc1a1ef"
            ]
          }
        },
        "a59c42ba0737400fb8eb5726e75772cb": {
          "model_module": "@jupyter-widgets/base",
          "model_name": "LayoutModel",
          "model_module_version": "1.2.0",
          "state": {
            "_view_name": "LayoutView",
            "grid_template_rows": null,
            "right": null,
            "justify_content": null,
            "_view_module": "@jupyter-widgets/base",
            "overflow": null,
            "_model_module_version": "1.2.0",
            "_view_count": null,
            "flex_flow": null,
            "width": null,
            "min_width": null,
            "border": null,
            "align_items": null,
            "bottom": null,
            "_model_module": "@jupyter-widgets/base",
            "top": null,
            "grid_column": null,
            "overflow_y": null,
            "overflow_x": null,
            "grid_auto_flow": null,
            "grid_area": null,
            "grid_template_columns": null,
            "flex": null,
            "_model_name": "LayoutModel",
            "justify_items": null,
            "grid_row": null,
            "max_height": null,
            "align_content": null,
            "visibility": null,
            "align_self": null,
            "height": null,
            "min_height": null,
            "padding": null,
            "grid_auto_rows": null,
            "grid_gap": null,
            "max_width": null,
            "order": null,
            "_view_module_version": "1.2.0",
            "grid_template_areas": null,
            "object_position": null,
            "object_fit": null,
            "grid_auto_columns": null,
            "margin": null,
            "display": null,
            "left": null
          }
        },
        "e68c12873c00436899903e136efb1a9b": {
          "model_module": "@jupyter-widgets/controls",
          "model_name": "LabelModel",
          "model_module_version": "1.5.0",
          "state": {
            "_view_name": "LabelView",
            "style": "IPY_MODEL_1188502dc1af4b3ba0f0c78ae1b0ac1b",
            "_dom_classes": [],
            "description": "",
            "_model_name": "LabelModel",
            "placeholder": "​",
            "_view_module": "@jupyter-widgets/controls",
            "_model_module_version": "1.5.0",
            "value": " 0.02MB of 0.02MB uploaded (0.00MB deduped)\r",
            "_view_count": null,
            "_view_module_version": "1.5.0",
            "description_tooltip": null,
            "_model_module": "@jupyter-widgets/controls",
            "layout": "IPY_MODEL_501ae402641b4c478f501e565e65d184"
          }
        },
        "3292ba48b8cb428ea9947ff87dc1a1ef": {
          "model_module": "@jupyter-widgets/controls",
          "model_name": "FloatProgressModel",
          "model_module_version": "1.5.0",
          "state": {
            "_view_name": "ProgressView",
            "style": "IPY_MODEL_6457b616bd3d474e8083dd51e170ff1f",
            "_dom_classes": [],
            "description": "",
            "_model_name": "FloatProgressModel",
            "bar_style": "",
            "max": 1,
            "_view_module": "@jupyter-widgets/controls",
            "_model_module_version": "1.5.0",
            "value": 1,
            "_view_count": null,
            "_view_module_version": "1.5.0",
            "orientation": "horizontal",
            "min": 0,
            "description_tooltip": null,
            "_model_module": "@jupyter-widgets/controls",
            "layout": "IPY_MODEL_f9a85e8f5a1b4b518689d027cca13fcc"
          }
        },
        "1188502dc1af4b3ba0f0c78ae1b0ac1b": {
          "model_module": "@jupyter-widgets/controls",
          "model_name": "DescriptionStyleModel",
          "model_module_version": "1.5.0",
          "state": {
            "_view_name": "StyleView",
            "_model_name": "DescriptionStyleModel",
            "description_width": "",
            "_view_module": "@jupyter-widgets/base",
            "_model_module_version": "1.5.0",
            "_view_count": null,
            "_view_module_version": "1.2.0",
            "_model_module": "@jupyter-widgets/controls"
          }
        },
        "501ae402641b4c478f501e565e65d184": {
          "model_module": "@jupyter-widgets/base",
          "model_name": "LayoutModel",
          "model_module_version": "1.2.0",
          "state": {
            "_view_name": "LayoutView",
            "grid_template_rows": null,
            "right": null,
            "justify_content": null,
            "_view_module": "@jupyter-widgets/base",
            "overflow": null,
            "_model_module_version": "1.2.0",
            "_view_count": null,
            "flex_flow": null,
            "width": null,
            "min_width": null,
            "border": null,
            "align_items": null,
            "bottom": null,
            "_model_module": "@jupyter-widgets/base",
            "top": null,
            "grid_column": null,
            "overflow_y": null,
            "overflow_x": null,
            "grid_auto_flow": null,
            "grid_area": null,
            "grid_template_columns": null,
            "flex": null,
            "_model_name": "LayoutModel",
            "justify_items": null,
            "grid_row": null,
            "max_height": null,
            "align_content": null,
            "visibility": null,
            "align_self": null,
            "height": null,
            "min_height": null,
            "padding": null,
            "grid_auto_rows": null,
            "grid_gap": null,
            "max_width": null,
            "order": null,
            "_view_module_version": "1.2.0",
            "grid_template_areas": null,
            "object_position": null,
            "object_fit": null,
            "grid_auto_columns": null,
            "margin": null,
            "display": null,
            "left": null
          }
        },
        "6457b616bd3d474e8083dd51e170ff1f": {
          "model_module": "@jupyter-widgets/controls",
          "model_name": "ProgressStyleModel",
          "model_module_version": "1.5.0",
          "state": {
            "_view_name": "StyleView",
            "_model_name": "ProgressStyleModel",
            "description_width": "",
            "_view_module": "@jupyter-widgets/base",
            "_model_module_version": "1.5.0",
            "_view_count": null,
            "_view_module_version": "1.2.0",
            "bar_color": null,
            "_model_module": "@jupyter-widgets/controls"
          }
        },
        "f9a85e8f5a1b4b518689d027cca13fcc": {
          "model_module": "@jupyter-widgets/base",
          "model_name": "LayoutModel",
          "model_module_version": "1.2.0",
          "state": {
            "_view_name": "LayoutView",
            "grid_template_rows": null,
            "right": null,
            "justify_content": null,
            "_view_module": "@jupyter-widgets/base",
            "overflow": null,
            "_model_module_version": "1.2.0",
            "_view_count": null,
            "flex_flow": null,
            "width": null,
            "min_width": null,
            "border": null,
            "align_items": null,
            "bottom": null,
            "_model_module": "@jupyter-widgets/base",
            "top": null,
            "grid_column": null,
            "overflow_y": null,
            "overflow_x": null,
            "grid_auto_flow": null,
            "grid_area": null,
            "grid_template_columns": null,
            "flex": null,
            "_model_name": "LayoutModel",
            "justify_items": null,
            "grid_row": null,
            "max_height": null,
            "align_content": null,
            "visibility": null,
            "align_self": null,
            "height": null,
            "min_height": null,
            "padding": null,
            "grid_auto_rows": null,
            "grid_gap": null,
            "max_width": null,
            "order": null,
            "_view_module_version": "1.2.0",
            "grid_template_areas": null,
            "object_position": null,
            "object_fit": null,
            "grid_auto_columns": null,
            "margin": null,
            "display": null,
            "left": null
          }
        },
        "5ba074b75f2f4547a8ab8987d2e1b3fc": {
          "model_module": "@jupyter-widgets/controls",
          "model_name": "VBoxModel",
          "model_module_version": "1.5.0",
          "state": {
            "_view_name": "VBoxView",
            "_dom_classes": [],
            "_model_name": "VBoxModel",
            "_view_module": "@jupyter-widgets/controls",
            "_model_module_version": "1.5.0",
            "_view_count": null,
            "_view_module_version": "1.5.0",
            "box_style": "",
            "layout": "IPY_MODEL_cb716605efb64814bd5c2d8ab6272843",
            "_model_module": "@jupyter-widgets/controls",
            "children": [
              "IPY_MODEL_bc831171ce2945b49461ee91b46b294f",
              "IPY_MODEL_0cdae8847e4a45589abf998db9ccee83"
            ]
          }
        },
        "cb716605efb64814bd5c2d8ab6272843": {
          "model_module": "@jupyter-widgets/base",
          "model_name": "LayoutModel",
          "model_module_version": "1.2.0",
          "state": {
            "_view_name": "LayoutView",
            "grid_template_rows": null,
            "right": null,
            "justify_content": null,
            "_view_module": "@jupyter-widgets/base",
            "overflow": null,
            "_model_module_version": "1.2.0",
            "_view_count": null,
            "flex_flow": null,
            "width": null,
            "min_width": null,
            "border": null,
            "align_items": null,
            "bottom": null,
            "_model_module": "@jupyter-widgets/base",
            "top": null,
            "grid_column": null,
            "overflow_y": null,
            "overflow_x": null,
            "grid_auto_flow": null,
            "grid_area": null,
            "grid_template_columns": null,
            "flex": null,
            "_model_name": "LayoutModel",
            "justify_items": null,
            "grid_row": null,
            "max_height": null,
            "align_content": null,
            "visibility": null,
            "align_self": null,
            "height": null,
            "min_height": null,
            "padding": null,
            "grid_auto_rows": null,
            "grid_gap": null,
            "max_width": null,
            "order": null,
            "_view_module_version": "1.2.0",
            "grid_template_areas": null,
            "object_position": null,
            "object_fit": null,
            "grid_auto_columns": null,
            "margin": null,
            "display": null,
            "left": null
          }
        },
        "bc831171ce2945b49461ee91b46b294f": {
          "model_module": "@jupyter-widgets/controls",
          "model_name": "LabelModel",
          "model_module_version": "1.5.0",
          "state": {
            "_view_name": "LabelView",
            "style": "IPY_MODEL_9f48f66e12014cb8832cbbbb3fe11b82",
            "_dom_classes": [],
            "description": "",
            "_model_name": "LabelModel",
            "placeholder": "​",
            "_view_module": "@jupyter-widgets/controls",
            "_model_module_version": "1.5.0",
            "value": " 0.02MB of 0.02MB uploaded (0.00MB deduped)\r",
            "_view_count": null,
            "_view_module_version": "1.5.0",
            "description_tooltip": null,
            "_model_module": "@jupyter-widgets/controls",
            "layout": "IPY_MODEL_27965bd4c58446f4b01a28270eded0c5"
          }
        },
        "0cdae8847e4a45589abf998db9ccee83": {
          "model_module": "@jupyter-widgets/controls",
          "model_name": "FloatProgressModel",
          "model_module_version": "1.5.0",
          "state": {
            "_view_name": "ProgressView",
            "style": "IPY_MODEL_e4fcd90170794981bc524fc0e216106d",
            "_dom_classes": [],
            "description": "",
            "_model_name": "FloatProgressModel",
            "bar_style": "",
            "max": 1,
            "_view_module": "@jupyter-widgets/controls",
            "_model_module_version": "1.5.0",
            "value": 1,
            "_view_count": null,
            "_view_module_version": "1.5.0",
            "orientation": "horizontal",
            "min": 0,
            "description_tooltip": null,
            "_model_module": "@jupyter-widgets/controls",
            "layout": "IPY_MODEL_012118308cc646699e1ce10b8ed80500"
          }
        },
        "9f48f66e12014cb8832cbbbb3fe11b82": {
          "model_module": "@jupyter-widgets/controls",
          "model_name": "DescriptionStyleModel",
          "model_module_version": "1.5.0",
          "state": {
            "_view_name": "StyleView",
            "_model_name": "DescriptionStyleModel",
            "description_width": "",
            "_view_module": "@jupyter-widgets/base",
            "_model_module_version": "1.5.0",
            "_view_count": null,
            "_view_module_version": "1.2.0",
            "_model_module": "@jupyter-widgets/controls"
          }
        },
        "27965bd4c58446f4b01a28270eded0c5": {
          "model_module": "@jupyter-widgets/base",
          "model_name": "LayoutModel",
          "model_module_version": "1.2.0",
          "state": {
            "_view_name": "LayoutView",
            "grid_template_rows": null,
            "right": null,
            "justify_content": null,
            "_view_module": "@jupyter-widgets/base",
            "overflow": null,
            "_model_module_version": "1.2.0",
            "_view_count": null,
            "flex_flow": null,
            "width": null,
            "min_width": null,
            "border": null,
            "align_items": null,
            "bottom": null,
            "_model_module": "@jupyter-widgets/base",
            "top": null,
            "grid_column": null,
            "overflow_y": null,
            "overflow_x": null,
            "grid_auto_flow": null,
            "grid_area": null,
            "grid_template_columns": null,
            "flex": null,
            "_model_name": "LayoutModel",
            "justify_items": null,
            "grid_row": null,
            "max_height": null,
            "align_content": null,
            "visibility": null,
            "align_self": null,
            "height": null,
            "min_height": null,
            "padding": null,
            "grid_auto_rows": null,
            "grid_gap": null,
            "max_width": null,
            "order": null,
            "_view_module_version": "1.2.0",
            "grid_template_areas": null,
            "object_position": null,
            "object_fit": null,
            "grid_auto_columns": null,
            "margin": null,
            "display": null,
            "left": null
          }
        },
        "e4fcd90170794981bc524fc0e216106d": {
          "model_module": "@jupyter-widgets/controls",
          "model_name": "ProgressStyleModel",
          "model_module_version": "1.5.0",
          "state": {
            "_view_name": "StyleView",
            "_model_name": "ProgressStyleModel",
            "description_width": "",
            "_view_module": "@jupyter-widgets/base",
            "_model_module_version": "1.5.0",
            "_view_count": null,
            "_view_module_version": "1.2.0",
            "bar_color": null,
            "_model_module": "@jupyter-widgets/controls"
          }
        },
        "012118308cc646699e1ce10b8ed80500": {
          "model_module": "@jupyter-widgets/base",
          "model_name": "LayoutModel",
          "model_module_version": "1.2.0",
          "state": {
            "_view_name": "LayoutView",
            "grid_template_rows": null,
            "right": null,
            "justify_content": null,
            "_view_module": "@jupyter-widgets/base",
            "overflow": null,
            "_model_module_version": "1.2.0",
            "_view_count": null,
            "flex_flow": null,
            "width": null,
            "min_width": null,
            "border": null,
            "align_items": null,
            "bottom": null,
            "_model_module": "@jupyter-widgets/base",
            "top": null,
            "grid_column": null,
            "overflow_y": null,
            "overflow_x": null,
            "grid_auto_flow": null,
            "grid_area": null,
            "grid_template_columns": null,
            "flex": null,
            "_model_name": "LayoutModel",
            "justify_items": null,
            "grid_row": null,
            "max_height": null,
            "align_content": null,
            "visibility": null,
            "align_self": null,
            "height": null,
            "min_height": null,
            "padding": null,
            "grid_auto_rows": null,
            "grid_gap": null,
            "max_width": null,
            "order": null,
            "_view_module_version": "1.2.0",
            "grid_template_areas": null,
            "object_position": null,
            "object_fit": null,
            "grid_auto_columns": null,
            "margin": null,
            "display": null,
            "left": null
          }
        },
        "d42a1cc9003e48dc881b3a5b5e47a985": {
          "model_module": "@jupyter-widgets/controls",
          "model_name": "VBoxModel",
          "model_module_version": "1.5.0",
          "state": {
            "_view_name": "VBoxView",
            "_dom_classes": [],
            "_model_name": "VBoxModel",
            "_view_module": "@jupyter-widgets/controls",
            "_model_module_version": "1.5.0",
            "_view_count": null,
            "_view_module_version": "1.5.0",
            "box_style": "",
            "layout": "IPY_MODEL_ee6caef732044024ba56907005e4d1e0",
            "_model_module": "@jupyter-widgets/controls",
            "children": [
              "IPY_MODEL_a787c38cc69c46f99c6e7d0f29546b91",
              "IPY_MODEL_21911e31e2cf4dc7bc51a65580a335d4"
            ]
          }
        },
        "ee6caef732044024ba56907005e4d1e0": {
          "model_module": "@jupyter-widgets/base",
          "model_name": "LayoutModel",
          "model_module_version": "1.2.0",
          "state": {
            "_view_name": "LayoutView",
            "grid_template_rows": null,
            "right": null,
            "justify_content": null,
            "_view_module": "@jupyter-widgets/base",
            "overflow": null,
            "_model_module_version": "1.2.0",
            "_view_count": null,
            "flex_flow": null,
            "width": null,
            "min_width": null,
            "border": null,
            "align_items": null,
            "bottom": null,
            "_model_module": "@jupyter-widgets/base",
            "top": null,
            "grid_column": null,
            "overflow_y": null,
            "overflow_x": null,
            "grid_auto_flow": null,
            "grid_area": null,
            "grid_template_columns": null,
            "flex": null,
            "_model_name": "LayoutModel",
            "justify_items": null,
            "grid_row": null,
            "max_height": null,
            "align_content": null,
            "visibility": null,
            "align_self": null,
            "height": null,
            "min_height": null,
            "padding": null,
            "grid_auto_rows": null,
            "grid_gap": null,
            "max_width": null,
            "order": null,
            "_view_module_version": "1.2.0",
            "grid_template_areas": null,
            "object_position": null,
            "object_fit": null,
            "grid_auto_columns": null,
            "margin": null,
            "display": null,
            "left": null
          }
        },
        "a787c38cc69c46f99c6e7d0f29546b91": {
          "model_module": "@jupyter-widgets/controls",
          "model_name": "LabelModel",
          "model_module_version": "1.5.0",
          "state": {
            "_view_name": "LabelView",
            "style": "IPY_MODEL_4411e891cc794a18b8f7915b5b882d80",
            "_dom_classes": [],
            "description": "",
            "_model_name": "LabelModel",
            "placeholder": "​",
            "_view_module": "@jupyter-widgets/controls",
            "_model_module_version": "1.5.0",
            "value": " 0.02MB of 0.02MB uploaded (0.00MB deduped)\r",
            "_view_count": null,
            "_view_module_version": "1.5.0",
            "description_tooltip": null,
            "_model_module": "@jupyter-widgets/controls",
            "layout": "IPY_MODEL_3eff1f4b3a5e44828ac6a3c635285d31"
          }
        },
        "21911e31e2cf4dc7bc51a65580a335d4": {
          "model_module": "@jupyter-widgets/controls",
          "model_name": "FloatProgressModel",
          "model_module_version": "1.5.0",
          "state": {
            "_view_name": "ProgressView",
            "style": "IPY_MODEL_17eff75b798648358ad28fbc0dbc2217",
            "_dom_classes": [],
            "description": "",
            "_model_name": "FloatProgressModel",
            "bar_style": "",
            "max": 1,
            "_view_module": "@jupyter-widgets/controls",
            "_model_module_version": "1.5.0",
            "value": 1,
            "_view_count": null,
            "_view_module_version": "1.5.0",
            "orientation": "horizontal",
            "min": 0,
            "description_tooltip": null,
            "_model_module": "@jupyter-widgets/controls",
            "layout": "IPY_MODEL_41dd628909fe4cc8a4ace10f297a5dc5"
          }
        },
        "4411e891cc794a18b8f7915b5b882d80": {
          "model_module": "@jupyter-widgets/controls",
          "model_name": "DescriptionStyleModel",
          "model_module_version": "1.5.0",
          "state": {
            "_view_name": "StyleView",
            "_model_name": "DescriptionStyleModel",
            "description_width": "",
            "_view_module": "@jupyter-widgets/base",
            "_model_module_version": "1.5.0",
            "_view_count": null,
            "_view_module_version": "1.2.0",
            "_model_module": "@jupyter-widgets/controls"
          }
        },
        "3eff1f4b3a5e44828ac6a3c635285d31": {
          "model_module": "@jupyter-widgets/base",
          "model_name": "LayoutModel",
          "model_module_version": "1.2.0",
          "state": {
            "_view_name": "LayoutView",
            "grid_template_rows": null,
            "right": null,
            "justify_content": null,
            "_view_module": "@jupyter-widgets/base",
            "overflow": null,
            "_model_module_version": "1.2.0",
            "_view_count": null,
            "flex_flow": null,
            "width": null,
            "min_width": null,
            "border": null,
            "align_items": null,
            "bottom": null,
            "_model_module": "@jupyter-widgets/base",
            "top": null,
            "grid_column": null,
            "overflow_y": null,
            "overflow_x": null,
            "grid_auto_flow": null,
            "grid_area": null,
            "grid_template_columns": null,
            "flex": null,
            "_model_name": "LayoutModel",
            "justify_items": null,
            "grid_row": null,
            "max_height": null,
            "align_content": null,
            "visibility": null,
            "align_self": null,
            "height": null,
            "min_height": null,
            "padding": null,
            "grid_auto_rows": null,
            "grid_gap": null,
            "max_width": null,
            "order": null,
            "_view_module_version": "1.2.0",
            "grid_template_areas": null,
            "object_position": null,
            "object_fit": null,
            "grid_auto_columns": null,
            "margin": null,
            "display": null,
            "left": null
          }
        },
        "17eff75b798648358ad28fbc0dbc2217": {
          "model_module": "@jupyter-widgets/controls",
          "model_name": "ProgressStyleModel",
          "model_module_version": "1.5.0",
          "state": {
            "_view_name": "StyleView",
            "_model_name": "ProgressStyleModel",
            "description_width": "",
            "_view_module": "@jupyter-widgets/base",
            "_model_module_version": "1.5.0",
            "_view_count": null,
            "_view_module_version": "1.2.0",
            "bar_color": null,
            "_model_module": "@jupyter-widgets/controls"
          }
        },
        "41dd628909fe4cc8a4ace10f297a5dc5": {
          "model_module": "@jupyter-widgets/base",
          "model_name": "LayoutModel",
          "model_module_version": "1.2.0",
          "state": {
            "_view_name": "LayoutView",
            "grid_template_rows": null,
            "right": null,
            "justify_content": null,
            "_view_module": "@jupyter-widgets/base",
            "overflow": null,
            "_model_module_version": "1.2.0",
            "_view_count": null,
            "flex_flow": null,
            "width": null,
            "min_width": null,
            "border": null,
            "align_items": null,
            "bottom": null,
            "_model_module": "@jupyter-widgets/base",
            "top": null,
            "grid_column": null,
            "overflow_y": null,
            "overflow_x": null,
            "grid_auto_flow": null,
            "grid_area": null,
            "grid_template_columns": null,
            "flex": null,
            "_model_name": "LayoutModel",
            "justify_items": null,
            "grid_row": null,
            "max_height": null,
            "align_content": null,
            "visibility": null,
            "align_self": null,
            "height": null,
            "min_height": null,
            "padding": null,
            "grid_auto_rows": null,
            "grid_gap": null,
            "max_width": null,
            "order": null,
            "_view_module_version": "1.2.0",
            "grid_template_areas": null,
            "object_position": null,
            "object_fit": null,
            "grid_auto_columns": null,
            "margin": null,
            "display": null,
            "left": null
          }
        }
      }
    }
  },
  "nbformat": 4,
  "nbformat_minor": 5
}